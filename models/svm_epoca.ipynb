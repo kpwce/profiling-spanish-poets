{
 "cells": [
  {
   "cell_type": "markdown",
   "id": "3ac55ef4",
   "metadata": {},
   "source": [
    "# Train SVM classifiers for poet profiling (época, century)"
   ]
  },
  {
   "cell_type": "code",
   "execution_count": 18,
   "id": "df53056a",
   "metadata": {},
   "outputs": [],
   "source": [
    "from format import *\n",
    "import features\n",
    "import svm_classifier\n",
    "import torch\n",
    "from importlib import reload"
   ]
  },
  {
   "cell_type": "markdown",
   "id": "8ddb0f7d",
   "metadata": {},
   "source": [
    "Load in the training data. Then extract features to turn poem into vector."
   ]
  },
  {
   "cell_type": "code",
   "execution_count": 19,
   "id": "6efa09e7",
   "metadata": {},
   "outputs": [],
   "source": [
    "df_train, df_test = get_text_to_period()\n",
    "df_train = df_train.where(df_train['content'].apply(lambda x: isinstance(x, str) and x.strip() != '')).dropna()\n",
    "\n",
    "df_test = df_test.where(df_test['content'].apply(lambda x: isinstance(x, str) and x.strip() != '')).dropna()\n",
    "\n",
    "# no need to map, since labels are numeric\n",
    "categories = get_periods()\n",
    "periodsMap = {categories[i] : i for i in range(len(categories))}\n",
    "df_train['normdate'] = df_train['normdate'].map(periodsMap)\n",
    "df_train = df_train.dropna(subset=['normdate'])\n",
    "\n",
    "df_test['normdate'] = df_test['normdate'].map(periodsMap)\n",
    "df_test = df_test.dropna(subset=['normdate'])"
   ]
  },
  {
   "cell_type": "code",
   "execution_count": 24,
   "id": "394e4356",
   "metadata": {},
   "outputs": [
    {
     "name": "stdout",
     "output_type": "stream",
     "text": [
      "[19.0, 20.0, 18.0, 17.0, 16.0, 15.0, 14.0]\n"
     ]
    },
    {
     "data": {
      "text/plain": [
       "content     478\n",
       "normdate    478\n",
       "dtype: int64"
      ]
     },
     "execution_count": 24,
     "metadata": {},
     "output_type": "execute_result"
    }
   ],
   "source": [
    "# what does 16th ctry split look like\n",
    "print(categories)\n",
    "df_train.where(df_train['normdate']==4).count()"
   ]
  },
  {
   "cell_type": "markdown",
   "id": "23df24c2",
   "metadata": {},
   "source": [
    "Some features (BoW and prosodic attributes)"
   ]
  },
  {
   "cell_type": "code",
   "execution_count": 25,
   "id": "6f9ea685",
   "metadata": {},
   "outputs": [
    {
     "name": "stdout",
     "output_type": "stream",
     "text": [
      "['de', 'la', 'y', 'el', 'que', 'en', 'a', 'su', 'del', 'al', 'tu', 'con', 'mi', 'un', 'los', 'se', 'no', 'las', 'por', 'es', 'me', 'te', 'más', 'una', 'sus', 'como', 'lo', 'si', 'amor', 'sin', 'Y', 'tus', 'vida', 'ni', 'le', 'alma', 'ya', 'para', 'cuando', 'mis', 'tan', 'o', 'luz', 'cielo', 'yo', 'Dios', 'pues', 'sol', 'No', 'ser', 'ha', 'entre', 'corazón', 'mundo', 'ojos', 'En', 'El', 'sobre', 'La', 'qué', 'bien', 'muerte', 'gloria', 'tú', 'quien', 'todo', 'día', 'cual', 'porque', 'ti', 'dulce', 'son', 'mar', 'De', 'dolor', 'noche', 'donde', 'Si', 'siempre', 'sólo', 'triste', 'fue', 'Mas', 'frente', 'fin', 'tanto', 'tierra', 'voz', 'flores', 'mas', 'mano', 'Oh', 'nos', 'tiempo', 'pecho', 'hay', 'así', 'oro', 'este', 'está', 'tal', 'Por', 'mí', 'hoy', 'oh', 'mal', 'esta', 'hasta', 'él', 'viento', 'Qué', 'vez', 'mía', 'Yo', 'dos', 'ella', 'fuego', 'aunque', 'e', 'he', 'llama', 'llanto', 'bajo', 'sombra', 'vano', 'mil', 'pero', 'A', 'Es', 'hombre', 'gran', 'flor', 'otro', 'nombre', 'Que', 'ver', 'aquel', 'Ya', 'suerte', 'pura', 'fe', 'hermosa', 'suelo', 'ardiente', 'nunca', 'sangre', 'cuanto', 'mismo', 'divino', 'eres', 'aun', 'canto', 'azul', 'rosa', 'tiene', 'Cuando', 'feliz', 'Tú', 'otra', 'esperanza', 'nada', 'paz', 'memoria', 'mujer', 'os', 'da', 'va', 'Al', 'inmortal', 'fuerte', 'todos', 'pena', 'quiero', 'toda', 'también', 'hermosura', 'cuerpo', 'soy', 'ese', 'era', 'mientras', 'tarde', 'virtud', 'morir', 'ante', 'Con', 'desde', 'aquí', 'pensamiento', 'tras', 'vos', 'Pero', 'sueño', 'fama', 'vuelo', 'Señor', 'divina', 'bella', 'lágrimas', 'esa', 'olvido', 'muy', 'camino', 'manos', 'mío', 'nuevo', 'seno', 'eterno', 'rostro', 'cada', 'boca', 'España', 'Los', 'jamás', 'ay', 'mayor', 'has', 'nuestra', 'amores', 'Amor', 'Quién', 'luna', 'placer', 'hace', 'agua', 'hora', 'veces', 'grande', 'labios', 'belleza', 'mirada', 'sí', 'Así', 'santo', 'aire', 'espíritu', 'han', 'pobre', 'aliento', 'río', 'puede', 'Sol', 'edad', 'alto', 'sé', 'solo', 'lira', 'pasión', 'rayo', 'después', 'eterna', 'será', 'mira', 'dio', 'fuente', 'destino', 'paso', 'mortal', 'dura', 'alegría', 'luego', 'Pues', 'mañana', 'rosas', 'patria', 'aurora', 'vivir', 'noble', 'anhelo', 'blanca', 'madre', 'Como', 'llora', 'Un', 'valor', 'do', 'Del', 'historia', 'muerto', 'todas', 'vive', 'faz', 'humano', 'fuera', 'ventura', 'verdad', 'profundo', 've', 'nieve', 'campo', 'pueblo', 'tanta', 'consuelo', 'poder', 'antes', 'oscura', 'aquella', 'acento', 'contra', 'razón', 'amante', 'mente', 'ilusión', 'beso', 'dice', 'envidia', 'vuestra', 'alas', 'silencio', 'lejos', 'dicha', 'parece', 'Tu', 'calma', 'sea', 'fuerza', 'deseo', 'vivo', 'años', 'mejor', 'alegre', 'Las', 'ahora', 'allí', 'aún', 'verde', 'brazos', 'gente', 'herida', 'cómo', 'vino', 'humana', 'frío', 'cabeza', 'vista', 'corona', 'llena', 'sino', 'versos', 'velo', 'afán', 'poco', 'sombras', 'hacer', 'vuestro', 'imagen', 'gentil', 'deja', 'pies', 'nuestro', 'espera', 'fatal', 'Hoy', 'estrellas', 'uno', 'fría', 'grandeza', 'hacia', 'ciego', 'almas', 'sido', 'allá', 'victoria', 'peregrino', 'sabe', 'Ay', 'canta', 'tormento', 'cruel', 'rayos', 'hecho', 'claro', 'medio', 'pie', 'ave', 'abismo', 'horas', 'fiera', 'recuerdo', 'piedad', 'siento', 'sola', 'cuya', 'igual', 'siente', 'estrella', 'espada', 'nido', 'honor', 'vio', 'tristeza', 'cristal', 'fruto', 'breve', 'llega', 'mucho', 'vi', 'suave', 'manto', 'fortuna', 'pesar', 'pasa', 'campos', 'libre', 'libertad', 'Apolo', 'templo', 'quién', 'monte', 'muere', 'poeta', 'Para', 'colores', 'blanco', 'hizo', 'cuyo', 'infeliz', 'algún', 'dar', 'verte', 'tesoro', 'soberano', 'amigo', 'existencia', 'reposo', 'lecho', 'puro', 'viva', 'van', 'siendo', 'mirar', 'penas', 'pluma', 'Mi', 'arte', 'veo', 'cielos', 'encanto', 'olas', 'menos', 'dijo', 'esfera', 'cumbre', 'Se', 'estoy', 'ayer', 'instante', 'sentimiento', 'días', 'Sólo', 'miro', 'Su', 'ondas', 'forma', 'entonces', 'Cristo', 'primera', 'tengo', 'duro', 'bello', 'vil', 'sueños', 'gracia', 'color', 'hijo', 'pudo', 'mármol', 'levanta', 'daño', 'árbol', 'tres', 'parte', 'santa', 'senda', 'espanto', 'armonía', 'serena', 'apenas', 'bosque', 'otros', 'saber', 'genio', 'hermoso', 'Ni', 'tienes', 'ciencia', 'guerra', 'idea', 'O', 'dolores', 'cosas', 'Todo', 'sonoro', 'alta', 'lloro', 'tumba', 'soneto', 'lleva', 'mares', 'cuidado', 'verso', 'ley', 'ternura', 'lleno', 'grito', 'lumbre', 'esplendor', 'viejo', 'labio', 'grave', 'nueva', 'nubes', 'pasado', 'fiel', 'males', 'jardín', 'humilde', 'buen', 'hojas', 'lucha', 'constante', 'adoro', 'muestra', 'lado', 'junto', 'ingenio', 'polvo', 'tristes', 'coro', 'sonrisa', 'alguna', 'infinito', 'fiero', 'pan', 'negro', 'carne', 'bellas', 'Oriente', 'virgen', 'amargura', 'primero', 'punto', 'derrama', 'tantos', 'duda', 'plata', 'hondo', 'loco', 'planta', 'perdido', 'María', 'duelo', 'hombres', 'contento', 'Virgen', 'beldad', 'causa', 'nadie', 'joven', 'sutil', 'momento', 'amado', 'loca', 'ardor', 'ellas', 'Sobre', 'golpe', 'fulgor', 'dichoso', 'les', 'quiere', 'par', 'conciencia', 'sigue', 'agonía', 'cara', 'cantar', 'muda', 'soplo', 'amada', 'aguas', 'celestial', 'cosa', 'selva', 'torno', 'niño', 'pudiera', 'juventud', 'voy', 'corriente', 'brilla', 'inmenso', 'brisa', 'semblante', 'sagrado', 'yace', 'vuelve', 'fuiste', 'cruz', 'glorias', 'blando', 'tirano', 'palma', 'rey', 'tierno', 'Te', 'resplandor', 'arena', 'altura', 'sentido', 'primavera', 'eso', 'luces', 'firme', 'eco', 'laurel', 'Porque', 'adora', 'sublime', 'don', 'nube', 'impía', 'lanza', 'dulces', 'triunfo', 'Una', 'alcanza', 'queda', 'sed', 'cuna', 'ofrece', 'esto', 'debe', 'besos', 'algo', 'copa', 'temor', 'altar', 'justo', 'falta', 'culpa', 'presente', 'misma', 'esencia', 'espuma', 'decir', 'plantas', 'carrera', 'ambiente', 'orbe', 'admira', 'padre', 'fecundo', 'negra', 'pompa', 'ideal', 'busca', 'Jesús', 'segundo', 'reina', 'señora', 'ambición', 'siglos', 'lengua', 'acaso', 'risa', 'oscuro', 'triunfante', 'sepulcro', 'altivo', 'dulzura', 'primer', 'espero', 'rigor', 'llegar', 'figura', 'tener', 'piedra', 'soledad', 'poesía', 'clara', 'puerto', 'Cielo', 'celeste', 'inflama', 'Venus', 'nuestras', 'non', 'segura', 'doliente', 'lugar', 'audaz', 'Mientras', 'Muerte', 'mudo', 'glorioso', 'quisiera', 'dado', 'noches', 'ama', 'nuestros', 'hogar', 'quiso', 'perlas', 'cura', 'invierno', 'hielo', 'imperio', 'guía', 'aves', 'ángel', 'rojo', 'ruego', 'desierto', 'ven', 'leve', 'viene', 'suspira', 'casa', 'locura', 'rico', 'perdida', 'cuello', 'otras', 'ciudad', 'miel', 'odio', 'dueño', 'estas', 'ausencia', 'contigo', 'orgullo', 'puedo', 'alba', 'nave', 'ellos', 'estar', 'viendo', 'están', 'gozo', 'huye', 'Lo', 'gusto', 'extraño', 'sois', 'goza', 'pecado', 'Esta', 'Sin', 'débil', 'peso', 'porfía', 'furor', 'Cómo', 'inspira', 'último', 'lluvia', 'fueron', 'Roma', 'muero', 'dan', 'rumor', 'dejó', 'sabio', 'firmamento', 'Me', 'calor', 'aroma', 'advierte', 'Madre', 'ensueño', 'Ella', 'estás', 'presencia', 'huella', 'torpe', 'cierto', 'dios', 'prado', 'sacro', 'bueno', 'astro', 'vierte', 'vencido', 'Este', 'verdes', 'oído', 'dando', 'estaba', 'misterio', 'brillante', 'reposa', 'suena', 'valiente', 'espacio', 'queja', 'das', 'pronto', 'perfume', 'importa', 'despojos', 'inmensa', 'suspiro', 'ejemplo', 'hijos', 'amar', 'gloriosa', 'haber', 'gigante', 'canción', 'curso', 'modo', 'siglo', 'eternamente', 'pasar', 'astros', 'gota', 'inerte', 'celos', 'nace', 'libro', 'vana', 'roca', 'enamorado', 'cabello', 'acero', 'ocaso', 'tormenta', 'sentir', 'muerta', 'fondo', 'Ah', 'culto', 'crece', 'montes', 'Cual', 'ilusiones', 'horror', 'diste', 'voces', 'ansias', 'horizonte', 'premio', 'Rey', 'enemigo', 'buena', 'cadena', 'lejano', 'engaño', 'pasiones', 'rama', 'esposa', 'Fue', 'gracias', 'visto', 'baña', 'región', 'Isidro', 'amoroso', 'tantas', 'vela', 'vacío', 'soberana', 'Tal', 'ilustre', 'alza', 'venganza', 'mudanza', 'puerta', 'orilla', 'esclavo', 'dejar', 'hado', 'altiva', 'púrpura', 'guarda', 'cabellera', 'estado', 'Hay', 'niebla', 'sereno', 'Aunque', 'carro', 'dónde', 'ausente', 'olvida', 'rojos', 'oriente', 'conmigo', 'toca', 'encierra', 'roja', 'miserable', 'ánimo', 'brillo', 'llano', 'musa', 'vieja', 'enojos', 'luciente', 'cansado', 'arde', 'casi', 'sale', 'pesares', 'misteriosa', 'mueve', 'Lope', 'cubre', 'vago', 'ceniza', 'montaña', 'Patria', 'Soy', 'dentro', 'ensueños', 'blancas', 'mata', 'sonora', 'valle', 'aura', 'sombrío', 'ribera', 'cesar', 'voluntad', 'Bien', 'desengaño', 'naturaleza', 'Aquí', 'propia', 'miedo', 'rigores', 'trueno', 'haciendo', 'estos', 'llamas', 'música', 'pensar', 'cáliz', 'jornada', 'Fénix', 'Padre', 'Marte', 'quietud', 'baja', 'pienso', 'rocío', 'Reina', 'brío', 'quieres', 'Nunca', 'plumas', 'empieza', 'través', 'laureles', 'querido', 'ves', 'ingrata', 'terrible', 'esos', 'fulgores', 'infierno', 'favor', 'vientos', 'señor', 'palabra', 'buscando', 'justicia', 'halla', 'oculta', 'hierro', 'alumbra', 'radiante', 'diamante', 'viste', 'tributo', 'cisne', 'poderoso', 'raza', 'decoro', 'seguro', 'Musas', 'pradera', 'fácil', 'amargo', 'Javier', 'celo', 'pone', 'Quiero', 'rompe', 'visión', 'veloz', 'llorar', 'turba', 'sagrada', 'abre', 'cien', 'dormido', 'helada', 'brazo']\n",
      "[('de', 'la'), ('en', 'la'), ('en', 'el'), ('a', 'la'), ('y', 'el'), ('que', 'en'), ('de', 'su'), ('y', 'en'), ('de', 'mi'), ('que', 'el'), ('de', 'tu'), ('en', 'su'), ('y', 'de'), ('de', 'los'), ('de', 'un'), ('y', 'la'), ('de', 'las'), ('la', 'vida'), ('en', 'tu'), ('a', 'su'), ('que', 'la'), ('que', 'a'), ('el', 'alma'), ('en', 'mi'), ('lo', 'que'), ('y', 'al'), ('que', 'no'), ('a', 'los'), ('y', 'a'), ('a', 'tu'), ('en', 'las'), ('en', 'los'), ('la', 'muerte'), ('el', 'sol'), ('el', 'cielo'), ('de', 'una'), ('que', 'al'), ('que', 'me'), ('que', 'se'), ('en', 'que'), ('de', 'amor'), ('el', 'mundo'), ('por', 'el'), ('la', 'tierra'), ('con', 'la'), ('a', 'mi'), ('que', 'es'), ('la', 'luz'), ('con', 'su'), ('que', 'te'), ('la', 'noche'), ('de', 'tus'), ('con', 'el'), ('de', 'sus'), ('en', 'un'), ('de', 'oro'), ('por', 'la'), ('como', 'un'), ('y', 'con'), ('que', 'de'), ('a', 'las'), ('y', 'que'), ('como', 'el'), ('sobre', 'el'), ('en', 'sus'), ('el', 'mar'), ('y', 'no'), ('es', 'la'), ('más', 'que'), ('el', 'corazón'), ('a', 'quien'), ('en', 'vano'), ('de', 'mis'), ('es', 'el'), ('el', 'que'), ('y', 'su'), ('a', 'un'), ('al', 'fin'), ('el', 'amor'), ('con', 'que'), ('el', 'viento'), ('los', 'ojos'), ('no', 'es'), ('mi', 'alma'), ('y', 'se'), ('en', 'tus'), ('la', 'gloria'), ('que', 'le'), ('y', 'tu'), ('en', 'ti'), ('mi', 'amor'), ('y', 'del'), ('no', 'hay'), ('mi', 'corazón'), ('amor', 'y'), ('Por', 'qué'), ('el', 'dolor'), ('el', 'tiempo'), ('que', 'con'), ('mi', 'vida'), ('de', 'Dios'), ('del', 'cielo'), ('no', 'se'), ('con', 'sus'), ('la', 'que'), ('del', 'mundo'), ('y', 'los'), ('tus', 'ojos'), ('y', 'es'), ('es', 'un'), ('ni', 'el'), ('luz', 'de'), ('al', 'cielo'), ('que', 'tu'), ('con', 'tu'), ('y', 'por'), ('y', 'mi'), ('que', 'su'), ('un', 'día'), ('la', 'sombra'), ('en', 'mis'), ('y', 'sin'), ('y', 'las'), ('a', 'sus'), ('hasta', 'el'), ('no', 'me'), ('de', 'luz'), ('sobre', 'la'), ('que', 'por'), ('bajo', 'el'), ('a', 'tus'), ('la', 'voz'), ('y', 'un'), ('la', 'tarde'), ('ha', 'de'), ('a', 'ti'), ('que', 'si'), ('como', 'una'), ('el', 'día'), ('a', 'Dios'), ('la', 'frente'), ('del', 'amor'), ('de', 'que'), ('y', 'si'), ('entre', 'las'), ('el', 'pecho'), ('cuando', 'el'), ('no', 'te'), ('del', 'alma'), ('al', 'que'), ('que', 'un'), ('la', 'mano'), ('y', 'me'), ('en', 'lo'), ('el', 'suelo'), ('la', 'esperanza'), ('el', 'bien'), ('tu', 'amor'), ('el', 'hombre'), ('el', 'aire'), ('la', 'fe'), ('que', 'mi'), ('al', 'mundo'), ('las', 'flores'), ('por', 'los'), ('en', 'mí'), ('los', 'que'), ('entre', 'el'), ('Y', 'en'), ('por', 'qué'), ('de', 'lo'), ('del', 'sol'), ('vida', 'y'), ('En', 'la'), ('que', 'del'), ('de', 'mí'), ('mi', 'pecho'), ('que', 'yo'), ('si', 'el'), ('como', 'la'), ('con', 'las'), ('si', 'en'), ('el', 'fuego'), ('amor', 'que'), ('ya', 'no'), ('la', 'luna'), ('En', 'el'), ('a', 'mis'), ('de', 'ser'), ('la', 'paz'), ('de', 'ti'), ('la', 'memoria'), ('de', 'aquel'), ('en', 'una'), ('para', 'el'), ('con', 'un'), ('De', 'la'), ('su', 'luz'), ('en', 'él'), ('por', 'su'), ('y', 'más'), ('en', 'tanto'), ('la', 'virtud'), ('que', 'ha'), ('es', 'de'), ('que', 'los'), ('bien', 'que'), ('la', 'suerte'), ('el', 'agua'), ('tal', 'vez'), ('mis', 'ojos'), ('el', 'llanto'), ('si', 'no'), ('de', 'este'), ('a', 'lo'), ('todos', 'los'), ('de', 'gloria'), ('por', 'ti'), ('y', 'te'), ('con', 'los'), ('tu', 'alma'), ('tu', 'nombre'), ('tu', 'frente'), ('son', 'de'), ('en', 'ella'), ('y', 'lo'), ('y', 'yo'), ('la', 'aurora'), ('para', 'que'), ('flor', 'de'), ('que', 'ya'), ('otra', 'vez'), ('se', 'ha'), ('sus', 'ojos'), ('de', 'esta'), ('la', 'fama'), ('del', 'mar'), ('todo', 'lo'), ('todo', 'el'), ('como', 'en'), ('y', 'sus'), ('ante', 'el'), ('a', 'mí'), ('si', 'es'), ('luz', 'que'), ('el', 'campo'), ('sol', 'de'), ('es', 'tu'), ('por', 'tu'), ('sol', 'que'), ('en', 'medio'), ('de', 'fuego'), ('a', 'una'), ('entre', 'la'), ('la', 'edad'), ('la', 'sangre'), ('su', 'amor'), ('la', 'dulce'), ('luz', 'del'), ('del', 'día'), ('y', 'una'), ('el', 'más'), ('del', 'tiempo'), ('sin', 'que'), ('el', 'mal'), ('los', 'cielos'), ('y', 'así'), ('que', 'lo'), ('es', 'que'), ('por', 'las'), ('con', 'mi'), ('triste', 'y'), ('desde', 'el'), ('que', 'nos'), ('ya', 'de'), ('la', 'flor'), ('tú', 'que'), ('en', 'este'), ('tu', 'mano'), ('su', 'vida'), ('en', 'torno'), ('que', 'nunca'), ('y', 'aunque'), ('la', 'rosa'), ('que', 'fue'), ('la', 'fuente'), ('Y', 'al'), ('bajo', 'la'), ('por', 'mi'), ('tu', 'vida'), ('que', 'las'), ('entre', 'los'), ('flores', 'y'), ('la', 'patria'), ('Dios', 'que'), ('del', 'dolor'), ('la', 'pena'), ('No', 'es'), ('al', 'ver'), ('mi', 'dolor'), ('gloria', 'y'), ('ni', 'la'), ('la', 'mañana'), ('alma', 'de'), ('cielo', 'y'), ('la', 'historia'), ('el', 'pensamiento'), ('su', 'frente'), ('sé', 'que'), ('gloria', 'de'), ('donde', 'el'), ('la', 'razón'), ('ya', 'que'), ('el', 'camino'), ('es', 'mi'), ('voz', 'de'), ('no', 'más'), ('un', 'tiempo'), ('del', 'olvido'), ('he', 'de'), ('el', 'fruto'), ('oro', 'y'), ('tanto', 'que'), ('el', 'rostro'), ('al', 'viento'), ('la', 'verdad'), ('la', 'llama'), ('en', 'esta'), ('que', 'os'), ('Y', 'el'), ('su', 'voz'), ('la', 'mente'), ('ha', 'sido'), ('el', 'Sol'), ('y', 'como'), ('si', 'la'), ('los', 'hombres'), ('después', 'de'), ('la', 'mar'), ('la', 'mujer'), ('que', 'una'), ('al', 'hombre'), ('alma', 'mía'), ('de', 'dolor'), ('el', 'mismo'), ('corazón', 'de'), ('y', 'entre'), ('ya', 'la'), ('el', 'oro'), ('es', 'más'), ('es', 'su'), ('la', 'cumbre'), ('del', 'que'), ('cuando', 'en'), ('a', 'ser'), ('luz', 'y'), ('toda', 'la'), ('la', 'hermosura'), ('tu', 'voz'), ('la', 'envidia'), ('mi', 'bien'), ('las', 'almas'), ('aquel', 'que'), ('al', 'sol'), ('la', 'brisa'), ('que', 'tú'), ('si', 'a'), ('como', 'a'), ('la', 'más'), ('Y', 'si'), ('dulce', 'y'), ('las', 'sombras'), ('la', 'faz'), ('el', 'vuelo'), ('no', 'ha'), ('vida', 'que'), ('por', 'un'), ('la', 'blanca'), ('todas', 'las'), ('no', 'le'), ('y', 'aun'), ('no', 'la'), ('de', 'flores'), ('Mas', 'si'), ('yo', 'te'), ('fin', 'de'), ('un', 'alma'), ('y', 'tan'), ('a', 'que'), ('tu', 'corazón'), ('tras', 'la'), ('y', 'hoy'), ('las', 'horas'), ('las', 'olas'), ('ojos', 'y'), ('contra', 'el'), ('el', 'rayo'), ('la', 'gente'), ('sombra', 'de'), ('y', 'otro'), ('amor', 'de'), ('de', 'amores'), ('medio', 'de'), ('y', 'cuando'), ('no', 'sé'), ('las', 'ondas'), ('amor', 'en'), ('ya', 'en'), ('o', 'de'), ('es', 'una'), ('mar', 'de'), ('alma', 'y'), ('junto', 'a'), ('la', 'victoria'), ('hacia', 'el'), ('de', 'nuestra'), ('hasta', 'la'), ('ni', 'en'), ('la', 'vista'), ('a', 'veces'), ('los', 'dos'), ('me', 'ha'), ('un', 'beso'), ('los', 'campos'), ('al', 'alma'), ('sin', 'cesar'), ('las', 'nubes'), ('mas', 'no'), ('de', 'nieve'), ('y', 'triste'), ('el', 'nombre'), ('el', 'cuerpo'), ('la', 'nieve'), ('la', 'mirada'), ('más', 'de'), ('y', 'tú'), ('el', 'de'), ('ser', 'de'), ('la', 'selva'), ('vida', 'en'), ('las', 'manos'), ('tu', 'hermosura'), ('alma', 'en'), ('que', 'hoy'), ('no', 'lo'), ('pues', 'no'), ('la', 'ilusión'), ('amor', 'la'), ('de', 'nuevo'), ('la', 'fortuna'), ('la', 'nada'), ('pues', 'que'), ('tan', 'sólo'), ('tu', 'boca'), ('tiempo', 'que'), ('que', 'he'), ('tu', 'mirada'), ('que', 'está'), ('el', 'gran'), ('su', 'mano'), ('el', 'dulce'), ('el', 'silencio'), ('la', 'divina'), ('si', 'de'), ('campos', 'de'), ('del', 'corazón'), ('de', 'España'), ('tus', 'pies'), ('Y', 'así'), ('el', 'seno'), ('mi', 'espíritu'), ('lo', 'más'), ('la', 'lira'), ('el', 'canto'), ('sangre', 'de'), ('al', 'mar'), ('la', 'senda'), ('ojos', 'de'), ('tus', 'labios'), ('por', 'ser'), ('Si', 'el'), ('de', 'plata'), ('la', 'eterna'), ('dolor', 'y'), ('en', 'todo'), ('la', 'dicha'), ('para', 'mí'), ('rayo', 'de'), ('la', 'Muerte'), ('los', 'astros'), ('cuando', 'la'), ('una', 'mujer'), ('o', 'el'), ('la', 'cabeza'), ('los', 'mares'), ('lo', 'mismo'), ('la', 'imagen'), ('el', 'río'), ('mundo', 'en'), ('porque', 'el'), ('mi', 'frente'), ('los', 'años'), ('vida', 'de'), ('llena', 'de'), ('se', 'levanta'), ('tu', 'luz'), ('el', 'bosque'), ('ver', 'que'), ('del', 'mal'), ('A', 'la'), ('tu', 'cuerpo'), ('de', 'alegría'), ('el', 'placer'), ('hasta', 'que'), ('que', 'más'), ('color', 'de'), ('de', 'quien'), ('alma', 'que'), ('y', 'mis'), ('un', 'mundo'), ('Y', 'es'), ('el', 'ave'), ('ya', 'el'), ('el', 'azul'), ('noche', 'de'), ('su', 'gloria'), ('lleno', 'de'), ('de', 'vida'), ('la', 'montaña'), ('que', 'siempre'), ('por', 'más'), ('No', 'hay'), ('tu', 'memoria'), ('azul', 'de'), ('el', 'olvido'), ('mismo', 'que'), ('y', 'ya'), ('yo', 'no'), ('día', 'y'), ('el', 'orbe'), ('la', 'lucha'), ('al', 'corazón'), ('cielo', 'de'), ('vida', 'el'), ('en', 'donde'), ('y', 'pura'), ('en', 'fin'), ('la', 'conciencia'), ('mi', 'mente'), ('de', 'sol'), ('el', 'eco'), ('su', 'muerte'), ('allá', 'en'), ('el', 'pueblo'), ('una', 'vez'), ('y', 'tus'), ('la', 'ciencia'), ('las', 'aguas'), ('que', 'aun'), ('uno', 'y'), ('de', 'sí'), ('Tú', 'que'), ('la', 'alta'), ('voz', 'que'), ('si', 'al'), ('mi', 'ser'), ('a', 'todos'), ('la', 'pasión'), ('pura', 'y'), ('los', 'labios'), ('fulgor', 'de'), ('o', 'en'), ('que', 'todo'), ('vez', 'de'), ('un', 'instante'), ('la', 'idea'), ('parece', 'que'), ('y', 'amor'), ('paz', 'y'), ('la', 'Cruz'), ('Es', 'la'), ('el', 'sueño'), ('el', 'fin'), ('fuego', 'que'), ('el', 'alto'), ('al', 'son'), ('tierra', 'y'), ('las', 'rosas'), ('la', 'copa'), ('para', 'siempre'), ('la', 'hora'), ('la', 'de'), ('con', 'tus'), ('oro', 'de'), ('desde', 'la'), ('la', 'alegría'), ('en', 'paz'), ('mi', 'mal'), ('su', 'nombre'), ('su', 'cuerpo'), ('las', 'aves'), ('mal', 'que'), ('a', 'ver'), ('que', 'son'), ('por', 'quien'), ('en', 'vez'), ('la', 'tormenta'), ('su', 'hermosura'), ('está', 'en'), ('del', 'viento'), ('de', 'paz'), ('tu', 'seno'), ('la', 'cruz'), ('la', 'existencia'), ('las', 'cosas'), ('sobre', 'las'), ('mujer', 'que'), ('tu', 'gloria'), ('Mas', 'ay'), ('el', 'monte'), ('y', 'le'), ('sus', 'lágrimas'), ('dolor', 'que'), ('corazón', 'y'), ('su', 'pecho'), ('y', 'fuerte'), ('yo', 'que'), ('a', 'través'), ('la', 'altura'), ('las', 'estrellas'), ('eco', 'de'), ('la', 'humana'), ('de', 'cristal'), ('soplo', 'de'), ('de', 'estrellas'), ('el', 'otro'), ('llama', 'que'), ('corazón', 'que'), ('sin', 'fin'), ('cielo', 'en'), ('que', 'aunque'), ('través', 'de'), ('de', 'aquella'), ('de', 'tal'), ('voz', 'del'), ('Y', 'cuando'), ('la', 'fiera'), ('tu', 'dulce'), ('ay', 'que'), ('su', 'alma'), ('la', 'herida'), ('la', 'espada'), ('y', 'hasta'), ('que', 'tiene'), ('porque', 'es'), ('mundo', 'y'), ('noche', 'oscura'), ('tu', 'pecho'), ('de', 'todo'), ('ser', 'que'), ('tu', 'belleza'), ('un', 'corazón'), ('tus', 'manos'), ('por', 'fin'), ('su', 'memoria'), ('vida', 'es'), ('un', 'gran'), ('en', 'pos'), ('cual', 'la'), ('de', 'mil'), ('sol', 'en'), ('ni', 'un'), ('hermosa', 'y'), ('se', 'aleja'), ('fue', 'de'), ('la', 'ley'), ('se', 'le'), ('una', 'flor'), ('ni', 'de'), ('horas', 'de'), ('es', 'tan'), ('el', 'mármol'), ('un', 'momento'), ('mar', 'y'), ('al', 'pie'), ('que', 'hay'), ('su', 'boca'), ('mi', 'suerte'), ('porque', 'en'), ('hay', 'en'), ('la', 'libertad'), ('la', 'tumba'), ('que', 'sólo'), ('en', 'vida'), ('la', 'tristeza'), ('las', 'alas'), ('un', 'hombre'), ('alma', 'del'), ('de', 'repente'), ('y', 'ella'), ('ni', 'a'), ('hermosura', 'y'), ('el', 'paso'), ('el', 'manto'), ('la', 'hermosa'), ('su', 'mirada'), ('cuanto', 'más'), ('la', 'belleza'), ('de', 'sangre'), ('que', 'para'), ('pena', 'y'), ('noche', 'y'), ('Es', 'un'), ('qué', 'me'), ('Dios', 'y'), ('está', 'el'), ('el', 'destino'), ('te', 'ha'), ('muerte', 'y'), ('fuego', 'de'), ('te', 'adoro'), ('día', 'en'), ('que', 'sin'), ('No', 'te'), ('tu', 'rostro'), ('Sobre', 'el'), ('frente', 'y'), ('el', 'primer'), ('tu', 'muerte'), ('y', 'todo'), ('la', 'calma'), ('lejos', 'de'), ('de', 'muerte'), ('un', 'rayo'), ('en', 'flor'), ('se', 'me'), ('mi', 'pensamiento'), ('la', 'niebla'), ('Yo', 'soy'), ('un', 'solo'), ('el', 'alba'), ('la', 'ciudad'), ('han', 'de'), ('fuego', 'y'), ('la', 'playa'), ('la', 'corriente'), ('Si', 'en'), ('el', 'claro'), ('amor', 'es'), ('el', 'último'), ('la', 'pradera'), ('Y', 'a'), ('en', 'tan'), ('la', 'negra'), ('la', 'fuerza'), ('fuerza', 'de'), ('en', 'cada'), ('sol', 'la'), ('lo', 'lejos'), ('del', 'hombre'), ('la', 'lluvia'), ('te', 'he'), ('de', 'Madrid'), ('del', 'suelo'), ('lágrimas', 'el'), ('el', 'cristal'), ('Hoy', 'que'), ('la', 'misma'), ('imagen', 'de'), ('dolor', 'de'), ('sobre', 'su'), ('para', 'ti'), ('ojos', 'que'), ('has', 'de'), ('como', 'tú'), ('no', 'en'), ('y', 'él'), ('mundo', 'de'), ('mi', 'llanto'), ('no', 'puedo'), ('sol', 'y'), ('tú', 'eres'), ('de', 'rosas'), ('cuando', 'al'), ('todo', 'es'), ('la', 'guerra'), ('En', 'vano'), ('se', 'estremece'), ('beso', 'de'), ('cielo', 'que'), ('el', 'sentimiento'), ('de', 'todos'), ('mis', 'males'), ('noches', 'de'), ('de', 'placer'), ('pie', 'de'), ('la', 'madre'), ('por', 'no'), ('el', 'abismo'), ('Yo', 'no'), ('que', 'va'), ('la', 'espuma'), ('mi', 'pena'), ('los', 'montes'), ('el', 'ser'), ('se', 've'), ('su', 'faz'), ('mi', 'pasión'), ('un', 'soneto'), ('las', 'dos'), ('la', 'esfera'), ('un', 'sol'), ('Los', 'campos'), ('llega', 'a'), ('sombras', 'de'), ('qué', 'no'), ('vida', 'la'), ('los', 'brazos'), ('sus', 'labios'), ('mi', 'triste'), ('la', 'ribera'), ('el', 'triste'), ('me', 'parece'), ('y', 'sólo'), ('donde', 'la'), ('de', 'nuestro'), ('por', 'lo'), ('llama', 'de'), ('sus', 'rayos'), ('las', 'penas'), ('seno', 'de'), ('no', 'puede'), ('del', 'Sol'), ('el', 'ambiente'), ('la', 'espesura'), ('de', 'morir'), ('que', 'ni'), ('Dios', 'en'), ('ante', 'la'), ('Y', 'la'), ('con', 'tal'), ('el', 'pie'), ('con', 'ella'), ('que', 'hasta'), ('sueños', 'de'), ('luz', 'en'), ('que', 'era'), ('con', 'mis'), ('que', 'hace'), ('la', 'Virgen'), ('si', 'me'), ('Dios', 'el'), ('el', 'Cielo'), ('sólo', 'el'), ('quien', 'la'), ('que', 'sus'), ('Madrid', 'Isidro'), ('Isidro', 'santo'), ('tan', 'grande'), ('sembrando', 'aquí'), ('aquí', 'sus'), ('Y', 'de'), ('los', 'vientos'), ('amor', 'el'), ('al', 'verte'), ('y', 'frío'), ('su', 'fama'), ('al', 'amor'), ('que', 'jamás'), ('es', 'para'), ('que', 'tanto'), ('la', 'vejez'), ('porque', 'no'), ('mía', 'que'), ('el', 'recuerdo'), ('al', 'morir'), ('día', 'que'), ('un', 'nuevo'), ('la', 'armonía'), ('la', 'palma'), ('el', 'pobre'), ('he', 'visto'), ('da', 'la'), ('de', 'rosa'), ('más', 'allá'), ('ha', 'dado'), ('mi', 'ventura'), ('quien', 'el'), ('las', 'Musas'), ('a', 'pesar'), ('Y', 'aunque'), ('el', 'arte'), ('a', 'todo'), ('las', 'plantas'), ('de', 'ese'), ('un', 'sueño'), ('en', 'tal'), ('siempre', 'el'), ('al', 'aire'), ('donde', 'se'), ('de', 'tan'), ('junto', 'al'), ('el', 'aura'), ('el', 'templo'), ('mi', 'fe'), ('el', 'valor'), ('ya', 'se'), ('suelo', 'y'), ('bien', 'de'), ('en', 'quien'), ('azul', 'del'), ('es', 'ya'), ('de', 'ella'), ('eres', 'la'), ('mas', 'si'), ('tiempo', 'y'), ('sin', 'segundo'), ('está', 'la'), ('lecho', 'de'), ('el', 'cuello'), ('del', 'pecho'), ('como', 'si'), ('cual', 'si'), ('la', 'vez'), ('la', 'Historia'), ('la', 'triste'), ('de', 'vos'), ('día', 'de'), ('la', 'orilla'), ('Mas', 'no'), ('de', 'él'), ('siempre', 'en'), ('los', 'siglos'), ('pues', 'el'), ('tú', 'de'), ('cielo', 'se'), ('es', 'del'), ('y', 'gloria'), ('el', 'peso'), ('que', 'da'), ('del', 'camino'), ('el', 'labio'), ('el', 'uno'), ('la', 'arena'), ('sólo', 'en'), ('viento', 'y'), ('del', 'bien'), ('con', 'él'), ('la', 'región'), ('y', 'luz'), ('y', 'fría'), ('hay', 'un'), ('un', 'cielo'), ('que', 'como'), ('el', 'triunfo'), ('mis', 'versos'), ('nuestra', 'vida'), ('con', 'amor'), ('Dios', 'la'), ('No', 'me'), ('la', 'duda'), ('no', 'pudo'), ('mi', 'voz'), ('manos', 'de'), ('la', 'primera'), ('del', 'destino'), ('la', 'mayor'), ('son', 'los'), ('ti', 'se'), ('mi', 'cuerpo'), ('mi', 'boca'), ('o', 'que'), ('al', 'suelo'), ('suerte', 'que'), ('de', 'colores'), ('memoria', 'de'), ('de', 'luna'), ('un', 'pueblo'), ('poder', 'de'), ('el', 'fulgor'), ('que', 'Dios'), ('un', 'mar'), ('ni', 'al'), ('que', 'ayer'), ('la', 'puerta'), ('antes', 'que'), ('que', 'tan'), ('de', 'virtud'), ('la', 'ambición'), ('hoy', 'que'), ('en', 'llanto'), ('En', 'su'), ('amor', 'no'), ('hay', 'que'), ('su', 'rostro'), ('en', 'sí'), ('son', 'del'), ('la', 'ventura'), ('Cuando', 'en'), ('del', 'pasado')]\n"
     ]
    }
   ],
   "source": [
    "# unigram and bigrams (just to check these out)\n",
    "unigrams, bigrams = features.get_top_n_vocab(df_train['content'], n=1000)\n",
    "print(unigrams)\n",
    "print(bigrams)"
   ]
  },
  {
   "cell_type": "code",
   "execution_count": 26,
   "id": "a184f396",
   "metadata": {},
   "outputs": [],
   "source": [
    "reload(features);"
   ]
  },
  {
   "cell_type": "code",
   "execution_count": 27,
   "id": "62608e9f",
   "metadata": {},
   "outputs": [
    {
     "name": "stdout",
     "output_type": "stream",
     "text": [
      "[0.04675627173579679, 0.07806985372703036, 0.04748019708565105, 0.02941465418067815, 0.009944766503610956, 0.029775010949934146, 0.011852965630666661, 0.028629981364004353, 0.0, 0.014113269826372553, 0.0, 0.0, 0.0, 0.015830392433155736, 0.015896784343928248, 0.01611840730570224, 0.01569438970905549, 0.050611459604314776, 0.0, 0.018045138639135285, 0.0, 0.0, 0.0, 0.0, 0.02120704291572052, 0.02065239581917868, 0.0, 0.0, 0.0, 0.0, 0.0, 0.0, 0.023193040206645824, 0.0, 0.0, 0.0, 0.023819489573695524, 0.0, 0.0, 0.0, 0.0, 0.0, 0.025965444875741543, 0.0, 0.0, 0.0, 0.0, 0.0, 0.0, 0.0, 0.0, 0.02716497088500407, 0.0, 0.0, 0.0, 0.0, 0.0, 0.027654664677743093, 0.0, 0.0, 0.0, 0.0, 0.0, 0.0, 0.0, 0.0, 0.0, 0.028998387445823195, 0.0, 0.0, 0.0, 0.0, 0.0, 0.0, 0.0, 0.0, 0.0, 0.0, 0.0, 0.0, 0.0, 0.0, 0.0, 0.0, 0.0, 0.0, 0.0, 0.0, 0.0, 0.0, 0.0, 0.0, 0.0, 0.0, 0.0, 0.032604337249696004, 0.029687580717733135, 0.0, 0.0, 0.03312747802830147, 0.0, 0.0, 0.0, 0.0, 0.0, 0.0, 0.0, 0.0, 0.0, 0.0, 0.0, 0.0, 0.0, 0.0, 0.0, 0.033886869961149695, 0.0, 0.0, 0.0, 0.0, 0.0, 0.0, 0.0, 0.0, 0.0, 0.0, 0.0, 0.0, 0.0, 0.035340039969712383, 0.0, 0.0, 0.0, 0.0, 0.0, 0.0, 0.0, 0.0, 0.07142229802161124, 0.0, 0.0, 0.0, 0.0, 0.0, 0.0, 0.0, 0.0, 0.0, 0.0, 0.0, 0.0, 0.0, 0.0, 0.0, 0.0, 0.0, 0.0, 0.0, 0.0, 0.0, 0.0, 0.0, 0.0, 0.0, 0.0, 0.0, 0.0, 0.0, 0.0, 0.0, 0.0, 0.0, 0.0, 0.037941873490451895, 0.0, 0.0, 0.0, 0.0, 0.0, 0.0, 0.0, 0.0, 0.0, 0.0, 0.0, 0.0, 0.0, 0.0, 0.0, 0.0, 0.0, 0.0, 0.0, 0.0, 0.0, 0.0, 0.0, 0.0, 0.0, 0.0, 0.0, 0.0, 0.0, 0.03908689539024839, 0.0, 0.0, 0.0, 0.0, 0.0, 0.03939719544815256, 0.0, 0.0, 0.0, 0.0, 0.0, 0.0, 0.0, 0.0, 0.03884606252254861, 0.0, 0.0, 0.0, 0.0, 0.0, 0.0, 0.0, 0.0, 0.0, 0.0, 0.0, 0.0, 0.0, 0.0, 0.0, 0.0, 0.0, 0.0, 0.0, 0.0, 0.0, 0.0, 0.0, 0.0, 0.0, 0.0, 0.0, 0.0, 0.0, 0.0, 0.0, 0.0, 0.0, 0.0, 0.0, 0.0, 0.0, 0.0, 0.0, 0.0, 0.0, 0.0, 0.0, 0.0, 0.0, 0.0, 0.0, 0.0, 0.0, 0.0, 0.0, 0.0, 0.0, 0.0, 0.0, 0.0, 0.0, 0.0, 0.0, 0.0, 0.0, 0.0, 0.0, 0.0, 0.0, 0.0, 0.0, 0.0, 0.0, 0.0, 0.0, 0.0, 0.0, 0.0, 0.0, 0.0, 0.0, 0.0, 0.0, 0.0, 0.0, 0.0, 0.0, 0.0, 0.0, 0.0, 0.0, 0.0, 0.0, 0.041362860070603795, 0.0, 0.0, 0.0, 0.0, 0.0, 0.0, 0.0, 0.0, 0.0, 0.0, 0.0, 0.0, 0.0, 0.0, 0.0412074561309738, 0.0, 0.0, 0.0, 0.0, 0.0, 0.0, 0.0, 0.0, 0.0, 0.0, 0.0, 0.0, 0.0, 0.0, 0.0, 0.0, 0.0, 0.0, 0.0, 0.0, 0.0, 0.0, 0.0, 0.0, 0.0, 0.0, 0.0, 0.0, 0.0, 0.0, 0.0, 0.0, 0.0, 0.0, 0.0, 0.0, 0.0, 0.0, 0.0, 0.0, 0.04317843552065674, 0.0, 0.0, 0.0, 0.0, 0.0, 0.0, 0.0, 0.0, 0.0, 0.0, 0.0, 0.0, 0.0, 0.0, 0.0, 0.0, 0.0, 0.0, 0.0, 0.0, 0.0, 0.0, 0.0, 0.0, 0.0, 0.0, 0.0, 0.0, 0.0, 0.0, 0.0, 0.0, 0.0, 0.0, 0.041763405432367715, 0.0, 0.0, 0.0, 0.0, 0.0, 0.0, 0.0, 0.0, 0.0, 0.0, 0.0, 0.0, 0.04366995571402289, 0.0, 0.0, 0.0, 0.0, 0.0, 0.0, 0.0, 0.0, 0.0, 0.0, 0.0, 0.0, 0.0, 0.0, 0.0, 0.0, 0.0, 0.0, 0.0, 0.0, 0.0, 0.0, 0.0, 0.0, 0.0, 0.0, 0.0, 0.0, 0.0, 0.0, 0.0, 0.0, 0.0, 0.0, 0.0, 0.0, 0.0, 0.0, 0.0, 0.0, 0.0, 0.0, 0.0, 0.0, 0.0, 0.0, 0.0, 0.0, 0.0, 0.0, 0.0, 0.0, 0.0, 0.0, 0.0, 0.0, 0.0, 0.0, 0.0, 0.0, 0.0, 0.0, 0.0, 0.0, 0.0, 0.0, 0.0, 0.0, 0.0, 0.0, 0.0, 0.0, 0.0, 0.0, 0.0, 0.0, 0.0, 0.0, 0.0, 0.0, 0.0, 0.0, 0.0, 0.0, 0.0, 0.0, 0.0, 0.0, 0.0, 0.0, 0.0, 0.0, 0.0, 0.0, 0.0, 0.0, 0.0, 0.0, 0.0, 0.0, 0.0, 0.0, 0.0, 0.0, 0.0, 0.0, 0.0, 0.0, 0.0, 0.0, 0.0, 0.0, 0.0, 0.0, 0.0, 0.0, 0.0, 0.0, 0.0, 0.0, 0.0, 0.0, 0.0, 0.0, 0.0, 0.0, 0.0, 0.0, 0.0, 0.0, 0.0, 0.0, 0.0, 0.0, 0.0, 0.0, 0.0, 0.0, 0.0, 0.0, 0.0, 0.0, 0.0, 0.0, 0.0, 0.0, 0.0, 0.0, 0.0, 0.04621815539724251, 0.0, 0.0, 0.0, 0.0, 0.0, 0.0, 0.0, 0.0, 0.0, 0.0, 0.0, 0.0, 0.0, 0.0, 0.04635283799528924, 0.0, 0.0, 0.0, 0.0, 0.0, 0.0, 0.09353857664569291, 0.0, 0.0, 0.0, 0.0, 0.0, 0.0, 0.0, 0.0, 0.0, 0.0, 0.0, 0.0, 0.0, 0.0, 0.0, 0.0, 0.0, 0.0, 0.0, 0.0, 0.0, 0.0, 0.0, 0.0, 0.0, 0.0, 0.0, 0.046912455204374995, 0.0, 0.0, 0.0, 0.0, 0.0, 0.0, 0.0, 0.0, 0.0, 0.0, 0.0, 0.046912455204374995, 0.0, 0.0, 0.0, 0.0, 0.0, 0.0, 0.0, 0.0, 0.0, 0.0, 0.0, 0.0, 0.0, 0.0, 0.0, 0.0, 0.0, 0.0, 0.0, 0.0, 0.0, 0.0, 0.0, 0.0, 0.0, 0.0, 0.0, 0.0, 0.0, 0.0, 0.0, 0.0, 0.0, 0.0, 0.04408325002381159, 0.0, 0.0, 0.0, 0.0, 0.0, 0.0, 0.047356002151369835, 0.0, 0.0, 0.0, 0.0, 0.0, 0.0, 0.0, 0.0, 0.0, 0.0, 0.0, 0.0, 0.0, 0.0, 0.0, 0.0, 0.0, 0.0, 0.0, 0.0, 0.0, 0.0, 0.0, 0.0, 0.0, 0.0, 0.0, 0.0, 0.0, 0.0, 0.0, 0.0, 0.0, 0.0, 0.0, 0.0, 0.0, 0.0, 0.0, 0.0, 0.0, 0.0, 0.0, 0.0, 0.0, 0.0, 0.0, 0.0, 0.0, 0.0, 0.0, 0.0, 0.0, 0.0, 0.0, 0.0, 0.0, 0.0, 0.0, 0.0, 0.0, 0.0, 0.0, 0.0, 0.0, 0.0, 0.0, 0.0, 0.0, 0.0, 0.0, 0.0, 0.0, 0.0, 0.0, 0.0, 0.04831382502098644, 0.0, 0.0, 0.0, 0.0, 0.0, 0.0, 0.0, 0.0, 0.0, 0.0, 0.0, 0.0, 0.0, 0.0, 0.0, 0.0, 0.048656918911739594, 0.0, 0.0, 0.0, 0.0, 0.0, 0.0, 0.0, 0.0, 0.0, 0.0, 0.0, 0.0, 0.0, 0.0, 0.0, 0.0, 0.0, 0.0, 0.0, 0.0, 0.0, 0.0, 0.0, 0.0, 0.0, 0.0, 0.0, 0.0, 0.0, 0.0, 0.0, 0.0, 0.0, 0.0, 0.0, 0.0, 0.0, 0.0, 0.0, 0.0, 0.0, 0.0, 0.0, 0.0, 0.0, 0.0, 0.0, 0.0, 0.0, 0.0, 0.0, 0.0, 0.0, 0.0, 0.0, 0.0, 0.0, 0.0, 0.0, 0.0, 0.0, 0.04977148547621534, 0.0, 0.0, 0.0, 0.0, 0.0, 0.0, 0.0, 0.0, 0.0, 0.0, 0.0, 0.0, 0.0, 0.0, 0.0, 0.0, 0.0, 0.0, 0.0, 0.0, 0.0, 0.0, 0.0, 0.0, 0.0, 0.0, 0.0, 0.0, 0.0, 0.0, 0.0, 0.0, 0.0, 0.0, 0.0, 0.0, 0.0, 0.0, 0.0, 0.0, 0.0, 0.0, 0.0, 0.0, 0.0, 0.0, 0.0, 0.0, 0.0, 0.0, 0.0, 0.0, 0.0, 0.0, 0.0, 0.0, 0.0, 0.0, 0.0, 0.0, 0.0, 0.0, 0.0, 0.0, 0.0, 0.0, 0.0, 0.0, 0.0, 0.0, 0.0, 0.0, 0.0, 0.0, 0.0, 0.0, 0.0, 0.0, 0.0, 0.0, 0.0, 0.0, 0.0, 0.0, 0.0, 0.0, 0.0, 0.0, 0.0, 0.0, 0.0, 0.0, 0.0, 0.0, 0.0, 0.0, 0.0, 0.0, 0.0, 0.0, 0.0, 0.050384588028902, 0.0, 0.0, 0.0, 0.0, 0.0, 0.0, 0.0, 0.0, 0.0, 0.0, 0.0, 0.0, 0.0, 0.0, 0.0, 0.0, 0.0, 0.0, 0.0, 0.05017559240867747, 0.0, 0.0, 0.0, 0.0, 0.0, 0.0, 0.0, 0.0, 0.0, 0.0, 0.0, 0.0, 0.0, 0.0, 0.0, 0.0, 0.0, 0.0, 0.0, 0.0, 0.0, 0.0, 0.0, 0.05104204858871678, 0.0, 0.0, 0.0, 0.0, 0.0, 0.0, 0.0, 0.0, 0.0, 0.0, 0.0, 0.0, 0.0, 0.0, 0.0, 0.0, 0.0, 0.0, 0.0, 0.0, 0.0, 0.0, 0.0, 0.0, 0.0, 0.0, 0.0, 0.05104204858871678, 0.0, 0.0, 0.0, 0.0, 0.020713102954066708, 0.0, 0.0, 0.0, 0.0, 0.026484151526242724, 0.0, 0.0, 0.0, 0.0, 0.0, 0.0, 0.0, 0.0, 0.0, 0.0, 0.0, 0.0, 0.0, 0.0, 0.0, 0.0, 0.0, 0.0, 0.0, 0.0, 0.0, 0.0, 0.0, 0.0, 0.0, 0.0, 0.0, 0.0, 0.0, 0.0, 0.0, 0.0, 0.0, 0.0, 0.0, 0.0, 0.0, 0.0, 0.0, 0.0, 0.035187565667317906, 0.0, 0.0, 0.0, 0.0, 0.0, 0.0, 0.0, 0.0, 0.0, 0.0, 0.0, 0.0, 0.03791762205352873, 0.0, 0.0, 0.037119352539862406, 0.0, 0.0, 0.0, 0.0, 0.0, 0.0, 0.0, 0.0, 0.0, 0.0, 0.0, 0.0, 0.0, 0.0, 0.0, 0.0, 0.0, 0.0, 0.0, 0.0, 0.0, 0.0, 0.0, 0.0, 0.0, 0.0, 0.0, 0.0, 0.0, 0.0, 0.0, 0.0, 0.0, 0.0, 0.0, 0.0, 0.0, 0.0, 0.0, 0.0, 0.0, 0.0, 0.0, 0.0, 0.0, 0.0, 0.0, 0.0, 0.0, 0.0, 0.0, 0.0, 0.0, 0.0, 0.0, 0.0, 0.0, 0.0, 0.0, 0.0, 0.0, 0.0, 0.0, 0.0, 0.0, 0.0, 0.0, 0.0, 0.0, 0.0, 0.0, 0.0, 0.0, 0.0, 0.0, 0.0, 0.0, 0.0, 0.0, 0.0, 0.0, 0.0, 0.0, 0.0, 0.0, 0.0, 0.0, 0.0, 0.0, 0.0, 0.0, 0.0, 0.0, 0.0, 0.04481343294565308, 0.0, 0.0, 0.0, 0.0, 0.0, 0.0, 0.0, 0.0, 0.0, 0.0, 0.0, 0.0, 0.0, 0.0, 0.0, 0.0, 0.0, 0.0, 0.0, 0.0, 0.0, 0.0, 0.0, 0.0, 0.0, 0.0, 0.0, 0.0, 0.0, 0.0, 0.0, 0.0, 0.0, 0.0, 0.0, 0.0, 0.0, 0.0, 0.0, 0.0, 0.0, 0.0, 0.0, 0.0, 0.0, 0.0, 0.0, 0.0, 0.0, 0.0, 0.0, 0.0, 0.0, 0.0, 0.0, 0.0, 0.0, 0.0, 0.0, 0.0, 0.0, 0.0, 0.0, 0.0, 0.0, 0.0, 0.0, 0.0, 0.0, 0.0, 0.0, 0.0, 0.0, 0.0, 0.0, 0.0, 0.0, 0.0, 0.0, 0.0, 0.04748963682410726, 0.0, 0.0, 0.0, 0.0, 0.0, 0.0, 0.0, 0.0, 0.0, 0.0, 0.0, 0.0, 0.0, 0.0, 0.0, 0.0, 0.0, 0.0, 0.0, 0.0, 0.0, 0.0, 0.0, 0.0, 0.0, 0.0, 0.0, 0.0, 0.0, 0.0, 0.0, 0.0, 0.0, 0.0, 0.0, 0.0, 0.0, 0.0, 0.0, 0.04946313571967557, 0.09717746080073968, 0.0, 0.0, 0.0, 0.0, 0.0, 0.0, 0.0, 0.0, 0.0, 0.0, 0.0, 0.0, 0.0, 0.0, 0.0, 0.0, 0.0, 0.0, 0.0, 0.0, 0.0, 0.0, 0.0, 0.0, 0.0, 0.0, 0.0, 0.0, 0.0, 0.0, 0.0, 0.0, 0.0, 0.0, 0.0, 0.0, 0.0, 0.0, 0.0, 0.0, 0.0, 0.0, 0.0, 0.0, 0.0, 0.0, 0.0, 0.0, 0.0, 0.0, 0.0, 0.0, 0.0, 0.0, 0.0, 0.0, 0.0, 0.0, 0.0, 0.0, 0.0, 0.0, 0.0, 0.0, 0.0, 0.047944654632725354, 0.0, 0.0, 0.0, 0.0, 0.0, 0.0, 0.0, 0.0, 0.0, 0.0, 0.0, 0.0, 0.0, 0.0, 0.0, 0.0, 0.0, 0.0, 0.0, 0.0, 0.0, 0.0, 0.0, 0.0, 0.0, 0.0, 0.0, 0.0, 0.0, 0.0, 0.0, 0.0, 0.0, 0.0, 0.0, 0.0, 0.0, 0.0, 0.0, 0.0, 0.0, 0.0, 0.0, 0.0, 0.0, 0.0, 0.0, 0.0, 0.0, 0.0, 0.0, 0.0, 0.0, 0.0, 0.0, 0.0, 0.0, 0.0, 0.0, 0.0, 0.0, 0.0, 0.0, 0.0, 0.0, 0.0, 0.0, 0.0, 0.0, 0.0, 0.0, 0.0, 0.0, 0.0, 0.0, 0.0, 0.0, 0.0, 0.0, 0.0, 0.0, 0.0, 0.0, 0.0, 0.0, 0.0, 0.0, 0.0, 0.0, 0.0, 0.0, 0.0, 0.05151032426384263, 0.05174259773158841, 0.0, 0.0, 0.0, 0.0, 0.0, 0.0, 0.0, 0.0, 0.0, 0.0, 0.0, 0.0, 0.0, 0.0, 0.0, 0.0, 0.0, 0.0, 0.0, 0.0, 0.0, 0.0, 0.0, 0.0, 0.0, 0.0, 0.0, 0.0, 0.0, 0.0, 0.0, 0.0, 0.0, 0.0, 0.0, 0.0, 0.0, 0.0, 0.0, 0.0, 0.0, 0.0, 0.0, 0.0, 0.0, 0.0, 0.0, 0.0, 0.0, 0.0, 0.0, 0.0, 0.0, 0.0, 0.0, 0.0, 0.0, 0.0, 0.0, 0.0, 0.0, 0.0, 0.0, 0.0, 0.0, 0.0, 0.0, 0.0, 0.0, 0.0, 0.0, 0.0, 0.0, 0.0, 0.0, 0.0, 0.0, 0.0, 0.0, 0.0, 0.0, 0.0, 0.0, 0.0, 0.0, 0.0, 0.0, 0.0, 0.0, 0.0, 0.0, 0.0, 0.0, 0.0, 0.0, 0.0, 0.0, 0.0, 0.0, 0.0, 0.0, 0.0, 0.0, 0.0, 0.0, 0.0, 0.0, 0.0, 0.0, 0.0, 0.0, 0.0, 0.0, 0.0, 0.0, 0.0, 0.0, 0.0, 0.0, 0.0, 0.0, 0.0, 0.0, 0.0, 0.0, 0.0, 0.0, 0.0, 0.0, 0.0, 0.0, 0.0, 0.0, 0.0, 0.0, 0.0, 0.0, 0.0, 0.0, 0.0, 0.0, 0.0, 0.0, 0.0, 0.0, 0.0, 0.0, 0.0, 0.0, 0.0, 0.0, 0.0, 0.0, 0.0, 0.0, 0.0, 0.0, 0.0, 0.0, 0.0, 0.0, 0.0, 0.0, 0.0, 0.0, 0.0, 0.0, 0.0, 0.0, 0.0, 0.0, 0.0, 0.0, 0.0, 0.0, 0.0, 0.0, 0.0, 0.0, 0.0, 0.0, 0.0, 0.0, 0.0, 0.0, 0.0, 0.0, 0.0, 0.0, 0.0, 0.0, 0.0, 0.0, 0.0, 0.0, 0.0, 0.0, 0.0, 0.0, 0.0, 0.0, 0.0, 0.0, 0.0, 0.0, 0.0, 0.0, 0.0, 0.0, 0.0, 0.0, 0.0, 0.0, 0.0, 0.0, 0.0, 0.0, 0.0, 0.0, 0.0, 0.0, 0.0, 0.0, 0.0, 0.0, 0.0, 0.0, 0.0, 0.0, 0.0, 0.0, 0.0, 0.0, 0.0, 0.0, 0.0, 0.0, 0.0, 0.0, 0.0, 0.0, 0.0, 0.0, 0.0, 0.0, 0.0, 0.0, 0.0, 0.0, 0.0, 0.0, 0.0, 0.0, 0.0, 0.0, 0.0, 0.0, 0.0, 0.05478257145594109, 0.0, 0.0, 0.0, 0.0, 0.0, 0.0, 0.0, 0.0, 0.0, 0.0, 0.0, 0.0, 0.0, 0.0, 0.0, 0.0, 0.0, 0.0, 0.0, 0.0, 0.0, 0.0, 0.0, 0.0, 0.0, 0.0, 0.0, 0.0, 0.0, 0.0, 0.0, 0.0, 0.0, 0.0, 0.0, 0.0, 0.0, 0.0, 0.0, 0.0, 0.0, 0.0, 0.0, 0.0, 0.0, 0.0, 0.0, 0.0, 0.0, 0.0, 0.0, 0.0, 0.0, 0.0, 0.0, 0.0, 0.0, 0.0, 0.0, 0.0, 0.0, 0.0, 0.0, 0.0, 0.0, 0.0, 0.0, 0.0, 0.0, 0.0, 0.0, 0.0, 0.0, 0.0, 0.0, 0.0, 0.0, 0.0, 0.0, 0.0, 0.0, 0.0, 0.0, 0.0, 0.0, 0.0, 0.0, 0.0, 0.0, 0.0, 0.0, 0.0, 0.0, 0.0, 0.0, 0.0, 0.0, 0.0, 0.0, 0.0, 0.0, 0.0, 0.0, 0.0, 0.0, 0.0, 0.0, 0.0, 0.0, 0.0, 0.0, 0.0, 0.0, 0.0, 0.0, 0.0, 0.0, 0.0, 0.0, 0.0, 0.0, 0.0, 0.0, 0.0, 0.0, 0.0, 0.0, 0.0, 0.0, 0.0, 0.0, 0.0, 0.0, 0.0, 0.0, 0.0, 0.0, 0.0, 0.0, 0.0, 0.0, 0.0, 0.0, 0.0, 0.0, 0.0, 0.0, 0.0, 0.0, 0.0, 0.0, 0.0, 0.0, 0.0, 0.0, 0.0, 0.0, 0.0, 0.0, 0.0, 0.0, 0.0, 0.0, 0.0, 0.0, 0.0, 0.0, 0.0, 0.0, 0.0, 0.0, 0.0, 0.0, 0.0, 0.0, 0.0, 0.0, 0.0, 0.0, 0.0, 0.0, 0.0, 0.0, 0.0, 0.0, 0.0, 0.0, 0.0, 0.0, 0.0, 0.0, 0.0, 0.0, 0.0, 0.0, 0.0, 0.0, 0.0, 0.0, 0.0, 0.0, 0.0, 0.0, 0.0, 0.0, 0.0, 0.0, 0.0, 0.0, 0.0, 0.0, 0.0, 0.0, 0.0, 0.0, 0.0, 0.0, 0.055822284165179654, 0.0, 0.0, 0.0, 0.0, 0.0, 0.0, 0.0, 0.0, 0.0, 0.0, 0.0, 0.0, 0.0, 0.0, 0.0, 0.0, 0.0, 0.0, 0.0, 0.0, 0.0, 0.0, 0.0, 0.0, 0.0, 0.0, 0.0, 0.0, 0.0, 0.0, 0.0, 0.0, 0.0, 0.05446063274207623, 0.0, 0.0, 0.0, 0.0, 0.0, 0.0, 0.0, 0.0, 0.0, 0.0, 0.0, 0.0, 0.0, 0.0, 0.0, 0.0, 0.0, 0.0, 0.0, 0.0, 0.0, 0.05658725305452875, 0.05699506739004099, 0.0, 0.0, 0.0, 0.0, 0.0, 0.0, 0.0, 0.0, 0.0, 0.0, 0.0, 0.0, 0.0, 0.0, 0.0, 0.0, 0.0, 0.0, 0.0, 0.0, 0.0, 0.0, 0.0, 0.0, 0.0]\n"
     ]
    }
   ],
   "source": [
    "out_vect, uni_vocab, bi_vocab, tf_uni, tf_bi, idf_uni, idf_bi = features.get_tfidf_vocab(df_train['content'], n = 1000)\n",
    "input = torch.Tensor(out_vect)\n",
    "print(out_vect[0])"
   ]
  },
  {
   "cell_type": "code",
   "execution_count": 54,
   "id": "b4aac4fb",
   "metadata": {},
   "outputs": [
    {
     "data": {
      "text/plain": [
       "'\\ninput = []\\ncounter = 0\\ntotal = df_train.count()[\\'content\\']\\nremove = []\\nfor text in df_train[\\'content\\']:\\n    bow = features.text_to_bag_of_words(text, unigrams, bigrams)\\n    try:\\n        prosodic = features.features_for_sonnet(text).values()\\n    except Exception as e:\\n        # just throw the row away\\n        print(f\"Error occurred: {e}\")\\n        remove.append(text)\\n        continue\\n    input.append(list(bow) + list(prosodic))\\n    if counter % 1000 == 0:\\n        print(f\"Constructing feature vector {counter}/{total}\")\\n    counter += 1\\nfor text in remove: # get rid of bad input\\n    df_train = df_train[df_train[\\'content\\'] != text]\\n'"
      ]
     },
     "execution_count": 54,
     "metadata": {},
     "output_type": "execute_result"
    }
   ],
   "source": [
    "# compute ngram and prosodic features\n",
    "# N x D\n",
    "\"\"\"\n",
    "input = []\n",
    "counter = 0\n",
    "total = df_train.count()['content']\n",
    "remove = []\n",
    "for text in df_train['content']:\n",
    "    bow = features.text_to_bag_of_words(text, unigrams, bigrams)\n",
    "    try:\n",
    "        prosodic = features.features_for_sonnet(text).values()\n",
    "    except Exception as e:\n",
    "        # just throw the row away\n",
    "        print(f\"Error occurred: {e}\")\n",
    "        remove.append(text)\n",
    "        continue\n",
    "    input.append(list(bow) + list(prosodic))\n",
    "    if counter % 1000 == 0:\n",
    "        print(f\"Constructing feature vector {counter}/{total}\")\n",
    "    counter += 1\n",
    "for text in remove: # get rid of bad input\n",
    "    df_train = df_train[df_train['content'] != text]\n",
    "\"\"\"\n"
   ]
  },
  {
   "cell_type": "code",
   "execution_count": 28,
   "id": "d241dade",
   "metadata": {},
   "outputs": [
    {
     "name": "stdout",
     "output_type": "stream",
     "text": [
      "torch.Size([4037, 2000])\n",
      "torch.Size([4037])\n"
     ]
    }
   ],
   "source": [
    "input_arr = torch.Tensor(input)\n",
    "\n",
    "label_arr = torch.Tensor(df_train['normdate'].values)\n",
    "\n",
    "print(input_arr.shape)\n",
    "print(label_arr.shape)"
   ]
  },
  {
   "cell_type": "markdown",
   "id": "8c138f86",
   "metadata": {},
   "source": [
    "Create SVM model."
   ]
  },
  {
   "cell_type": "code",
   "execution_count": 29,
   "id": "e421f8a3",
   "metadata": {},
   "outputs": [],
   "source": [
    "reload(svm_classifier);"
   ]
  },
  {
   "cell_type": "code",
   "execution_count": 30,
   "id": "0a48c13e",
   "metadata": {},
   "outputs": [
    {
     "name": "stdout",
     "output_type": "stream",
     "text": [
      "Epoch 0: Hinge Loss is 5.898813724517822\n",
      "Train accuracy: 0.681\n",
      "Epoch 1: Hinge Loss is 5.7176361083984375\n",
      "Train accuracy: 0.689\n",
      "Epoch 2: Hinge Loss is 5.536458969116211\n",
      "Train accuracy: 0.689\n",
      "Epoch 3: Hinge Loss is 5.355281829833984\n",
      "Train accuracy: 0.689\n",
      "Epoch 4: Hinge Loss is 5.174104690551758\n",
      "Train accuracy: 0.689\n"
     ]
    }
   ],
   "source": [
    "\n",
    "model = svm_classifier.MulticlassSVM(input_arr.shape[1], len(categories))\n",
    "optimizer = torch.optim.SGD(model.parameters(), lr=0.01, weight_decay=1e-4)\n",
    "\n",
    "epochs = 5\n",
    "\n",
    "for epoch in range(epochs):\n",
    "    outputs = model(input_arr)\n",
    "    loss = model.hinge_loss(outputs.float(), label_arr.long())\n",
    "    print(f'Epoch {epoch}: Hinge Loss is {loss.item()}')\n",
    "    with torch.no_grad():\n",
    "        predictions = torch.argmax(outputs, dim=1)\n",
    "        correct = (predictions == label_arr).sum().item()\n",
    "        print(f'Train accuracy: {correct / label_arr.size(0):.3f}')\n",
    "\n",
    "    optimizer.zero_grad()\n",
    "    loss.backward()\n",
    "    optimizer.step()"
   ]
  },
  {
   "cell_type": "markdown",
   "id": "3e5b0ca9",
   "metadata": {},
   "source": [
    "Evaluate on test set"
   ]
  },
  {
   "cell_type": "code",
   "execution_count": 31,
   "id": "caa85f45",
   "metadata": {},
   "outputs": [
    {
     "data": {
      "text/plain": [
       "'\\ninput_test = []\\ncounter = 0\\ntotal_test = df_test.count()[\\'content\\']\\nremove_test = []\\nfor text in df_test[\\'content\\']:\\n    bow = features.text_to_bag_of_words(text, unigrams, bigrams)\\n    try:\\n        prosodic = features.features_for_sonnet(text).values()\\n    except Exception as e:\\n        # just throw the row away\\n        print(f\"Error occurred: {e}\")\\n        remove_test.append(text)\\n        continue\\n    input_test.append(list(bow) + list(prosodic))\\n    if counter % 1000 == 0:\\n        print(f\"Constructing feature vector {counter}/{total_test}\")\\n    counter += 1\\nfor text in remove_test: # get rid of bad input\\n    df_test = df_test[df_test[\\'content\\'] != text]\\ninput_arr_test = torch.Tensor(input_test)\\nlabel_arr_test = torch.Tensor(df_test[\\'gender\\'].values)\\n'"
      ]
     },
     "execution_count": 31,
     "metadata": {},
     "output_type": "execute_result"
    }
   ],
   "source": [
    "# compute ngram and prosodic features\n",
    "# for test set\n",
    "\"\"\"\n",
    "input_test = []\n",
    "counter = 0\n",
    "total_test = df_test.count()['content']\n",
    "remove_test = []\n",
    "for text in df_test['content']:\n",
    "    bow = features.text_to_bag_of_words(text, unigrams, bigrams)\n",
    "    try:\n",
    "        prosodic = features.features_for_sonnet(text).values()\n",
    "    except Exception as e:\n",
    "        # just throw the row away\n",
    "        print(f\"Error occurred: {e}\")\n",
    "        remove_test.append(text)\n",
    "        continue\n",
    "    input_test.append(list(bow) + list(prosodic))\n",
    "    if counter % 1000 == 0:\n",
    "        print(f\"Constructing feature vector {counter}/{total_test}\")\n",
    "    counter += 1\n",
    "for text in remove_test: # get rid of bad input\n",
    "    df_test = df_test[df_test['content'] != text]\n",
    "input_arr_test = torch.Tensor(input_test)\n",
    "label_arr_test = torch.Tensor(df_test['gender'].values)\n",
    "\"\"\""
   ]
  },
  {
   "cell_type": "code",
   "execution_count": 32,
   "id": "05d6f8f3",
   "metadata": {},
   "outputs": [
    {
     "name": "stdout",
     "output_type": "stream",
     "text": [
      "torch.Size([446, 2000])\n",
      "torch.Size([446])\n"
     ]
    }
   ],
   "source": [
    "# just tfidf bow\n",
    "# vars for ref: uni_vocab, bi_vocab, tf_uni, tf_bi, idf_uni, idf_bi\n",
    "input_arr_test = torch.Tensor([features.get_tfidf_test(text, uni_vocab, bi_vocab, tf_uni, tf_bi, idf_uni, idf_bi) for text in df_test['content']])\n",
    "    \n",
    "label_arr_test = torch.Tensor(df_test['normdate'].values)\n",
    "print(input_arr_test.shape)\n",
    "print(label_arr_test.shape)"
   ]
  },
  {
   "cell_type": "code",
   "execution_count": 33,
   "id": "f1bad47a",
   "metadata": {},
   "outputs": [
    {
     "name": "stdout",
     "output_type": "stream",
     "text": [
      "Test loss: 4.985991954803467\n",
      "Test accuracy: 0.693\n"
     ]
    }
   ],
   "source": [
    "test_outputs = model(input_arr_test)\n",
    "test_loss = model.hinge_loss(test_outputs.float(), label_arr_test.long())\n",
    "print(f'Test loss: {test_loss.item()}')\n",
    "with torch.no_grad():\n",
    "    test_predictions = torch.argmax(test_outputs, dim=1)\n",
    "    test_correct = (test_predictions == label_arr_test).sum().item()\n",
    "    print(f'Test accuracy: {test_correct / label_arr_test.size(0):.3f}')"
   ]
  },
  {
   "cell_type": "markdown",
   "id": "1082cdc0",
   "metadata": {},
   "source": [
    "Is this any better than always predicting 19th century?"
   ]
  },
  {
   "cell_type": "code",
   "execution_count": null,
   "id": "e0114859",
   "metadata": {},
   "outputs": [
    {
     "name": "stdout",
     "output_type": "stream",
     "text": [
      "tensor([0, 0, 0, 0, 0, 0, 0, 0, 0, 0, 0, 0, 0, 0, 0, 0, 0, 0, 0, 0, 0, 0, 0, 0,\n",
      "        0, 0, 0, 0, 0, 0, 0, 0, 0, 0, 0, 0, 0, 0, 0, 0, 0, 0, 0, 0, 0, 0, 0, 0,\n",
      "        0, 0, 0, 0, 0, 0, 0, 0, 0, 0, 0, 0, 0, 0, 0, 0, 0, 0, 0, 0, 0, 0, 0, 0,\n",
      "        0, 0, 0, 0, 0, 0, 0, 0, 0, 0, 0, 0, 0, 0, 0, 0, 0, 0, 0, 0, 0, 0, 0, 0,\n",
      "        0, 0, 0, 0, 0, 0, 0, 0, 0, 0, 0, 0, 0, 0, 0, 0, 0, 0, 0, 0, 0, 0, 0, 0,\n",
      "        0, 0, 0, 0, 0, 0, 0, 0, 0, 0, 0, 0, 0, 0, 0, 0, 0, 0, 0, 0, 0, 0, 0, 0,\n",
      "        0, 0, 0, 0, 0, 0, 0, 0, 0, 0, 0, 0, 0, 0, 0, 0, 0, 0, 0, 0, 0, 0, 0, 0,\n",
      "        0, 0, 0, 0, 0, 0, 0, 0, 0, 0, 0, 0, 0, 0, 0, 0, 0, 0, 0, 0, 0, 0, 0, 0,\n",
      "        0, 0, 0, 0, 0, 0, 0, 0, 0, 0, 0, 0, 0, 0, 0, 0, 0, 0, 0, 0, 0, 0, 0, 0,\n",
      "        0, 0, 0, 0, 0, 0, 0, 0, 0, 0, 0, 0, 0, 0, 0, 0, 0, 0, 0, 0, 0, 0, 0, 0,\n",
      "        0, 0, 0, 0, 0, 0, 0, 0, 0, 0, 0, 0, 0, 0, 0, 0, 0, 0, 0, 0, 0, 0, 0, 0,\n",
      "        0, 0, 0, 0, 0, 0, 0, 0, 0, 0, 0, 0, 0, 0, 0, 0, 0, 0, 0, 0, 0, 0, 0, 0,\n",
      "        0, 0, 0, 0, 0, 0, 0, 0, 0, 0, 0, 0, 0, 0, 0, 0, 0, 0, 0, 0, 0, 0, 0, 0,\n",
      "        0, 0, 0, 0, 0, 0, 0, 0, 0, 0, 0, 0, 0, 0, 0, 0, 0, 0, 0, 0, 0, 0, 0, 0,\n",
      "        0, 0, 0, 0, 0, 0, 0, 0, 0, 0, 0, 0, 0, 0, 0, 0, 0, 0, 0, 0, 0, 0, 0, 0,\n",
      "        0, 0, 0, 0, 0, 0, 0, 0, 0, 0, 0, 0, 0, 0, 0, 0, 0, 0, 0, 0, 0, 0, 0, 0,\n",
      "        0, 0, 0, 0, 0, 0, 0, 0, 0, 0, 0, 0, 0, 0, 0, 0, 0, 0, 0, 0, 0, 0, 0, 0,\n",
      "        0, 0, 0, 0, 0, 0, 0, 0, 0, 0, 0, 0, 0, 0, 0, 0, 0, 0, 0, 0, 0, 0, 0, 0,\n",
      "        0, 0, 0, 0, 0, 0, 0, 0, 0, 0, 0, 0, 0, 0])\n",
      "tensor([0., 0., 0., 4., 0., 0., 0., 0., 0., 5., 0., 0., 0., 0., 0., 3., 0., 0.,\n",
      "        0., 0., 0., 3., 0., 4., 0., 2., 0., 0., 0., 4., 0., 0., 3., 0., 0., 0.,\n",
      "        0., 0., 4., 2., 0., 4., 0., 0., 0., 0., 2., 0., 0., 0., 0., 0., 0., 0.,\n",
      "        3., 0., 0., 0., 0., 0., 0., 0., 0., 0., 0., 3., 0., 4., 0., 0., 0., 2.,\n",
      "        0., 0., 0., 0., 3., 0., 3., 3., 0., 0., 0., 0., 4., 4., 2., 0., 0., 0.,\n",
      "        0., 0., 0., 3., 4., 0., 0., 3., 0., 3., 0., 0., 0., 0., 0., 0., 0., 0.,\n",
      "        4., 0., 0., 0., 3., 0., 0., 0., 4., 0., 0., 3., 2., 3., 3., 0., 4., 0.,\n",
      "        4., 2., 3., 0., 4., 0., 0., 0., 3., 0., 0., 0., 0., 0., 2., 3., 0., 0.,\n",
      "        4., 3., 0., 3., 3., 0., 3., 0., 0., 0., 2., 0., 3., 2., 4., 0., 0., 0.,\n",
      "        0., 0., 0., 0., 0., 0., 0., 0., 0., 3., 2., 2., 0., 0., 4., 0., 0., 2.,\n",
      "        0., 2., 4., 2., 4., 0., 4., 0., 6., 0., 3., 0., 0., 0., 0., 0., 3., 0.,\n",
      "        4., 0., 0., 0., 0., 0., 0., 0., 0., 0., 0., 0., 0., 4., 0., 0., 0., 0.,\n",
      "        0., 0., 0., 0., 0., 0., 0., 0., 0., 0., 3., 4., 0., 2., 0., 4., 0., 2.,\n",
      "        0., 0., 4., 0., 0., 0., 0., 4., 0., 0., 2., 0., 0., 2., 0., 0., 3., 0.,\n",
      "        0., 3., 4., 4., 3., 0., 0., 0., 4., 0., 4., 0., 0., 4., 0., 0., 4., 4.,\n",
      "        3., 0., 0., 0., 4., 0., 0., 0., 4., 0., 0., 0., 4., 0., 0., 2., 2., 0.,\n",
      "        0., 0., 0., 0., 0., 4., 0., 0., 0., 0., 3., 2., 0., 2., 0., 0., 0., 4.,\n",
      "        0., 0., 0., 0., 0., 3., 0., 2., 0., 3., 3., 0., 0., 0., 0., 0., 0., 4.,\n",
      "        0., 3., 0., 0., 4., 0., 0., 4., 0., 4., 0., 0., 3., 0., 3., 0., 0., 0.,\n",
      "        6., 4., 0., 0., 0., 0., 0., 0., 0., 0., 0., 0., 3., 0., 0., 0., 3., 0.,\n",
      "        0., 0., 0., 0., 2., 0., 3., 0., 0., 0., 0., 2., 0., 0., 0., 3., 0., 0.,\n",
      "        0., 0., 4., 0., 3., 4., 0., 0., 2., 0., 0., 4., 3., 4., 0., 6., 0., 4.,\n",
      "        0., 0., 4., 2., 2., 0., 0., 0., 0., 0., 0., 6., 0., 4., 0., 0., 4., 0.,\n",
      "        0., 3., 0., 0., 0., 3., 4., 0., 0., 0., 0., 0., 0., 0., 0., 0., 0., 0.,\n",
      "        0., 0., 3., 2., 0., 0., 2., 0., 0., 0., 3., 0., 0., 4.])\n",
      "Test accuracy: 0.693\n"
     ]
    }
   ],
   "source": [
    "print(test_predictions)\n",
    "print(label_arr_test)\n",
    "always19 = (label_arr_test == torch.zeros(label_arr_test.shape)).sum().item()\n",
    "print(f'Test accuracy: {always19 / label_arr_test.size(0):.3f}')\n",
    "# Answer: no, not really. It just sets things to 19th century"
   ]
  },
  {
   "cell_type": "code",
   "execution_count": null,
   "id": "4740b281",
   "metadata": {},
   "outputs": [],
   "source": []
  }
 ],
 "metadata": {
  "kernelspec": {
   "display_name": "py311",
   "language": "python",
   "name": "python3"
  },
  "language_info": {
   "codemirror_mode": {
    "name": "ipython",
    "version": 3
   },
   "file_extension": ".py",
   "mimetype": "text/x-python",
   "name": "python",
   "nbconvert_exporter": "python",
   "pygments_lexer": "ipython3",
   "version": "3.11.11"
  }
 },
 "nbformat": 4,
 "nbformat_minor": 5
}
