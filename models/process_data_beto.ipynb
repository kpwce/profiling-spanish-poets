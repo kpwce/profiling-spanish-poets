{
 "cells": [
  {
   "cell_type": "markdown",
   "id": "941309df",
   "metadata": {},
   "source": [
    "# Create data files for BETO.\n",
    "\n",
    "This is done to do preliminary train and test splits for each of the three classification tasks, which will be uploaded to Google Colab."
   ]
  },
  {
   "cell_type": "code",
   "execution_count": 13,
   "id": "3165affc",
   "metadata": {},
   "outputs": [],
   "source": [
    "from format import *"
   ]
  },
  {
   "cell_type": "markdown",
   "id": "c3e40a49",
   "metadata": {},
   "source": [
    "## Gender"
   ]
  },
  {
   "cell_type": "code",
   "execution_count": 14,
   "id": "0ba07e80",
   "metadata": {},
   "outputs": [],
   "source": [
    "df_train, df_test = get_text_to_gender()\n",
    "df_train = df_train.where(df_train['content'].apply(lambda x: isinstance(x, str) and x.strip() != '')).dropna()\n",
    "\n",
    "df_test = df_test.where(df_test['content'].apply(lambda x: isinstance(x, str) and x.strip() != '')).dropna()\n",
    "\n",
    "gender_map = {'M': 0, 'F': 1}\n",
    "df_train['gender'] = df_train['gender'].map(gender_map)\n",
    "df_train = df_train.dropna(subset=['gender'])\n",
    "df_train = df_train.dropna(subset=['rhyme'])\n",
    "df_train = df_train.dropna(subset=['met'])\n",
    "\n",
    "# val set for beto\n",
    "df_train, df_val = train_test_split(df_train, 'gender', test_size=0.1)\n",
    "\n",
    "df_test['gender'] = df_test['gender'].map(gender_map)\n",
    "df_test = df_test.dropna(subset=['gender'])\n",
    "df_test = df_test.dropna(subset=['rhyme'])\n",
    "df_test = df_test.dropna(subset=['met'])"
   ]
  },
  {
   "cell_type": "code",
   "execution_count": 15,
   "id": "4a1e7f05",
   "metadata": {},
   "outputs": [
    {
     "name": "stdout",
     "output_type": "stream",
     "text": [
      "{'M': 0, 'F': 1}\n"
     ]
    }
   ],
   "source": [
    "df_train.to_csv('./beto/train_gender.csv')\n",
    "df_val.to_csv('./beto/val_gender.csv')\n",
    "df_test.to_csv('./beto/test_gender.csv')\n",
    "print(gender_map)"
   ]
  },
  {
   "cell_type": "markdown",
   "id": "a7c9f548",
   "metadata": {},
   "source": [
    "## Country"
   ]
  },
  {
   "cell_type": "code",
   "execution_count": 16,
   "id": "df142f02",
   "metadata": {},
   "outputs": [],
   "source": [
    "df_train, df_test = get_text_to_country_of_origin()\n",
    "df_train = df_train.where(df_train['content'].apply(lambda x: isinstance(x, str) and x.strip() != '')).dropna()\n",
    "\n",
    "df_test = df_test.where(df_test['content'].apply(lambda x: isinstance(x, str) and x.strip() != '')).dropna()\n",
    "\n",
    "countries = get_countries()\n",
    "countries_map = {countries[i] : i for i in range(len(countries))}\n",
    "\n",
    "df_train['country-birth'] = df_train['country-birth'].map(countries_map)\n",
    "df_train = df_train.dropna(subset=['country-birth'])\n",
    "\n",
    "df_test['country-birth'] = df_test['country-birth'].map(countries_map)\n",
    "df_test = df_test.dropna(subset=['country-birth'])\n",
    "\n",
    "df_train = df_train.dropna(subset=['rhyme'])\n",
    "df_train = df_train.dropna(subset=['met'])\n",
    "\n",
    "df_train, df_val = train_test_split(df_train, 'country-birth', test_size=0.1)\n",
    "\n",
    "df_test = df_test.dropna(subset=['rhyme'])\n",
    "df_test = df_test.dropna(subset=['met'])"
   ]
  },
  {
   "cell_type": "code",
   "execution_count": 17,
   "id": "76fb2c66",
   "metadata": {},
   "outputs": [
    {
     "name": "stdout",
     "output_type": "stream",
     "text": [
      "{'Filipinas': 0, 'Cuba': 1, 'España': 2, 'Portugal': 3, 'México': 4, 'Chile': 5, 'Argentina': 6, 'Venezuela': 7, 'Puerto Rico': 8, 'Costa Rica': 9, 'Colombia': 10}\n"
     ]
    }
   ],
   "source": [
    "df_train.to_csv('./beto/train_country.csv')\n",
    "df_val.to_csv('./beto/val_country.csv')\n",
    "df_test.to_csv('./beto/test_country.csv')\n",
    "print(countries_map)"
   ]
  },
  {
   "cell_type": "markdown",
   "id": "124d3565",
   "metadata": {},
   "source": [
    "## Period (century)"
   ]
  },
  {
   "cell_type": "code",
   "execution_count": 18,
   "id": "d2a80ff1",
   "metadata": {},
   "outputs": [],
   "source": [
    "df_train, df_test = get_text_to_period()\n",
    "df_train = df_train.where(df_train['content'].apply(lambda x: isinstance(x, str) and x.strip() != '')).dropna()\n",
    "\n",
    "df_test = df_test.where(df_test['content'].apply(lambda x: isinstance(x, str) and x.strip() != '')).dropna()\n",
    "\n",
    "# no need to map, since labels are numeric\n",
    "categories = get_periods()\n",
    "periodsMap = {categories[i] : i for i in range(len(categories))}\n",
    "df_train['normdate'] = df_train['normdate'].map(periodsMap)\n",
    "df_train = df_train.dropna(subset=['normdate'])\n",
    "\n",
    "df_test['normdate'] = df_test['normdate'].map(periodsMap)\n",
    "df_test = df_test.dropna(subset=['normdate'])\n",
    "\n",
    "df_train = df_train.dropna(subset=['rhyme'])\n",
    "df_train = df_train.dropna(subset=['met'])\n",
    "\n",
    "df_train, df_val = train_test_split(df_train, 'normdate', test_size=0.1)\n",
    "\n",
    "df_test = df_test.dropna(subset=['rhyme'])\n",
    "df_test = df_test.dropna(subset=['met'])"
   ]
  },
  {
   "cell_type": "code",
   "execution_count": 19,
   "id": "e4702880",
   "metadata": {},
   "outputs": [
    {
     "name": "stdout",
     "output_type": "stream",
     "text": [
      "{15.0: 0, 16.0: 1, 17.0: 2, 18.0: 3, 19.0: 4}\n"
     ]
    }
   ],
   "source": [
    "df_train.to_csv('./beto/train_period.csv')\n",
    "df_val.to_csv('./beto/val_period.csv')\n",
    "df_test.to_csv('./beto/test_period.csv')\n",
    "print(periodsMap)"
   ]
  }
 ],
 "metadata": {
  "kernelspec": {
   "display_name": "py311",
   "language": "python",
   "name": "python3"
  },
  "language_info": {
   "codemirror_mode": {
    "name": "ipython",
    "version": 3
   },
   "file_extension": ".py",
   "mimetype": "text/x-python",
   "name": "python",
   "nbconvert_exporter": "python",
   "pygments_lexer": "ipython3",
   "version": "3.11.11"
  }
 },
 "nbformat": 4,
 "nbformat_minor": 5
}
