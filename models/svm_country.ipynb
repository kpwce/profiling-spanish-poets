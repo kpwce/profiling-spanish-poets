{
 "cells": [
  {
   "cell_type": "markdown",
   "id": "3ac55ef4",
   "metadata": {},
   "source": [
    "# Train SVM classifiers for poet profiling (country)"
   ]
  },
  {
   "cell_type": "code",
   "execution_count": 2,
   "id": "df53056a",
   "metadata": {},
   "outputs": [
    {
     "name": "stderr",
     "output_type": "stream",
     "text": [
      "/Users/menga/opt/anaconda3/envs/py311/lib/python3.11/site-packages/tqdm/auto.py:21: TqdmWarning: IProgress not found. Please update jupyter and ipywidgets. See https://ipywidgets.readthedocs.io/en/stable/user_install.html\n",
      "  from .autonotebook import tqdm as notebook_tqdm\n"
     ]
    }
   ],
   "source": [
    "from format import *\n",
    "import features\n",
    "import svm_classifier\n",
    "import torch\n",
    "from importlib import reload"
   ]
  },
  {
   "cell_type": "markdown",
   "id": "8ddb0f7d",
   "metadata": {},
   "source": [
    "Load in the training data. Then extract features to turn poem into vector."
   ]
  },
  {
   "cell_type": "code",
   "execution_count": 3,
   "id": "6efa09e7",
   "metadata": {},
   "outputs": [],
   "source": [
    "df_train, df_test = get_text_to_country_of_origin()\n",
    "df_train = df_train.where(df_train['content'].apply(lambda x: isinstance(x, str) and x.strip() != '')).dropna()\n",
    "\n",
    "df_test = df_test.where(df_test['content'].apply(lambda x: isinstance(x, str) and x.strip() != '')).dropna()\n",
    "\n",
    "countries = get_countries()\n",
    "countries_map = {countries[i] : i for i in range(len(countries))}\n",
    "\n",
    "df_train['country-birth'] = df_train['country-birth'].map(countries_map)\n",
    "df_train = df_train.dropna(subset=['country-birth'])\n",
    "\n",
    "df_test['country-birth'] = df_test['country-birth'].map(countries_map)\n",
    "df_test = df_test.dropna(subset=['country-birth'])"
   ]
  },
  {
   "cell_type": "code",
   "execution_count": 4,
   "id": "394e4356",
   "metadata": {},
   "outputs": [
    {
     "name": "stdout",
     "output_type": "stream",
     "text": [
      "['Filipinas', 'Cuba', 'España', 'Ecuador', 'Portugal', 'México', 'Honduras', 'Italia', 'Brasil', 'Chile', 'Nicaragua', 'Perú', 'Argentina', 'Venezuela', 'Uruguay', 'Puerto Rico', 'Haití', 'Costa Rica', 'Colombia', 'República Dominicana', 'Bolivia', 'Paraguay', 'Panamá']\n"
     ]
    },
    {
     "data": {
      "text/plain": [
       "content          203\n",
       "country-birth    203\n",
       "dtype: int64"
      ]
     },
     "execution_count": 4,
     "metadata": {},
     "output_type": "execute_result"
    }
   ],
   "source": [
    "print(countries)\n",
    "df_train.where(df_train['country-birth']==0).count()"
   ]
  },
  {
   "cell_type": "markdown",
   "id": "23df24c2",
   "metadata": {},
   "source": [
    "Some features (BoW and prosodic attributes)"
   ]
  },
  {
   "cell_type": "code",
   "execution_count": 5,
   "id": "6f9ea685",
   "metadata": {},
   "outputs": [
    {
     "name": "stdout",
     "output_type": "stream",
     "text": [
      "['de', 'y', 'la', 'el', 'que', 'en', 'a', 'su', 'del', 'al', 'tu', 'con', 'un', 'mi', 'los', 'no', 'las', 'se', 'por', 'es', 'me', 'más', 'sus', 'como', 'una', 'te', 'lo', 'si', 'amor', 'sin', 'Y', 'vida', 'tus', 'ni', 'le', 'alma', 'para', 'ya', 'mis', 'cuando', 'tan', 'o', 'luz', 'cielo', 'yo', 'Dios', 'pues', 'sol', 'ser', 'ha', 'No', 'entre', 'corazón', 'mundo', 'ojos', 'sobre', 'En', 'El', 'La', 'qué', 'bien', 'muerte', 'tú', 'quien', 'día', 'todo', 'cual', 'gloria', 'ti', 'porque', 'dulce', 'mar', 'dolor', 'son', 'De', 'sólo', 'siempre', 'donde', 'noche', 'Si', 'fue', 'triste', 'frente', 'Mas', 'tanto', 'fin', 'voz', 'flores', 'mano', 'tierra', 'Oh', 'tiempo', 'mas', 'hay', 'pecho', 'este', 'nos', 'tal', 'oh', 'hoy', 'está', 'mí', 'así', 'oro', 'viento', 'mía', 'hasta', 'Por', 'él', 'mal', 'Qué', 'vez', 'esta', 'dos', 'Yo', 'ella', 'fuego', 'aunque', 'he', 'llanto', 'e', 'pero', 'bajo', 'A', 'gran', 'mil', 'hombre', 'llama', 'nombre', 'vano', 'sombra', 'aquel', 'Que', 'otro', 'flor', 'Ya', 'Es', 'ardiente', 'ver', 'suelo', 'fe', 'suerte', 'hermosa', 'pura', 'cuanto', 'mismo', 'sangre', 'nunca', 'eres', 'aun', 'Tú', 'esperanza', 'feliz', 'rosa', 'Cuando', 'canto', 'azul', 'os', 'otra', 'divino', 'tiene', 'da', 'Al', 'va', 'nada', 'todos', 'soy', 'toda', 'pena', 'ese', 'también', 'fuerte', 'memoria', 'mujer', 'inmortal', 'Señor', 'ante', 'paz', 'era', 'vos', 'tarde', 'Con', 'aquí', 'pensamiento', 'cuerpo', 'sueño', 'hermosura', 'bella', 'tras', 'Pero', 'morir', 'desde', 'quiero', 'mío', 'lágrimas', 'fama', 'virtud', 'esa', 'mientras', 'amores', 'olvido', 'vuelo', 'manos', 'ay', 'divina', 'camino', 'Quién', 'muy', 'España', 'nuevo', 'mayor', 'eterno', 'boca', 'seno', 'hace', 'has', 'jamás', 'Los', 'aire', 'rostro', 'luna', 'grande', 'labios', 'patria', 'nuestra', 'agua', 'veces', 'placer', 'cada', 'Amor', 'sé', 'dio', 'sí', 'espíritu', 'eterna', 'hora', 'Así', 'muerto', 'belleza', 'aliento', 'santo', 'mirada', 'después', 'aurora', 'alegría', 'puede', 'alto', 'Un', 'rayo', 'río', 'pobre', 'han', 'pasión', 'será', 'vivir', 'Pues', 'destino', 'paso', 'Sol', 'luego', 'rosas', 'humano', 'dura', 'mortal', 'mañana', 'mira', 'blanca', 'anhelo', 'consuelo', 'Como', 'lira', 'edad', 'dice', 'solo', 'fuente', 'madre', 'mejor', 'ventura', 'verdad', 'valor', 'llora', 've', 'profundo', 'noble', 'mente', 'do', 'oscura', 'contra', 'ilusión', 'alegre', 'poder', 'sea', 'vive', 'Del', 'faz', 'tanta', 'nieve', 'aquella', 'antes', 'historia', 'acento', 'fuera', 'pueblo', 'alas', 'todas', 'vivo', 'cómo', 'allí', 'envidia', 'razón', 'lejos', 'amante', 'vuestra', 'dicha', 'fuerza', 'silencio', 'brazos', 'calma', 'parece', 'campo', 'beso', 'corona', 'fría', 'frío', 'cabeza', 'ahora', 'nuestro', 'versos', 'fatal', 'llena', 'velo', 'gente', 'estrella', 'Hoy', 'pies', 'uno', 'herida', 'ciego', 'hacer', 'sino', 'medio', 'verde', 'vuestro', 'estrellas', 'humana', 'años', 'horas', 'Ay', 'cruel', 'vista', 'deseo', 'allá', 'afán', 'pesar', 'siento', 'libertad', 'vino', 'espera', 'rayos', 'sido', 'canta', 'Tu', 'cuya', 'almas', 'igual', 'pie', 'muere', 'gentil', 'abismo', 'fiera', 'poco', 'imagen', 'sombras', 'hacia', 'tristeza', 'peregrino', 'victoria', 'siente', 'aún', 'claro', 'vi', 'Las', 'nido', 'fruto', 'grandeza', 'deja', 'vio', 'fortuna', 'ave', 'siendo', 'hecho', 'infeliz', 'tormento', 'colores', 'piedad', 'hizo', 'campos', 'libre', 'sabe', 'honor', 'suave', 'dar', 'pluma', 'Para', 'olas', 'breve', 'recuerdo', 'poeta', 'encanto', 'forma', 'mucho', 'espada', 'cuyo', 'manto', 'lecho', 'sola', 'dijo', 'genio', 'tesoro', 'arte', 'instante', 'gracia', 'verte', 'algún', 'cristal', 'viva', 'Mi', 'Su', 'tumba', 'pudo', 'blanco', 'pasa', 'tengo', 'van', 'quién', 'monte', 'daño', 'llega', 'entonces', 'soberano', 'cumbre', 'Cristo', 'Se', 'bosque', 'ayer', 'alta', 'Apolo', 'amigo', 'árbol', 'armonía', 'miro', 'existencia', 'puro', 'buen', 'días', 'primera', 'bello', 'parte', 'sonoro', 'vil', 'levanta', 'sueños', 'soneto', 'reposo', 'Sólo', 'menos', 'grave', 'O', 'dolores', 'serena', 'otros', 'tres', 'espanto', 'cielos', 'sentimiento', 'esfera', 'estoy', 'cuidado', 'ley', 'cosas', 'templo', 'ondas', 'ciencia', 'tienes', 'santa', 'Ni', 'apenas', 'mármol', 'fiel', 'veo', 'mares', 'mirar', 'penas', 'Oriente', 'hijo', 'verso', 'hermoso', 'duelo', 'duro', 'ingenio', 'pan', 'esplendor', 'color', 'punto', 'males', 'lloro', 'primero', 'nueva', 'senda', 'Todo', 'lleno', 'lleva', 'negro', 'saber', 'nubes', 'infinito', 'sonrisa', 'hojas', 'quiere', 'tantos', 'humilde', 'lucha', 'loco', 'labio', 'constante', 'Jesús', 'pasado', 'polvo', 'lado', 'guerra', 'hombres', 'lumbre', 'grito', 'brilla', 'fiero', 'torno', 'par', 'perdido', 'ternura', 'joven', 'sutil', 'viejo', 'amargura', 'cosa', 'plata', 'idea', 'coro', 'junto', 'nadie', 'María', 'duda', 'contento', 'tristes', 'fuiste', 'momento', 'corriente', 'juventud', 'les', 'alguna', 'vuelve', 'agonía', 'sed', 'jardín', 'amado', 'primavera', 'virgen', 'carne', 'Virgen', 'hondo', 'resplandor', 'voy', 'loca', 'brisa', 'soplo', 'cruz', 'conciencia', 'bellas', 'fulgor', 'derrama', 'ardor', 'yace', 'busca', 'muda', 'dichoso', 'sagrado', 'cantar', 'don', 'golpe', 'glorias', 'ofrece', 'cara', 'sublime', 'sigue', 'Te', 'Sobre', 'debe', 'arena', 'tirano', 'beldad', 'Porque', 'adoro', 'padre', 'palma', 'muestra', 'adora', 'causa', 'alba', 'aguas', 'justo', 'sentido', 'eso', 'dulces', 'tierno', 'doliente', 'algo', 'ambiente', 'temor', 'pudiera', 'espero', 'altura', 'planta', 'semblante', 'niño', 'ambición', 'celestial', 'amada', 'quiso', 'triunfo', 'perlas', 'nube', 'soledad', 'admira', 'copa', 'altar', 'decir', 'orgullo', 'señora', 'eco', 'presente', 'clara', 'ellas', 'carrera', 'ideal', 'alcanza', 'lanza', 'laurel', 'puerto', 'desierto', 'luces', 'dado', 'impía', 'mudo', 'firme', 'inmenso', 'sepulcro', 'primer', 'triunfante', 'cuna', 'ángel', 'hogar', 'inflama', 'negra', 'besos', 'llegar', 'imperio', 'rey', 'poesía', 'risa', 'audaz', 'nuestros', 'Lo', 'ama', 'cura', 'porfía', 'queda', 'culpa', 'furor', 'segundo', 'Cielo', 'ven', 'lengua', 'perdida', 'peso', 'viene', 'piedra', 'pecado', 'falta', 'blando', 'espuma', 'gusto', 'ellos', 'glorioso', 'quisiera', 'misma', 'nuestras', 'pompa', 'Una', 'rigor', 'pronto', 'importa', 'lugar', 'noches', 'aves', 'altivo', 'muero', 'plantas', 'acaso', 'orbe', 'celeste', 'rico', 'tener', 'selva', 'lluvia', 'esencia', 'miel', 'hielo', 'invierno', 'bueno', 'están', 'fecundo', 'dueño', 'esto', 'visto', 'casa', 'dulzura', 'estas', 'ciudad', 'reina', 'guía', 'acero', 'ocaso', 'dios', 'extraño', 'ruego', 'sois', 'locura', 'sacro', 'figura', 'sabio', 'leve', 'guarda', 'puedo', 'rojo', 'inspira', 'Venus', 'fueron', 'inmensa', 'oscuro', 'Me', 'non', 'débil', 'cierto', 'calor', 'gozo', 'odio', 'das', 'Roma', 'nave', 'otras', 'cuello', 'torpe', 'despojos', 'estás', 'huye', 'dan', 'ausencia', 'vencido', 'Sin', 'presencia', 'ansias', 'brillante', 'aroma', 'goza', 'último', 'dando', 'amoroso', 'viendo', 'Este', 'Mientras', 'espacio', 'oído', 'gigante', 'suspira', 'segura', 'contigo', 'culto', 'valiente', 'misterio', 'nace', 'Cómo', 'siglos', 'ejemplo', 'dejó', 'canción', 'gloriosa', 'haber', 'firmamento', 'eternamente', 'pasar', 'advierte', 'astro', 'Muerte', 'ilusiones', 'prado', 'tormenta', 'queja', 'suspiro', 'Madre', 'montes', 'alza', 'rama', 'rumor', 'llano', 'vana', 'oriente', 'voces', 'Cual', 'huella', 'cáliz', 'esposa', 'dejar', 'premio', 'Ah', 'vela', 'hijos', 'crece', 'enemigo', 'fondo', 'altiva', 'astros', 'Esta', 'inerte', 'hado', 'cadena', 'libro', 'suena', 'buena', 'sonora', 'Javier', 'tronco', 'amar', 'Ella', 'cabello', 'orilla', 'modo', 'horror', 'niebla', 'estar', 'estado', 'sentir', 'cubre', 'estaba', 'mata', 'encierra', 'voluntad', 'mueve', 'arde', 'verdes', 'cabellera', 'querida', 'vientos', 'pienso', 'fácil', 'mudanza', 'diste', 'estos', 'ensueño', 'Fue', 'gota', 'dentro', 'curso', 'blancas', 'muerta', 'vacío', 'región', 'toca', 'casi', 'perfume', 'ensueños', 'seguro', 'brillo', 'reposa', 'púrpura', 'dónde', 'desengaño', 'valle', 'vago', 'horizonte', 'lejano', 'enojos', 'airado', 'conmigo', 'Tal', 'música', 'pensar', 'roca', 'ausente', 'ilustre', 'miserable', 'señor', 'pasiones', 'vierte', 'haciendo', 'enamorado', 'siglo', 'engaño', 'misteriosa', 'venganza', 'propio', 'Marte', 'quieres', 'Aunque', 'fuese', 'gemido', 'oye', 'Padre', 'miedo', 'Aquí', 'baña', 'sereno', 'cansado', 'celos', 'gracias', 'galas', 'oculta', 'mísero', 'olvida', 'cesar', 'amargo', 'Entre', 'llamas', 'vuela', 'montaña', 'luciente', 'trono', 'esclavo', 'Bien', 'cisne', 'propia', 'terrible', 'naturaleza', 'playa', 'Hay', 'brazo', 'rocío', 'Lope', 'Cruz', 'envía', 'Isidro', 'soberana', 'puerta', 'corre', 'ceniza', 'aura', 'rojos', 'musa', 'desdén', 'infierno', 'Desde', 'secreto', 'Soy', 'pradera', 'halla', 'pesares', 'ribera', 'fulgores', 'armas', 'trueno', 'pone', 'incierto', 'ánimo', 'larga', 'tantas', 'sombría', 'vieja', 'tuvo', 'hacen', 'largo', 'llorar', 'tributo', 'ingrata', 'baja', 'laureles', 'brío', 'esos', 'sombrío', 'ves', 'abre', 'poderoso', 'espinas', 'pira', 'amorosa', 'sagrada', 'plumas', 'veneno', 'Quiero', 'tuyo', 'turba', 'querido', 'raza']\n",
      "[('de', 'la'), ('en', 'la'), ('en', 'el'), ('a', 'la'), ('y', 'el'), ('que', 'en'), ('de', 'su'), ('y', 'en'), ('de', 'mi'), ('que', 'el'), ('de', 'tu'), ('en', 'su'), ('y', 'de'), ('de', 'los'), ('de', 'un'), ('y', 'la'), ('la', 'vida'), ('de', 'las'), ('que', 'la'), ('en', 'tu'), ('a', 'su'), ('que', 'a'), ('el', 'alma'), ('en', 'mi'), ('y', 'al'), ('lo', 'que'), ('a', 'los'), ('que', 'no'), ('y', 'a'), ('en', 'las'), ('a', 'tu'), ('en', 'los'), ('el', 'cielo'), ('que', 'al'), ('la', 'muerte'), ('que', 'me'), ('el', 'sol'), ('de', 'una'), ('en', 'que'), ('que', 'se'), ('por', 'el'), ('de', 'amor'), ('a', 'mi'), ('con', 'la'), ('el', 'mundo'), ('la', 'tierra'), ('con', 'su'), ('que', 'es'), ('que', 'te'), ('de', 'tus'), ('la', 'luz'), ('la', 'noche'), ('en', 'un'), ('de', 'sus'), ('con', 'el'), ('que', 'de'), ('y', 'con'), ('por', 'la'), ('como', 'un'), ('como', 'el'), ('de', 'oro'), ('y', 'que'), ('a', 'las'), ('sobre', 'el'), ('y', 'no'), ('es', 'el'), ('más', 'que'), ('el', 'mar'), ('a', 'quien'), ('en', 'sus'), ('de', 'mis'), ('el', 'corazón'), ('el', 'que'), ('y', 'su'), ('es', 'la'), ('el', 'amor'), ('a', 'un'), ('en', 'vano'), ('al', 'fin'), ('con', 'que'), ('no', 'es'), ('los', 'ojos'), ('el', 'viento'), ('en', 'tus'), ('y', 'se'), ('mi', 'alma'), ('la', 'gloria'), ('que', 'le'), ('en', 'ti'), ('el', 'dolor'), ('mi', 'amor'), ('y', 'tu'), ('mi', 'corazón'), ('no', 'hay'), ('un', 'día'), ('amor', 'y'), ('el', 'tiempo'), ('del', 'cielo'), ('mi', 'vida'), ('y', 'del'), ('tus', 'ojos'), ('es', 'un'), ('con', 'sus'), ('la', 'que'), ('no', 'se'), ('del', 'mundo'), ('ni', 'el'), ('y', 'los'), ('y', 'es'), ('no', 'me'), ('y', 'mi'), ('de', 'Dios'), ('y', 'las'), ('que', 'tu'), ('Por', 'qué'), ('en', 'mis'), ('al', 'cielo'), ('que', 'con'), ('que', 'por'), ('con', 'tu'), ('y', 'sin'), ('y', 'un'), ('de', 'luz'), ('hasta', 'el'), ('a', 'sus'), ('la', 'sombra'), ('a', 'ti'), ('y', 'por'), ('a', 'tus'), ('luz', 'de'), ('que', 'su'), ('bajo', 'el'), ('sobre', 'la'), ('la', 'frente'), ('ha', 'de'), ('el', 'día'), ('como', 'una'), ('que', 'si'), ('la', 'mano'), ('la', 'tarde'), ('y', 'si'), ('entre', 'las'), ('la', 'voz'), ('el', 'pecho'), ('el', 'aire'), ('del', 'amor'), ('del', 'alma'), ('a', 'Dios'), ('las', 'flores'), ('la', 'esperanza'), ('el', 'suelo'), ('el', 'bien'), ('cuando', 'el'), ('en', 'mí'), ('que', 'un'), ('al', 'mundo'), ('al', 'que'), ('si', 'el'), ('y', 'me'), ('la', 'fe'), ('Y', 'en'), ('de', 'que'), ('no', 'te'), ('el', 'hombre'), ('si', 'en'), ('en', 'lo'), ('la', 'luna'), ('de', 'aquel'), ('que', 'mi'), ('del', 'sol'), ('por', 'qué'), ('tu', 'amor'), ('el', 'fuego'), ('mi', 'pecho'), ('por', 'los'), ('es', 'de'), ('En', 'la'), ('que', 'yo'), ('ya', 'no'), ('vida', 'y'), ('de', 'lo'), ('los', 'que'), ('que', 'del'), ('a', 'mis'), ('para', 'el'), ('de', 'ser'), ('como', 'la'), ('con', 'un'), ('entre', 'el'), ('su', 'luz'), ('de', 'mí'), ('si', 'no'), ('que', 'los'), ('con', 'las'), ('de', 'ti'), ('bien', 'que'), ('la', 'memoria'), ('En', 'el'), ('amor', 'que'), ('para', 'que'), ('en', 'tanto'), ('de', 'gloria'), ('todo', 'el'), ('mis', 'ojos'), ('de', 'este'), ('por', 'su'), ('que', 'ha'), ('el', 'agua'), ('De', 'la'), ('la', 'virtud'), ('la', 'aurora'), ('en', 'él'), ('y', 'te'), ('la', 'paz'), ('a', 'lo'), ('y', 'sus'), ('la', 'fama'), ('todos', 'los'), ('se', 'ha'), ('en', 'una'), ('que', 'ya'), ('el', 'llanto'), ('la', 'suerte'), ('a', 'mí'), ('en', 'ella'), ('a', 'una'), ('en', 'medio'), ('con', 'los'), ('es', 'tu'), ('tal', 'vez'), ('tu', 'nombre'), ('y', 'más'), ('flor', 'de'), ('sus', 'ojos'), ('por', 'las'), ('de', 'esta'), ('por', 'ti'), ('la', 'patria'), ('tu', 'frente'), ('y', 'yo'), ('otra', 'vez'), ('son', 'de'), ('y', 'lo'), ('tu', 'alma'), ('ante', 'el'), ('en', 'torno'), ('la', 'flor'), ('todo', 'lo'), ('luz', 'que'), ('si', 'es'), ('el', 'más'), ('y', 'aunque'), ('por', 'tu'), ('sol', 'que'), ('tú', 'que'), ('del', 'mar'), ('sé', 'que'), ('el', 'pensamiento'), ('como', 'en'), ('el', 'campo'), ('y', 'una'), ('sol', 'de'), ('sin', 'que'), ('gloria', 'y'), ('y', 'así'), ('que', 'nos'), ('la', 'rosa'), ('del', 'tiempo'), ('y', 'como'), ('del', 'día'), ('la', 'historia'), ('la', 'edad'), ('por', 'mi'), ('la', 'dulce'), ('su', 'vida'), ('que', 'nunca'), ('cielo', 'y'), ('en', 'este'), ('ya', 'de'), ('tu', 'mano'), ('No', 'es'), ('luz', 'del'), ('que', 'lo'), ('he', 'de'), ('de', 'fuego'), ('su', 'voz'), ('la', 'sangre'), ('flores', 'y'), ('desde', 'el'), ('al', 'viento'), ('tu', 'vida'), ('la', 'mañana'), ('el', 'camino'), ('es', 'que'), ('donde', 'el'), ('la', 'pena'), ('bajo', 'la'), ('del', 'dolor'), ('el', 'mal'), ('entre', 'la'), ('ya', 'que'), ('la', 'mente'), ('la', 'verdad'), ('con', 'mi'), ('del', 'que'), ('del', 'olvido'), ('alma', 'de'), ('Y', 'al'), ('los', 'hombres'), ('de', 'dolor'), ('los', 'cielos'), ('al', 'ver'), ('alma', 'mía'), ('que', 'fue'), ('que', 'las'), ('su', 'frente'), ('el', 'rostro'), ('a', 'ser'), ('no', 'le'), ('el', 'fruto'), ('voz', 'de'), ('no', 'más'), ('mi', 'dolor'), ('su', 'amor'), ('entre', 'los'), ('Dios', 'que'), ('el', 'vuelo'), ('la', 'cumbre'), ('la', 'mar'), ('que', 'os'), ('los', 'dos'), ('las', 'olas'), ('es', 'mi'), ('al', 'hombre'), ('la', 'fuente'), ('triste', 'y'), ('y', 'entre'), ('de', 'flores'), ('el', 'mismo'), ('la', 'llama'), ('y', 'aun'), ('toda', 'la'), ('es', 'su'), ('fin', 'de'), ('Y', 'si'), ('oro', 'y'), ('gloria', 'de'), ('ni', 'la'), ('si', 'la'), ('ha', 'sido'), ('dulce', 'y'), ('cuando', 'la'), ('ya', 'la'), ('es', 'más'), ('el', 'Sol'), ('cuando', 'en'), ('la', 'brisa'), ('la', 'gente'), ('el', 'rayo'), ('un', 'tiempo'), ('la', 'hermosura'), ('y', 'cuando'), ('luz', 'y'), ('tanto', 'que'), ('medio', 'de'), ('la', 'envidia'), ('Y', 'el'), ('la', 'razón'), ('vez', 'de'), ('un', 'alma'), ('después', 'de'), ('la', 'más'), ('aquel', 'que'), ('tu', 'voz'), ('no', 'la'), ('si', 'a'), ('como', 'a'), ('las', 'horas'), ('contra', 'el'), ('ya', 'en'), ('mar', 'de'), ('en', 'vez'), ('no', 'sé'), ('y', 'hoy'), ('la', 'mujer'), ('no', 'ha'), ('ni', 'en'), ('que', 'tú'), ('vida', 'que'), ('y', 'otro'), ('por', 'un'), ('el', 'oro'), ('corazón', 'de'), ('en', 'esta'), ('las', 'almas'), ('a', 'veces'), ('sombra', 'de'), ('la', 'faz'), ('mi', 'bien'), ('ser', 'de'), ('la', 'nieve'), ('la', 'vista'), ('todas', 'las'), ('vida', 'en'), ('pues', 'no'), ('no', 'lo'), ('amor', 'de'), ('que', 'hoy'), ('y', 'tú'), ('o', 'de'), ('al', 'alma'), ('que', 'una'), ('tu', 'corazón'), ('un', 'beso'), ('los', 'campos'), ('al', 'sol'), ('más', 'de'), ('junto', 'a'), ('hasta', 'la'), ('las', 'sombras'), ('sin', 'cesar'), ('de', 'amores'), ('dolor', 'y'), ('el', 'cuerpo'), ('y', 'tan'), ('la', 'victoria'), ('yo', 'te'), ('las', 'manos'), ('el', 'río'), ('amor', 'en'), ('la', 'mirada'), ('me', 'ha'), ('al', 'mar'), ('tras', 'la'), ('la', 'blanca'), ('por', 'más'), ('el', 'nombre'), ('si', 'de'), ('el', 'eco'), ('su', 'mano'), ('y', 'pura'), ('el', 'de'), ('tu', 'boca'), ('de', 'nuestra'), ('tiempo', 'que'), ('las', 'nubes'), ('la', 'ilusión'), ('las', 'ondas'), ('a', 'que'), ('Tú', 'que'), ('Mas', 'si'), ('la', 'divina'), ('la', 'dicha'), ('alma', 'que'), ('la', 'cabeza'), ('del', 'corazón'), ('tan', 'sólo'), ('mi', 'espíritu'), ('rayo', 'de'), ('la', 'nada'), ('tus', 'labios'), ('llena', 'de'), ('los', 'mares'), ('el', 'canto'), ('el', 'silencio'), ('cielo', 'de'), ('el', 'placer'), ('día', 'y'), ('de', 'España'), ('de', 'plata'), ('vida', 'de'), ('el', 'bosque'), ('ojos', 'y'), ('la', 'fortuna'), ('y', 'mis'), ('tu', 'hermosura'), ('porque', 'el'), ('de', 'nieve'), ('tus', 'pies'), ('alma', 'y'), ('ya', 'el'), ('yo', 'que'), ('en', 'todo'), ('el', 'dulce'), ('la', 'alegría'), ('un', 'mundo'), ('hacia', 'el'), ('de', 'alegría'), ('sangre', 'de'), ('tu', 'mirada'), ('el', 'gran'), ('que', 'siempre'), ('el', 'seno'), ('por', 'ser'), ('de', 'nuevo'), ('la', 'cruz'), ('amor', 'la'), ('la', 'tumba'), ('que', 'he'), ('campos', 'de'), ('lo', 'mismo'), ('allá', 'en'), ('y', 'le'), ('o', 'el'), ('a', 'todos'), ('tu', 'luz'), ('hasta', 'que'), ('pues', 'que'), ('es', 'una'), ('mi', 'frente'), ('Si', 'el'), ('la', 'montaña'), ('mi', 'mente'), ('y', 'ya'), ('mas', 'no'), ('que', 'está'), ('por', 'quien'), ('la', 'selva'), ('la', 'eterna'), ('de', 'quien'), ('los', 'astros'), ('los', 'años'), ('mi', 'ser'), ('dolor', 'que'), ('su', 'pecho'), ('el', 'olvido'), ('se', 'le'), ('la', 'pasión'), ('el', 'ave'), ('para', 'mí'), ('alma', 'en'), ('vida', 'el'), ('yo', 'no'), ('la', 'imagen'), ('las', 'cosas'), ('y', 'amor'), ('mundo', 'en'), ('del', 'viento'), ('noche', 'de'), ('A', 'la'), ('parece', 'que'), ('Y', 'así'), ('la', 'lira'), ('las', 'aguas'), ('el', 'fin'), ('la', 'Cruz'), ('de', 'sí'), ('color', 'de'), ('la', 'lucha'), ('en', 'fin'), ('de', 'repente'), ('sin', 'fin'), ('y', 'triste'), ('tu', 'pecho'), ('la', 'libertad'), ('oro', 'de'), ('mismo', 'que'), ('si', 'al'), ('el', 'monte'), ('uno', 'y'), ('que', 'son'), ('ojos', 'de'), ('el', 'azul'), ('sobre', 'las'), ('se', 'levanta'), ('la', 'Muerte'), ('azul', 'de'), ('para', 'siempre'), ('que', 'más'), ('el', 'pueblo'), ('lo', 'más'), ('lleno', 'de'), ('porque', 'en'), ('al', 'corazón'), ('al', 'pie'), ('un', 'gran'), ('el', 'sueño'), ('mujer', 'que'), ('la', 'hermosa'), ('la', 'herida'), ('un', 'corazón'), ('No', 'hay'), ('que', 'todo'), ('tus', 'manos'), ('al', 'son'), ('que', 'hay'), ('un', 'instante'), ('la', 'conciencia'), ('de', 'estrellas'), ('los', 'labios'), ('mundo', 'y'), ('tu', 'gloria'), ('el', 'alba'), ('su', 'muerte'), ('cuanto', 'más'), ('y', 'tus'), ('las', 'aves'), ('su', 'boca'), ('y', 'fuerte'), ('de', 'tal'), ('cual', 'la'), ('tierra', 'y'), ('en', 'donde'), ('una', 'vez'), ('las', 'estrellas'), ('voz', 'del'), ('frente', 'y'), ('horas', 'de'), ('Es', 'la'), ('su', 'cuerpo'), ('porque', 'es'), ('la', 'alta'), ('la', 'senda'), ('ver', 'que'), ('cielo', 'en'), ('las', 'rosas'), ('pura', 'y'), ('es', 'tan'), ('tu', 'memoria'), ('su', 'nombre'), ('de', 'sol'), ('sus', 'lágrimas'), ('del', 'mal'), ('que', 'aun'), ('de', 'vida'), ('el', 'alto'), ('la', 'ley'), ('ni', 'de'), ('una', 'mujer'), ('que', 'para'), ('de', 'muerte'), ('la', 'de'), ('el', 'mármol'), ('te', 'ha'), ('la', 'playa'), ('y', 'todo'), ('fulgor', 'de'), ('la', 'ciudad'), ('noche', 'y'), ('la', 'humana'), ('está', 'en'), ('el', 'otro'), ('tu', 'seno'), ('las', 'alas'), ('la', 'espada'), ('de', 'aquella'), ('fuego', 'y'), ('voz', 'que'), ('el', 'paso'), ('se', 'me'), ('tiempo', 'y'), ('que', 'aunque'), ('un', 'rayo'), ('su', 'hermosura'), ('fue', 'de'), ('en', 'pos'), ('corazón', 'que'), ('el', 'primer'), ('me', 'parece'), ('que', 'tiene'), ('de', 'todo'), ('ni', 'un'), ('la', 'existencia'), ('la', 'tormenta'), ('su', 'alma'), ('pena', 'y'), ('se', 'aleja'), ('por', 'fin'), ('vida', 'es'), ('su', 'gloria'), ('tu', 'cuerpo'), ('el', 'ser'), ('mal', 'que'), ('en', 'cada'), ('la', 'lluvia'), ('ay', 'que'), ('dolor', 'de'), ('la', 'ciencia'), ('el', 'ambiente'), ('Y', 'es'), ('Si', 'en'), ('con', 'tus'), ('noche', 'oscura'), ('fuego', 'que'), ('hay', 'en'), ('Mas', 'ay'), ('del', 'hombre'), ('pie', 'de'), ('la', 'calma'), ('el', 'triste'), ('eco', 'de'), ('Es', 'un'), ('la', 'belleza'), ('sobre', 'su'), ('de', 'mil'), ('Yo', 'soy'), ('soplo', 'de'), ('la', 'pradera'), ('sol', 'en'), ('mía', 'que'), ('corazón', 'y'), ('mundo', 'de'), ('un', 'hombre'), ('es', 'ya'), ('que', 'va'), ('el', 'orbe'), ('a', 'través'), ('ojos', 'que'), ('que', 'sólo'), ('día', 'que'), ('los', 'vientos'), ('sólo', 'el'), ('la', 'hora'), ('Yo', 'no'), ('mi', 'mal'), ('sus', 'labios'), ('mar', 'y'), ('ser', 'que'), ('todo', 'es'), ('el', 'abismo'), ('amor', 'es'), ('el', 'claro'), ('tan', 'grande'), ('desde', 'la'), ('y', 'hasta'), ('la', 'copa'), ('en', 'paz'), ('tu', 'rostro'), ('de', 'rosas'), ('la', 'altura'), ('para', 'ti'), ('Y', 'a'), ('cielo', 'que'), ('lejos', 'de'), ('la', 'armonía'), ('noches', 'de'), ('fuego', 'de'), ('día', 'en'), ('la', 'palma'), ('Y', 'cuando'), ('donde', 'la'), ('mi', 'pensamiento'), ('qué', 'me'), ('un', 'momento'), ('el', 'arte'), ('la', 'negra'), ('ni', 'a'), ('la', 'corriente'), ('el', 'último'), ('la', 'fuerza'), ('o', 'en'), ('del', 'Sol'), ('por', 'lo'), ('la', 'tristeza'), ('de', 'Madrid'), ('la', 'fiera'), ('el', 'manto'), ('el', 'Cielo'), ('En', 'vano'), ('a', 'ver'), ('de', 'cristal'), ('al', 'suelo'), ('paz', 'y'), ('está', 'el'), ('Hoy', 'que'), ('en', 'flor'), ('no', 'puede'), ('que', 'sus'), ('tu', 'dulce'), ('tú', 'eres'), ('que', 'hace'), ('azul', 'del'), ('la', 'madre'), ('Dios', 'y'), ('sus', 'rayos'), ('tu', 'muerte'), ('el', 'destino'), ('un', 'solo'), ('he', 'visto'), ('que', 'era'), ('mi', 'pena'), ('siempre', 'en'), ('una', 'estrella'), ('no', 'en'), ('del', 'bien'), ('y', 'fría'), ('como', 'tú'), ('beso', 'de'), ('los', 'brazos'), ('imagen', 'de'), ('través', 'de'), ('Cuando', 'en'), ('cuando', 'a'), ('que', 'tanto'), ('lo', 'lejos'), ('y', 'frío'), ('tu', 'belleza'), ('la', 'niebla'), ('lágrimas', 'el'), ('sueños', 'de'), ('han', 'de'), ('al', 'amor'), ('su', 'mirada'), ('muerte', 'y'), ('la', 'orilla'), ('del', 'suelo'), ('día', 'de'), ('la', 'idea'), ('una', 'flor'), ('de', 'paz'), ('del', 'camino'), ('has', 'de'), ('mis', 'males'), ('de', 'sangre'), ('en', 'tan'), ('de', 'nuestro'), ('en', 'vida'), ('sol', 'y'), ('llama', 'que'), ('al', 'aire'), ('del', 'destino'), ('ya', 'se'), ('sólo', 'en'), ('qué', 'no'), ('vez', 'en'), ('hermosura', 'y'), ('la', 'mía'), ('fe', 'de'), ('en', 'quien'), ('la', 'ribera'), ('seno', 'de'), ('mi', 'suerte'), ('no', 'puedo'), ('con', 'ella'), ('De', 'tu'), ('son', 'los'), ('cuando', 'al'), ('de', 'todos'), ('como', 'si'), ('alma', 'del'), ('que', 'sin'), ('el', 'templo'), ('de', 'tan'), ('quien', 'el'), ('vida', 'la'), ('Los', 'campos'), ('aquí', 'sus'), ('hermosa', 'y'), ('con', 'amor'), ('pesar', 'de'), ('y', 'ella'), ('a', 'vos'), ('un', 'cielo'), ('el', 'desierto'), ('da', 'la'), ('ante', 'la'), ('a', 'pesar'), ('los', 'amores'), ('Y', 'de'), ('los', 'mortales'), ('mi', 'ventura'), ('eres', 'la'), ('fuerza', 'de'), ('por', 'eso'), ('viento', 'y'), ('Sobre', 'el'), ('mi', 'triste'), ('Mas', 'no'), ('mí', 'que'), ('las', 'dos'), ('No', 'te'), ('la', 'ambición'), ('al', 'morir'), ('la', 'espuma'), ('mano', 'que'), ('de', 'vos'), ('y', 'mil'), ('es', 'del'), ('cual', 'si'), ('mis', 'versos'), ('mi', 'llanto'), ('bien', 'de'), ('un', 'soneto'), ('el', 'cristal'), ('el', 'velo'), ('vuelve', 'a'), ('Dios', 'en'), ('siempre', 'el'), ('sol', 'la'), ('Madrid', 'Isidro'), ('Isidro', 'santo'), ('sembrando', 'aquí'), ('el', 'recuerdo'), ('si', 'me'), ('al', 'punto'), ('la', 'guerra'), ('por', 'siempre'), ('suelo', 'y'), ('el', 'pobre'), ('su', 'memoria'), ('Y', 'la'), ('el', 'peso'), ('que', 'hasta'), ('mi', 'pasión'), ('en', 'llanto'), ('la', 'arena'), ('que', 'da'), ('y', 'él'), ('un', 'sol'), ('amor', 'el'), ('nuestra', 'vida'), ('el', 'sentimiento'), ('ti', 'se'), ('con', 'él'), ('llama', 'de'), ('su', 'faz'), ('al', 'verte'), ('gracia', 'y'), ('Dios', 'el'), ('la', 'primera'), ('su', 'fama'), ('de', 'ver'), ('rosa', 'que'), ('Ya', 'no'), ('de', 'ella'), ('mas', 'si'), ('de', 'pasión'), ('te', 'adoro'), ('de', 'él'), ('manos', 'de'), ('y', 'sobre'), ('que', 'ayer'), ('tiene', 'el'), ('que', 'amor'), ('Es', 'el'), ('la', 'mayor'), ('por', 'no'), ('el', 'uno'), ('se', 'estremece'), ('los', 'pies'), ('el', 'ocaso'), ('medio', 'del'), ('su', 'seno'), ('un', 'nuevo'), ('de', 'rosa'), ('Y', 'no'), ('la', 'triste'), ('que', 'ni'), ('el', 'ánimo'), ('por', 'tus'), ('En', 'su'), ('el', 'fulgor'), ('Que', 'si'), ('los', 'montes'), ('porque', 'no'), ('memoria', 'de'), ('de', 'placer'), ('de', 'Cristo'), ('la', 'misma'), ('flores', 'de'), ('rosas', 'de'), ('y', 'sólo'), ('en', 'tal'), ('el', 'árbol'), ('y', 'gloria'), ('de', 'esa'), ('oh', 'Dios'), ('mi', 'tormento'), ('vida', 'a'), ('donde', 'se'), ('hay', 'que'), ('el', 'valor'), ('las', 'penas'), ('el', 'polvo'), ('no', 'pudo'), ('lecho', 'de'), ('que', 'como'), ('el', 'pie'), ('mi', 'fe'), ('a', 'todo'), ('Y', 'aunque'), ('el', 'aura'), ('mi', 'esperanza'), ('con', 'mis'), ('en', 'esa'), ('tus', 'brazos'), ('que', 'jamás'), ('tú', 'de'), ('sombras', 'de'), ('En', 'mi'), ('flores', 'que'), ('el', 'resplandor'), ('su', 'dolor'), ('mi', 'patria'), ('honor', 'de'), ('Cuando', 'la'), ('el', 'genio'), ('amor', 'no'), ('la', 'grandeza'), ('amor', 'a')]\n"
     ]
    }
   ],
   "source": [
    "# unigram and bigrams (just to check these out)\n",
    "unigrams, bigrams = features.get_top_n_vocab(df_train['content'], n=1000)\n",
    "print(unigrams)\n",
    "print(bigrams)"
   ]
  },
  {
   "cell_type": "code",
   "execution_count": 6,
   "id": "a184f396",
   "metadata": {},
   "outputs": [],
   "source": [
    "reload(features);"
   ]
  },
  {
   "cell_type": "code",
   "execution_count": 7,
   "id": "62608e9f",
   "metadata": {},
   "outputs": [
    {
     "name": "stdout",
     "output_type": "stream",
     "text": [
      "[0.05587386179678166, 0.04540117580298977, 0.03505193577252949, 0.0, 0.035710187749836704, 0.0, 0.056748814600631324, 0.08567288074130701, 0.0, 0.0, 0.0, 0.017211359268207133, 0.03758998888846697, 0.0, 0.0, 0.01878942459260385, 0.0, 0.019408091580174487, 0.0, 0.0647836069866747, 0.0, 0.0, 0.0, 0.0, 0.0, 0.0, 0.026732140806831985, 0.024325184574338226, 0.0, 0.02721688907631491, 0.0, 0.0, 0.0, 0.0, 0.0, 0.0, 0.0, 0.0, 0.0, 0.0, 0.031098973617305996, 0.09413712696379502, 0.0, 0.0, 0.0, 0.0, 0.0, 0.0, 0.03339987840154423, 0.0, 0.0, 0.0, 0.0, 0.0, 0.0, 0.0, 0.0, 0.0, 0.0, 0.0, 0.0, 0.0, 0.0, 0.03500801539584153, 0.0, 0.0, 0.0, 0.0, 0.0, 0.0, 0.0, 0.0, 0.0, 0.0, 0.0, 0.0, 0.0, 0.0, 0.0, 0.0, 0.0, 0.0, 0.0, 0.0, 0.07538057352884027, 0.0, 0.0, 0.0, 0.0, 0.0, 0.0, 0.0, 0.0, 0.0, 0.0, 0.0, 0.0, 0.0, 0.0, 0.0, 0.0, 0.0, 0.0356453353876878, 0.0, 0.0, 0.0, 0.0, 0.0, 0.0, 0.0, 0.0, 0.0, 0.0, 0.0, 0.0, 0.04049464134246054, 0.0, 0.07971482956867057, 0.0, 0.0, 0.0, 0.0, 0.0, 0.0, 0.0, 0.0, 0.0, 0.0, 0.0, 0.0, 0.0, 0.0, 0.0, 0.0, 0.0, 0.0, 0.0, 0.0, 0.0, 0.0, 0.0, 0.0, 0.0, 0.0, 0.0, 0.0, 0.0, 0.0, 0.0, 0.0, 0.0, 0.0, 0.0, 0.0, 0.0, 0.0, 0.0, 0.0, 0.0, 0.0, 0.0, 0.0, 0.0, 0.0, 0.0, 0.04451902909403447, 0.0, 0.0, 0.0, 0.0, 0.0, 0.0, 0.0, 0.0, 0.0, 0.0, 0.0, 0.0, 0.0, 0.0, 0.0, 0.0, 0.0, 0.0, 0.0, 0.0, 0.0, 0.0, 0.0, 0.0, 0.0, 0.0, 0.0, 0.0, 0.0, 0.0, 0.0, 0.0, 0.0, 0.0, 0.0, 0.0, 0.0, 0.0, 0.0, 0.0, 0.0, 0.04697424138895931, 0.0, 0.0, 0.0, 0.0, 0.0, 0.0, 0.0, 0.0, 0.0, 0.0, 0.0, 0.0, 0.0, 0.0, 0.0, 0.0, 0.0, 0.0, 0.0, 0.0, 0.0, 0.0, 0.047430373987861825, 0.0, 0.0, 0.0, 0.0, 0.0, 0.0, 0.0, 0.0, 0.0, 0.0, 0.0, 0.0, 0.0, 0.0, 0.0, 0.0, 0.0, 0.0, 0.0, 0.0, 0.0, 0.0, 0.0, 0.0, 0.0, 0.0, 0.0, 0.0, 0.0, 0.0, 0.0, 0.0, 0.0, 0.0, 0.0, 0.0, 0.0, 0.0, 0.0, 0.0, 0.0, 0.0, 0.0, 0.0, 0.0, 0.0, 0.0, 0.0, 0.0, 0.0, 0.0, 0.0, 0.04857559698414254, 0.0, 0.0, 0.0, 0.0, 0.0, 0.0, 0.0, 0.0, 0.0, 0.0, 0.0, 0.0, 0.0, 0.0, 0.0, 0.0, 0.0, 0.0, 0.0, 0.0, 0.05025114785183014, 0.0, 0.0, 0.0, 0.0, 0.0, 0.0, 0.0, 0.0, 0.0, 0.0, 0.0, 0.0, 0.0, 0.0, 0.0, 0.0, 0.0, 0.0, 0.0, 0.0, 0.0, 0.0, 0.0, 0.0, 0.0, 0.0, 0.0, 0.0, 0.0, 0.0, 0.0, 0.0, 0.0, 0.0, 0.0, 0.0, 0.0, 0.0, 0.0, 0.0, 0.0, 0.0, 0.0, 0.0, 0.0, 0.0, 0.0, 0.0, 0.0, 0.0, 0.0, 0.051418759249882706, 0.0, 0.0, 0.0, 0.0, 0.0, 0.0, 0.0, 0.0, 0.0, 0.0, 0.0, 0.0, 0.0, 0.0, 0.0, 0.0, 0.0, 0.0, 0.0, 0.0, 0.0, 0.0, 0.0, 0.0, 0.0, 0.0, 0.0, 0.0, 0.0, 0.0, 0.0, 0.0, 0.0, 0.0, 0.0, 0.0, 0.0, 0.0, 0.0, 0.0, 0.0, 0.05211279698886676, 0.0, 0.0, 0.0, 0.0, 0.0, 0.0, 0.0, 0.0, 0.0, 0.0, 0.0, 0.0, 0.0, 0.0, 0.0, 0.0, 0.051994002743951655, 0.0, 0.0, 0.0, 0.0, 0.0, 0.0, 0.0, 0.0, 0.0, 0.0, 0.0, 0.0, 0.0, 0.0, 0.0, 0.0, 0.0, 0.0, 0.0, 0.0, 0.0, 0.0, 0.0, 0.0, 0.0, 0.0, 0.0, 0.0, 0.0, 0.0, 0.0, 0.0, 0.0, 0.0, 0.0, 0.0, 0.0, 0.0, 0.0, 0.0, 0.0, 0.0, 0.0, 0.0, 0.0, 0.0, 0.0, 0.0, 0.0, 0.0, 0.0, 0.0, 0.0, 0.0, 0.05351315429150772, 0.0, 0.0, 0.0, 0.0, 0.0, 0.0, 0.0, 0.0, 0.0, 0.0, 0.0, 0.0, 0.0, 0.0, 0.0, 0.0, 0.0, 0.0, 0.0, 0.0, 0.0, 0.0, 0.0, 0.0, 0.0, 0.0, 0.0, 0.0, 0.0, 0.0, 0.0, 0.0, 0.0, 0.0, 0.0, 0.0, 0.0, 0.0, 0.0, 0.0, 0.0, 0.0, 0.0, 0.0, 0.0, 0.0, 0.0, 0.0, 0.0, 0.0, 0.0, 0.0, 0.0, 0.0, 0.0, 0.0, 0.0, 0.054964582472209055, 0.0, 0.0, 0.0, 0.0, 0.0, 0.0, 0.0, 0.0, 0.0, 0.0, 0.0, 0.0, 0.0, 0.0, 0.0, 0.05465837728778844, 0.0, 0.0, 0.0, 0.0, 0.0, 0.0, 0.0, 0.0, 0.0, 0.0, 0.0, 0.0, 0.05593862767535783, 0.0, 0.0, 0.0, 0.0, 0.0, 0.0, 0.0, 0.0, 0.0, 0.0, 0.0, 0.0, 0.0, 0.0, 0.0, 0.0, 0.0, 0.0, 0.0, 0.0, 0.0, 0.0, 0.0, 0.0, 0.0, 0.0, 0.0, 0.0, 0.0, 0.0, 0.0, 0.0, 0.0, 0.0, 0.0, 0.0, 0.0, 0.0, 0.0, 0.0, 0.0, 0.0, 0.0, 0.0, 0.0, 0.0, 0.0, 0.0, 0.0, 0.0, 0.0, 0.0, 0.0, 0.0, 0.0, 0.0, 0.0, 0.0, 0.0, 0.0, 0.0, 0.0, 0.0, 0.0, 0.0, 0.0, 0.0, 0.0, 0.0, 0.0, 0.0, 0.0, 0.0, 0.0, 0.0, 0.0, 0.0, 0.11401725693361245, 0.05337812690021905, 0.0, 0.0, 0.0, 0.0, 0.0, 0.0, 0.0, 0.0, 0.0, 0.0, 0.0, 0.0, 0.0, 0.0, 0.0, 0.0, 0.0, 0.0, 0.0, 0.0, 0.0, 0.0, 0.0, 0.0, 0.0, 0.0, 0.0, 0.0, 0.0, 0.0, 0.0, 0.0, 0.0, 0.0, 0.0, 0.0, 0.0, 0.0, 0.0, 0.0, 0.0, 0.0, 0.0, 0.0, 0.0, 0.0, 0.0, 0.0, 0.0, 0.0, 0.0, 0.0, 0.0, 0.0, 0.0, 0.0, 0.0, 0.0, 0.0, 0.0, 0.0, 0.0, 0.0, 0.0, 0.0, 0.0, 0.0, 0.0, 0.0, 0.0, 0.0, 0.0, 0.0, 0.0, 0.0, 0.0, 0.0, 0.0, 0.0, 0.0, 0.0, 0.0, 0.0, 0.0, 0.0, 0.0, 0.0, 0.0, 0.0, 0.0, 0.0, 0.0, 0.0, 0.0, 0.0, 0.0, 0.0, 0.0, 0.0, 0.0, 0.0, 0.0, 0.0, 0.0, 0.0, 0.0, 0.0, 0.0, 0.0, 0.0, 0.0, 0.0, 0.0, 0.0, 0.0, 0.0, 0.0, 0.0, 0.0, 0.0, 0.0, 0.0, 0.0, 0.0, 0.0, 0.0, 0.0, 0.0, 0.0, 0.0, 0.0, 0.0, 0.0, 0.0, 0.0, 0.0, 0.0, 0.0, 0.0, 0.0, 0.0, 0.0, 0.0, 0.0, 0.0, 0.0, 0.0, 0.0, 0.0, 0.0, 0.0, 0.0, 0.0, 0.0, 0.0, 0.0, 0.0, 0.0, 0.0, 0.0, 0.0, 0.0, 0.0, 0.0, 0.0, 0.0, 0.0, 0.0, 0.0, 0.0, 0.0, 0.0, 0.0, 0.0, 0.0, 0.0, 0.0, 0.0, 0.0, 0.0, 0.0, 0.0, 0.0, 0.0, 0.0, 0.0, 0.0, 0.0, 0.0, 0.0, 0.0, 0.0, 0.0, 0.0, 0.0, 0.0, 0.0, 0.0, 0.0, 0.0, 0.0, 0.0, 0.0, 0.0, 0.0, 0.0, 0.0, 0.0, 0.0, 0.0, 0.0, 0.0, 0.0, 0.0, 0.0, 0.0, 0.0, 0.0, 0.0, 0.0, 0.0, 0.0, 0.0, 0.0, 0.0, 0.0, 0.0, 0.0, 0.0, 0.0, 0.0, 0.0, 0.0, 0.0, 0.0, 0.0, 0.0, 0.0, 0.0, 0.0, 0.0, 0.0, 0.0, 0.0, 0.0, 0.0, 0.0, 0.0, 0.0, 0.0, 0.0, 0.0, 0.0, 0.0, 0.0, 0.0, 0.0, 0.0, 0.0, 0.0, 0.0, 0.0, 0.0, 0.0, 0.0, 0.0, 0.0, 0.0, 0.0, 0.0, 0.0, 0.0, 0.0, 0.0, 0.0, 0.0, 0.0, 0.0, 0.0, 0.0, 0.0, 0.0, 0.0, 0.0, 0.0, 0.0, 0.0, 0.0, 0.0, 0.0, 0.06026126862825032, 0.0, 0.0, 0.0, 0.0, 0.0, 0.0, 0.0, 0.0, 0.0, 0.0, 0.0, 0.0, 0.0, 0.0, 0.0, 0.0, 0.0, 0.0, 0.0, 0.0, 0.0, 0.0, 0.0, 0.0, 0.0, 0.0, 0.0, 0.0, 0.06077896481291613, 0.0, 0.0, 0.0, 0.0, 0.0, 0.0, 0.0, 0.0, 0.0, 0.0, 0.0, 0.0, 0.0, 0.0, 0.0, 0.0, 0.0, 0.0, 0.0, 0.0, 0.0, 0.0, 0.0, 0.0, 0.0, 0.0, 0.0, 0.0, 0.0, 0.0, 0.0, 0.0, 0.0, 0.0, 0.0, 0.0, 0.0, 0.0, 0.0, 0.0, 0.0, 0.0, 0.0, 0.021417109372987294, 0.0, 0.0, 0.0, 0.0, 0.0, 0.0, 0.0, 0.0, 0.0, 0.0, 0.0, 0.0, 0.0, 0.06952086645945574, 0.0, 0.0, 0.0, 0.0, 0.0, 0.03788245796713333, 0.0, 0.0, 0.0, 0.0, 0.0, 0.0, 0.04010159361178835, 0.0, 0.0, 0.0, 0.0, 0.0, 0.0, 0.0, 0.0, 0.0, 0.0, 0.0, 0.0, 0.0, 0.0, 0.0, 0.0, 0.0, 0.0, 0.0, 0.04268903110132205, 0.0, 0.0, 0.0, 0.0, 0.0, 0.0, 0.0, 0.0, 0.0, 0.0, 0.0, 0.0, 0.0, 0.0, 0.0, 0.0, 0.0, 0.0, 0.0, 0.0, 0.04634769773912317, 0.0, 0.0, 0.0, 0.0, 0.0, 0.0, 0.0, 0.0, 0.0, 0.0, 0.0, 0.0, 0.0, 0.0, 0.0, 0.0, 0.0, 0.0, 0.0, 0.0, 0.0, 0.0, 0.0, 0.0, 0.0, 0.0, 0.0, 0.0, 0.0, 0.0, 0.0, 0.0, 0.0, 0.0, 0.0, 0.0, 0.0, 0.0, 0.0, 0.0, 0.0, 0.0, 0.0, 0.0, 0.0, 0.0, 0.0, 0.0, 0.0, 0.0, 0.0, 0.0, 0.0, 0.0, 0.0, 0.0, 0.0, 0.0, 0.0, 0.0, 0.0, 0.0, 0.0, 0.0, 0.0, 0.0, 0.0, 0.0, 0.0, 0.0, 0.0, 0.0, 0.0, 0.0, 0.0, 0.0, 0.0, 0.0, 0.0, 0.0, 0.0, 0.0, 0.0, 0.0, 0.0, 0.0, 0.0, 0.0, 0.0, 0.0, 0.0, 0.0, 0.0, 0.0, 0.0, 0.0, 0.0, 0.0, 0.0, 0.0, 0.0, 0.0, 0.0, 0.0, 0.0, 0.0, 0.0, 0.0, 0.0, 0.0, 0.0, 0.0, 0.0, 0.0, 0.0, 0.0, 0.0, 0.0, 0.0, 0.0, 0.0, 0.0, 0.0, 0.0, 0.0, 0.0, 0.0, 0.0, 0.0, 0.0, 0.0, 0.0, 0.0, 0.0, 0.0, 0.0, 0.0, 0.0, 0.0, 0.0, 0.0, 0.0, 0.0, 0.0, 0.0, 0.0, 0.0, 0.0, 0.0, 0.0, 0.0, 0.0, 0.0, 0.0, 0.0, 0.0, 0.0, 0.0, 0.0, 0.0, 0.0, 0.0, 0.0, 0.0, 0.0, 0.0, 0.0, 0.0, 0.0, 0.0, 0.0, 0.0, 0.0, 0.0, 0.0, 0.0, 0.0, 0.0, 0.0, 0.0, 0.0, 0.0, 0.05466487350776112, 0.0, 0.0, 0.0, 0.0, 0.0, 0.0, 0.0, 0.0, 0.0, 0.0, 0.0, 0.0, 0.05343500629672831, 0.0, 0.0, 0.0, 0.0, 0.0, 0.0, 0.0, 0.0, 0.0, 0.0, 0.0, 0.0, 0.0, 0.0, 0.0, 0.0, 0.0, 0.0, 0.0, 0.0, 0.0, 0.0, 0.0, 0.0, 0.0, 0.0, 0.0, 0.0, 0.0, 0.0, 0.0, 0.0, 0.0, 0.0, 0.0, 0.0, 0.0, 0.0, 0.0, 0.0, 0.0, 0.0, 0.0, 0.0, 0.0, 0.0, 0.0, 0.0, 0.0, 0.0, 0.0, 0.0, 0.0, 0.0, 0.0, 0.0, 0.0, 0.0, 0.0, 0.0, 0.0, 0.0, 0.0, 0.0, 0.0, 0.0, 0.0, 0.0, 0.0, 0.0, 0.0, 0.0, 0.0, 0.0, 0.0, 0.0, 0.0, 0.0, 0.0, 0.0, 0.0, 0.0, 0.0, 0.0, 0.0, 0.0, 0.0, 0.0, 0.0, 0.0, 0.0, 0.0, 0.0, 0.0, 0.0, 0.0, 0.0, 0.0, 0.0, 0.0, 0.0, 0.0, 0.0, 0.0, 0.0, 0.0, 0.0, 0.0, 0.0, 0.0, 0.0, 0.0, 0.0, 0.0, 0.0, 0.0, 0.0, 0.05948809375145018, 0.0, 0.0, 0.0, 0.0, 0.0, 0.0, 0.0, 0.0, 0.0, 0.0, 0.0, 0.0, 0.0, 0.0, 0.0, 0.0, 0.06144686552514598, 0.0, 0.0, 0.0, 0.0, 0.0, 0.0, 0.0, 0.0, 0.0, 0.06144686552514598, 0.0, 0.0, 0.0, 0.0, 0.0, 0.0, 0.0, 0.0, 0.0, 0.0, 0.061996430586406, 0.0, 0.0, 0.0, 0.0, 0.0, 0.0, 0.0, 0.0, 0.0, 0.0, 0.0, 0.0, 0.0, 0.0, 0.0, 0.0, 0.060182367395642825, 0.0, 0.0, 0.0, 0.0, 0.0, 0.0, 0.0, 0.0, 0.0, 0.0, 0.0, 0.0, 0.0, 0.0, 0.0, 0.0, 0.0, 0.0, 0.0, 0.0, 0.0, 0.0, 0.0, 0.0, 0.0, 0.0, 0.0, 0.0, 0.0, 0.0, 0.0, 0.0, 0.0, 0.0, 0.0, 0.0, 0.0, 0.0, 0.0, 0.0, 0.0, 0.0, 0.0, 0.0, 0.0, 0.0, 0.0, 0.0, 0.0, 0.0, 0.0, 0.0, 0.0, 0.0, 0.0, 0.0, 0.0, 0.0, 0.0, 0.0, 0.0, 0.0, 0.0, 0.0, 0.0, 0.0, 0.06318559085717779, 0.0, 0.0, 0.0, 0.0, 0.0, 0.0, 0.0, 0.0, 0.0, 0.0, 0.0, 0.0, 0.0, 0.0, 0.0, 0.0, 0.0, 0.0, 0.0, 0.0, 0.0, 0.0, 0.0, 0.0, 0.0, 0.0, 0.0, 0.0, 0.0, 0.0, 0.0, 0.0, 0.0, 0.0, 0.0, 0.0, 0.0, 0.0, 0.0, 0.0, 0.0, 0.0, 0.0, 0.0, 0.0, 0.0, 0.0, 0.0, 0.0, 0.0, 0.0, 0.0, 0.0, 0.0, 0.0, 0.0, 0.0, 0.0, 0.0, 0.0, 0.0, 0.0, 0.0, 0.0, 0.0, 0.0, 0.0, 0.0, 0.0, 0.0, 0.0, 0.0, 0.0, 0.0, 0.0, 0.0, 0.0, 0.0, 0.0, 0.0, 0.0, 0.0, 0.0, 0.0, 0.0, 0.0, 0.0, 0.0, 0.0, 0.0, 0.0, 0.0, 0.0, 0.0, 0.0, 0.0, 0.0, 0.0, 0.0, 0.0, 0.0, 0.0, 0.0, 0.0, 0.0, 0.0, 0.0, 0.0, 0.0, 0.0, 0.0, 0.0, 0.0, 0.0, 0.0, 0.0, 0.0, 0.0, 0.0, 0.0, 0.0, 0.0, 0.0, 0.0, 0.0, 0.0, 0.0, 0.0, 0.0, 0.0, 0.0, 0.0, 0.0, 0.0, 0.0, 0.0, 0.0, 0.0, 0.0, 0.0, 0.0, 0.0, 0.0, 0.0, 0.0, 0.0, 0.0, 0.0, 0.0, 0.0, 0.0, 0.0, 0.0, 0.0, 0.0, 0.0, 0.0, 0.0, 0.0, 0.0, 0.0, 0.0, 0.0, 0.0, 0.0, 0.0, 0.0, 0.0, 0.0, 0.0, 0.0, 0.0, 0.0, 0.0, 0.0, 0.0, 0.0, 0.0, 0.0, 0.0, 0.0, 0.0, 0.0, 0.0, 0.0, 0.0, 0.0, 0.0, 0.0, 0.0, 0.0, 0.0, 0.0, 0.0, 0.0, 0.0, 0.0, 0.0, 0.0, 0.0, 0.0, 0.0, 0.0, 0.0, 0.0, 0.0, 0.0, 0.0, 0.0, 0.0, 0.0, 0.0, 0.0, 0.0, 0.0, 0.0, 0.0, 0.0, 0.0, 0.0, 0.0, 0.0, 0.0, 0.0, 0.0, 0.0, 0.0, 0.0, 0.0, 0.0, 0.0, 0.0, 0.0, 0.0, 0.0, 0.0, 0.0, 0.0, 0.0, 0.0, 0.0, 0.0, 0.0, 0.0, 0.0, 0.0, 0.0, 0.0, 0.0, 0.0, 0.0, 0.0, 0.0, 0.0, 0.0, 0.0, 0.0, 0.0, 0.0, 0.0, 0.0, 0.0, 0.0, 0.0, 0.0, 0.0, 0.0, 0.0, 0.0, 0.0, 0.0, 0.0, 0.0, 0.0, 0.0, 0.0, 0.0, 0.0, 0.0, 0.0, 0.0, 0.0, 0.0, 0.0, 0.0, 0.0, 0.0, 0.0, 0.0, 0.0, 0.0, 0.0, 0.0, 0.0, 0.0, 0.0, 0.0, 0.0, 0.0, 0.0, 0.0, 0.0, 0.0, 0.0, 0.0, 0.0, 0.0, 0.0, 0.0, 0.0, 0.0, 0.0, 0.0, 0.0, 0.0, 0.0, 0.0, 0.0, 0.0, 0.0, 0.0, 0.0, 0.0, 0.0, 0.0, 0.0, 0.0, 0.0, 0.0, 0.0, 0.0, 0.0, 0.0, 0.0, 0.0, 0.0, 0.0, 0.0, 0.0, 0.0, 0.0, 0.0, 0.0, 0.0, 0.0, 0.0, 0.0, 0.0, 0.0, 0.0, 0.0, 0.0, 0.0, 0.0, 0.0, 0.0, 0.0, 0.0, 0.0, 0.0, 0.0, 0.0, 0.0, 0.0, 0.0, 0.0, 0.0, 0.0, 0.0, 0.0, 0.0, 0.0, 0.0, 0.0, 0.0, 0.0, 0.0, 0.0, 0.0, 0.0, 0.0, 0.0, 0.0, 0.0, 0.0, 0.0, 0.0, 0.0, 0.0, 0.0, 0.0, 0.0, 0.0, 0.0, 0.0, 0.0, 0.0, 0.0, 0.0, 0.0, 0.0, 0.0, 0.0, 0.0, 0.0, 0.0, 0.0, 0.0, 0.0, 0.0, 0.0, 0.0, 0.0, 0.0, 0.0, 0.0, 0.0, 0.0, 0.0, 0.0, 0.0, 0.0, 0.0, 0.0, 0.0, 0.0, 0.0, 0.0, 0.0, 0.0, 0.0, 0.0, 0.0, 0.0, 0.0, 0.0, 0.0, 0.0, 0.0, 0.0, 0.0, 0.0, 0.0, 0.0, 0.0, 0.0, 0.0, 0.0, 0.0, 0.0, 0.0, 0.0, 0.0, 0.0, 0.0, 0.0, 0.0, 0.0, 0.0, 0.0, 0.0, 0.0, 0.0, 0.0, 0.0, 0.0, 0.0, 0.0, 0.0, 0.0, 0.0, 0.0, 0.0, 0.0, 0.0, 0.0, 0.0, 0.0, 0.0, 0.0, 0.0, 0.0, 0.0, 0.0, 0.0, 0.0, 0.0, 0.0, 0.0, 0.0, 0.0, 0.0, 0.0, 0.0, 0.0]\n"
     ]
    }
   ],
   "source": [
    "out_vect, uni_vocab, bi_vocab, tf_uni, tf_bi, idf_uni, idf_bi = features.get_tfidf_vocab(df_train['content'], n = 1000)\n",
    "input = torch.Tensor(out_vect)\n",
    "print(out_vect[0])"
   ]
  },
  {
   "cell_type": "code",
   "execution_count": 8,
   "id": "b4aac4fb",
   "metadata": {},
   "outputs": [
    {
     "data": {
      "text/plain": [
       "'\\ninput = []\\ncounter = 0\\ntotal = df_train.count()[\\'content\\']\\nremove = []\\nfor text in df_train[\\'content\\']:\\n    bow = features.text_to_bag_of_words(text, unigrams, bigrams)\\n    try:\\n        prosodic = features.features_for_sonnet(text).values()\\n    except Exception as e:\\n        # just throw the row away\\n        print(f\"Error occurred: {e}\")\\n        remove.append(text)\\n        continue\\n    input.append(list(bow) + list(prosodic))\\n    if counter % 1000 == 0:\\n        print(f\"Constructing feature vector {counter}/{total}\")\\n    counter += 1\\nfor text in remove: # get rid of bad input\\n    df_train = df_train[df_train[\\'content\\'] != text]\\n'"
      ]
     },
     "execution_count": 8,
     "metadata": {},
     "output_type": "execute_result"
    }
   ],
   "source": [
    "# compute ngram and prosodic features\n",
    "# N x D\n",
    "\"\"\"\n",
    "input = []\n",
    "counter = 0\n",
    "total = df_train.count()['content']\n",
    "remove = []\n",
    "for text in df_train['content']:\n",
    "    bow = features.text_to_bag_of_words(text, unigrams, bigrams)\n",
    "    try:\n",
    "        prosodic = features.features_for_sonnet(text).values()\n",
    "    except Exception as e:\n",
    "        # just throw the row away\n",
    "        print(f\"Error occurred: {e}\")\n",
    "        remove.append(text)\n",
    "        continue\n",
    "    input.append(list(bow) + list(prosodic))\n",
    "    if counter % 1000 == 0:\n",
    "        print(f\"Constructing feature vector {counter}/{total}\")\n",
    "    counter += 1\n",
    "for text in remove: # get rid of bad input\n",
    "    df_train = df_train[df_train['content'] != text]\n",
    "\"\"\"\n"
   ]
  },
  {
   "cell_type": "code",
   "execution_count": 9,
   "id": "d241dade",
   "metadata": {},
   "outputs": [
    {
     "name": "stdout",
     "output_type": "stream",
     "text": [
      "torch.Size([4044, 2000])\n",
      "torch.Size([4044])\n"
     ]
    }
   ],
   "source": [
    "input_arr = torch.Tensor(input)\n",
    "\n",
    "label_arr = torch.Tensor(df_train['country-birth'].values)\n",
    "\n",
    "print(input_arr.shape)\n",
    "print(label_arr.shape)"
   ]
  },
  {
   "cell_type": "markdown",
   "id": "8c138f86",
   "metadata": {},
   "source": [
    "Create SVM model."
   ]
  },
  {
   "cell_type": "code",
   "execution_count": 10,
   "id": "e421f8a3",
   "metadata": {},
   "outputs": [],
   "source": [
    "reload(svm_classifier);"
   ]
  },
  {
   "cell_type": "code",
   "execution_count": 15,
   "id": "0a48c13e",
   "metadata": {},
   "outputs": [
    {
     "name": "stdout",
     "output_type": "stream",
     "text": [
      "Epoch 0: Hinge Loss is 22.136159896850586\n",
      "Train accuracy: 0.015\n",
      "Epoch 1: Hinge Loss is 20.62864112854004\n",
      "Train accuracy: 0.537\n",
      "Epoch 2: Hinge Loss is 19.12112045288086\n",
      "Train accuracy: 0.537\n",
      "Epoch 3: Hinge Loss is 17.613605499267578\n",
      "Train accuracy: 0.537\n",
      "Epoch 4: Hinge Loss is 16.106088638305664\n",
      "Train accuracy: 0.537\n",
      "Epoch 5: Hinge Loss is 14.598573684692383\n",
      "Train accuracy: 0.537\n",
      "Epoch 6: Hinge Loss is 13.091060638427734\n",
      "Train accuracy: 0.537\n",
      "Epoch 7: Hinge Loss is 11.583548545837402\n",
      "Train accuracy: 0.537\n",
      "Epoch 8: Hinge Loss is 10.086688995361328\n",
      "Train accuracy: 0.537\n",
      "Epoch 9: Hinge Loss is 9.544645309448242\n",
      "Train accuracy: 0.537\n",
      "Epoch 10: Hinge Loss is 9.434837341308594\n",
      "Train accuracy: 0.537\n",
      "Epoch 11: Hinge Loss is 9.32981014251709\n",
      "Train accuracy: 0.537\n",
      "Epoch 12: Hinge Loss is 9.225285530090332\n",
      "Train accuracy: 0.537\n",
      "Epoch 13: Hinge Loss is 9.120782852172852\n",
      "Train accuracy: 0.537\n",
      "Epoch 14: Hinge Loss is 9.01628589630127\n",
      "Train accuracy: 0.537\n",
      "Epoch 15: Hinge Loss is 8.911792755126953\n",
      "Train accuracy: 0.537\n",
      "Epoch 16: Hinge Loss is 8.807303428649902\n",
      "Train accuracy: 0.537\n",
      "Epoch 17: Hinge Loss is 8.702817916870117\n",
      "Train accuracy: 0.537\n",
      "Epoch 18: Hinge Loss is 8.598334312438965\n",
      "Train accuracy: 0.537\n",
      "Epoch 19: Hinge Loss is 8.493856430053711\n",
      "Train accuracy: 0.537\n",
      "Epoch 20: Hinge Loss is 8.389381408691406\n",
      "Train accuracy: 0.537\n",
      "Epoch 21: Hinge Loss is 8.284910202026367\n",
      "Train accuracy: 0.537\n",
      "Epoch 22: Hinge Loss is 8.180440902709961\n",
      "Train accuracy: 0.537\n",
      "Epoch 23: Hinge Loss is 8.075973510742188\n",
      "Train accuracy: 0.537\n",
      "Epoch 24: Hinge Loss is 7.971507549285889\n",
      "Train accuracy: 0.537\n",
      "Epoch 25: Hinge Loss is 7.867042541503906\n",
      "Train accuracy: 0.537\n",
      "Epoch 26: Hinge Loss is 7.762578010559082\n",
      "Train accuracy: 0.537\n",
      "Epoch 27: Hinge Loss is 7.658113479614258\n",
      "Train accuracy: 0.537\n",
      "Epoch 28: Hinge Loss is 7.553650379180908\n",
      "Train accuracy: 0.537\n",
      "Epoch 29: Hinge Loss is 7.450108051300049\n",
      "Train accuracy: 0.537\n",
      "Epoch 30: Hinge Loss is 7.3698601722717285\n",
      "Train accuracy: 0.537\n",
      "Epoch 31: Hinge Loss is 7.321194171905518\n",
      "Train accuracy: 0.537\n",
      "Epoch 32: Hinge Loss is 7.286774158477783\n",
      "Train accuracy: 0.537\n",
      "Epoch 33: Hinge Loss is 7.259535312652588\n",
      "Train accuracy: 0.537\n",
      "Epoch 34: Hinge Loss is 7.2375898361206055\n",
      "Train accuracy: 0.537\n",
      "Epoch 35: Hinge Loss is 7.217255592346191\n",
      "Train accuracy: 0.537\n",
      "Epoch 36: Hinge Loss is 7.197670936584473\n",
      "Train accuracy: 0.537\n",
      "Epoch 37: Hinge Loss is 7.178797721862793\n",
      "Train accuracy: 0.537\n",
      "Epoch 38: Hinge Loss is 7.16021203994751\n",
      "Train accuracy: 0.537\n",
      "Epoch 39: Hinge Loss is 7.141758918762207\n",
      "Train accuracy: 0.537\n",
      "Epoch 40: Hinge Loss is 7.123452663421631\n",
      "Train accuracy: 0.537\n",
      "Epoch 41: Hinge Loss is 7.105475425720215\n",
      "Train accuracy: 0.537\n",
      "Epoch 42: Hinge Loss is 7.087817668914795\n",
      "Train accuracy: 0.537\n",
      "Epoch 43: Hinge Loss is 7.0703654289245605\n",
      "Train accuracy: 0.537\n",
      "Epoch 44: Hinge Loss is 7.053017616271973\n",
      "Train accuracy: 0.537\n",
      "Epoch 45: Hinge Loss is 7.035716533660889\n",
      "Train accuracy: 0.537\n",
      "Epoch 46: Hinge Loss is 7.018444538116455\n",
      "Train accuracy: 0.537\n",
      "Epoch 47: Hinge Loss is 7.0011820793151855\n",
      "Train accuracy: 0.537\n",
      "Epoch 48: Hinge Loss is 6.9839277267456055\n",
      "Train accuracy: 0.537\n",
      "Epoch 49: Hinge Loss is 6.966677188873291\n",
      "Train accuracy: 0.537\n",
      "Epoch 50: Hinge Loss is 6.949428558349609\n",
      "Train accuracy: 0.537\n",
      "Epoch 51: Hinge Loss is 6.9321794509887695\n",
      "Train accuracy: 0.537\n",
      "Epoch 52: Hinge Loss is 6.91493558883667\n",
      "Train accuracy: 0.537\n",
      "Epoch 53: Hinge Loss is 6.8976945877075195\n",
      "Train accuracy: 0.537\n",
      "Epoch 54: Hinge Loss is 6.880457878112793\n",
      "Train accuracy: 0.537\n",
      "Epoch 55: Hinge Loss is 6.863240718841553\n",
      "Train accuracy: 0.537\n",
      "Epoch 56: Hinge Loss is 6.846058368682861\n",
      "Train accuracy: 0.537\n",
      "Epoch 57: Hinge Loss is 6.8289265632629395\n",
      "Train accuracy: 0.537\n",
      "Epoch 58: Hinge Loss is 6.811856746673584\n",
      "Train accuracy: 0.537\n",
      "Epoch 59: Hinge Loss is 6.794840335845947\n",
      "Train accuracy: 0.537\n",
      "Epoch 60: Hinge Loss is 6.777859687805176\n",
      "Train accuracy: 0.537\n",
      "Epoch 61: Hinge Loss is 6.760908126831055\n",
      "Train accuracy: 0.537\n",
      "Epoch 62: Hinge Loss is 6.743972301483154\n",
      "Train accuracy: 0.537\n",
      "Epoch 63: Hinge Loss is 6.727046012878418\n",
      "Train accuracy: 0.537\n",
      "Epoch 64: Hinge Loss is 6.710125923156738\n",
      "Train accuracy: 0.537\n",
      "Epoch 65: Hinge Loss is 6.693210601806641\n",
      "Train accuracy: 0.537\n",
      "Epoch 66: Hinge Loss is 6.676299095153809\n",
      "Train accuracy: 0.537\n",
      "Epoch 67: Hinge Loss is 6.659387588500977\n",
      "Train accuracy: 0.537\n",
      "Epoch 68: Hinge Loss is 6.642475605010986\n",
      "Train accuracy: 0.537\n",
      "Epoch 69: Hinge Loss is 6.625566005706787\n",
      "Train accuracy: 0.537\n",
      "Epoch 70: Hinge Loss is 6.608656406402588\n",
      "Train accuracy: 0.537\n",
      "Epoch 71: Hinge Loss is 6.591747760772705\n",
      "Train accuracy: 0.537\n",
      "Epoch 72: Hinge Loss is 6.574839115142822\n",
      "Train accuracy: 0.537\n",
      "Epoch 73: Hinge Loss is 6.557930946350098\n",
      "Train accuracy: 0.537\n",
      "Epoch 74: Hinge Loss is 6.541022300720215\n",
      "Train accuracy: 0.537\n",
      "Epoch 75: Hinge Loss is 6.524114608764648\n",
      "Train accuracy: 0.537\n",
      "Epoch 76: Hinge Loss is 6.507206439971924\n",
      "Train accuracy: 0.537\n",
      "Epoch 77: Hinge Loss is 6.490298271179199\n",
      "Train accuracy: 0.537\n",
      "Epoch 78: Hinge Loss is 6.473390579223633\n",
      "Train accuracy: 0.537\n",
      "Epoch 79: Hinge Loss is 6.456482410430908\n",
      "Train accuracy: 0.537\n",
      "Epoch 80: Hinge Loss is 6.4395751953125\n",
      "Train accuracy: 0.537\n",
      "Epoch 81: Hinge Loss is 6.422667026519775\n",
      "Train accuracy: 0.537\n",
      "Epoch 82: Hinge Loss is 6.405759811401367\n",
      "Train accuracy: 0.537\n",
      "Epoch 83: Hinge Loss is 6.388852596282959\n",
      "Train accuracy: 0.537\n",
      "Epoch 84: Hinge Loss is 6.371944904327393\n",
      "Train accuracy: 0.537\n",
      "Epoch 85: Hinge Loss is 6.355037212371826\n",
      "Train accuracy: 0.537\n",
      "Epoch 86: Hinge Loss is 6.338129043579102\n",
      "Train accuracy: 0.537\n",
      "Epoch 87: Hinge Loss is 6.321222305297852\n",
      "Train accuracy: 0.537\n",
      "Epoch 88: Hinge Loss is 6.304315090179443\n",
      "Train accuracy: 0.537\n",
      "Epoch 89: Hinge Loss is 6.287407875061035\n",
      "Train accuracy: 0.537\n",
      "Epoch 90: Hinge Loss is 6.270500183105469\n",
      "Train accuracy: 0.537\n",
      "Epoch 91: Hinge Loss is 6.253593444824219\n",
      "Train accuracy: 0.537\n",
      "Epoch 92: Hinge Loss is 6.2366862297058105\n",
      "Train accuracy: 0.537\n",
      "Epoch 93: Hinge Loss is 6.219778537750244\n",
      "Train accuracy: 0.537\n",
      "Epoch 94: Hinge Loss is 6.202871322631836\n",
      "Train accuracy: 0.537\n",
      "Epoch 95: Hinge Loss is 6.185964107513428\n",
      "Train accuracy: 0.537\n",
      "Epoch 96: Hinge Loss is 6.169057369232178\n",
      "Train accuracy: 0.537\n",
      "Epoch 97: Hinge Loss is 6.152150630950928\n",
      "Train accuracy: 0.537\n",
      "Epoch 98: Hinge Loss is 6.1352434158325195\n",
      "Train accuracy: 0.537\n",
      "Epoch 99: Hinge Loss is 6.1183366775512695\n",
      "Train accuracy: 0.537\n"
     ]
    }
   ],
   "source": [
    "\n",
    "model = svm_classifier.MulticlassSVM(input_arr.shape[1], len(countries))\n",
    "optimizer = torch.optim.SGD(model.parameters(), lr=0.01, weight_decay=1e-4)\n",
    "\n",
    "epochs = 100\n",
    "\n",
    "for epoch in range(epochs):\n",
    "    outputs = model(input_arr)\n",
    "    loss = model.hinge_loss(outputs.float(), label_arr.long())\n",
    "    print(f'Epoch {epoch}: Hinge Loss is {loss.item()}')\n",
    "    with torch.no_grad():\n",
    "        predictions = torch.argmax(outputs, dim=1)\n",
    "        correct = (predictions == label_arr).sum().item()\n",
    "        print(f'Train accuracy: {correct / label_arr.size(0):.3f}')\n",
    "\n",
    "    optimizer.zero_grad()\n",
    "    loss.backward()\n",
    "    optimizer.step()"
   ]
  },
  {
   "cell_type": "markdown",
   "id": "3e5b0ca9",
   "metadata": {},
   "source": [
    "Evaluate on test set"
   ]
  },
  {
   "cell_type": "code",
   "execution_count": 16,
   "id": "caa85f45",
   "metadata": {},
   "outputs": [
    {
     "data": {
      "text/plain": [
       "'\\ninput_test = []\\ncounter = 0\\ntotal_test = df_test.count()[\\'content\\']\\nremove_test = []\\nfor text in df_test[\\'content\\']:\\n    bow = features.text_to_bag_of_words(text, unigrams, bigrams)\\n    try:\\n        prosodic = features.features_for_sonnet(text).values()\\n    except Exception as e:\\n        # just throw the row away\\n        print(f\"Error occurred: {e}\")\\n        remove_test.append(text)\\n        continue\\n    input_test.append(list(bow) + list(prosodic))\\n    if counter % 1000 == 0:\\n        print(f\"Constructing feature vector {counter}/{total_test}\")\\n    counter += 1\\nfor text in remove_test: # get rid of bad input\\n    df_test = df_test[df_test[\\'content\\'] != text]\\ninput_arr_test = torch.Tensor(input_test)\\nlabel_arr_test = torch.Tensor(df_test[\\'gender\\'].values)\\n'"
      ]
     },
     "execution_count": 16,
     "metadata": {},
     "output_type": "execute_result"
    }
   ],
   "source": [
    "# compute ngram and prosodic features\n",
    "# for test set\n",
    "\"\"\"\n",
    "input_test = []\n",
    "counter = 0\n",
    "total_test = df_test.count()['content']\n",
    "remove_test = []\n",
    "for text in df_test['content']:\n",
    "    bow = features.text_to_bag_of_words(text, unigrams, bigrams)\n",
    "    try:\n",
    "        prosodic = features.features_for_sonnet(text).values()\n",
    "    except Exception as e:\n",
    "        # just throw the row away\n",
    "        print(f\"Error occurred: {e}\")\n",
    "        remove_test.append(text)\n",
    "        continue\n",
    "    input_test.append(list(bow) + list(prosodic))\n",
    "    if counter % 1000 == 0:\n",
    "        print(f\"Constructing feature vector {counter}/{total_test}\")\n",
    "    counter += 1\n",
    "for text in remove_test: # get rid of bad input\n",
    "    df_test = df_test[df_test['content'] != text]\n",
    "input_arr_test = torch.Tensor(input_test)\n",
    "label_arr_test = torch.Tensor(df_test['gender'].values)\n",
    "\"\"\""
   ]
  },
  {
   "cell_type": "code",
   "execution_count": 18,
   "id": "05d6f8f3",
   "metadata": {},
   "outputs": [
    {
     "name": "stdout",
     "output_type": "stream",
     "text": [
      "torch.Size([439, 2000])\n",
      "torch.Size([439])\n"
     ]
    }
   ],
   "source": [
    "# just tfidf bow\n",
    "# vars for ref: uni_vocab, bi_vocab, tf_uni, tf_bi, idf_uni, idf_bi\n",
    "input_arr_test = torch.Tensor([features.get_tfidf_test(text, uni_vocab, bi_vocab, tf_uni, tf_bi, idf_uni, idf_bi) for text in df_test['content']])\n",
    "    \n",
    "label_arr_test = torch.Tensor(df_test['country-birth'].values)\n",
    "print(input_arr_test.shape)\n",
    "print(label_arr_test.shape)"
   ]
  },
  {
   "cell_type": "code",
   "execution_count": 22,
   "id": "f1bad47a",
   "metadata": {},
   "outputs": [
    {
     "name": "stdout",
     "output_type": "stream",
     "text": [
      "Test loss: 5.6867170333862305\n",
      "Test accuracy: 0.549\n"
     ]
    }
   ],
   "source": [
    "test_outputs = model(input_arr_test)\n",
    "test_loss = model.hinge_loss(test_outputs.float(), label_arr_test.long())\n",
    "print(f'Test loss: {test_loss.item()}')\n",
    "with torch.no_grad():\n",
    "    test_predictions = torch.argmax(test_outputs, dim=1)\n",
    "    test_correct = (test_predictions == label_arr_test).sum().item()\n",
    "    print(f'Test accuracy: {test_correct / label_arr_test.size(0):.3f}')"
   ]
  },
  {
   "cell_type": "markdown",
   "id": "1082cdc0",
   "metadata": {},
   "source": [
    "Is this any better than always predicting Spain? (most frequent country in dataset)"
   ]
  },
  {
   "cell_type": "code",
   "execution_count": 23,
   "id": "e0114859",
   "metadata": {},
   "outputs": [
    {
     "name": "stdout",
     "output_type": "stream",
     "text": [
      "tensor([2, 2, 2, 2, 2, 2, 2, 2, 2, 2, 2, 2, 2, 2, 2, 2, 2, 2, 2, 2, 2, 2, 2, 2,\n",
      "        2, 2, 2, 2, 2, 2, 2, 2, 2, 2, 2, 2, 2, 2, 2, 2, 2, 2, 2, 2, 2, 2, 2, 2,\n",
      "        2, 2, 2, 2, 2, 2, 2, 2, 2, 2, 2, 2, 2, 2, 2, 2, 2, 2, 2, 2, 2, 2, 2, 2,\n",
      "        2, 2, 2, 2, 2, 2, 2, 2, 2, 2, 2, 2, 2, 2, 2, 2, 2, 2, 2, 2, 2, 2, 2, 2,\n",
      "        2, 2, 2, 2, 2, 2, 2, 2, 2, 2, 2, 2, 2, 2, 2, 2, 2, 2, 2, 2, 2, 2, 2, 2,\n",
      "        2, 2, 2, 2, 2, 2, 2, 2, 2, 2, 2, 2, 2, 2, 2, 2, 2, 2, 2, 2, 2, 2, 2, 2,\n",
      "        2, 2, 2, 2, 2, 2, 2, 2, 2, 2, 2, 2, 2, 2, 2, 2, 2, 2, 2, 2, 2, 2, 2, 2,\n",
      "        2, 2, 2, 2, 2, 2, 2, 2, 2, 2, 2, 2, 2, 2, 2, 2, 2, 2, 2, 2, 2, 2, 2, 2,\n",
      "        2, 2, 2, 2, 2, 2, 2, 2, 2, 2, 2, 2, 2, 2, 2, 2, 2, 2, 2, 2, 2, 2, 2, 2,\n",
      "        2, 2, 2, 2, 2, 2, 2, 2, 2, 2, 2, 2, 2, 2, 2, 2, 2, 2, 2, 2, 2, 2, 2, 2,\n",
      "        2, 2, 2, 2, 2, 2, 2, 2, 2, 2, 2, 2, 2, 2, 2, 2, 2, 2, 2, 2, 2, 2, 2, 2,\n",
      "        2, 2, 2, 2, 2, 2, 2, 2, 2, 2, 2, 2, 2, 2, 2, 2, 2, 2, 2, 2, 2, 2, 2, 2,\n",
      "        2, 2, 2, 2, 2, 2, 2, 2, 2, 2, 2, 2, 2, 2, 2, 2, 2, 2, 2, 2, 2, 2, 2, 2,\n",
      "        2, 2, 2, 2, 2, 2, 2, 2, 2, 2, 2, 2, 2, 2, 2, 2, 2, 2, 2, 2, 2, 2, 2, 2,\n",
      "        2, 2, 2, 2, 2, 2, 2, 2, 2, 2, 2, 2, 2, 2, 2, 2, 2, 2, 2, 2, 2, 2, 2, 2,\n",
      "        2, 2, 2, 2, 2, 2, 2, 2, 2, 2, 2, 2, 2, 2, 2, 2, 2, 2, 2, 2, 2, 2, 2, 2,\n",
      "        2, 2, 2, 2, 2, 2, 2, 2, 2, 2, 2, 2, 2, 2, 2, 2, 2, 2, 2, 2, 2, 2, 2, 2,\n",
      "        2, 2, 2, 2, 2, 2, 2, 2, 2, 2, 2, 2, 2, 2, 2, 2, 2, 2, 2, 2, 2, 2, 2, 2,\n",
      "        2, 2, 2, 2, 2, 2, 2])\n",
      "tensor([ 5.,  2.,  2.,  2.,  4.,  2.,  2.,  2.,  2., 12.,  2.,  2.,  2.,  2.,\n",
      "         2.,  2.,  1.,  2.,  2.,  2.,  2., 12.,  2.,  2.,  2.,  2., 18.,  2.,\n",
      "         2.,  2., 13.,  2.,  5.,  2.,  2.,  2.,  1.,  5.,  1.,  2.,  2., 11.,\n",
      "        14.,  2.,  1.,  2., 13.,  2.,  2.,  2.,  2.,  1.,  2.,  1., 10.,  0.,\n",
      "         2.,  2.,  2.,  2., 11.,  5.,  2.,  2., 12.,  0.,  2.,  0.,  2.,  2.,\n",
      "         2.,  5.,  2.,  1., 11.,  2.,  2.,  2.,  2., 18.,  1.,  1.,  2.,  2.,\n",
      "         2., 11., 13.,  2.,  1.,  1.,  2.,  1., 14.,  1.,  2.,  2., 10., 10.,\n",
      "         2.,  2.,  2.,  9.,  2.,  2.,  1.,  2.,  2.,  1.,  2.,  2.,  1.,  2.,\n",
      "         1.,  1.,  5., 17.,  2., 18.,  0.,  1.,  2.,  2.,  2.,  2.,  1.,  2.,\n",
      "         5., 10.,  0.,  1.,  2.,  2.,  2.,  2.,  5.,  2.,  1., 11.,  2.,  1.,\n",
      "         1.,  5.,  1.,  1.,  2.,  1.,  0.,  2.,  2.,  2.,  1.,  2.,  9.,  2.,\n",
      "         2., 13.,  4.,  2.,  2.,  2.,  2.,  0.,  2., 15.,  2.,  1.,  2.,  2.,\n",
      "         2., 18.,  0.,  2.,  2.,  2.,  2.,  1.,  2.,  8.,  2., 18.,  2., 12.,\n",
      "         0.,  2.,  2., 15.,  2.,  5.,  1.,  2.,  1.,  2.,  2.,  2.,  2.,  2.,\n",
      "         2., 11., 11.,  2.,  2.,  2.,  0.,  1.,  2.,  0., 13.,  2., 11., 14.,\n",
      "         2.,  0.,  2., 14.,  2., 16.,  2.,  2.,  3.,  1.,  2.,  2.,  2.,  1.,\n",
      "         2., 11.,  2., 18.,  2., 11.,  2.,  5.,  1.,  2.,  6.,  2.,  2.,  2.,\n",
      "         2.,  5.,  2.,  1., 11.,  2.,  1., 12.,  1.,  3.,  5.,  4.,  0.,  2.,\n",
      "         1.,  1., 11.,  1., 11.,  2.,  1.,  0.,  2.,  1.,  1.,  1.,  2.,  2.,\n",
      "        14.,  1.,  2.,  2.,  2., 18.,  2.,  2.,  2., 17.,  2.,  2.,  2.,  2.,\n",
      "         2., 10.,  5.,  0.,  2.,  2.,  1.,  0.,  2., 11.,  2.,  1.,  2.,  2.,\n",
      "         2.,  2.,  2.,  5.,  1.,  2.,  2.,  2.,  2.,  0.,  2.,  2.,  2.,  2.,\n",
      "         1.,  1.,  2.,  2.,  2.,  2.,  2.,  0.,  9.,  2.,  1.,  2.,  2.,  1.,\n",
      "         2.,  2.,  1., 10., 18., 10.,  1.,  2.,  1.,  2., 14.,  2.,  5., 12.,\n",
      "         1.,  2.,  2.,  2.,  2.,  2.,  2.,  2., 11.,  2.,  2.,  1.,  0.,  2.,\n",
      "        15.,  1.,  2.,  2.,  0.,  2.,  2.,  2.,  2.,  1., 10.,  2.,  0.,  2.,\n",
      "         2.,  2.,  2., 11.,  2.,  2.,  2.,  2.,  5., 17.,  2.,  1., 18.,  2.,\n",
      "         5.,  2.,  2.,  2., 17.,  1.,  1.,  2., 12., 11.,  1., 10., 14.,  1.,\n",
      "         2.,  2., 11.,  2.,  2.,  2.,  2.,  5., 12.,  2., 18.,  2.,  2., 12.,\n",
      "        13.,  2.,  1.,  0.,  2.,  2.,  1.,  1., 10., 11.,  2.,  2., 10., 11.,\n",
      "         0.,  2.,  2.,  2.,  2., 10.,  2.,  1.,  2.,  2.,  2.,  2.,  2., 10.,\n",
      "         2.,  1., 10.,  2.,  1.])\n",
      "Test accuracy: 0.549\n"
     ]
    }
   ],
   "source": [
    "print(test_predictions)\n",
    "print(label_arr_test)\n",
    "alwaysSpain = (label_arr_test == countries_map['España'] * torch.ones(label_arr_test.shape)).sum().item()\n",
    "print(f'Test accuracy: {alwaysSpain / label_arr_test.size(0):.3f}')\n",
    "# Answer: no, not really. It always predicts Spain :o"
   ]
  }
 ],
 "metadata": {
  "kernelspec": {
   "display_name": "py311",
   "language": "python",
   "name": "python3"
  },
  "language_info": {
   "codemirror_mode": {
    "name": "ipython",
    "version": 3
   },
   "file_extension": ".py",
   "mimetype": "text/x-python",
   "name": "python",
   "nbconvert_exporter": "python",
   "pygments_lexer": "ipython3",
   "version": "3.11.11"
  }
 },
 "nbformat": 4,
 "nbformat_minor": 5
}
