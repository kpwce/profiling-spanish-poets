{
 "cells": [
  {
   "cell_type": "markdown",
   "id": "3ac55ef4",
   "metadata": {},
   "source": [
    "# Train SVM classifiers for poet profiling (country)"
   ]
  },
  {
   "cell_type": "code",
   "execution_count": 29,
   "id": "df53056a",
   "metadata": {},
   "outputs": [],
   "source": [
    "from format import *\n",
    "import features\n",
    "import svm_classifier\n",
    "import torch\n",
    "from importlib import reload"
   ]
  },
  {
   "cell_type": "markdown",
   "id": "8ddb0f7d",
   "metadata": {},
   "source": [
    "Load in the training data. Then extract features to turn poem into vector."
   ]
  },
  {
   "cell_type": "code",
   "execution_count": 30,
   "id": "6efa09e7",
   "metadata": {},
   "outputs": [],
   "source": [
    "df_train, df_test = get_text_to_country_of_origin()\n",
    "df_train = df_train.where(df_train['content'].apply(lambda x: isinstance(x, str) and x.strip() != '')).dropna()\n",
    "\n",
    "df_test = df_test.where(df_test['content'].apply(lambda x: isinstance(x, str) and x.strip() != '')).dropna()\n",
    "\n",
    "countries = get_countries()\n",
    "countries_map = {countries[i] : i for i in range(len(countries))}\n",
    "\n",
    "df_train['country-birth'] = df_train['country-birth'].map(countries_map)\n",
    "df_train = df_train.dropna(subset=['country-birth'])\n",
    "\n",
    "df_test['country-birth'] = df_test['country-birth'].map(countries_map)\n",
    "df_test = df_test.dropna(subset=['country-birth'])"
   ]
  },
  {
   "cell_type": "code",
   "execution_count": 31,
   "id": "394e4356",
   "metadata": {},
   "outputs": [
    {
     "name": "stdout",
     "output_type": "stream",
     "text": [
      "['Filipinas', 'Cuba', 'España', 'Ecuador', 'Portugal', 'México', 'Honduras', 'Italia', 'Brasil', 'Chile', 'Nicaragua', 'Perú', 'Argentina', 'Venezuela', 'Uruguay', 'Puerto Rico', 'Haití', 'Costa Rica', 'Colombia', 'República Dominicana', 'Bolivia', 'Paraguay', 'Panamá']\n"
     ]
    },
    {
     "data": {
      "text/plain": [
       "content          203\n",
       "country-birth    203\n",
       "dtype: int64"
      ]
     },
     "execution_count": 31,
     "metadata": {},
     "output_type": "execute_result"
    }
   ],
   "source": [
    "print(countries)\n",
    "df_train.where(df_train['country-birth']==0).count()"
   ]
  },
  {
   "cell_type": "markdown",
   "id": "23df24c2",
   "metadata": {},
   "source": [
    "Some features (BoW and prosodic attributes)"
   ]
  },
  {
   "cell_type": "code",
   "execution_count": 32,
   "id": "6f9ea685",
   "metadata": {},
   "outputs": [
    {
     "name": "stdout",
     "output_type": "stream",
     "text": [
      "['de', 'y', 'la', 'el', 'que', 'en', 'a', 'su', 'del', 'al', 'tu', 'con', 'un', 'mi', 'los', 'no', 'las', 'se', 'por', 'es', 'me', 'más', 'sus', 'como', 'una', 'te', 'lo', 'si', 'amor', 'sin', 'Y', 'vida', 'tus', 'ni', 'le', 'alma', 'para', 'ya', 'mis', 'cuando', 'tan', 'o', 'luz', 'cielo', 'yo', 'Dios', 'pues', 'sol', 'ser', 'ha', 'No', 'entre', 'corazón', 'mundo', 'ojos', 'sobre', 'En', 'El', 'La', 'qué', 'bien', 'muerte', 'tú', 'quien', 'día', 'todo', 'cual', 'gloria', 'ti', 'porque', 'dulce', 'mar', 'dolor', 'son', 'De', 'sólo', 'siempre', 'donde', 'noche', 'Si', 'fue', 'triste', 'frente', 'Mas', 'tanto', 'fin', 'voz', 'flores', 'mano', 'tierra', 'Oh', 'tiempo', 'mas', 'hay', 'pecho', 'este', 'nos', 'tal', 'oh', 'hoy', 'está', 'mí', 'así', 'oro', 'viento', 'mía', 'hasta', 'Por', 'él', 'mal', 'Qué', 'vez', 'esta', 'dos', 'Yo', 'ella', 'fuego', 'aunque', 'he', 'llanto', 'e', 'pero', 'bajo', 'A', 'gran', 'mil', 'hombre', 'llama', 'nombre', 'vano', 'sombra', 'aquel', 'Que', 'otro', 'flor', 'Ya', 'Es', 'ardiente', 'ver', 'suelo', 'fe', 'suerte', 'hermosa', 'pura', 'cuanto', 'mismo', 'sangre', 'nunca', 'eres', 'aun', 'Tú', 'esperanza', 'feliz', 'rosa', 'Cuando', 'canto', 'azul', 'os', 'otra', 'divino', 'tiene', 'da', 'Al', 'va', 'nada', 'todos', 'soy', 'toda', 'pena', 'ese', 'también', 'fuerte', 'memoria', 'mujer', 'inmortal', 'Señor', 'ante', 'paz', 'era', 'vos', 'tarde', 'Con', 'aquí', 'pensamiento', 'cuerpo', 'sueño', 'hermosura', 'bella', 'tras', 'Pero', 'morir', 'desde', 'quiero', 'mío', 'lágrimas', 'fama', 'virtud', 'esa', 'mientras', 'amores', 'olvido', 'vuelo', 'manos', 'ay', 'divina', 'camino', 'Quién', 'muy', 'España', 'nuevo', 'mayor', 'eterno', 'boca', 'seno', 'hace', 'has', 'jamás', 'Los', 'aire', 'rostro', 'luna', 'grande', 'labios', 'patria', 'nuestra', 'agua', 'veces', 'placer', 'cada', 'Amor', 'sé', 'dio', 'sí', 'espíritu', 'eterna', 'hora', 'Así', 'muerto', 'belleza', 'aliento', 'santo', 'mirada', 'después', 'aurora', 'alegría', 'puede', 'alto', 'Un', 'rayo', 'río', 'pobre', 'han', 'pasión', 'será', 'vivir', 'Pues', 'destino', 'paso', 'Sol', 'luego', 'rosas', 'humano', 'dura', 'mortal', 'mañana', 'mira', 'blanca', 'anhelo', 'consuelo', 'Como', 'lira', 'edad', 'dice', 'solo', 'fuente', 'madre', 'mejor', 'ventura', 'verdad', 'valor', 'llora', 've', 'profundo', 'noble', 'mente', 'do', 'oscura', 'contra', 'ilusión', 'alegre', 'poder', 'sea', 'vive', 'Del', 'faz', 'tanta', 'nieve', 'aquella', 'antes', 'historia', 'acento', 'fuera', 'pueblo', 'alas', 'todas', 'vivo', 'cómo', 'allí', 'envidia', 'razón', 'lejos', 'amante', 'vuestra', 'dicha', 'fuerza', 'silencio', 'brazos', 'calma', 'parece', 'campo', 'beso', 'corona', 'fría', 'frío', 'cabeza', 'ahora', 'nuestro', 'versos', 'fatal', 'llena', 'velo', 'gente', 'estrella', 'Hoy', 'pies', 'uno', 'herida', 'ciego', 'hacer', 'sino', 'medio', 'verde', 'vuestro', 'estrellas', 'humana', 'años', 'horas', 'Ay', 'cruel', 'vista', 'deseo', 'allá', 'afán', 'pesar', 'siento', 'libertad', 'vino', 'espera', 'rayos', 'sido', 'canta', 'Tu', 'cuya', 'almas', 'igual', 'pie', 'muere', 'gentil', 'abismo', 'fiera', 'poco', 'imagen', 'sombras', 'hacia', 'tristeza', 'peregrino', 'victoria', 'siente', 'aún', 'claro', 'vi', 'Las', 'nido', 'fruto', 'grandeza', 'deja', 'vio', 'fortuna', 'ave', 'siendo', 'hecho', 'infeliz', 'tormento', 'colores', 'piedad', 'hizo', 'campos', 'libre', 'sabe', 'honor', 'suave', 'dar', 'pluma', 'Para', 'olas', 'breve', 'recuerdo', 'poeta', 'encanto', 'forma', 'mucho', 'espada', 'cuyo', 'manto', 'lecho', 'sola', 'dijo', 'genio', 'tesoro', 'arte', 'instante', 'gracia', 'verte', 'algún', 'cristal', 'viva', 'Mi', 'Su', 'tumba', 'pudo', 'blanco', 'pasa', 'tengo', 'van', 'quién', 'monte', 'daño', 'llega', 'entonces', 'soberano', 'cumbre', 'Cristo', 'Se', 'bosque', 'ayer', 'alta', 'Apolo', 'amigo', 'árbol', 'armonía', 'miro', 'existencia', 'puro', 'buen', 'días', 'primera', 'bello', 'parte', 'sonoro', 'vil', 'levanta', 'sueños', 'soneto', 'reposo', 'Sólo', 'menos', 'grave', 'O', 'dolores', 'serena', 'otros', 'tres', 'espanto', 'cielos', 'sentimiento', 'esfera', 'estoy', 'cuidado', 'ley', 'cosas', 'templo', 'ondas', 'ciencia', 'tienes', 'santa', 'Ni', 'apenas', 'mármol', 'fiel', 'veo', 'mares', 'mirar', 'penas', 'Oriente', 'hijo', 'verso', 'hermoso', 'duelo', 'duro', 'ingenio', 'pan', 'esplendor', 'color', 'punto', 'males', 'lloro', 'primero', 'nueva', 'senda', 'Todo', 'lleno', 'lleva', 'negro', 'saber', 'nubes', 'infinito', 'sonrisa', 'hojas', 'quiere', 'tantos', 'humilde', 'lucha', 'loco', 'labio', 'constante', 'Jesús', 'pasado', 'polvo', 'lado', 'guerra', 'hombres', 'lumbre', 'grito', 'brilla', 'fiero', 'torno', 'par', 'perdido', 'ternura', 'joven', 'sutil', 'viejo', 'amargura', 'cosa', 'plata', 'idea', 'coro', 'junto', 'nadie', 'María', 'duda', 'contento', 'tristes', 'fuiste', 'momento', 'corriente', 'juventud', 'les', 'alguna', 'vuelve', 'agonía', 'sed', 'jardín', 'amado', 'primavera', 'virgen', 'carne', 'Virgen', 'hondo', 'resplandor', 'voy', 'loca', 'brisa', 'soplo', 'cruz', 'conciencia', 'bellas', 'fulgor', 'derrama', 'ardor', 'yace', 'busca', 'muda', 'dichoso', 'sagrado', 'cantar', 'don', 'golpe', 'glorias', 'ofrece', 'cara', 'sublime', 'sigue', 'Te', 'Sobre', 'debe', 'arena', 'tirano', 'beldad', 'Porque', 'adoro', 'padre', 'palma', 'muestra', 'adora', 'causa', 'alba', 'aguas', 'justo', 'sentido', 'eso', 'dulces', 'tierno', 'doliente', 'algo', 'ambiente', 'temor', 'pudiera', 'espero', 'altura', 'planta', 'semblante', 'niño', 'ambición', 'celestial', 'amada', 'quiso', 'triunfo', 'perlas', 'nube', 'soledad', 'admira', 'copa', 'altar', 'decir', 'orgullo', 'señora', 'eco', 'presente', 'clara', 'ellas', 'carrera', 'ideal', 'alcanza', 'lanza', 'laurel', 'puerto', 'desierto', 'luces', 'dado', 'impía', 'mudo', 'firme', 'inmenso', 'sepulcro', 'primer', 'triunfante', 'cuna', 'ángel', 'hogar', 'inflama', 'negra', 'besos', 'llegar', 'imperio', 'rey', 'poesía', 'risa', 'audaz', 'nuestros', 'Lo', 'ama', 'cura', 'porfía', 'queda', 'culpa', 'furor', 'segundo', 'Cielo', 'ven', 'lengua', 'perdida', 'peso', 'viene', 'piedra', 'pecado', 'falta', 'blando', 'espuma', 'gusto', 'ellos', 'glorioso', 'quisiera', 'misma', 'nuestras', 'pompa', 'Una', 'rigor', 'pronto', 'importa', 'lugar', 'noches', 'aves', 'altivo', 'muero', 'plantas', 'acaso', 'orbe', 'celeste', 'rico', 'tener', 'selva', 'lluvia', 'esencia', 'miel', 'hielo', 'invierno', 'bueno', 'están', 'fecundo', 'dueño', 'esto', 'visto', 'casa', 'dulzura', 'estas', 'ciudad', 'reina', 'guía', 'acero', 'ocaso', 'dios', 'extraño', 'ruego', 'sois', 'locura', 'sacro', 'figura', 'sabio', 'leve', 'guarda', 'puedo', 'rojo', 'inspira', 'Venus', 'fueron', 'inmensa', 'oscuro', 'Me', 'non', 'débil', 'cierto', 'calor', 'gozo', 'odio', 'das', 'Roma', 'nave', 'otras', 'cuello', 'torpe', 'despojos', 'estás', 'huye', 'dan', 'ausencia', 'vencido', 'Sin', 'presencia', 'ansias', 'brillante', 'aroma', 'goza', 'último', 'dando', 'amoroso', 'viendo', 'Este', 'Mientras', 'espacio', 'oído', 'gigante', 'suspira', 'segura', 'contigo', 'culto', 'valiente', 'misterio', 'nace', 'Cómo', 'siglos', 'ejemplo', 'dejó', 'canción', 'gloriosa', 'haber', 'firmamento', 'eternamente', 'pasar', 'advierte', 'astro', 'Muerte', 'ilusiones', 'prado', 'tormenta', 'queja', 'suspiro', 'Madre', 'montes', 'alza', 'rama', 'rumor', 'llano', 'vana', 'oriente', 'voces', 'Cual', 'huella', 'cáliz', 'esposa', 'dejar', 'premio', 'Ah', 'vela', 'hijos', 'crece', 'enemigo', 'fondo', 'altiva', 'astros', 'Esta', 'inerte', 'hado', 'cadena', 'libro', 'suena', 'buena', 'sonora', 'Javier', 'tronco', 'amar', 'Ella', 'cabello', 'orilla', 'modo', 'horror', 'niebla', 'estar', 'estado', 'sentir', 'cubre', 'estaba', 'mata', 'encierra', 'voluntad', 'mueve', 'arde', 'verdes', 'cabellera', 'querida', 'vientos', 'pienso', 'fácil', 'mudanza', 'diste', 'estos', 'ensueño', 'Fue', 'gota', 'dentro', 'curso', 'blancas', 'muerta', 'vacío', 'región', 'toca', 'casi', 'perfume', 'ensueños', 'seguro', 'brillo', 'reposa', 'púrpura', 'dónde', 'desengaño', 'valle', 'vago', 'horizonte', 'lejano', 'enojos', 'airado', 'conmigo', 'Tal', 'música', 'pensar', 'roca', 'ausente', 'ilustre', 'miserable', 'señor', 'pasiones', 'vierte', 'haciendo', 'enamorado', 'siglo', 'engaño', 'misteriosa', 'venganza', 'propio', 'Marte', 'quieres', 'Aunque', 'fuese', 'gemido', 'oye', 'Padre', 'miedo', 'Aquí', 'baña', 'sereno', 'cansado', 'celos', 'gracias', 'galas', 'oculta', 'mísero', 'olvida', 'cesar', 'amargo', 'Entre', 'llamas', 'vuela', 'montaña', 'luciente', 'trono', 'esclavo', 'Bien', 'cisne', 'propia', 'terrible', 'naturaleza', 'playa', 'Hay', 'brazo', 'rocío', 'Lope', 'Cruz', 'envía', 'Isidro', 'soberana', 'puerta', 'corre', 'ceniza', 'aura', 'rojos', 'musa', 'desdén', 'infierno', 'Desde', 'secreto', 'Soy', 'pradera', 'halla', 'pesares', 'ribera', 'fulgores', 'armas', 'trueno', 'pone', 'incierto', 'ánimo', 'larga', 'tantas', 'sombría', 'vieja', 'tuvo', 'hacen', 'largo', 'llorar', 'tributo', 'ingrata', 'baja', 'laureles', 'brío', 'esos', 'sombrío', 'ves', 'abre', 'poderoso', 'espinas', 'pira', 'amorosa', 'sagrada', 'plumas', 'veneno', 'Quiero', 'tuyo', 'turba', 'querido', 'raza', 'inspiración', 'Rey', 'convida', 'Juan', 'murió', 'ufano', 'arroyo', 'verdor', 'empieza', 'quiera', 'rigores', 'muera', 'salud', 'entera', 'sale', 'furia', 'viste', 'majestad', 'despierta', 'Reina', 'Nada', 'través', 'dones', 'helado', 'infame', 'augusta', 'roja', 'palabra', 'quimera', 'Nunca', 'dormido', 'quebranto', 'amo', 'serás', 'Aurora', 'celo', 'radiante', 'excelsa', 'bandera', 'lago', 'Patria', 'alumbra', 'diamante', 'extraña', 'bronce', 'tierna', 'numen', 'escudo', 'gozar', 'quietud', 'Ven', 'Musa', 'feroz', 'dulcemente', 'ruina', 'cien', 'carro', 'visión', 'empeño', 'jornada', 'digo', 'fresca', 'misterioso', 'nacer', 'rendido', 'supo', 'di', 'peregrina', 'cuán', 'castigo', 'rica', 'asiento', 'hallar', 'justicia', 'veloz', 'impío', 'cabellos', 'aquellos', 'hierro', 'pupilas', 'insano', 'hermano', 'Fénix', 'Madrid', 'grato', 'fantasía', 'cenizas', 'creo', 'deidad', 'ramas', 'varón', 'espejo', 'gesto', 'buscando', 'fui', 'sube', 'herido', 'venas', 'año', 'rompe', 'luto', 'haya', 'generoso', 'saña', 'grandes', 'rudo', 'puso', 'lirio', 'estío', 'bondad', 'perdón', 'pido', 'aplauso', 'cerca', 'pueda', 'mundos', 'intento', 'digno', 'cándida', 'existe', 'inclina', 'hiere', 'suma', 'decoro', 'vas', 'impura', 'diez', 'unos', 'hermana', 'olor', 'dejando', 'tuya', 'caso', 'lazo', 'amarga', 'Parnaso', 'ruido', 'lamento', 'ansia', 'helada', 'corazones', 'inocente', 'Bajo', 'umbría', 'eternidad', 'dora', 'necio', 'soberbia', 'combate', 'abrasa', 'caer', 'verás', 'plácida', 'dicen', 'raro', 'nin', 'nacido', 'diosa', 'pastor', 'nuevas', 'desnudo', 'escucha', 'esas', 'prisión', 'triunfal', 'fugaz', 'errante', 'universo', 'procura', 'manera', 'tienen', 'todavía', 'Musas', 'fuerzas', 'movimiento', 'agita', 'divinos', 'florida', 'ligero', 'caballero', 'podrá', 'Más', 'piel', 'cadáver', 'águila', 'Sus', 'hechos', 'favor', 'deshecho', 'delante', 'gime', 'cuento', 'estrecho', 'prenda', 'mujeres', 'lauro', 'obras', 'rota', 'angustia', 'mortales', 'Febo', 'dorado', 'palabras', 'Don', 'jazmín', 'estéril', 'César', 'melancolía', 'Después', 'Cuba', 'merece', 'brota', 'vaso', 'remedio', 'convierte', 'fragancia', 'niña', 'salir', 'porvenir', 'fiesta', 'altares', 'afecto', 'tempestad', 'sembrando', 'pájaro', 'querer', 'placeres', 'error', 'famoso', 'vicio', 'hallo', 'palacio', 'cantando', 'Eres', 'diestra', 'pierde', 'enamorada', 'desvelo', 'quedó', 'Cuán', 'adiós', 'Ser', 'repente', 'suspiros', 'respeto', 'ritmo', 'albedrío', 'Gloria', 'cobarde', 'cae', 'pasos', 'tiembla', 'aleja', 'fuentes', 'sufre', 'contemplar', 'miradas', 'pálida', 'puñal', 'inquieta', 'león', 'sosiego', 'ceño', 'desventura', 'tinieblas', 'violento', 'humo', 'sendero', 'entrañas', 'muro', 'postrera', 'duerme', 'oración', 'Adán', 'ardientes', 'cariño', 'ilumina', 'crepúsculo', 'sabes', 'habla', 'llorando', 'derecho', 'sueña', 'sufrir', 'inocencia', 'lágrima', 'ajeno', 'ora', 'esperar', 'entero', 'cuál', 'pálido', 'ecos', 'avanza', 'presa', 'copia', 'esperanzas', 'ruiseñor', 'vidas', 'hermanos', 'demás', 'trabajo', 'maravilla', 'inmortales', 'seda', 'amiga', 'azucena', 'puesto', 'oír', 'luce', 'ufana', 'bellos', 'llegó', 'enciende', 'pos', 'hablar', 'vaga', 'aclama', 'habrá', 'desvarío', 'abierto', 'Sé', 'vestido', 'único', 'pájaros', 'encendida', 'fragante', 'horrible', 'provoca', 'delirio', 'claridad', 'transparente', 'pureza', 'ostenta', 'término', 'resplandores', 'esposo', 'desengaños', 'recuerdos', 'cantan', 'abrigo', 'cristiano', 'abrazo', 'dije', 'labor', 'medida', 'coronado', 'desata', 'esfuerzo', 'amistad', 'heroico', 'torrente', 'aparece', 'halló', 'quejas', 'solitario', 'huellas', 'ligera', 'desconsuelo', 'ira', 'néctar', 'puedes', 'peligro', 'sangriento', 'siete', 'oculto', 'paloma', 'tranquilo', 'apacible', 'cualquier', 'paciencia', 'estremece', 'traje', 'soberbio', 'ninguna', 'inútil', 'á', 'cuánto', 'llenas', 'contemplo', 'encuentro', 'vea', 'implacable', 'abrojos', 'tenaz', 'aspira', 'bienes', 'Allí', 'cayó', 'cantares', 'clavel', 'casta', 'nuevos', 'vejez', 'cárcel', 'toro', 'espesura', 'marchita', 'verla', 'Son', 'hazaña', 'español', 'llanura', 'himno', 'honda', 'arpa', 'fecunda', 'yerto', 'dichas', 'fulgura', 'negros', 'héroe', 'clemencia', 'batalla', 'techo', 'lazos', 'corta', 'hastío', 'solas', 'postrer', 'había', 'perla', 'Filis', 'antiguo', 'yugo', 'justa', 'Flora', 'ancho', 'catorce', 'dedos', 'mancha', 'Parca', 'risueño', 'infinita', 'frágil', 'ala', 'habéis', 'cuatro', 'altos', 'raudal', 'tiempos', 'ciega', 'cristalino', 'basta', 'morada', 'ventana', 'apaga', 'decía', 'goce', 'ajena', 'escrito', 'silenciosa', 'cabo', 'artista', 'Abril', 'huracán', 'materia', 'devora', 'fino', 'mora', 'Montalbán', 'letras', 'Sí', 'dejo', 'huerto', 'recelo', 'luminoso', 'encontrar', 'Colón', 'acción', 'piensa', 'rinde', 'roto', 'parecen', 'claros', 'grata', 'ola', 'delito', 'tranquila', 'celestiales', 'coronada', 'pasó', 'sepultura', 'tales', 'arroja', 'polo', 'confín', 'losa', 'favores', 'Luna', 'bebe', 'blancos', 'muriendo', 'piélago', 'rumbo', 'última', 'dieron', 'vate', 'lejana', 'gris', 'canciones', 'rueda', 'reino', 'triunfos', 'dormida', 'común', 'marfil', 'blancura', 'Tus', 'traición', 'vuelvo', 'lid', 'serán', 'oídos', 'vía', 'extiende', 'cabe', 'hubo', 'refulgente', 'dichosa', 'huyendo', 'primores', 'llevo', 'juicio', 'Siempre', 'desdicha', 'presto', 'asegura', 'ardores', 'ruiseñores', 'besa', 'engaños', 'cuenta', 'silencioso', 'muchos', 'calla', 'futuro', 'cierra', 'caudal', 'regazo', 'falda', 'encuentra', 'arcano', 'verano', 'nota', 'vencida', 'esconde', 'temo', 'freno', 'buscar', 'Dónde', 'asombro', 'solamente', 'ríos', 'céfiro', 'severa', 'condena', 'hoja', 'monumento', 'sentidos', 'estatua', 'desnuda', 'vencedor', 'aromas', 'Europa', 'mariposa', 'hecha', 'gira', 'soñar', 'vuestros', 'volcán', 'asoma', 'Era', 'Mira', 'sien', 'abierta', 'hubiera', 'extensión', 'ayuda', 'siquiera', 'distante', 'Señora', 'bruma', 'partida', 'pincel', 'potente', 'ideales', 'espalda', 'tierras', 'nácar', 'rubia', 'humanidad', 'contempla', 'desprecio', 'resiste', 'arenas', 'detrás', 'sufrimiento', 'escondido', 'dará', 'febril', 'volver', 'torna', 'amable', 'bárbaro', 'afrenta', 'paisaje', 'Deja', 'iba', 'partes', 'cubierto', 'doquier', 'cólera', 'hispano', 'naciente', 'incendio', 'cantos', 'oprime', 'grita', 'espléndida', 'piadoso', 'lentamente', 'estrago', 'fértil', 'halago', 'hermosas', 'doy', 'blasón', 'finge', 'piadosa', 'mejilla', 'ciñe', 'esquiva', 'pide', 'posible', 'dejado', 'Quien', 'naciones', 'acaba', 'azules', 'toma', 'airada', 'cristales', 'respira', 'fía', 'ideas', 'pelea', 'Fama', 'flota', 'amé', 'fieras', 'ofrenda', 'viejos', 'quimeras', 'tedio', 'lucero', 'conocido', 'criatura', 'riqueza', 'obra', 'esté', 'onda', 'enseña', 'hambre', 'cetro', 'vulgo', 'olvidado', 'seres', 'entrega', 'incienso', 'gentes', 'familia', 'diamantes', 'talento', 'fénix', 'ruinas', 'bosques', 'instrumento', 'admiración', 'riesgo', 'candor', 'ronco', 'suele', 'dioses', 'responde', 'alzó', 'poderío', 'alabanza', 'miras', 'cadenas', 'encendido', 'cede', 'vuestras', 'cristalina', 'Cupido', 'inquietud', 'desdichado', 'grana', 'frescas', 'mesa', 'pupila', 'mágico', 'temblando', 'Castilla', 'miran', 'lento', 'paga', 'resuena', 'saludo', 'resplandece', 'dame', 'honra', 'blanda', 'sigo', 'dolorosa', 'Historia', 'arrogante', 'frescura', 'marcha', 'desea', 'juntos', 'alivio', 'escucho', 'supremo', 'arado', 'deber', 'palmas', 'salvaje', 'antigua', 'atento', 'prueba', 'pueblos', 'mes', 'guerrero', 'violencia', 'serpiente', 'cuantos', 'sabios', 'urna', 'Cisne', 'acá', 'pobres', 'suelta', 'Francia', 'martirio', 'constancia', 'Tan', 'pavor', 'Orbe', 'renombre', 'querellas', 'poetas', 'miró', 'testigo', 'llego', 'encantos', 'Naturaleza', 'florido', 'espumas', 'Pasó', 'importuna', 'ninfa', 'Vida', 'oyó', 'quede', 'miente', 'San', 'venga', 'imposible', 'vencer', 'tino', 'según', 'dama', 'melodía', 'fiebre', 'carmín', 'amarte', 'incierta', 'tenga', 'impulso', 'Canta', 'alfombra', 'muertos', 'teme', 'busco', 'pesadumbre', 'moribundo', 'coral', 'envuelto', 'antojos', 'Fortuna', 'fortaleza', 'diré', 'vivos', 'terror', 'diciendo', 'universal', 'notas', 'cumbres', 'sujeto', 'escribir', 'nueve', 'admiro', 'Dame', 'atreve', 'venturoso', 'tendrá', 'ninguno', 'juvenil', 'compañera', 'pelo', 'sienes', 'lisonjera', 'clarín', 'muros', 'escena', 'millares', 'caricia', 'Primavera', 'míos', 'frutos', 'risueña', 'tenía', 'contrario', 'confianza', 'misa', 'anima', 'naves', 'hondas', 'mártir', 'brinda', 'celaje', 'abrió', 'regiones', 'memorias', 'océano', 'busto', 'sería', 'novia', 'abruma', 'formas', 'torre', 'camina', 'enamora', 'gritos', 'suyo', 'éter', 'laguna', 'lúgubre', 'mirando', 'casto', 'vivas', 'haz', 'cruza', 'Arte', 'encantadora', 'eminente', 'Él', 'vence', 'fracaso', 'patrio', 'real', 'Tajo', 'voto', 'áureo', 'poderosa', 'cambio', 'ríe', 'espanta', 'Divino', 'anciano', 'sacra', 'reflejos', 'ímpetu', 'soldado', 'linaje', 'reverbera', 'seguir', 'anuncia', 'Poeta', 'puras', 'lirios', 'mérito', 'ramo', 'crea', 'mansión', 'vasto', 'aires', 'andar', 'muchas', 'ambos', 'libres', 'dilata', 'descubre', 'surco', 'milagro', 'logra', 'suya', 'cierta', 'pastores', 'virginal', 'infernal', 'cuerdas', 'humilla', 'Luego', 'plácido', 'muestras', 'rara', 'linda', 'arco', 'indiferente', 'Antes', 'sentencia', 'Allá', 'bóveda', 'licor', 'árboles', 'natura', 'darte', 'luminosa', 'rincón', 'dinero', 'solitaria', 'ganado', 'eras', 'seco', 'mentira', 'hará', 'Ese', 'oscurece', 'mieles', 'bruto', 'modelo', 'flecha', 'ameno', 'nobles', 'interior', 'metal', 'trueca', 'mejillas', 'exceso', 'huyó', 'cantó', 'sano', 'pequeño', 'bravo', 'atmósfera', 'caída', 'Carlos', 'miseria', 'país', 'caminos', 'semejante', 'carga', 'leño', 'menor', 'aguarda', 'recinto', 'faro', 'dorada', 'sacrificio', 'agudo', 'suaves', 'colora', 'eternal', 'entusiasmo', 'quería', 'huir', 'seas', 'víctima', 'frases', 'pedazos', 'sirve', 'barca', 'centro', 'rencor', 'cría', 'vibra', 'hiciste', 'vale', 'temas', 'unas', 'cuadro', 'himnos', 'campanas', 'dolencia', 'inmensidad', 'piedras', 'continuo', 'dicho', 'diga', 'prosa', 'padece', 'ruin', 'pretende', 'Todos', 'vivido', 'seca', 'escuchar', 'veras']\n",
      "[('de', 'la'), ('en', 'la'), ('en', 'el'), ('a', 'la'), ('y', 'el'), ('que', 'en'), ('de', 'su'), ('y', 'en'), ('de', 'mi'), ('que', 'el'), ('de', 'tu'), ('en', 'su'), ('y', 'de'), ('de', 'los'), ('de', 'un'), ('y', 'la'), ('la', 'vida'), ('de', 'las'), ('que', 'la'), ('en', 'tu'), ('a', 'su'), ('que', 'a'), ('el', 'alma'), ('en', 'mi'), ('y', 'al'), ('lo', 'que'), ('a', 'los'), ('que', 'no'), ('y', 'a'), ('en', 'las'), ('a', 'tu'), ('en', 'los'), ('el', 'cielo'), ('que', 'al'), ('la', 'muerte'), ('que', 'me'), ('el', 'sol'), ('de', 'una'), ('en', 'que'), ('que', 'se'), ('por', 'el'), ('de', 'amor'), ('a', 'mi'), ('con', 'la'), ('el', 'mundo'), ('la', 'tierra'), ('con', 'su'), ('que', 'es'), ('que', 'te'), ('de', 'tus'), ('la', 'luz'), ('la', 'noche'), ('en', 'un'), ('de', 'sus'), ('con', 'el'), ('que', 'de'), ('y', 'con'), ('por', 'la'), ('como', 'un'), ('como', 'el'), ('de', 'oro'), ('y', 'que'), ('a', 'las'), ('sobre', 'el'), ('y', 'no'), ('es', 'el'), ('más', 'que'), ('el', 'mar'), ('a', 'quien'), ('en', 'sus'), ('de', 'mis'), ('el', 'corazón'), ('el', 'que'), ('y', 'su'), ('es', 'la'), ('el', 'amor'), ('a', 'un'), ('en', 'vano'), ('al', 'fin'), ('con', 'que'), ('no', 'es'), ('los', 'ojos'), ('el', 'viento'), ('en', 'tus'), ('y', 'se'), ('mi', 'alma'), ('la', 'gloria'), ('que', 'le'), ('en', 'ti'), ('el', 'dolor'), ('mi', 'amor'), ('y', 'tu'), ('mi', 'corazón'), ('no', 'hay'), ('un', 'día'), ('amor', 'y'), ('el', 'tiempo'), ('del', 'cielo'), ('mi', 'vida'), ('y', 'del'), ('tus', 'ojos'), ('es', 'un'), ('con', 'sus'), ('la', 'que'), ('no', 'se'), ('del', 'mundo'), ('ni', 'el'), ('y', 'los'), ('y', 'es'), ('no', 'me'), ('y', 'mi'), ('de', 'Dios'), ('y', 'las'), ('que', 'tu'), ('Por', 'qué'), ('en', 'mis'), ('al', 'cielo'), ('que', 'con'), ('que', 'por'), ('con', 'tu'), ('y', 'sin'), ('y', 'un'), ('de', 'luz'), ('hasta', 'el'), ('a', 'sus'), ('la', 'sombra'), ('a', 'ti'), ('y', 'por'), ('a', 'tus'), ('luz', 'de'), ('que', 'su'), ('bajo', 'el'), ('sobre', 'la'), ('la', 'frente'), ('ha', 'de'), ('el', 'día'), ('como', 'una'), ('que', 'si'), ('la', 'mano'), ('la', 'tarde'), ('y', 'si'), ('entre', 'las'), ('la', 'voz'), ('el', 'pecho'), ('el', 'aire'), ('del', 'amor'), ('del', 'alma'), ('a', 'Dios'), ('las', 'flores'), ('la', 'esperanza'), ('el', 'suelo'), ('el', 'bien'), ('cuando', 'el'), ('en', 'mí'), ('que', 'un'), ('al', 'mundo'), ('al', 'que'), ('si', 'el'), ('y', 'me'), ('la', 'fe'), ('Y', 'en'), ('de', 'que'), ('no', 'te'), ('el', 'hombre'), ('si', 'en'), ('en', 'lo'), ('la', 'luna'), ('de', 'aquel'), ('que', 'mi'), ('del', 'sol'), ('por', 'qué'), ('tu', 'amor'), ('el', 'fuego'), ('mi', 'pecho'), ('por', 'los'), ('es', 'de'), ('En', 'la'), ('que', 'yo'), ('ya', 'no'), ('vida', 'y'), ('de', 'lo'), ('los', 'que'), ('que', 'del'), ('a', 'mis'), ('para', 'el'), ('de', 'ser'), ('como', 'la'), ('con', 'un'), ('entre', 'el'), ('su', 'luz'), ('de', 'mí'), ('si', 'no'), ('que', 'los'), ('con', 'las'), ('de', 'ti'), ('bien', 'que'), ('la', 'memoria'), ('En', 'el'), ('amor', 'que'), ('para', 'que'), ('en', 'tanto'), ('de', 'gloria'), ('todo', 'el'), ('mis', 'ojos'), ('de', 'este'), ('por', 'su'), ('que', 'ha'), ('el', 'agua'), ('De', 'la'), ('la', 'virtud'), ('la', 'aurora'), ('en', 'él'), ('y', 'te'), ('la', 'paz'), ('a', 'lo'), ('y', 'sus'), ('la', 'fama'), ('todos', 'los'), ('se', 'ha'), ('en', 'una'), ('que', 'ya'), ('el', 'llanto'), ('la', 'suerte'), ('a', 'mí'), ('en', 'ella'), ('a', 'una'), ('en', 'medio'), ('con', 'los'), ('es', 'tu'), ('tal', 'vez'), ('tu', 'nombre'), ('y', 'más'), ('flor', 'de'), ('sus', 'ojos'), ('por', 'las'), ('de', 'esta'), ('por', 'ti'), ('la', 'patria'), ('tu', 'frente'), ('y', 'yo'), ('otra', 'vez'), ('son', 'de'), ('y', 'lo'), ('tu', 'alma'), ('ante', 'el'), ('en', 'torno'), ('la', 'flor'), ('todo', 'lo'), ('luz', 'que'), ('si', 'es'), ('el', 'más'), ('y', 'aunque'), ('por', 'tu'), ('sol', 'que'), ('tú', 'que'), ('del', 'mar'), ('sé', 'que'), ('el', 'pensamiento'), ('como', 'en'), ('el', 'campo'), ('y', 'una'), ('sol', 'de'), ('sin', 'que'), ('gloria', 'y'), ('y', 'así'), ('que', 'nos'), ('la', 'rosa'), ('del', 'tiempo'), ('y', 'como'), ('del', 'día'), ('la', 'historia'), ('la', 'edad'), ('por', 'mi'), ('la', 'dulce'), ('su', 'vida'), ('que', 'nunca'), ('cielo', 'y'), ('en', 'este'), ('ya', 'de'), ('tu', 'mano'), ('No', 'es'), ('luz', 'del'), ('que', 'lo'), ('he', 'de'), ('de', 'fuego'), ('su', 'voz'), ('la', 'sangre'), ('flores', 'y'), ('desde', 'el'), ('al', 'viento'), ('tu', 'vida'), ('la', 'mañana'), ('el', 'camino'), ('es', 'que'), ('donde', 'el'), ('la', 'pena'), ('bajo', 'la'), ('del', 'dolor'), ('el', 'mal'), ('entre', 'la'), ('ya', 'que'), ('la', 'mente'), ('la', 'verdad'), ('con', 'mi'), ('del', 'que'), ('del', 'olvido'), ('alma', 'de'), ('Y', 'al'), ('los', 'hombres'), ('de', 'dolor'), ('los', 'cielos'), ('al', 'ver'), ('alma', 'mía'), ('que', 'fue'), ('que', 'las'), ('su', 'frente'), ('el', 'rostro'), ('a', 'ser'), ('no', 'le'), ('el', 'fruto'), ('voz', 'de'), ('no', 'más'), ('mi', 'dolor'), ('su', 'amor'), ('entre', 'los'), ('Dios', 'que'), ('el', 'vuelo'), ('la', 'cumbre'), ('la', 'mar'), ('que', 'os'), ('los', 'dos'), ('las', 'olas'), ('es', 'mi'), ('al', 'hombre'), ('la', 'fuente'), ('triste', 'y'), ('y', 'entre'), ('de', 'flores'), ('el', 'mismo'), ('la', 'llama'), ('y', 'aun'), ('toda', 'la'), ('es', 'su'), ('fin', 'de'), ('Y', 'si'), ('oro', 'y'), ('gloria', 'de'), ('ni', 'la'), ('si', 'la'), ('ha', 'sido'), ('dulce', 'y'), ('cuando', 'la'), ('ya', 'la'), ('es', 'más'), ('el', 'Sol'), ('cuando', 'en'), ('la', 'brisa'), ('la', 'gente'), ('el', 'rayo'), ('un', 'tiempo'), ('la', 'hermosura'), ('y', 'cuando'), ('luz', 'y'), ('tanto', 'que'), ('medio', 'de'), ('la', 'envidia'), ('Y', 'el'), ('la', 'razón'), ('vez', 'de'), ('un', 'alma'), ('después', 'de'), ('la', 'más'), ('aquel', 'que'), ('tu', 'voz'), ('no', 'la'), ('si', 'a'), ('como', 'a'), ('las', 'horas'), ('contra', 'el'), ('ya', 'en'), ('mar', 'de'), ('en', 'vez'), ('no', 'sé'), ('y', 'hoy'), ('la', 'mujer'), ('no', 'ha'), ('ni', 'en'), ('que', 'tú'), ('vida', 'que'), ('y', 'otro'), ('por', 'un'), ('el', 'oro'), ('corazón', 'de'), ('en', 'esta'), ('las', 'almas'), ('a', 'veces'), ('sombra', 'de'), ('la', 'faz'), ('mi', 'bien'), ('ser', 'de'), ('la', 'nieve'), ('la', 'vista'), ('todas', 'las'), ('vida', 'en'), ('pues', 'no'), ('no', 'lo'), ('amor', 'de'), ('que', 'hoy'), ('y', 'tú'), ('o', 'de'), ('al', 'alma'), ('que', 'una'), ('tu', 'corazón'), ('un', 'beso'), ('los', 'campos'), ('al', 'sol'), ('más', 'de'), ('junto', 'a'), ('hasta', 'la'), ('las', 'sombras'), ('sin', 'cesar'), ('de', 'amores'), ('dolor', 'y'), ('el', 'cuerpo'), ('y', 'tan'), ('la', 'victoria'), ('yo', 'te'), ('las', 'manos'), ('el', 'río'), ('amor', 'en'), ('la', 'mirada'), ('me', 'ha'), ('al', 'mar'), ('tras', 'la'), ('la', 'blanca'), ('por', 'más'), ('el', 'nombre'), ('si', 'de'), ('el', 'eco'), ('su', 'mano'), ('y', 'pura'), ('el', 'de'), ('tu', 'boca'), ('de', 'nuestra'), ('tiempo', 'que'), ('las', 'nubes'), ('la', 'ilusión'), ('las', 'ondas'), ('a', 'que'), ('Tú', 'que'), ('Mas', 'si'), ('la', 'divina'), ('la', 'dicha'), ('alma', 'que'), ('la', 'cabeza'), ('del', 'corazón'), ('tan', 'sólo'), ('mi', 'espíritu'), ('rayo', 'de'), ('la', 'nada'), ('tus', 'labios'), ('llena', 'de'), ('los', 'mares'), ('el', 'canto'), ('el', 'silencio'), ('cielo', 'de'), ('el', 'placer'), ('día', 'y'), ('de', 'España'), ('de', 'plata'), ('vida', 'de'), ('el', 'bosque'), ('ojos', 'y'), ('la', 'fortuna'), ('y', 'mis'), ('tu', 'hermosura'), ('porque', 'el'), ('de', 'nieve'), ('tus', 'pies'), ('alma', 'y'), ('ya', 'el'), ('yo', 'que'), ('en', 'todo'), ('el', 'dulce'), ('la', 'alegría'), ('un', 'mundo'), ('hacia', 'el'), ('de', 'alegría'), ('sangre', 'de'), ('tu', 'mirada'), ('el', 'gran'), ('que', 'siempre'), ('el', 'seno'), ('por', 'ser'), ('de', 'nuevo'), ('la', 'cruz'), ('amor', 'la'), ('la', 'tumba'), ('que', 'he'), ('campos', 'de'), ('lo', 'mismo'), ('allá', 'en'), ('y', 'le'), ('o', 'el'), ('a', 'todos'), ('tu', 'luz'), ('hasta', 'que'), ('pues', 'que'), ('es', 'una'), ('mi', 'frente'), ('Si', 'el'), ('la', 'montaña'), ('mi', 'mente'), ('y', 'ya'), ('mas', 'no'), ('que', 'está'), ('por', 'quien'), ('la', 'selva'), ('la', 'eterna'), ('de', 'quien'), ('los', 'astros'), ('los', 'años'), ('mi', 'ser'), ('dolor', 'que'), ('su', 'pecho'), ('el', 'olvido'), ('se', 'le'), ('la', 'pasión'), ('el', 'ave'), ('para', 'mí'), ('alma', 'en'), ('vida', 'el'), ('yo', 'no'), ('la', 'imagen'), ('las', 'cosas'), ('y', 'amor'), ('mundo', 'en'), ('del', 'viento'), ('noche', 'de'), ('A', 'la'), ('parece', 'que'), ('Y', 'así'), ('la', 'lira'), ('las', 'aguas'), ('el', 'fin'), ('la', 'Cruz'), ('de', 'sí'), ('color', 'de'), ('la', 'lucha'), ('en', 'fin'), ('de', 'repente'), ('sin', 'fin'), ('y', 'triste'), ('tu', 'pecho'), ('la', 'libertad'), ('oro', 'de'), ('mismo', 'que'), ('si', 'al'), ('el', 'monte'), ('uno', 'y'), ('que', 'son'), ('ojos', 'de'), ('el', 'azul'), ('sobre', 'las'), ('se', 'levanta'), ('la', 'Muerte'), ('azul', 'de'), ('para', 'siempre'), ('que', 'más'), ('el', 'pueblo'), ('lo', 'más'), ('lleno', 'de'), ('porque', 'en'), ('al', 'corazón'), ('al', 'pie'), ('un', 'gran'), ('el', 'sueño'), ('mujer', 'que'), ('la', 'hermosa'), ('la', 'herida'), ('un', 'corazón'), ('No', 'hay'), ('que', 'todo'), ('tus', 'manos'), ('al', 'son'), ('que', 'hay'), ('un', 'instante'), ('la', 'conciencia'), ('de', 'estrellas'), ('los', 'labios'), ('mundo', 'y'), ('tu', 'gloria'), ('el', 'alba'), ('su', 'muerte'), ('cuanto', 'más'), ('y', 'tus'), ('las', 'aves'), ('su', 'boca'), ('y', 'fuerte'), ('de', 'tal'), ('cual', 'la'), ('tierra', 'y'), ('en', 'donde'), ('una', 'vez'), ('las', 'estrellas'), ('voz', 'del'), ('frente', 'y'), ('horas', 'de'), ('Es', 'la'), ('su', 'cuerpo'), ('porque', 'es'), ('la', 'alta'), ('la', 'senda'), ('ver', 'que'), ('cielo', 'en'), ('las', 'rosas'), ('pura', 'y'), ('es', 'tan'), ('tu', 'memoria'), ('su', 'nombre'), ('de', 'sol'), ('sus', 'lágrimas'), ('del', 'mal'), ('que', 'aun'), ('de', 'vida'), ('el', 'alto'), ('la', 'ley'), ('ni', 'de'), ('una', 'mujer'), ('que', 'para'), ('de', 'muerte'), ('la', 'de'), ('el', 'mármol'), ('te', 'ha'), ('la', 'playa'), ('y', 'todo'), ('fulgor', 'de'), ('la', 'ciudad'), ('noche', 'y'), ('la', 'humana'), ('está', 'en'), ('el', 'otro'), ('tu', 'seno'), ('las', 'alas'), ('la', 'espada'), ('de', 'aquella'), ('fuego', 'y'), ('voz', 'que'), ('el', 'paso'), ('se', 'me'), ('tiempo', 'y'), ('que', 'aunque'), ('un', 'rayo'), ('su', 'hermosura'), ('fue', 'de'), ('en', 'pos'), ('corazón', 'que'), ('el', 'primer'), ('me', 'parece'), ('que', 'tiene'), ('de', 'todo'), ('ni', 'un'), ('la', 'existencia'), ('la', 'tormenta'), ('su', 'alma'), ('pena', 'y'), ('se', 'aleja'), ('por', 'fin'), ('vida', 'es'), ('su', 'gloria'), ('tu', 'cuerpo'), ('el', 'ser'), ('mal', 'que'), ('en', 'cada'), ('la', 'lluvia'), ('ay', 'que'), ('dolor', 'de'), ('la', 'ciencia'), ('el', 'ambiente'), ('Y', 'es'), ('Si', 'en'), ('con', 'tus'), ('noche', 'oscura'), ('fuego', 'que'), ('hay', 'en'), ('Mas', 'ay'), ('del', 'hombre'), ('pie', 'de'), ('la', 'calma'), ('el', 'triste'), ('eco', 'de'), ('Es', 'un'), ('la', 'belleza'), ('sobre', 'su'), ('de', 'mil'), ('Yo', 'soy'), ('soplo', 'de'), ('la', 'pradera'), ('sol', 'en'), ('mía', 'que'), ('corazón', 'y'), ('mundo', 'de'), ('un', 'hombre'), ('es', 'ya'), ('que', 'va'), ('el', 'orbe'), ('a', 'través'), ('ojos', 'que'), ('que', 'sólo'), ('día', 'que'), ('los', 'vientos'), ('sólo', 'el'), ('la', 'hora'), ('Yo', 'no'), ('mi', 'mal'), ('sus', 'labios'), ('mar', 'y'), ('ser', 'que'), ('todo', 'es'), ('el', 'abismo'), ('amor', 'es'), ('el', 'claro'), ('tan', 'grande'), ('desde', 'la'), ('y', 'hasta'), ('la', 'copa'), ('en', 'paz'), ('tu', 'rostro'), ('de', 'rosas'), ('la', 'altura'), ('para', 'ti'), ('Y', 'a'), ('cielo', 'que'), ('lejos', 'de'), ('la', 'armonía'), ('noches', 'de'), ('fuego', 'de'), ('día', 'en'), ('la', 'palma'), ('Y', 'cuando'), ('donde', 'la'), ('mi', 'pensamiento'), ('qué', 'me'), ('un', 'momento'), ('el', 'arte'), ('la', 'negra'), ('ni', 'a'), ('la', 'corriente'), ('el', 'último'), ('la', 'fuerza'), ('o', 'en'), ('del', 'Sol'), ('por', 'lo'), ('la', 'tristeza'), ('de', 'Madrid'), ('la', 'fiera'), ('el', 'manto'), ('el', 'Cielo'), ('En', 'vano'), ('a', 'ver'), ('de', 'cristal'), ('al', 'suelo'), ('paz', 'y'), ('está', 'el'), ('Hoy', 'que'), ('en', 'flor'), ('no', 'puede'), ('que', 'sus'), ('tu', 'dulce'), ('tú', 'eres'), ('que', 'hace'), ('azul', 'del'), ('la', 'madre'), ('Dios', 'y'), ('sus', 'rayos'), ('tu', 'muerte'), ('el', 'destino'), ('un', 'solo'), ('he', 'visto'), ('que', 'era'), ('mi', 'pena'), ('siempre', 'en'), ('una', 'estrella'), ('no', 'en'), ('del', 'bien'), ('y', 'fría'), ('como', 'tú'), ('beso', 'de'), ('los', 'brazos'), ('imagen', 'de'), ('través', 'de'), ('Cuando', 'en'), ('cuando', 'a'), ('que', 'tanto'), ('lo', 'lejos'), ('y', 'frío'), ('tu', 'belleza'), ('la', 'niebla'), ('lágrimas', 'el'), ('sueños', 'de'), ('han', 'de'), ('al', 'amor'), ('su', 'mirada'), ('muerte', 'y'), ('la', 'orilla'), ('del', 'suelo'), ('día', 'de'), ('la', 'idea'), ('una', 'flor'), ('de', 'paz'), ('del', 'camino'), ('has', 'de'), ('mis', 'males'), ('de', 'sangre'), ('en', 'tan'), ('de', 'nuestro'), ('en', 'vida'), ('sol', 'y'), ('llama', 'que'), ('al', 'aire'), ('del', 'destino'), ('ya', 'se'), ('sólo', 'en'), ('qué', 'no'), ('vez', 'en'), ('hermosura', 'y'), ('la', 'mía'), ('fe', 'de'), ('en', 'quien'), ('la', 'ribera'), ('seno', 'de'), ('mi', 'suerte'), ('no', 'puedo'), ('con', 'ella'), ('De', 'tu'), ('son', 'los'), ('cuando', 'al'), ('de', 'todos'), ('como', 'si'), ('alma', 'del'), ('que', 'sin'), ('el', 'templo'), ('de', 'tan'), ('quien', 'el'), ('vida', 'la'), ('Los', 'campos'), ('aquí', 'sus'), ('hermosa', 'y'), ('con', 'amor'), ('pesar', 'de'), ('y', 'ella'), ('a', 'vos'), ('un', 'cielo'), ('el', 'desierto'), ('da', 'la'), ('ante', 'la'), ('a', 'pesar'), ('los', 'amores'), ('Y', 'de'), ('los', 'mortales'), ('mi', 'ventura'), ('eres', 'la'), ('fuerza', 'de'), ('por', 'eso'), ('viento', 'y'), ('Sobre', 'el'), ('mi', 'triste'), ('Mas', 'no'), ('mí', 'que'), ('las', 'dos'), ('No', 'te'), ('la', 'ambición'), ('al', 'morir'), ('la', 'espuma'), ('mano', 'que'), ('de', 'vos'), ('y', 'mil'), ('es', 'del'), ('cual', 'si'), ('mis', 'versos'), ('mi', 'llanto'), ('bien', 'de'), ('un', 'soneto'), ('el', 'cristal'), ('el', 'velo'), ('vuelve', 'a'), ('Dios', 'en'), ('siempre', 'el'), ('sol', 'la'), ('Madrid', 'Isidro'), ('Isidro', 'santo'), ('sembrando', 'aquí'), ('el', 'recuerdo'), ('si', 'me'), ('al', 'punto'), ('la', 'guerra'), ('por', 'siempre'), ('suelo', 'y'), ('el', 'pobre'), ('su', 'memoria'), ('Y', 'la'), ('el', 'peso'), ('que', 'hasta'), ('mi', 'pasión'), ('en', 'llanto'), ('la', 'arena'), ('que', 'da'), ('y', 'él'), ('un', 'sol'), ('amor', 'el'), ('nuestra', 'vida'), ('el', 'sentimiento'), ('ti', 'se'), ('con', 'él'), ('llama', 'de'), ('su', 'faz'), ('al', 'verte'), ('gracia', 'y'), ('Dios', 'el'), ('la', 'primera'), ('su', 'fama'), ('de', 'ver'), ('rosa', 'que'), ('Ya', 'no'), ('de', 'ella'), ('mas', 'si'), ('de', 'pasión'), ('te', 'adoro'), ('de', 'él'), ('manos', 'de'), ('y', 'sobre'), ('que', 'ayer'), ('tiene', 'el'), ('que', 'amor'), ('Es', 'el'), ('la', 'mayor'), ('por', 'no'), ('el', 'uno'), ('se', 'estremece'), ('los', 'pies'), ('el', 'ocaso'), ('medio', 'del'), ('su', 'seno'), ('un', 'nuevo'), ('de', 'rosa'), ('Y', 'no'), ('la', 'triste'), ('que', 'ni'), ('el', 'ánimo'), ('por', 'tus'), ('En', 'su'), ('el', 'fulgor'), ('Que', 'si'), ('los', 'montes'), ('porque', 'no'), ('memoria', 'de'), ('de', 'placer'), ('de', 'Cristo'), ('la', 'misma'), ('flores', 'de'), ('rosas', 'de'), ('y', 'sólo'), ('en', 'tal'), ('el', 'árbol'), ('y', 'gloria'), ('de', 'esa'), ('oh', 'Dios'), ('mi', 'tormento'), ('vida', 'a'), ('donde', 'se'), ('hay', 'que'), ('el', 'valor'), ('las', 'penas'), ('el', 'polvo'), ('no', 'pudo'), ('lecho', 'de'), ('que', 'como'), ('el', 'pie'), ('mi', 'fe'), ('a', 'todo'), ('Y', 'aunque'), ('el', 'aura'), ('mi', 'esperanza'), ('con', 'mis'), ('en', 'esa'), ('tus', 'brazos'), ('que', 'jamás'), ('tú', 'de'), ('sombras', 'de'), ('En', 'mi'), ('flores', 'que'), ('el', 'resplandor'), ('su', 'dolor'), ('mi', 'patria'), ('honor', 'de'), ('Cuando', 'la'), ('el', 'genio'), ('amor', 'no'), ('la', 'grandeza'), ('amor', 'a'), ('te', 'da'), ('Señor', 'que'), ('más', 'allá'), ('ha', 'dado'), ('un', 'sueño'), ('de', 'colores'), ('se', 'mira'), ('mi', 'voz'), ('esperanza', 'y'), ('su', 'tesoro'), ('la', 'vez'), ('está', 'la'), ('del', 'pasado'), ('se', 've'), ('los', 'días'), ('fin', 'la'), ('el', 'hondo'), ('la', 'Virgen'), ('pecho', 'de'), ('la', 'esfera'), ('No', 'me'), ('su', 'rostro'), ('pues', 'el'), ('con', 'tal'), ('aunque', 'el'), ('del', 'pecho'), ('mi', 'boca'), ('los', 'aires'), ('tiempo', 'en'), ('el', 'verso'), ('es', 'lo'), ('un', 'pueblo'), ('muerte', 'en'), ('en', 'sí'), ('el', 'fondo'), ('junto', 'al'), ('el', 'hado'), ('rumor', 'de'), ('gloria', 'que'), ('tu', 'ingenio'), ('la', 'espesura'), ('antes', 'que'), ('en', 'Dios'), ('fuerte', 'y'), ('labios', 'de'), ('y', 'luz'), ('el', 'labio'), ('Yo', 'te'), ('hay', 'un'), ('mi', 'lira'), ('que', 'tan'), ('fue', 'el'), ('su', 'nido'), ('su', 'cabeza'), ('Si', 'la'), ('tiempo', 'de'), ('la', 'región'), ('las', 'Musas'), ('te', 'he'), ('me', 'da'), ('poder', 'de'), ('la', 'duda'), ('luz', 'en'), ('mi', 'existencia'), ('del', 'genio'), ('o', 'un'), ('su', 'aliento'), ('el', 'beso'), ('sueño', 'de'), ('le', 'dio'), ('silencio', 'de'), ('hacia', 'la'), ('o', 'que'), ('a', 'tal'), ('Como', 'el'), ('manto', 'de'), ('el', 'confín'), ('ardiente', 'y'), ('pena', 'que'), ('de', 'más'), ('alas', 'de'), ('En', 'un'), ('se', 'alza'), ('y', 'ante'), ('mis', 'brazos'), ('la', 'nave'), ('llega', 'a'), ('la', 'cual'), ('el', 'poder'), ('placer', 'y'), ('tu', 'poder'), ('la', 'piedad'), ('Ya', 'el'), ('la', 'Parca'), ('la', 'vejez'), ('alma', 'a'), ('vez', 'la'), ('las', 'tinieblas'), ('hoy', 'que'), ('con', 'voz'), ('si', 'un'), ('de', 'ventura'), ('la', 'ventura'), ('alma', 'se'), ('la', 'estrella'), ('alma', 'con'), ('del', 'gran'), ('corona', 'de'), ('sus', 'alas'), ('te', 'dio'), ('sin', 'par'), ('tan', 'dulce'), ('Lo', 'que'), ('que', 'has'), ('pos', 'de'), ('lo', 'infinito'), ('antes', 'de'), ('de', 'morir'), ('al', 'cabo'), ('el', 'nido'), ('aliento', 'y'), ('su', 'carrera'), ('y', 'luego'), ('la', 'pluma'), ('amor', 'me'), ('y', 'dulce'), ('de', 'otro'), ('de', 'virtud'), ('sin', 'ti'), ('la', 'Historia'), ('en', 'ese'), ('una', 'sombra'), ('va', 'a'), ('el', 'jardín'), ('son', 'las'), ('amor', 'con'), ('ni', 'una'), ('cáliz', 'de'), ('fin', 'que'), ('su', 'camino'), ('paz', 'de'), ('de', 'dos'), ('es', 'para'), ('el', 'odio'), ('se', 'atreve'), ('el', 'cáliz'), ('ay', 'de'), ('del', 'orbe'), ('y', 'siempre'), ('si', 'te'), ('de', 'ese'), ('las', 'plantas'), ('eres', 'tú'), ('se', 'derrama'), ('sobre', 'los'), ('el', 'triunfo'), ('rey', 'de'), ('a', 'España'), ('de', 'Jesús'), ('hora', 'de'), ('ni', 'al'), ('Por', 'eso'), ('ojos', 'en'), ('de', 'Apolo'), ('le', 'da'), ('por', 'vos'), ('la', 'sed'), ('bien', 'y'), ('la', 'puerta'), ('donde', 'no'), ('perfume', 'de'), ('un', 'mar'), ('su', 'vuelo'), ('del', 'bosque'), ('la', 'gran'), ('no', 'tiene'), ('quien', 'la'), ('la', 'última'), ('al', 'otro'), ('el', 'altar'), ('a', 'más'), ('que', 'Dios'), ('sus', 'pies'), ('tierra', 'en'), ('el', 'espacio'), ('voy', 'a'), ('de', 'vuestro'), ('A', 'tu'), ('tú', 'la'), ('mi', 'cuerpo'), ('que', 'siento'), ('mano', 'el'), ('ver', 'la'), ('un', 'Dios'), ('me', 'dio'), ('más', 'se'), ('una', 'rosa'), ('le', 'ha'), ('Dios', 'la'), ('que', 'eres'), ('en', 'breve'), ('dio', 'la'), ('aun', 'no'), ('que', 'dio'), ('tras', 'de'), ('Ya', 'la'), ('la', 'miel'), ('los', 'males'), ('el', 'pan'), ('sus', 'manos'), ('grito', 'de'), ('más', 'la'), ('tu', 'aliento'), ('del', 'jardín'), ('el', 'daño'), ('cuerpo', 'de'), ('quien', 'no'), ('gloria', 'en'), ('el', 'vacío'), ('y', 'fue'), ('el', 'deseo'), ('cielo', 'la'), ('su', 'sangre'), ('la', 'nube'), ('y', 'bajo'), ('son', 'del'), ('al', 'tiempo'), ('la', 'virgen'), ('canto', 'de'), ('los', 'siglos'), ('mis', 'sueños'), ('el', 'golpe'), ('no', 'quiero'), ('en', 'cuanto'), ('el', 'ardor'), ('en', 'lágrimas'), ('la', 'lumbre'), ('todo', 'un'), ('llanto', 'que'), ('de', 'luna'), ('tu', 'faz'), ('de', 'no'), ('de', 'amargura'), ('de', 'tanto'), ('ojos', 'a'), ('Si', 'a'), ('frente', 'de'), ('montes', 'y'), ('de', 'púrpura'), ('en', 'nuestra'), ('cuando', 'se'), ('pero', 'no'), ('en', 'sangre'), ('la', 'lengua'), ('más', 'pura'), ('da', 'a'), ('mi', 'memoria'), ('en', 'vos'), ('la', 'agonía'), ('grande', 'y'), ('del', 'firmamento'), ('de', 'esperanza'), ('sí', 'mismo'), ('al', 'par'), ('se', 'inclina'), ('mas', 'ay'), ('la', 'cadena'), ('nombre', 'y'), ('como', 'las'), ('de', 'lágrimas'), ('los', 'rigores'), ('suerte', 'que'), ('brazos', 'de'), ('flor', 'que'), ('sobre', 'un'), ('a', 'tanta'), ('esta', 'vida'), ('del', 'pecado'), ('no', 'has'), ('Dios', 'no'), ('más', 'bella'), ('del', 'placer'), ('pues', 'de'), ('el', 'hierro'), ('la', 'ardiente'), ('mis', 'labios'), ('fe', 'y'), ('fondo', 'de'), ('vuelo', 'y'), ('de', 'hinojos'), ('un', 'amor'), ('ansias', 'de'), ('jardín', 'de'), ('dicha', 'y'), ('Por', 'el'), ('bella', 'y'), ('cada', 'día'), ('el', 'vivir'), ('sin', 'segundo'), ('se', 'vio'), ('El', 'sol'), ('fue', 'su'), ('Dios', 'te'), ('triste', 'de'), ('de', 'algún'), ('tierra', 'el'), ('dice', 'el'), ('el', 'cuello'), ('es', 'a'), ('dicen', 'que'), ('porque', 'la'), ('la', 'azul'), ('dentro', 'del'), ('ser', 'en'), ('el', 'hielo'), ('llanto', 'de'), ('mía', 'y'), ('el', 'poeta'), ('lágrimas', 'de'), ('el', 'calor'), ('el', 'grito'), ('del', 'río'), ('tu', 'sonrisa'), ('Sol', 'de'), ('con', 'una'), ('campo', 'de'), ('amores', 'y'), ('ti', 'no'), ('canta', 'el'), ('luz', 'el'), ('sin', 'temor'), ('alegre', 'y'), ('llanto', 'y'), ('se', 'siente'), ('al', 'nacer'), ('allá', 'de'), ('el', 'acero'), ('más', 'fuerte'), ('se', 'agita'), ('del', 'Parnaso'), ('la', 'roca'), ('que', 'cuando'), ('es', 'como'), ('la', 'Fama'), ('Con', 'el'), ('y', 'para'), ('mis', 'dolores'), ('que', 'antes'), ('era', 'un'), ('ha', 'muerto'), ('un', 'buen'), ('no', 'he'), ('da', 'el'), ('nuestro', 'amor'), ('el', 'lecho'), ('que', 'tus'), ('a', 'dar'), ('corazón', 'se'), ('la', 'quietud'), ('cuando', 'más'), ('con', 'mano'), ('más', 'grande'), ('luz', 'la'), ('los', 'sueños'), ('libro', 'de'), ('los', 'ríos'), ('algún', 'día'), ('tierra', 'que'), ('virtud', 'y'), ('cielo', 'se'), ('la', 'corona'), ('mi', 'deseo'), ('un', 'bien'), ('forma', 'de'), ('de', 'diamante'), ('a', 'cada'), ('así', 'en'), ('mejor', 'que'), ('hasta', 'los'), ('por', 'donde'), ('la', 'amargura'), ('mis', 'penas'), ('la', 'causa'), ('en', 'dulce'), ('pura', 'que'), ('el', 'universo'), ('tu', 'espíritu'), ('del', 'alto'), ('sol', 'su'), ('a', 'este'), ('el', 'misterio'), ('de', 'horror'), ('el', 'prado'), ('las', 'hojas'), ('oro', 'que'), ('han', 'sido'), ('de', 'ilusión'), ('y', 'cual'), ('su', 'espíritu'), ('mis', 'amores'), ('un', 'punto'), ('tu', 'cabeza'), ('golpe', 'de'), ('envuelto', 'en'), ('los', 'rayos'), ('soy', 'un'), ('el', 'soneto'), ('lugar', 'de'), ('tu', 'lado'), ('en', 'dos'), ('de', 'consuelo'), ('y', 'cuanto'), ('que', 'sea'), ('pero', 'el'), ('el', 'verde'), ('fe', 'que'), ('divino', 'y'), ('que', 'entre'), ('una', 'voz'), ('viento', 'en'), ('vano', 'el'), ('las', 'glorias'), ('el', 'cabello'), ('ni', 'se'), ('sólo', 'es'), ('el', 'negro'), ('el', 'llano'), ('el', 'horizonte'), ('la', 'llanura'), ('mirada', 'y'), ('viene', 'a'), ('de', 'haber'), ('la', 'cuna'), ('un', 'gemido'), ('las', 'puertas'), ('sed', 'de'), ('llora', 'y'), ('calor', 'de'), ('Mas', 'el'), ('un', 'árbol'), ('tu', 'canto'), ('sobre', 'mi'), ('mí', 'me'), ('vino', 'a'), ('al', 'pasar'), ('te', 'miro'), ('A', 'qué'), ('de', 'toda'), ('el', 'vino'), ('la', 'excelsa'), ('al', 'mismo'), ('del', 'arte'), ('el', 'sepulcro'), ('resplandor', 'de'), ('la', 'inocencia'), ('día', 'el'), ('en', 'cambio'), ('no', 'de'), ('en', 'tierra'), ('si', 'fuera'), ('que', 'él'), ('en', 'ellos'), ('la', 'acción'), ('del', 'agua'), ('una', 'noche'), ('amor', 'mío'), ('amor', 'te'), ('tu', 'sangre'), ('está', 'de'), ('las', 'noches'), ('mi', 'mano'), ('el', 'brazo'), ('mi', 'destino'), ('que', 'ella'), ('se', 'convierte'), ('mi', 'cuidado'), ('ti', 'de'), ('la', 'casa'), ('el', 'ruiseñor'), ('sus', 'flores'), ('la', 'Aurora'), ('verdad', 'que'), ('torno', 'de'), ('tu', 'acento'), ('se', 'dilata'), ('El', 'que'), ('y', 'oro'), ('llegar', 'a'), ('do', 'el'), ('este', 'día'), ('pues', 'si'), ('de', 'tristeza'), ('en', 'vuestra'), ('las', 'gentes'), ('fin', 'a'), ('quien', 'se'), ('el', 'ángel'), ('y', 'flores'), ('De', 'un'), ('sobre', 'tu'), ('tras', 'el'), ('viento', 'que'), ('amor', 'se'), ('el', 'blanco'), ('Y', 'yo'), ('besos', 'de'), ('el', 'mayor'), ('el', 'invierno'), ('y', 'otra'), ('de', 'pronto'), ('Oh', 'tú'), ('la', 'gracia'), ('que', 'así'), ('más', 'no'), ('su', 'fe'), ('del', 'pensamiento'), ('que', 'llora'), ('Como', 'un'), ('hombre', 'que'), ('el', 'buen'), ('labios', 'rojos'), ('corazón', 'en'), ('tu', 'fama'), ('fuente', 'de'), ('en', 'luz'), ('el', 'humo'), ('así', 'el'), ('al', 'mirar'), ('la', 'culpa'), ('su', 'belleza'), ('nombre', 'de'), ('este', 'mundo'), ('de', 'Oriente'), ('rayos', 'de'), ('tierra', 'de'), ('se', 'han'), ('mi', 'afán'), ('su', 'grandeza'), ('las', 'que'), ('del', 'pueblo'), ('no', 'que'), ('de', 'tanta'), ('visión', 'de'), ('un', 'dulce'), ('fue', 'tu'), ('por', 'sus'), ('que', 'soy'), ('es', 'en'), ('ni', 'aun'), ('mí', 'la'), ('yo', 'la'), ('me', 'siento'), ('de', 'qué'), ('mar', 'en'), ('se', 'puede'), ('el', 'semblante'), ('las', 'alturas'), ('De', 'su'), ('la', 'extensión'), ('el', 'honor'), ('Y', 'tú'), ('como', 'yo'), ('sus', 'hojas'), ('por', 'mí'), ('con', 'tan'), ('la', 'atmósfera'), ('Si', 'es'), ('quien', 'te'), ('de', 'ternura'), ('Y', 'por'), ('sangre', 'que'), ('Qué', 'es'), ('por', 'que'), ('pues', 'a'), ('y', 'pues'), ('tu', 'presencia'), ('para', 'la'), ('no', 'son'), ('el', 'astro'), ('porque', 'si'), ('los', 'colores'), ('el', 'fuerte'), ('de', 'Castilla'), ('para', 'los'), ('yo', 'me'), ('Mas', 'ya'), ('puso', 'en'), ('La', 'noche'), ('que', 'pasa'), ('de', 'pena'), ('así', 'como'), ('la', 'humanidad'), ('la', 'batalla'), ('y', 'día'), ('en', 'cuyo'), ('pues', 'la'), ('se', 'va'), ('más', 'en'), ('ya', 'es'), ('claro', 'día'), ('mi', 'muerte'), ('la', 'inmortal'), ('entre', 'sus'), ('la', 'onda'), ('el', 'sacro'), ('tu', 'imagen'), ('mi', 'gloria'), ('la', 'risa'), ('vivir', 'en'), ('mi', 'juventud'), ('me', 'diste'), ('el', 'viejo'), ('la', 'Luna'), ('en', 'silencio'), ('sólo', 'a'), ('del', 'aire'), ('Dios', 'con'), ('mujer', 'y'), ('las', 'ramas'), ('el', 'sabio'), ('y', 'allí'), ('la', 'inmensa'), ('los', 'sentidos'), ('sin', 'duda'), ('de', 'seda'), ('la', 'diestra'), ('si', 'bien'), ('mar', 'que'), ('los', 'dioses'), ('vive', 'en'), ('su', 'corazón'), ('tu', 'ser'), ('la', 'lid'), ('la', 'santa'), ('el', 'Oriente'), ('la', 'bóveda'), ('frío', 'y'), ('mi', 'edad'), ('Qué', 'me'), ('libre', 'de'), ('no', 'a'), ('pecho', 'y'), ('a', 'tan'), ('su', 'fin'), ('fue', 'la'), ('de', 'hoy'), ('tus', 'pupilas'), ('bien', 'se'), ('su', 'presencia'), ('yo', 'de'), ('las', 'edades'), ('o', 'la'), ('por', 'ella'), ('de', 'marfil'), ('azul', 'y'), ('con', 'afán'), ('las', 'armas'), ('me', 'has'), ('sólo', 'al'), ('diez', 'mil'), ('anhelo', 'y'), ('para', 'ser'), ('su', 'ser'), ('su', 'destino'), ('a', 'solas'), ('mi', 'madre'), ('Si', 'no'), ('el', 'infierno'), ('sangre', 'y'), ('del', 'árbol'), ('su', 'historia'), ('del', 'sueño'), ('la', 'turba'), ('la', 'noble'), ('no', 'soy'), ('dolor', 'con'), ('sin', 'tino'), ('miel', 'de'), ('la', 'bella'), ('pecho', 'la'), ('camino', 'y'), ('sólo', 'por'), ('su', 'gran'), ('de', 'zafir'), ('cielo', 'con'), ('un', 'ave'), ('llama', 'y'), ('se', 'inflama'), ('el', 'encanto'), ('el', 'Arte'), ('se', 'lo'), ('de', 'hielo'), ('España', 'y'), ('A', 'ti'), ('cielo', 'azul'), ('de', 'primavera'), ('su', 'canción'), ('muestra', 'el'), ('el', 'duro'), ('no', 'os'), ('sin', 'piedad'), ('mis', 'venas'), ('la', 'miseria'), ('del', 'abismo'), ('no', 'fue'), ('la', 'boca'), ('la', 'carne'), ('con', 'furor'), ('así', 'de'), ('Que', 'el'), ('y', 'llanto'), ('no', 'fuera'), ('la', 'forma'), ('fruto', 'de'), ('un', 'dolor'), ('y', 'fiero'), ('Cuántas', 'veces'), ('En', 'tu'), ('de', 'acero'), ('rosa', 'de'), ('la', 'otra'), ('bajo', 'un'), ('Ay', 'que'), ('sus', 'brazos'), ('el', 'bronce'), ('mundo', 'a'), ('en', 'mil'), ('del', 'alba'), ('los', 'ángeles'), ('los', 'más'), ('llenos', 'de'), ('ve', 'que'), ('si', 'tú'), ('tu', 'llanto'), ('el', 'instante'), ('su', 'poder'), ('sombra', 'en'), ('su', 'canto'), ('rostro', 'de'), ('las', 'lágrimas'), ('alegría', 'y'), ('detrás', 'de'), ('llenas', 'de'), ('muerte', 'a'), ('de', 'aquellos'), ('entre', 'tus'), ('un', 'poco'), ('a', 'tanto'), ('mi', 'Dios'), ('mío', 'y'), ('que', 'guarda'), ('la', 'del'), ('canta', 'y'), ('Dios', 'de'), ('vida', 'con'), ('con', 'espanto'), ('la', 'bruma'), ('mi', 'nombre'), ('Y', 'pues'), ('en', 'nuestro'), ('para', 'su'), ('el', 'morir'), ('frente', 'al'), ('los', 'dolores'), ('las', 'mujeres'), ('te', 'adora'), ('voz', 'y'), ('peso', 'de'), ('siento', 'que'), ('la', 'jornada'), ('te', 'quiero'), ('abismo', 'de'), ('la', 'amistad'), ('el', 'curso'), ('esto', 'es'), ('siempre', 'a'), ('pues', 'tu'), ('y', 'qué'), ('el', 'ancho'), ('un', 'pensamiento'), ('el', 'puerto'), ('tu', 'grandeza'), ('pueblo', 'que'), ('vuelvo', 'a'), ('un', 'suspiro'), ('el', 'Orbe'), ('recuerdo', 'de'), ('con', 'dolor'), ('el', 'reposo'), ('faz', 'de'), ('este', 'suelo'), ('su', 'llama'), ('tú', 'no'), ('en', 'ellas'), ('y', 'ciego'), ('yo', 'en'), ('en', 'otro'), ('dura', 'y'), ('para', 'mi'), ('el', 'suave'), ('Tú', 'eres'), ('años', 'de'), ('mil', 'veces'), ('una', 'fuente'), ('con', 'fe'), ('el', 'profundo'), ('el', 'espíritu'), ('el', 'Amor'), ('el', 'miedo'), ('lleva', 'el'), ('es', 'amor'), ('mi', 'albedrío'), ('el', 'coro'), ('más', 'el'), ('en', 'lugar'), ('al', 'paso'), ('su', 'mayor'), ('hay', 'una'), ('la', 'clara'), ('estrella', 'que'), ('del', 'campo'), ('canto', 'que'), ('tu', 'beldad'), ('al', 'dolor'), ('la', 'materia'), ('el', 'trono'), ('muerte', 'que'), ('de', 'gozo'), ('del', 'Oriente'), ('de', 'Marte'), ('el', 'dios'), ('y', 'bella'), ('aun', 'el'), ('de', 'otros'), ('el', 'orgullo'), ('noble', 'y'), ('sin', 'luz'), ('yo', 'por'), ('ardiente', 'de'), ('más', 'alto'), ('envuelta', 'en'), ('a', 'otro'), ('día', 'la'), ('de', 'perlas'), ('templo', 'de'), ('ser', 'la'), ('fue', 'mi'), ('luz', 'pura'), ('el', 'valle'), ('En', 'sus'), ('y', 'mientras'), ('también', 'de'), ('mundo', 'que'), ('al', 'Sol'), ('al', 'verla'), ('cielo', 'a'), ('de', 'vivir'), ('la', 'palabra'), ('su', 'anhelo'), ('a', 'todas'), ('sé', 'si'), ('la', 'ventana'), ('una', 'gota'), ('gota', 'de'), ('desde', 'que'), ('mundo', 'la'), ('se', 'apaga'), ('mal', 'de'), ('pensar', 'que'), ('Sé', 'que'), ('el', 'tesoro'), ('llora', 'el'), ('Dios', 'por'), ('vuelo', 'de'), ('el', 'pastor'), ('eterna', 'y'), ('del', 'divino'), ('mi', 'daño'), ('soy', 'de'), ('un', 'año'), ('la', 'tuya'), ('de', 'llorar'), ('las', 'pasiones'), ('los', 'muertos'), ('dio', 'a'), ('fuerza', 'del'), ('al', 'pecho'), ('y', 'llora'), ('cuando', 'de'), ('el', 'don'), ('en', 'noche'), ('la', 'Gloria'), ('cielo', 'el'), ('colores', 'y'), ('me', 'lo'), ('del', 'misterio'), ('porque', 'a'), ('al', 'más'), ('sol', 'del'), ('de', 'ensueños'), ('Por', 'la'), ('el', 'laurel'), ('ya', 'del'), ('o', 'se'), ('al', 'olvido'), ('noche', 'en'), ('el', 'porvenir'), ('de', 'mujer'), ('mente', 'y'), ('las', 'cumbres'), ('lágrimas', 'que'), ('el', 'bello'), ('la', 'dulzura'), ('beldad', 'que'), ('es', 'verdad'), ('Que', 'es'), ('Dios', 'a'), ('pero', 'al'), ('afán', 'de'), ('tanto', 'el'), ('el', 'yugo'), ('olvido', 'que'), ('la', 'fatal'), ('su', 'mente'), ('ojos', 'la'), ('es', 'muy'), ('el', 'lauro'), ('mar', 'la'), ('ni', 'que'), ('que', 'han'), ('la', 'oscura'), ('él', 'se'), ('pobre', 'y'), ('encanto', 'de'), ('un', 'mal'), ('en', 'forma'), ('triste', 'que'), ('pues', 'en'), ('sin', 'esperanza'), ('los', 'pastores'), ('frente', 'en'), ('sus', 'amores'), ('causa', 'de'), ('no', 'tengo'), ('pensar', 'en'), ('la', 'enramada'), ('la', 'celeste'), ('la', 'justicia'), ('ser', 'y'), ('mi', 'canto'), ('y', 'ser'), ('su', 'valor'), ('un', 'viejo'), ('en', 'brazos'), ('Cuando', 'a'), ('de', 'noche'), ('ave', 'que'), ('rosa', 'y'), ('cual', 'tú'), ('de', 'mortal'), ('los', 'altos'), ('puesto', 'que'), ('aroma', 'de'), ('el', 'trueno'), ('canto', 'y'), ('y', 'muda'), ('la', 'mudanza'), ('advierte', 'que'), ('de', 'color'), ('mi', 'agonía'), ('se', 'queja'), ('el', 'sentido'), ('de', 'laurel'), ('edad', 'primera'), ('la', 'juventud'), ('el', 'hastío'), ('el', 'enemigo'), ('altar', 'de'), ('una', 'cruz'), ('un', 'ser'), ('En', 'los'), ('pues', 'al'), ('el', 'pesar'), ('se', 'mece'), ('La', 'tarde'), ('calma', 'y'), ('otro', 'día'), ('la', 'verde'), ('no', 'alcanza'), ('hermosura', 'de'), ('el', 'arco'), ('cuerdas', 'de'), ('como', 'al'), ('por', 'él'), ('ya', 'con'), ('oscura', 'y'), ('sin', 'Dios'), ('ti', 'la'), ('bien', 'el'), ('de', 'nuestros')]\n"
     ]
    }
   ],
   "source": [
    "# unigram and bigrams (just to check these out)\n",
    "unigrams, bigrams = features.get_top_n_vocab(df_train['content'], n=2000)\n",
    "print(unigrams)\n",
    "print(bigrams)"
   ]
  },
  {
   "cell_type": "code",
   "execution_count": 33,
   "id": "a184f396",
   "metadata": {},
   "outputs": [],
   "source": [
    "reload(features);"
   ]
  },
  {
   "cell_type": "code",
   "execution_count": null,
   "id": "62608e9f",
   "metadata": {},
   "outputs": [],
   "source": [
    "out_vect, uni_vocab, bi_vocab, tf_uni, tf_bi, idf_uni, idf_bi = features.get_tfidf_vocab(df_train['content'], n = 2000)\n",
    "input = torch.Tensor(out_vect)\n",
    "print(out_vect[0])"
   ]
  },
  {
   "cell_type": "code",
   "execution_count": 8,
   "id": "b4aac4fb",
   "metadata": {},
   "outputs": [
    {
     "data": {
      "text/plain": [
       "'\\ninput = []\\ncounter = 0\\ntotal = df_train.count()[\\'content\\']\\nremove = []\\nfor text in df_train[\\'content\\']:\\n    bow = features.text_to_bag_of_words(text, unigrams, bigrams)\\n    try:\\n        prosodic = features.features_for_sonnet(text).values()\\n    except Exception as e:\\n        # just throw the row away\\n        print(f\"Error occurred: {e}\")\\n        remove.append(text)\\n        continue\\n    input.append(list(bow) + list(prosodic))\\n    if counter % 1000 == 0:\\n        print(f\"Constructing feature vector {counter}/{total}\")\\n    counter += 1\\nfor text in remove: # get rid of bad input\\n    df_train = df_train[df_train[\\'content\\'] != text]\\n'"
      ]
     },
     "execution_count": 8,
     "metadata": {},
     "output_type": "execute_result"
    }
   ],
   "source": [
    "# compute ngram and prosodic features\n",
    "# N x D\n",
    "\"\"\"\n",
    "input = []\n",
    "counter = 0\n",
    "total = df_train.count()['content']\n",
    "remove = []\n",
    "for text in df_train['content']:\n",
    "    bow = features.text_to_bag_of_words(text, unigrams, bigrams)\n",
    "    try:\n",
    "        prosodic = features.features_for_sonnet(text).values()\n",
    "    except Exception as e:\n",
    "        # just throw the row away\n",
    "        print(f\"Error occurred: {e}\")\n",
    "        remove.append(text)\n",
    "        continue\n",
    "    input.append(list(bow) + list(prosodic))\n",
    "    if counter % 1000 == 0:\n",
    "        print(f\"Constructing feature vector {counter}/{total}\")\n",
    "    counter += 1\n",
    "for text in remove: # get rid of bad input\n",
    "    df_train = df_train[df_train['content'] != text]\n",
    "\"\"\"\n"
   ]
  },
  {
   "cell_type": "code",
   "execution_count": 9,
   "id": "d241dade",
   "metadata": {},
   "outputs": [
    {
     "name": "stdout",
     "output_type": "stream",
     "text": [
      "torch.Size([4044, 2000])\n",
      "torch.Size([4044])\n"
     ]
    }
   ],
   "source": [
    "input_arr = torch.Tensor(input)\n",
    "\n",
    "label_arr = torch.Tensor(df_train['country-birth'].values)\n",
    "\n",
    "print(input_arr.shape)\n",
    "print(label_arr.shape)"
   ]
  },
  {
   "cell_type": "markdown",
   "id": "8c138f86",
   "metadata": {},
   "source": [
    "Create SVM model."
   ]
  },
  {
   "cell_type": "code",
   "execution_count": 10,
   "id": "e421f8a3",
   "metadata": {},
   "outputs": [],
   "source": [
    "reload(svm_classifier);"
   ]
  },
  {
   "cell_type": "code",
   "execution_count": 24,
   "id": "0a48c13e",
   "metadata": {},
   "outputs": [
    {
     "name": "stdout",
     "output_type": "stream",
     "text": [
      "Epoch 0: Hinge Loss is 21.71601104736328\n",
      "Train accuracy: 0.130\n",
      "Epoch 1: Hinge Loss is 20.20848846435547\n",
      "Train accuracy: 0.537\n",
      "Epoch 2: Hinge Loss is 18.700971603393555\n",
      "Train accuracy: 0.537\n",
      "Epoch 3: Hinge Loss is 17.19345474243164\n",
      "Train accuracy: 0.537\n",
      "Epoch 4: Hinge Loss is 15.68593692779541\n",
      "Train accuracy: 0.537\n"
     ]
    }
   ],
   "source": [
    "\n",
    "model = svm_classifier.MulticlassSVM(input_arr.shape[1], len(countries))\n",
    "optimizer = torch.optim.SGD(model.parameters(), lr=0.01, weight_decay=1e-4)\n",
    "\n",
    "epochs = 5\n",
    "\n",
    "for epoch in range(epochs):\n",
    "    outputs = model(input_arr)\n",
    "    loss = model.hinge_loss(outputs.float(), label_arr.long())\n",
    "    print(f'Epoch {epoch}: Hinge Loss is {loss.item()}')\n",
    "    with torch.no_grad():\n",
    "        predictions = torch.argmax(outputs, dim=1)\n",
    "        correct = (predictions == label_arr).sum().item()\n",
    "        print(f'Train accuracy: {correct / label_arr.size(0):.3f}')\n",
    "\n",
    "    optimizer.zero_grad()\n",
    "    loss.backward()\n",
    "    optimizer.step()"
   ]
  },
  {
   "cell_type": "markdown",
   "id": "3e5b0ca9",
   "metadata": {},
   "source": [
    "Evaluate on test set"
   ]
  },
  {
   "cell_type": "code",
   "execution_count": 25,
   "id": "caa85f45",
   "metadata": {},
   "outputs": [
    {
     "data": {
      "text/plain": [
       "'\\ninput_test = []\\ncounter = 0\\ntotal_test = df_test.count()[\\'content\\']\\nremove_test = []\\nfor text in df_test[\\'content\\']:\\n    bow = features.text_to_bag_of_words(text, unigrams, bigrams)\\n    try:\\n        prosodic = features.features_for_sonnet(text).values()\\n    except Exception as e:\\n        # just throw the row away\\n        print(f\"Error occurred: {e}\")\\n        remove_test.append(text)\\n        continue\\n    input_test.append(list(bow) + list(prosodic))\\n    if counter % 1000 == 0:\\n        print(f\"Constructing feature vector {counter}/{total_test}\")\\n    counter += 1\\nfor text in remove_test: # get rid of bad input\\n    df_test = df_test[df_test[\\'content\\'] != text]\\ninput_arr_test = torch.Tensor(input_test)\\nlabel_arr_test = torch.Tensor(df_test[\\'gender\\'].values)\\n'"
      ]
     },
     "execution_count": 25,
     "metadata": {},
     "output_type": "execute_result"
    }
   ],
   "source": [
    "# compute ngram and prosodic features\n",
    "# for test set\n",
    "\"\"\"\n",
    "input_test = []\n",
    "counter = 0\n",
    "total_test = df_test.count()['content']\n",
    "remove_test = []\n",
    "for text in df_test['content']:\n",
    "    bow = features.text_to_bag_of_words(text, unigrams, bigrams)\n",
    "    try:\n",
    "        prosodic = features.features_for_sonnet(text).values()\n",
    "    except Exception as e:\n",
    "        # just throw the row away\n",
    "        print(f\"Error occurred: {e}\")\n",
    "        remove_test.append(text)\n",
    "        continue\n",
    "    input_test.append(list(bow) + list(prosodic))\n",
    "    if counter % 1000 == 0:\n",
    "        print(f\"Constructing feature vector {counter}/{total_test}\")\n",
    "    counter += 1\n",
    "for text in remove_test: # get rid of bad input\n",
    "    df_test = df_test[df_test['content'] != text]\n",
    "input_arr_test = torch.Tensor(input_test)\n",
    "label_arr_test = torch.Tensor(df_test['gender'].values)\n",
    "\"\"\""
   ]
  },
  {
   "cell_type": "code",
   "execution_count": 26,
   "id": "05d6f8f3",
   "metadata": {},
   "outputs": [
    {
     "name": "stdout",
     "output_type": "stream",
     "text": [
      "torch.Size([439, 2000])\n",
      "torch.Size([439])\n"
     ]
    }
   ],
   "source": [
    "# just tfidf bow\n",
    "# vars for ref: uni_vocab, bi_vocab, tf_uni, tf_bi, idf_uni, idf_bi\n",
    "input_arr_test = torch.Tensor([features.get_tfidf_test(text, uni_vocab, bi_vocab, tf_uni, tf_bi, idf_uni, idf_bi) for text in df_test['content']])\n",
    "    \n",
    "label_arr_test = torch.Tensor(df_test['country-birth'].values)\n",
    "print(input_arr_test.shape)\n",
    "print(label_arr_test.shape)"
   ]
  },
  {
   "cell_type": "code",
   "execution_count": 27,
   "id": "f1bad47a",
   "metadata": {},
   "outputs": [
    {
     "name": "stdout",
     "output_type": "stream",
     "text": [
      "Test loss: 13.977718353271484\n",
      "Test accuracy: 0.549\n"
     ]
    }
   ],
   "source": [
    "test_outputs = model(input_arr_test)\n",
    "test_loss = model.hinge_loss(test_outputs.float(), label_arr_test.long())\n",
    "print(f'Test loss: {test_loss.item()}')\n",
    "with torch.no_grad():\n",
    "    test_predictions = torch.argmax(test_outputs, dim=1)\n",
    "    test_correct = (test_predictions == label_arr_test).sum().item()\n",
    "    print(f'Test accuracy: {test_correct / label_arr_test.size(0):.3f}')"
   ]
  },
  {
   "cell_type": "markdown",
   "id": "1082cdc0",
   "metadata": {},
   "source": [
    "Is this any better than always predicting Spain? (most frequent country in dataset)"
   ]
  },
  {
   "cell_type": "code",
   "execution_count": 28,
   "id": "e0114859",
   "metadata": {},
   "outputs": [
    {
     "name": "stdout",
     "output_type": "stream",
     "text": [
      "tensor([2, 2, 2, 2, 2, 2, 2, 2, 2, 2, 2, 2, 2, 2, 2, 2, 2, 2, 2, 2, 2, 2, 2, 2,\n",
      "        2, 2, 2, 2, 2, 2, 2, 2, 2, 2, 2, 2, 2, 2, 2, 2, 2, 2, 2, 2, 2, 2, 2, 2,\n",
      "        2, 2, 2, 2, 2, 2, 2, 2, 2, 2, 2, 2, 2, 2, 2, 2, 2, 2, 2, 2, 2, 2, 2, 2,\n",
      "        2, 2, 2, 2, 2, 2, 2, 2, 2, 2, 2, 2, 2, 2, 2, 2, 2, 2, 2, 2, 2, 2, 2, 2,\n",
      "        2, 2, 2, 2, 2, 2, 2, 2, 2, 2, 2, 2, 2, 2, 2, 2, 2, 2, 2, 2, 2, 2, 2, 2,\n",
      "        2, 2, 2, 2, 2, 2, 2, 2, 2, 2, 2, 2, 2, 2, 2, 2, 2, 2, 2, 2, 2, 2, 2, 2,\n",
      "        2, 2, 2, 2, 2, 2, 2, 2, 2, 2, 2, 2, 2, 2, 2, 2, 2, 2, 2, 2, 2, 2, 2, 2,\n",
      "        2, 2, 2, 2, 2, 2, 2, 2, 2, 2, 2, 2, 2, 2, 2, 2, 2, 2, 2, 2, 2, 2, 2, 2,\n",
      "        2, 2, 2, 2, 2, 2, 2, 2, 2, 2, 2, 2, 2, 2, 2, 2, 2, 2, 2, 2, 2, 2, 2, 2,\n",
      "        2, 2, 2, 2, 2, 2, 2, 2, 2, 2, 2, 2, 2, 2, 2, 2, 2, 2, 2, 2, 2, 2, 2, 2,\n",
      "        2, 2, 2, 2, 2, 2, 2, 2, 2, 2, 2, 2, 2, 2, 2, 2, 2, 2, 2, 2, 2, 2, 2, 2,\n",
      "        2, 2, 2, 2, 2, 2, 2, 2, 2, 2, 2, 2, 2, 2, 2, 2, 2, 2, 2, 2, 2, 2, 2, 2,\n",
      "        2, 2, 2, 2, 2, 2, 2, 2, 2, 2, 2, 2, 2, 2, 2, 2, 2, 2, 2, 2, 2, 2, 2, 2,\n",
      "        2, 2, 2, 2, 2, 2, 2, 2, 2, 2, 2, 2, 2, 2, 2, 2, 2, 2, 2, 2, 2, 2, 2, 2,\n",
      "        2, 2, 2, 2, 2, 2, 2, 2, 2, 2, 2, 2, 2, 2, 2, 2, 2, 2, 2, 2, 2, 2, 2, 2,\n",
      "        2, 2, 2, 2, 2, 2, 2, 2, 2, 2, 2, 2, 2, 2, 2, 2, 2, 2, 2, 2, 2, 2, 2, 2,\n",
      "        2, 2, 2, 2, 2, 2, 2, 2, 2, 2, 2, 2, 2, 2, 2, 2, 2, 2, 2, 2, 2, 2, 2, 2,\n",
      "        2, 2, 2, 2, 2, 2, 2, 2, 2, 2, 2, 2, 2, 2, 2, 2, 2, 2, 2, 2, 2, 2, 2, 2,\n",
      "        2, 2, 2, 2, 2, 2, 2])\n",
      "tensor([ 5.,  2.,  2.,  2.,  4.,  2.,  2.,  2.,  2., 12.,  2.,  2.,  2.,  2.,\n",
      "         2.,  2.,  1.,  2.,  2.,  2.,  2., 12.,  2.,  2.,  2.,  2., 18.,  2.,\n",
      "         2.,  2., 13.,  2.,  5.,  2.,  2.,  2.,  1.,  5.,  1.,  2.,  2., 11.,\n",
      "        14.,  2.,  1.,  2., 13.,  2.,  2.,  2.,  2.,  1.,  2.,  1., 10.,  0.,\n",
      "         2.,  2.,  2.,  2., 11.,  5.,  2.,  2., 12.,  0.,  2.,  0.,  2.,  2.,\n",
      "         2.,  5.,  2.,  1., 11.,  2.,  2.,  2.,  2., 18.,  1.,  1.,  2.,  2.,\n",
      "         2., 11., 13.,  2.,  1.,  1.,  2.,  1., 14.,  1.,  2.,  2., 10., 10.,\n",
      "         2.,  2.,  2.,  9.,  2.,  2.,  1.,  2.,  2.,  1.,  2.,  2.,  1.,  2.,\n",
      "         1.,  1.,  5., 17.,  2., 18.,  0.,  1.,  2.,  2.,  2.,  2.,  1.,  2.,\n",
      "         5., 10.,  0.,  1.,  2.,  2.,  2.,  2.,  5.,  2.,  1., 11.,  2.,  1.,\n",
      "         1.,  5.,  1.,  1.,  2.,  1.,  0.,  2.,  2.,  2.,  1.,  2.,  9.,  2.,\n",
      "         2., 13.,  4.,  2.,  2.,  2.,  2.,  0.,  2., 15.,  2.,  1.,  2.,  2.,\n",
      "         2., 18.,  0.,  2.,  2.,  2.,  2.,  1.,  2.,  8.,  2., 18.,  2., 12.,\n",
      "         0.,  2.,  2., 15.,  2.,  5.,  1.,  2.,  1.,  2.,  2.,  2.,  2.,  2.,\n",
      "         2., 11., 11.,  2.,  2.,  2.,  0.,  1.,  2.,  0., 13.,  2., 11., 14.,\n",
      "         2.,  0.,  2., 14.,  2., 16.,  2.,  2.,  3.,  1.,  2.,  2.,  2.,  1.,\n",
      "         2., 11.,  2., 18.,  2., 11.,  2.,  5.,  1.,  2.,  6.,  2.,  2.,  2.,\n",
      "         2.,  5.,  2.,  1., 11.,  2.,  1., 12.,  1.,  3.,  5.,  4.,  0.,  2.,\n",
      "         1.,  1., 11.,  1., 11.,  2.,  1.,  0.,  2.,  1.,  1.,  1.,  2.,  2.,\n",
      "        14.,  1.,  2.,  2.,  2., 18.,  2.,  2.,  2., 17.,  2.,  2.,  2.,  2.,\n",
      "         2., 10.,  5.,  0.,  2.,  2.,  1.,  0.,  2., 11.,  2.,  1.,  2.,  2.,\n",
      "         2.,  2.,  2.,  5.,  1.,  2.,  2.,  2.,  2.,  0.,  2.,  2.,  2.,  2.,\n",
      "         1.,  1.,  2.,  2.,  2.,  2.,  2.,  0.,  9.,  2.,  1.,  2.,  2.,  1.,\n",
      "         2.,  2.,  1., 10., 18., 10.,  1.,  2.,  1.,  2., 14.,  2.,  5., 12.,\n",
      "         1.,  2.,  2.,  2.,  2.,  2.,  2.,  2., 11.,  2.,  2.,  1.,  0.,  2.,\n",
      "        15.,  1.,  2.,  2.,  0.,  2.,  2.,  2.,  2.,  1., 10.,  2.,  0.,  2.,\n",
      "         2.,  2.,  2., 11.,  2.,  2.,  2.,  2.,  5., 17.,  2.,  1., 18.,  2.,\n",
      "         5.,  2.,  2.,  2., 17.,  1.,  1.,  2., 12., 11.,  1., 10., 14.,  1.,\n",
      "         2.,  2., 11.,  2.,  2.,  2.,  2.,  5., 12.,  2., 18.,  2.,  2., 12.,\n",
      "        13.,  2.,  1.,  0.,  2.,  2.,  1.,  1., 10., 11.,  2.,  2., 10., 11.,\n",
      "         0.,  2.,  2.,  2.,  2., 10.,  2.,  1.,  2.,  2.,  2.,  2.,  2., 10.,\n",
      "         2.,  1., 10.,  2.,  1.])\n",
      "Test accuracy: 0.549\n"
     ]
    }
   ],
   "source": [
    "print(test_predictions)\n",
    "print(label_arr_test)\n",
    "alwaysSpain = (label_arr_test == countries_map['España'] * torch.ones(label_arr_test.shape)).sum().item()\n",
    "print(f'Test accuracy: {alwaysSpain / label_arr_test.size(0):.3f}')\n",
    "# Answer: no, not really. It always predicts Spain :o"
   ]
  },
  {
   "cell_type": "code",
   "execution_count": null,
   "id": "2149df3c",
   "metadata": {},
   "outputs": [],
   "source": []
  }
 ],
 "metadata": {
  "kernelspec": {
   "display_name": "py311",
   "language": "python",
   "name": "python3"
  },
  "language_info": {
   "codemirror_mode": {
    "name": "ipython",
    "version": 3
   },
   "file_extension": ".py",
   "mimetype": "text/x-python",
   "name": "python",
   "nbconvert_exporter": "python",
   "pygments_lexer": "ipython3",
   "version": "3.11.11"
  }
 },
 "nbformat": 4,
 "nbformat_minor": 5
}
