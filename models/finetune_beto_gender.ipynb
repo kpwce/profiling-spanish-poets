{
 "cells": [
  {
   "cell_type": "markdown",
   "metadata": {
    "id": "Y9RyDAh61_75"
   },
   "source": [
    "Finetune BETO on classification task"
   ]
  },
  {
   "cell_type": "code",
   "execution_count": null,
   "metadata": {
    "colab": {
     "base_uri": "https://localhost:8080/"
    },
    "executionInfo": {
     "elapsed": 19364,
     "status": "ok",
     "timestamp": 1749077205502,
     "user": {
      "displayName": "Alysa Meng",
      "userId": "07325622740508416915"
     },
     "user_tz": 420
    },
    "id": "ovhOvPTi1j3B",
    "outputId": "e9d5bda5-3874-4ae2-f9f4-0799926cdd09"
   },
   "outputs": [
    {
     "name": "stdout",
     "output_type": "stream",
     "text": [
      "Mounted at /content/drive\n"
     ]
    }
   ],
   "source": [
    "# This mounts your Google Drive to the Colab VM.\n",
    "from google.colab import drive\n",
    "drive.mount('/content/drive')\n",
    "\n",
    "FOLDERNAME = 'cse493g1/project/'\n",
    "assert FOLDERNAME is not None, \"[!] Enter the foldername.\"\n",
    "\n",
    "# Now that we've mounted your Drive, this ensures that\n",
    "# the Python interpreter of the Colab VM can load\n",
    "# python files from within it.\n",
    "import sys\n",
    "sys.path.append('/content/drive/My Drive/{}'.format(FOLDERNAME))"
   ]
  },
  {
   "cell_type": "code",
   "execution_count": 2,
   "metadata": {
    "colab": {
     "base_uri": "https://localhost:8080/"
    },
    "executionInfo": {
     "elapsed": 9235,
     "status": "ok",
     "timestamp": 1749077214740,
     "user": {
      "displayName": "Alysa Meng",
      "userId": "07325622740508416915"
     },
     "user_tz": 420
    },
    "id": "tBhf3ZSSsL5_",
    "outputId": "768e81e3-de93-4a2d-e8f2-faeed231d8f9"
   },
   "outputs": [
    {
     "name": "stdout",
     "output_type": "stream",
     "text": [
      "Requirement already satisfied: transformers in /usr/local/lib/python3.11/dist-packages (4.52.3)\n",
      "Requirement already satisfied: filelock in /usr/local/lib/python3.11/dist-packages (from transformers) (3.18.0)\n",
      "Requirement already satisfied: huggingface-hub<1.0,>=0.30.0 in /usr/local/lib/python3.11/dist-packages (from transformers) (0.32.2)\n",
      "Requirement already satisfied: numpy>=1.17 in /usr/local/lib/python3.11/dist-packages (from transformers) (2.0.2)\n",
      "Requirement already satisfied: packaging>=20.0 in /usr/local/lib/python3.11/dist-packages (from transformers) (24.2)\n",
      "Requirement already satisfied: pyyaml>=5.1 in /usr/local/lib/python3.11/dist-packages (from transformers) (6.0.2)\n",
      "Requirement already satisfied: regex!=2019.12.17 in /usr/local/lib/python3.11/dist-packages (from transformers) (2024.11.6)\n",
      "Requirement already satisfied: requests in /usr/local/lib/python3.11/dist-packages (from transformers) (2.32.3)\n",
      "Requirement already satisfied: tokenizers<0.22,>=0.21 in /usr/local/lib/python3.11/dist-packages (from transformers) (0.21.1)\n",
      "Requirement already satisfied: safetensors>=0.4.3 in /usr/local/lib/python3.11/dist-packages (from transformers) (0.5.3)\n",
      "Requirement already satisfied: tqdm>=4.27 in /usr/local/lib/python3.11/dist-packages (from transformers) (4.67.1)\n",
      "Requirement already satisfied: fsspec>=2023.5.0 in /usr/local/lib/python3.11/dist-packages (from huggingface-hub<1.0,>=0.30.0->transformers) (2025.3.2)\n",
      "Requirement already satisfied: typing-extensions>=3.7.4.3 in /usr/local/lib/python3.11/dist-packages (from huggingface-hub<1.0,>=0.30.0->transformers) (4.13.2)\n",
      "Requirement already satisfied: hf-xet<2.0.0,>=1.1.2 in /usr/local/lib/python3.11/dist-packages (from huggingface-hub<1.0,>=0.30.0->transformers) (1.1.2)\n",
      "Requirement already satisfied: charset-normalizer<4,>=2 in /usr/local/lib/python3.11/dist-packages (from requests->transformers) (3.4.2)\n",
      "Requirement already satisfied: idna<4,>=2.5 in /usr/local/lib/python3.11/dist-packages (from requests->transformers) (3.10)\n",
      "Requirement already satisfied: urllib3<3,>=1.21.1 in /usr/local/lib/python3.11/dist-packages (from requests->transformers) (2.4.0)\n",
      "Requirement already satisfied: certifi>=2017.4.17 in /usr/local/lib/python3.11/dist-packages (from requests->transformers) (2025.4.26)\n",
      "Requirement already satisfied: datasets in /usr/local/lib/python3.11/dist-packages (2.14.4)\n",
      "Requirement already satisfied: numpy>=1.17 in /usr/local/lib/python3.11/dist-packages (from datasets) (2.0.2)\n",
      "Requirement already satisfied: pyarrow>=8.0.0 in /usr/local/lib/python3.11/dist-packages (from datasets) (18.1.0)\n",
      "Requirement already satisfied: dill<0.3.8,>=0.3.0 in /usr/local/lib/python3.11/dist-packages (from datasets) (0.3.7)\n",
      "Requirement already satisfied: pandas in /usr/local/lib/python3.11/dist-packages (from datasets) (2.2.2)\n",
      "Requirement already satisfied: requests>=2.19.0 in /usr/local/lib/python3.11/dist-packages (from datasets) (2.32.3)\n",
      "Requirement already satisfied: tqdm>=4.62.1 in /usr/local/lib/python3.11/dist-packages (from datasets) (4.67.1)\n",
      "Requirement already satisfied: xxhash in /usr/local/lib/python3.11/dist-packages (from datasets) (3.5.0)\n",
      "Requirement already satisfied: multiprocess in /usr/local/lib/python3.11/dist-packages (from datasets) (0.70.15)\n",
      "Requirement already satisfied: fsspec>=2021.11.1 in /usr/local/lib/python3.11/dist-packages (from fsspec[http]>=2021.11.1->datasets) (2025.3.2)\n",
      "Requirement already satisfied: aiohttp in /usr/local/lib/python3.11/dist-packages (from datasets) (3.11.15)\n",
      "Requirement already satisfied: huggingface-hub<1.0.0,>=0.14.0 in /usr/local/lib/python3.11/dist-packages (from datasets) (0.32.2)\n",
      "Requirement already satisfied: packaging in /usr/local/lib/python3.11/dist-packages (from datasets) (24.2)\n",
      "Requirement already satisfied: pyyaml>=5.1 in /usr/local/lib/python3.11/dist-packages (from datasets) (6.0.2)\n",
      "Requirement already satisfied: aiohappyeyeballs>=2.3.0 in /usr/local/lib/python3.11/dist-packages (from aiohttp->datasets) (2.6.1)\n",
      "Requirement already satisfied: aiosignal>=1.1.2 in /usr/local/lib/python3.11/dist-packages (from aiohttp->datasets) (1.3.2)\n",
      "Requirement already satisfied: attrs>=17.3.0 in /usr/local/lib/python3.11/dist-packages (from aiohttp->datasets) (25.3.0)\n",
      "Requirement already satisfied: frozenlist>=1.1.1 in /usr/local/lib/python3.11/dist-packages (from aiohttp->datasets) (1.6.0)\n",
      "Requirement already satisfied: multidict<7.0,>=4.5 in /usr/local/lib/python3.11/dist-packages (from aiohttp->datasets) (6.4.4)\n",
      "Requirement already satisfied: propcache>=0.2.0 in /usr/local/lib/python3.11/dist-packages (from aiohttp->datasets) (0.3.1)\n",
      "Requirement already satisfied: yarl<2.0,>=1.17.0 in /usr/local/lib/python3.11/dist-packages (from aiohttp->datasets) (1.20.0)\n",
      "Requirement already satisfied: filelock in /usr/local/lib/python3.11/dist-packages (from huggingface-hub<1.0.0,>=0.14.0->datasets) (3.18.0)\n",
      "Requirement already satisfied: typing-extensions>=3.7.4.3 in /usr/local/lib/python3.11/dist-packages (from huggingface-hub<1.0.0,>=0.14.0->datasets) (4.13.2)\n",
      "Requirement already satisfied: hf-xet<2.0.0,>=1.1.2 in /usr/local/lib/python3.11/dist-packages (from huggingface-hub<1.0.0,>=0.14.0->datasets) (1.1.2)\n",
      "Requirement already satisfied: charset-normalizer<4,>=2 in /usr/local/lib/python3.11/dist-packages (from requests>=2.19.0->datasets) (3.4.2)\n",
      "Requirement already satisfied: idna<4,>=2.5 in /usr/local/lib/python3.11/dist-packages (from requests>=2.19.0->datasets) (3.10)\n",
      "Requirement already satisfied: urllib3<3,>=1.21.1 in /usr/local/lib/python3.11/dist-packages (from requests>=2.19.0->datasets) (2.4.0)\n",
      "Requirement already satisfied: certifi>=2017.4.17 in /usr/local/lib/python3.11/dist-packages (from requests>=2.19.0->datasets) (2025.4.26)\n",
      "Requirement already satisfied: python-dateutil>=2.8.2 in /usr/local/lib/python3.11/dist-packages (from pandas->datasets) (2.9.0.post0)\n",
      "Requirement already satisfied: pytz>=2020.1 in /usr/local/lib/python3.11/dist-packages (from pandas->datasets) (2025.2)\n",
      "Requirement already satisfied: tzdata>=2022.7 in /usr/local/lib/python3.11/dist-packages (from pandas->datasets) (2025.2)\n",
      "Requirement already satisfied: six>=1.5 in /usr/local/lib/python3.11/dist-packages (from python-dateutil>=2.8.2->pandas->datasets) (1.17.0)\n"
     ]
    }
   ],
   "source": [
    "!pip install transformers\n",
    "!pip install datasets"
   ]
  },
  {
   "cell_type": "code",
   "execution_count": 3,
   "metadata": {
    "executionInfo": {
     "elapsed": 40008,
     "status": "ok",
     "timestamp": 1749077254757,
     "user": {
      "displayName": "Alysa Meng",
      "userId": "07325622740508416915"
     },
     "user_tz": 420
    },
    "id": "rxLrLbz9tAwk"
   },
   "outputs": [],
   "source": [
    "from transformers import AutoTokenizer, AutoModelForSequenceClassification, Trainer, TrainingArguments\n",
    "from datasets import load_dataset, Dataset\n",
    "import torch\n",
    "import pandas as pd\n",
    "import numpy as np"
   ]
  },
  {
   "cell_type": "code",
   "execution_count": 4,
   "metadata": {
    "colab": {
     "base_uri": "https://localhost:8080/"
    },
    "executionInfo": {
     "elapsed": 12,
     "status": "ok",
     "timestamp": 1749077254764,
     "user": {
      "displayName": "Alysa Meng",
      "userId": "07325622740508416915"
     },
     "user_tz": 420
    },
    "id": "hHOmmpvrswKA",
    "outputId": "c3f46dd4-f827-4527-c777-0329e8b4ca2f"
   },
   "outputs": [
    {
     "data": {
      "text/plain": [
       "device(type='cuda')"
      ]
     },
     "execution_count": 4,
     "metadata": {},
     "output_type": "execute_result"
    }
   ],
   "source": [
    "# use gpu\n",
    "if torch.cuda.is_available():\n",
    "  device = torch.device(\"cuda\")\n",
    "else:\n",
    "  device = torch.device(\"cpu\")\n",
    "device"
   ]
  },
  {
   "cell_type": "code",
   "execution_count": 5,
   "metadata": {
    "executionInfo": {
     "elapsed": 1733,
     "status": "ok",
     "timestamp": 1749077256498,
     "user": {
      "displayName": "Alysa Meng",
      "userId": "07325622740508416915"
     },
     "user_tz": 420
    },
    "id": "eSORvSd20juz"
   },
   "outputs": [],
   "source": [
    "df_train = pd.read_csv('/content/drive/MyDrive/cse493g1/project/beto/train_gender.csv')\n",
    "df_val = pd.read_csv('/content/drive/MyDrive/cse493g1/project/beto/val_gender.csv')\n",
    "df_test = pd.read_csv('/content/drive/MyDrive/cse493g1/project/beto/test_gender.csv')\n",
    "gender_map = {'M': 0, 'F': 1}"
   ]
  },
  {
   "cell_type": "code",
   "execution_count": 6,
   "metadata": {
    "colab": {
     "base_uri": "https://localhost:8080/",
     "height": 310
    },
    "executionInfo": {
     "elapsed": 182,
     "status": "ok",
     "timestamp": 1749077256682,
     "user": {
      "displayName": "Alysa Meng",
      "userId": "07325622740508416915"
     },
     "user_tz": 420
    },
    "id": "_OAC6DZR1nBo",
    "outputId": "e7cc5bdd-94f2-4cc8-ba23-2a0f5a1d7e95"
   },
   "outputs": [
    {
     "data": {
      "application/vnd.google.colaboratory.intrinsic+json": {
       "summary": "{\n  \"name\": \"df_train\",\n  \"rows\": 3614,\n  \"fields\": [\n    {\n      \"column\": \"Unnamed: 0\",\n      \"properties\": {\n        \"dtype\": \"number\",\n        \"std\": 1043,\n        \"min\": 0,\n        \"max\": 3613,\n        \"num_unique_values\": 3614,\n        \"samples\": [\n          3284,\n          3573,\n          1825\n        ],\n        \"semantic_type\": \"\",\n        \"description\": \"\"\n      }\n    },\n    {\n      \"column\": \"content\",\n      \"properties\": {\n        \"dtype\": \"string\",\n        \"num_unique_values\": 3602,\n        \"samples\": [\n          \"\\u00a1Del hurac\\u00e1n esp\\u00edritu potente\\nrudo como la pena que me agita,\\nven, con el tuyo mi furor excita,\\nven con tu aliento a enardecer mi mente!\\n\\u00a1Qu\\u00e9 zumbe el rayo y con fragor reviente:\\nmientas cual hoja seca o flor marchita,\\ntu fuerte soplo al roble precipita,\\nroto y deshecho el bramador torrente!\\nDel alma que te invoca y acompa\\u00f1a,\\nenvidiando tu fuerza destructora,\\nlanza a la par la confusi\\u00f3n extra\\u00f1a\\n\\u00a1Ven, y al dolor que insano te devora\\nhaz suceder tu poderosa sa\\u00f1a\\ny el llanto seca que cobarde llora!\\n\",\n          \"Al otro lado del cequi\\u00f3n, vecinas\\na una choza infeliz, tienden sus brazos\\ndos cruces, en que cuelgan a pedazos\\ndos coronas que hoy s\\u00f3lo son de espinas.\\n\\u00bfQui\\u00e9nes duermen ah\\u00ed? Leyes divinas\\njuntan quiz\\u00e1s, en p\\u00f3stumos regazos,\\na dos h\\u00e9roes que ayer, rotos los lazos,\\ncombatieron rodando por las ruinas.\\n\\u00a1Ah! Yo s\\u00e9 que en inc\\u00f3gnito hero\\u00edsmo\\nsi, entre los choques de la lucha acerba,\\nmuerde el polvo el intr\\u00e9pido soldado,\\ntendr\\u00e1 su tumba en ese polvo mismo,\\ny en esa tumba crecer\\u00e1 la yerba,\\ny en esa yerba pastar\\u00e1 el ganado...\\n\",\n          \"Rebelde Satan\\u00e1s se alz\\u00f3 en altura,\\ny en el profundo, Dios le precipita\\nGenio del mal, a la mujer incita,\\ny origen es de nuestra desventura.\\nEva y Ad\\u00e1n, llorando su amargura,\\nvan, del perdido ed\\u00e9n raza precita,\\nla sentencia de Aquel llevando escrita\\nen su alma, llena de mortal pavura.\\nSi, engendro el hombre del primer pecado,\\na arrastrar su existencia por el suelo,\\nexpulso del Ed\\u00e9n, se ve preciso,\\nal poder de las Artes le fue dado\\ncerner sus alas, remontarse al viento,\\ny convertir la Tierra en Para\\u00edso\\n\"\n        ],\n        \"semantic_type\": \"\",\n        \"description\": \"\"\n      }\n    },\n    {\n      \"column\": \"gender\",\n      \"properties\": {\n        \"dtype\": \"number\",\n        \"std\": 0,\n        \"min\": 0,\n        \"max\": 1,\n        \"num_unique_values\": 2,\n        \"samples\": [\n          1,\n          0\n        ],\n        \"semantic_type\": \"\",\n        \"description\": \"\"\n      }\n    },\n    {\n      \"column\": \"rhyme\",\n      \"properties\": {\n        \"dtype\": \"category\",\n        \"num_unique_values\": 309,\n        \"samples\": [\n          \"['B', 'C', 'B', 'C', 'A', 'D', 'A', 'D', 'E', 'E', 'F', 'G', 'G', 'F']\",\n          \"['A', 'B', 'B', 'A', 'A', 'B', 'B', 'A', 'C', 'D', 'C', 'D', 'E', 'E']\"\n        ],\n        \"semantic_type\": \"\",\n        \"description\": \"\"\n      }\n    },\n    {\n      \"column\": \"met\",\n      \"properties\": {\n        \"dtype\": \"string\",\n        \"num_unique_values\": 3581,\n        \"samples\": [\n          \"['+----+--++-', '--+--+-+-+-', '++-+---+-+-', '--+--+---+-', '---+---+-+-', '---+---+-+-', '--+--+---+-', '-+-+---+-+-', '---+-+-+-+-', '---+-+-+-+-', '+--+---+-+-', '++-+-+-+-+-', '---+-+---+-', '+--+-+---+-']\",\n          \"['+--+-+---+-', '-+---+---+-', '+--+---+-+-', '--+--+---+-', '+--+-----+-', '++-+-+---+-', '--+--+---+-', '--+--+---+-', '-+---+-+-+-', '-+---+---+-', '---+-+---+-', '-+-+---+-+-', '---+---+-+-', '-+---+---+-']\"\n        ],\n        \"semantic_type\": \"\",\n        \"description\": \"\"\n      }\n    }\n  ]\n}",
       "type": "dataframe",
       "variable_name": "df_train"
      },
      "text/html": [
       "\n",
       "  <div id=\"df-85731eba-eae6-4c19-8a9b-62fdd2d3e6c8\" class=\"colab-df-container\">\n",
       "    <div>\n",
       "<style scoped>\n",
       "    .dataframe tbody tr th:only-of-type {\n",
       "        vertical-align: middle;\n",
       "    }\n",
       "\n",
       "    .dataframe tbody tr th {\n",
       "        vertical-align: top;\n",
       "    }\n",
       "\n",
       "    .dataframe thead th {\n",
       "        text-align: right;\n",
       "    }\n",
       "</style>\n",
       "<table border=\"1\" class=\"dataframe\">\n",
       "  <thead>\n",
       "    <tr style=\"text-align: right;\">\n",
       "      <th></th>\n",
       "      <th>Unnamed: 0</th>\n",
       "      <th>content</th>\n",
       "      <th>gender</th>\n",
       "      <th>rhyme</th>\n",
       "      <th>met</th>\n",
       "    </tr>\n",
       "  </thead>\n",
       "  <tbody>\n",
       "    <tr>\n",
       "      <th>0</th>\n",
       "      <td>0</td>\n",
       "      <td>Yo te he visto, en esa hora fugitiva\\nen que l...</td>\n",
       "      <td>0</td>\n",
       "      <td>['A', 'B', 'B', 'A', 'A', 'B', 'B', 'A', 'C', ...</td>\n",
       "      <td>['+++-++---+-', '---+---+-+-', '-+++-+---+-', ...</td>\n",
       "    </tr>\n",
       "    <tr>\n",
       "      <th>1</th>\n",
       "      <td>1</td>\n",
       "      <td>Cordula, ¿qué es posible haber quedado\\nentre ...</td>\n",
       "      <td>0</td>\n",
       "      <td>['A', 'B', 'B', 'A', 'A', 'B', 'B', 'A', 'C', ...</td>\n",
       "      <td>['-+-+-+-+-+-', '--+--+---+-', '-+---+-+-+-', ...</td>\n",
       "    </tr>\n",
       "    <tr>\n",
       "      <th>2</th>\n",
       "      <td>2</td>\n",
       "      <td>Ese que en honra de la patria un día\\nalzó tu ...</td>\n",
       "      <td>0</td>\n",
       "      <td>['A', 'B', 'B', 'A', 'A', 'B', 'B', 'A', 'C', ...</td>\n",
       "      <td>['+--+---+++-', '-+-+---+-+-', '--+--+-+-+-', ...</td>\n",
       "    </tr>\n",
       "    <tr>\n",
       "      <th>3</th>\n",
       "      <td>3</td>\n",
       "      <td>Cuando el sol de la tarde sus rayos amortigua\\...</td>\n",
       "      <td>0</td>\n",
       "      <td>['A', 'B', 'A', 'B', 'C', 'D', 'C', 'D', 'E', ...</td>\n",
       "      <td>['--+--+--+---+-', '-+-+-+--+---+-', '---+-+--...</td>\n",
       "    </tr>\n",
       "    <tr>\n",
       "      <th>4</th>\n",
       "      <td>4</td>\n",
       "      <td>No temen las Piérides hermosas\\nlas áureas fle...</td>\n",
       "      <td>0</td>\n",
       "      <td>['A', 'B', 'B', 'A', 'A', 'B', 'B', 'A', 'C', ...</td>\n",
       "      <td>['++---+---+-', '-+-+---+-+-', '+--+---+--+-',...</td>\n",
       "    </tr>\n",
       "  </tbody>\n",
       "</table>\n",
       "</div>\n",
       "    <div class=\"colab-df-buttons\">\n",
       "\n",
       "  <div class=\"colab-df-container\">\n",
       "    <button class=\"colab-df-convert\" onclick=\"convertToInteractive('df-85731eba-eae6-4c19-8a9b-62fdd2d3e6c8')\"\n",
       "            title=\"Convert this dataframe to an interactive table.\"\n",
       "            style=\"display:none;\">\n",
       "\n",
       "  <svg xmlns=\"http://www.w3.org/2000/svg\" height=\"24px\" viewBox=\"0 -960 960 960\">\n",
       "    <path d=\"M120-120v-720h720v720H120Zm60-500h600v-160H180v160Zm220 220h160v-160H400v160Zm0 220h160v-160H400v160ZM180-400h160v-160H180v160Zm440 0h160v-160H620v160ZM180-180h160v-160H180v160Zm440 0h160v-160H620v160Z\"/>\n",
       "  </svg>\n",
       "    </button>\n",
       "\n",
       "  <style>\n",
       "    .colab-df-container {\n",
       "      display:flex;\n",
       "      gap: 12px;\n",
       "    }\n",
       "\n",
       "    .colab-df-convert {\n",
       "      background-color: #E8F0FE;\n",
       "      border: none;\n",
       "      border-radius: 50%;\n",
       "      cursor: pointer;\n",
       "      display: none;\n",
       "      fill: #1967D2;\n",
       "      height: 32px;\n",
       "      padding: 0 0 0 0;\n",
       "      width: 32px;\n",
       "    }\n",
       "\n",
       "    .colab-df-convert:hover {\n",
       "      background-color: #E2EBFA;\n",
       "      box-shadow: 0px 1px 2px rgba(60, 64, 67, 0.3), 0px 1px 3px 1px rgba(60, 64, 67, 0.15);\n",
       "      fill: #174EA6;\n",
       "    }\n",
       "\n",
       "    .colab-df-buttons div {\n",
       "      margin-bottom: 4px;\n",
       "    }\n",
       "\n",
       "    [theme=dark] .colab-df-convert {\n",
       "      background-color: #3B4455;\n",
       "      fill: #D2E3FC;\n",
       "    }\n",
       "\n",
       "    [theme=dark] .colab-df-convert:hover {\n",
       "      background-color: #434B5C;\n",
       "      box-shadow: 0px 1px 3px 1px rgba(0, 0, 0, 0.15);\n",
       "      filter: drop-shadow(0px 1px 2px rgba(0, 0, 0, 0.3));\n",
       "      fill: #FFFFFF;\n",
       "    }\n",
       "  </style>\n",
       "\n",
       "    <script>\n",
       "      const buttonEl =\n",
       "        document.querySelector('#df-85731eba-eae6-4c19-8a9b-62fdd2d3e6c8 button.colab-df-convert');\n",
       "      buttonEl.style.display =\n",
       "        google.colab.kernel.accessAllowed ? 'block' : 'none';\n",
       "\n",
       "      async function convertToInteractive(key) {\n",
       "        const element = document.querySelector('#df-85731eba-eae6-4c19-8a9b-62fdd2d3e6c8');\n",
       "        const dataTable =\n",
       "          await google.colab.kernel.invokeFunction('convertToInteractive',\n",
       "                                                    [key], {});\n",
       "        if (!dataTable) return;\n",
       "\n",
       "        const docLinkHtml = 'Like what you see? Visit the ' +\n",
       "          '<a target=\"_blank\" href=https://colab.research.google.com/notebooks/data_table.ipynb>data table notebook</a>'\n",
       "          + ' to learn more about interactive tables.';\n",
       "        element.innerHTML = '';\n",
       "        dataTable['output_type'] = 'display_data';\n",
       "        await google.colab.output.renderOutput(dataTable, element);\n",
       "        const docLink = document.createElement('div');\n",
       "        docLink.innerHTML = docLinkHtml;\n",
       "        element.appendChild(docLink);\n",
       "      }\n",
       "    </script>\n",
       "  </div>\n",
       "\n",
       "\n",
       "    <div id=\"df-154d0bc7-d9fc-4d01-be2d-45f051f27945\">\n",
       "      <button class=\"colab-df-quickchart\" onclick=\"quickchart('df-154d0bc7-d9fc-4d01-be2d-45f051f27945')\"\n",
       "                title=\"Suggest charts\"\n",
       "                style=\"display:none;\">\n",
       "\n",
       "<svg xmlns=\"http://www.w3.org/2000/svg\" height=\"24px\"viewBox=\"0 0 24 24\"\n",
       "     width=\"24px\">\n",
       "    <g>\n",
       "        <path d=\"M19 3H5c-1.1 0-2 .9-2 2v14c0 1.1.9 2 2 2h14c1.1 0 2-.9 2-2V5c0-1.1-.9-2-2-2zM9 17H7v-7h2v7zm4 0h-2V7h2v10zm4 0h-2v-4h2v4z\"/>\n",
       "    </g>\n",
       "</svg>\n",
       "      </button>\n",
       "\n",
       "<style>\n",
       "  .colab-df-quickchart {\n",
       "      --bg-color: #E8F0FE;\n",
       "      --fill-color: #1967D2;\n",
       "      --hover-bg-color: #E2EBFA;\n",
       "      --hover-fill-color: #174EA6;\n",
       "      --disabled-fill-color: #AAA;\n",
       "      --disabled-bg-color: #DDD;\n",
       "  }\n",
       "\n",
       "  [theme=dark] .colab-df-quickchart {\n",
       "      --bg-color: #3B4455;\n",
       "      --fill-color: #D2E3FC;\n",
       "      --hover-bg-color: #434B5C;\n",
       "      --hover-fill-color: #FFFFFF;\n",
       "      --disabled-bg-color: #3B4455;\n",
       "      --disabled-fill-color: #666;\n",
       "  }\n",
       "\n",
       "  .colab-df-quickchart {\n",
       "    background-color: var(--bg-color);\n",
       "    border: none;\n",
       "    border-radius: 50%;\n",
       "    cursor: pointer;\n",
       "    display: none;\n",
       "    fill: var(--fill-color);\n",
       "    height: 32px;\n",
       "    padding: 0;\n",
       "    width: 32px;\n",
       "  }\n",
       "\n",
       "  .colab-df-quickchart:hover {\n",
       "    background-color: var(--hover-bg-color);\n",
       "    box-shadow: 0 1px 2px rgba(60, 64, 67, 0.3), 0 1px 3px 1px rgba(60, 64, 67, 0.15);\n",
       "    fill: var(--button-hover-fill-color);\n",
       "  }\n",
       "\n",
       "  .colab-df-quickchart-complete:disabled,\n",
       "  .colab-df-quickchart-complete:disabled:hover {\n",
       "    background-color: var(--disabled-bg-color);\n",
       "    fill: var(--disabled-fill-color);\n",
       "    box-shadow: none;\n",
       "  }\n",
       "\n",
       "  .colab-df-spinner {\n",
       "    border: 2px solid var(--fill-color);\n",
       "    border-color: transparent;\n",
       "    border-bottom-color: var(--fill-color);\n",
       "    animation:\n",
       "      spin 1s steps(1) infinite;\n",
       "  }\n",
       "\n",
       "  @keyframes spin {\n",
       "    0% {\n",
       "      border-color: transparent;\n",
       "      border-bottom-color: var(--fill-color);\n",
       "      border-left-color: var(--fill-color);\n",
       "    }\n",
       "    20% {\n",
       "      border-color: transparent;\n",
       "      border-left-color: var(--fill-color);\n",
       "      border-top-color: var(--fill-color);\n",
       "    }\n",
       "    30% {\n",
       "      border-color: transparent;\n",
       "      border-left-color: var(--fill-color);\n",
       "      border-top-color: var(--fill-color);\n",
       "      border-right-color: var(--fill-color);\n",
       "    }\n",
       "    40% {\n",
       "      border-color: transparent;\n",
       "      border-right-color: var(--fill-color);\n",
       "      border-top-color: var(--fill-color);\n",
       "    }\n",
       "    60% {\n",
       "      border-color: transparent;\n",
       "      border-right-color: var(--fill-color);\n",
       "    }\n",
       "    80% {\n",
       "      border-color: transparent;\n",
       "      border-right-color: var(--fill-color);\n",
       "      border-bottom-color: var(--fill-color);\n",
       "    }\n",
       "    90% {\n",
       "      border-color: transparent;\n",
       "      border-bottom-color: var(--fill-color);\n",
       "    }\n",
       "  }\n",
       "</style>\n",
       "\n",
       "      <script>\n",
       "        async function quickchart(key) {\n",
       "          const quickchartButtonEl =\n",
       "            document.querySelector('#' + key + ' button');\n",
       "          quickchartButtonEl.disabled = true;  // To prevent multiple clicks.\n",
       "          quickchartButtonEl.classList.add('colab-df-spinner');\n",
       "          try {\n",
       "            const charts = await google.colab.kernel.invokeFunction(\n",
       "                'suggestCharts', [key], {});\n",
       "          } catch (error) {\n",
       "            console.error('Error during call to suggestCharts:', error);\n",
       "          }\n",
       "          quickchartButtonEl.classList.remove('colab-df-spinner');\n",
       "          quickchartButtonEl.classList.add('colab-df-quickchart-complete');\n",
       "        }\n",
       "        (() => {\n",
       "          let quickchartButtonEl =\n",
       "            document.querySelector('#df-154d0bc7-d9fc-4d01-be2d-45f051f27945 button');\n",
       "          quickchartButtonEl.style.display =\n",
       "            google.colab.kernel.accessAllowed ? 'block' : 'none';\n",
       "        })();\n",
       "      </script>\n",
       "    </div>\n",
       "\n",
       "    </div>\n",
       "  </div>\n"
      ],
      "text/plain": [
       "   Unnamed: 0                                            content  gender  \\\n",
       "0           0  Yo te he visto, en esa hora fugitiva\\nen que l...       0   \n",
       "1           1  Cordula, ¿qué es posible haber quedado\\nentre ...       0   \n",
       "2           2  Ese que en honra de la patria un día\\nalzó tu ...       0   \n",
       "3           3  Cuando el sol de la tarde sus rayos amortigua\\...       0   \n",
       "4           4  No temen las Piérides hermosas\\nlas áureas fle...       0   \n",
       "\n",
       "                                               rhyme  \\\n",
       "0  ['A', 'B', 'B', 'A', 'A', 'B', 'B', 'A', 'C', ...   \n",
       "1  ['A', 'B', 'B', 'A', 'A', 'B', 'B', 'A', 'C', ...   \n",
       "2  ['A', 'B', 'B', 'A', 'A', 'B', 'B', 'A', 'C', ...   \n",
       "3  ['A', 'B', 'A', 'B', 'C', 'D', 'C', 'D', 'E', ...   \n",
       "4  ['A', 'B', 'B', 'A', 'A', 'B', 'B', 'A', 'C', ...   \n",
       "\n",
       "                                                 met  \n",
       "0  ['+++-++---+-', '---+---+-+-', '-+++-+---+-', ...  \n",
       "1  ['-+-+-+-+-+-', '--+--+---+-', '-+---+-+-+-', ...  \n",
       "2  ['+--+---+++-', '-+-+---+-+-', '--+--+-+-+-', ...  \n",
       "3  ['--+--+--+---+-', '-+-+-+--+---+-', '---+-+--...  \n",
       "4  ['++---+---+-', '-+-+---+-+-', '+--+---+--+-',...  "
      ]
     },
     "execution_count": 6,
     "metadata": {},
     "output_type": "execute_result"
    }
   ],
   "source": [
    "df_train.head(5)"
   ]
  },
  {
   "cell_type": "code",
   "execution_count": 7,
   "metadata": {
    "executionInfo": {
     "elapsed": 277,
     "status": "ok",
     "timestamp": 1749077256961,
     "user": {
      "displayName": "Alysa Meng",
      "userId": "07325622740508416915"
     },
     "user_tz": 420
    },
    "id": "bPCMXTIL1ql_"
   },
   "outputs": [],
   "source": [
    "# get class weights, since we have an uneven distribution of labels\n",
    "train_labs = df_train['gender'].tolist()\n",
    "class_count = np.bincount(train_labs, minlength=len(gender_map))\n",
    "\n",
    "# normalized inverse class weight\n",
    "class_weights = torch.Tensor(len(train_labs) / (len(gender_map) * class_count)).to(device)"
   ]
  },
  {
   "cell_type": "code",
   "execution_count": 8,
   "metadata": {
    "colab": {
     "base_uri": "https://localhost:8080/"
    },
    "executionInfo": {
     "elapsed": 517,
     "status": "ok",
     "timestamp": 1749077257483,
     "user": {
      "displayName": "Alysa Meng",
      "userId": "07325622740508416915"
     },
     "user_tz": 420
    },
    "id": "Becnm1wN1uMX",
    "outputId": "326c694d-6cf5-4344-835f-3f1bf2ec2d88"
   },
   "outputs": [
    {
     "name": "stdout",
     "output_type": "stream",
     "text": [
      "tensor([0.5367, 7.3158], device='cuda:0')\n"
     ]
    }
   ],
   "source": [
    "print(class_weights)"
   ]
  },
  {
   "cell_type": "code",
   "execution_count": 9,
   "metadata": {
    "colab": {
     "base_uri": "https://localhost:8080/",
     "height": 304,
     "referenced_widgets": [
      "ffa8798cc8c6409f904da02247eb0668",
      "0ad3c48d48f3463d8df5c16ab8d279e3",
      "58801c0c7bc34c69a18618b127c48fff",
      "8c1f8512d87244a59ec30785efb7f98a",
      "0cd2f80615764ce1a00ea128e07ee189",
      "d901d5cd7f80480a84f86ca72b74c696",
      "30270bf9a50f499cb39e4b39614d332c",
      "39e78cb0cfcf4787ac9f67d34e5b4a7b",
      "f59b89c982194ddda1833ab08037c55d",
      "ffa6e537487746a1b23c60af81f0bdf0",
      "2b146cdb099b43debfa106633516866d",
      "fdcc9056c9544262a6bdae9f4c875f3e",
      "4ea2afd3016b41418cbaf3bae04d1776",
      "a1e0eb6775fc4b7db9fabad0b50ba7f0",
      "ed961cf49d9348f48971fba057c95100",
      "b912f0c70a824bd1a414ba356ac6ced6",
      "328cdf9358864d1ea2f17011e4b9d22b",
      "da32090984d642ada937cef63029a3eb",
      "bba822cf4bc34e1eb3e43aeb26b401fb",
      "644c379cb3094ad88aab9677c197c11b",
      "bd98fe4dad214d4ebe8ad62e450718b0",
      "269d402d6645496c9ccef90b54a02798",
      "6dbf113c1d484e3781933ad5b70f8f79",
      "5d77eedb939c4cf2b8714a1e8da0ca38",
      "77b9143b77054afb866aefc71342b1f8",
      "5a6dfb28e44e4d3d9b1b6cf9e3a086bb",
      "fe700bc6209d45c8b3472564bcbde320",
      "f8e751c5f76146f288fd1863a80fc3ad",
      "7ecf2d75395a476eb6420fb5ed329c8e",
      "5eb1f68eab134e3bbef79f815fca9ee8",
      "d009a1c0623f43e7a142cd964fcb58c4",
      "74a07bd9fd2a42d681149375e385c6fe",
      "7f3463a438794ed7ac83761e9c1d72a3",
      "8fae67d52b8e49f0a2bdc49773a1c930",
      "762c20e332904f0f9b325f2bfad35905",
      "1700cfa55e86459d844ac16e37e5b400",
      "618deb8935014313ab1ccc5be740b770",
      "cc8c3508f9a448dbad36d3d711a21948",
      "6619d95fb68f4fffbacca32112543251",
      "1c28e745d65d4d2a9c97e8fb83a8ee00",
      "d07f28187c3249b4ba5464ed07cf2e85",
      "da1faae727184e249be19668714f93f5",
      "ba439c00863a4fb68f1bfae16f505fed",
      "d54a18c3d8d544e69476b22b630d76a2",
      "177a036ece934d8ca6a5959382fe291a",
      "3073398a2c124bfdac2ba1da19f92217",
      "9e5142d730034c47a1e2dfa5dfd02cdd",
      "0a51de85688646e0bfe4a5fcb9e53bf8",
      "1f051870c91a42a3a9f597bda3c38aa3",
      "c823c9f8f3924cd3929f2b10cc1b1c42",
      "c1bac0ed148142369dbfde301ab1efe9",
      "2cc3fc185e3948d3899bc54d3534955d",
      "c7d81bb93bae4d859a2bc5a3e8a16576",
      "c10a6bb0575a408fa7be9eedbeb9a68a",
      "dbb0f5b7e1604244ae47a5e9f3dd0899"
     ]
    },
    "executionInfo": {
     "elapsed": 2011,
     "status": "ok",
     "timestamp": 1749077259496,
     "user": {
      "displayName": "Alysa Meng",
      "userId": "07325622740508416915"
     },
     "user_tz": 420
    },
    "id": "aCfo_xVV2uen",
    "outputId": "04eec7c5-9ea5-4ada-9a50-859cdb2befb1"
   },
   "outputs": [
    {
     "name": "stderr",
     "output_type": "stream",
     "text": [
      "/usr/local/lib/python3.11/dist-packages/huggingface_hub/utils/_auth.py:94: UserWarning: \n",
      "The secret `HF_TOKEN` does not exist in your Colab secrets.\n",
      "To authenticate with the Hugging Face Hub, create a token in your settings tab (https://huggingface.co/settings/tokens), set it as secret in your Google Colab and restart your session.\n",
      "You will be able to reuse this secret in all of your notebooks.\n",
      "Please note that authentication is recommended but still optional to access public models or datasets.\n",
      "  warnings.warn(\n"
     ]
    },
    {
     "data": {
      "application/vnd.jupyter.widget-view+json": {
       "model_id": "ffa8798cc8c6409f904da02247eb0668",
       "version_major": 2,
       "version_minor": 0
      },
      "text/plain": [
       "tokenizer_config.json:   0%|          | 0.00/364 [00:00<?, ?B/s]"
      ]
     },
     "metadata": {},
     "output_type": "display_data"
    },
    {
     "data": {
      "application/vnd.jupyter.widget-view+json": {
       "model_id": "fdcc9056c9544262a6bdae9f4c875f3e",
       "version_major": 2,
       "version_minor": 0
      },
      "text/plain": [
       "config.json:   0%|          | 0.00/648 [00:00<?, ?B/s]"
      ]
     },
     "metadata": {},
     "output_type": "display_data"
    },
    {
     "data": {
      "application/vnd.jupyter.widget-view+json": {
       "model_id": "6dbf113c1d484e3781933ad5b70f8f79",
       "version_major": 2,
       "version_minor": 0
      },
      "text/plain": [
       "vocab.txt:   0%|          | 0.00/242k [00:00<?, ?B/s]"
      ]
     },
     "metadata": {},
     "output_type": "display_data"
    },
    {
     "data": {
      "application/vnd.jupyter.widget-view+json": {
       "model_id": "8fae67d52b8e49f0a2bdc49773a1c930",
       "version_major": 2,
       "version_minor": 0
      },
      "text/plain": [
       "tokenizer.json:   0%|          | 0.00/480k [00:00<?, ?B/s]"
      ]
     },
     "metadata": {},
     "output_type": "display_data"
    },
    {
     "data": {
      "application/vnd.jupyter.widget-view+json": {
       "model_id": "177a036ece934d8ca6a5959382fe291a",
       "version_major": 2,
       "version_minor": 0
      },
      "text/plain": [
       "special_tokens_map.json:   0%|          | 0.00/134 [00:00<?, ?B/s]"
      ]
     },
     "metadata": {},
     "output_type": "display_data"
    }
   ],
   "source": [
    "tokenizer = AutoTokenizer.from_pretrained(\"dccuchile/bert-base-spanish-wwm-cased\")"
   ]
  },
  {
   "cell_type": "code",
   "execution_count": 10,
   "metadata": {
    "colab": {
     "base_uri": "https://localhost:8080/",
     "height": 468
    },
    "executionInfo": {
     "elapsed": 1086,
     "status": "ok",
     "timestamp": 1749077260585,
     "user": {
      "displayName": "Alysa Meng",
      "userId": "07325622740508416915"
     },
     "user_tz": 420
    },
    "id": "u6Aol7vs3J1U",
    "outputId": "32f639ba-2335-46bf-aace-53c91d42abe1"
   },
   "outputs": [
    {
     "name": "stdout",
     "output_type": "stream",
     "text": [
      "[646, 463, 391, 288, 283, 281, 276, 220, 211, 199, 193, 186, 184, 182, 177, 176, 176, 156, 146, 142, 137, 136, 135, 132, 132, 131, 131, 131, 130, 130, 129, 129, 129, 128, 128, 127, 127, 127, 126, 126, 126, 125, 125, 125, 125, 125, 124, 124, 124, 123, 123, 123, 123, 123, 123, 123, 122, 122, 122, 122, 122, 121, 121, 121, 121, 121, 121, 121, 121, 121, 120, 120, 120, 120, 120, 120, 120, 120, 120, 120, 120, 120, 120, 120, 120, 120, 119, 119, 119, 119, 119, 119, 118, 118, 118, 118, 118, 118, 118, 118, 118, 118, 118, 117, 117, 117, 117, 117, 117, 117, 117, 117, 117, 117, 116, 116, 116, 116, 116, 116, 116, 116, 116, 116, 116, 116, 116, 116, 116, 116, 115, 115, 115, 115, 115, 115, 115, 115, 115, 115, 115, 115, 115, 115, 115, 115, 115, 115, 115, 115, 115, 115, 115, 115, 115, 114, 114, 114, 114, 114, 114, 114, 114, 114, 114, 114, 114, 114, 114, 114, 114, 114, 114, 114, 114, 113, 113, 113, 113, 113, 113, 113, 113, 113, 113, 113, 113, 113, 113, 113, 113, 113, 113, 113, 112, 112, 112, 112, 112, 112, 112, 112, 112, 112, 112, 112, 112, 112, 112, 112, 112, 112, 112, 112, 112, 111, 111, 111, 111, 111, 111, 111, 111, 111, 111, 111, 111, 111, 110, 110, 110, 110, 110, 110, 110, 110, 110, 110, 110, 110, 110, 110, 110, 110, 110, 110, 110, 110, 110, 110, 110, 110, 110, 110, 110, 109, 109, 109, 109, 109, 109, 109, 109, 109, 109, 109, 109, 109, 109, 109, 109, 109, 109, 108, 108, 108, 108, 108, 108, 108, 108, 108, 108, 108, 108, 108, 108, 108, 108, 108, 108, 108, 108, 108, 108, 108, 108, 108, 107, 107, 107, 107, 107, 107, 107, 107, 107, 107, 107, 107, 107, 107, 106, 106, 106, 106, 106, 106, 106, 106, 106, 106, 106, 106, 106, 106, 106, 106, 106, 105, 105, 105, 105, 105, 105, 105, 105, 105, 105, 105, 105, 105, 105, 105, 105, 105, 105, 105, 105, 105, 105, 105, 105, 105, 105, 105, 105, 105, 105, 105, 105, 105, 105, 105, 105, 105, 105, 105, 105, 104, 104, 104, 104, 104, 104, 104, 104, 104, 104, 104, 104, 104, 104, 104, 104, 104, 104, 104, 104, 104, 104, 104, 104, 104, 104, 104, 104, 104, 104, 104, 104, 104, 103, 103, 103, 103, 103, 103, 103, 103, 103, 103, 103, 103, 103, 103, 103, 103, 103, 103, 103, 103, 103, 103, 103, 103, 103, 103, 103, 103, 103, 103, 103, 103, 103, 103, 103, 103, 102, 102, 102, 102, 102, 102, 102, 102, 102, 102, 102, 102, 102, 102, 102, 102, 102, 102, 102, 102, 102, 102, 102, 102, 102, 102, 102, 102, 102, 102, 102, 102, 102, 101, 101, 101, 101, 101, 101, 101, 101, 101, 101, 101, 101, 101, 101, 101, 101, 101, 101, 101, 101, 101, 101, 101, 101, 101, 101, 101, 101, 101, 101, 101, 101, 101, 101, 101, 101, 101, 101, 101, 101, 100, 100, 100, 100, 100, 100, 100, 100, 100, 100, 100, 100, 100, 100, 100, 100, 100, 100, 100, 100, 100, 100, 100, 100, 100, 100, 100, 100, 100, 100, 100, 100, 100, 100, 100, 100, 100, 100, 100, 100, 100, 100, 100, 100, 100, 100, 100, 100, 100, 100, 100, 100, 100, 100, 100, 100, 100, 99, 99, 99, 99, 99, 99, 99, 99, 99, 99, 99, 99, 99, 99, 99, 99, 99, 99, 99, 99, 99, 99, 99, 99, 99, 99, 99, 99, 99, 99, 99, 99, 99, 99, 99, 99, 99, 99, 99, 99, 99, 99, 99, 99, 99, 99, 99, 99, 99, 99, 99, 99, 99, 99, 99, 99, 99, 99, 99, 99, 99, 99, 99, 99, 99, 99, 99, 99, 99, 99, 99, 99, 99, 98, 98, 98, 98, 98, 98, 98, 98, 98, 98, 98, 98, 98, 98, 98, 98, 98, 98, 98, 98, 98, 98, 98, 98, 98, 98, 98, 98, 98, 98, 98, 98, 98, 98, 98, 98, 98, 98, 98, 98, 98, 98, 98, 98, 98, 98, 98, 98, 98, 98, 98, 98, 98, 98, 98, 98, 98, 98, 98, 98, 98, 98, 98, 98, 98, 98, 98, 98, 98, 98, 98, 98, 98, 98, 98, 98, 98, 98, 98, 98, 98, 98, 98, 98, 98, 98, 98, 98, 98, 98, 98, 98, 98, 98, 98, 98, 97, 97, 97, 97, 97, 97, 97, 97, 97, 97, 97, 97, 97, 97, 97, 97, 97, 97, 97, 97, 97, 97, 97, 97, 97, 97, 97, 97, 97, 97, 97, 97, 97, 97, 97, 97, 97, 97, 97, 97, 97, 97, 97, 97, 97, 97, 97, 97, 97, 97, 97, 97, 97, 97, 97, 97, 97, 97, 97, 97, 97, 97, 97, 97, 97, 97, 97, 97, 97, 97, 97, 97, 97, 97, 97, 97, 97, 97, 97, 97, 97, 97, 97, 97, 97, 97, 97, 97, 97, 97, 97, 97, 97, 97, 97, 97, 97, 97, 97, 97, 97, 97, 97, 97, 97, 97, 97, 97, 97, 97, 97, 97, 97, 97, 97, 97, 97, 97, 97, 97, 97, 97, 97, 97, 96, 96, 96, 96, 96, 96, 96, 96, 96, 96, 96, 96, 96, 96, 96, 96, 96, 96, 96, 96, 96, 96, 96, 96, 96, 96, 96, 96, 96, 96, 96, 96, 96, 96, 96, 96, 96, 96, 96, 96, 96, 96, 96, 96, 96, 96, 96, 96, 96, 96, 96, 96, 96, 96, 96, 96, 96, 96, 96, 96, 96, 96, 96, 96, 96, 96, 96, 96, 96, 96, 96, 96, 96, 96, 96, 96, 96, 96, 96, 96, 96, 96, 96, 96, 96, 96, 96, 96, 96, 96, 96, 96, 96, 96, 96, 96, 96, 96, 96, 96, 96, 96, 96, 96, 96, 96, 96, 96, 96, 96, 96, 96, 96, 96, 96, 96, 96, 96, 96, 96, 96, 96, 96, 96, 96, 96, 96, 96, 96, 96, 96, 96, 95, 95, 95, 95, 95, 95, 95, 95, 95, 95, 95, 95, 95, 95, 95, 95, 95, 95, 95, 95, 95, 95, 95, 95, 95, 95, 95, 95, 95, 95, 95, 95, 95, 95, 95, 95, 95, 95, 95, 95, 95, 95, 95, 95, 95, 95, 95, 95, 95, 95, 95, 95, 95, 95, 95, 95, 95, 95, 95, 95, 95, 95, 95, 95, 95, 95, 95, 95, 95, 95, 95, 95, 95, 95, 95, 95, 95, 95, 95, 95, 95, 95, 95, 95, 95, 95, 95, 95, 95, 95, 95, 95, 95, 95, 95, 95, 95, 95, 95, 95, 95, 95, 95, 95, 95, 95, 95, 95, 95, 95, 95, 95, 95, 95, 95, 95, 95, 95, 95, 95, 95, 95, 95, 95, 95, 95, 95, 95, 95, 95, 95, 95, 95, 95, 95, 95, 95, 95, 95, 95, 95, 95, 95, 95, 95, 95, 95, 95, 95, 95, 95, 95, 95, 95, 95, 95, 95, 95, 95, 95, 95, 95, 95, 95, 94, 94, 94, 94, 94, 94, 94, 94, 94, 94, 94, 94, 94, 94, 94, 94, 94, 94, 94, 94, 94, 94, 94, 94, 94, 94, 94, 94, 94, 94, 94, 94, 94, 94, 94, 94, 94, 94, 94, 94, 94, 94, 94, 94, 94, 94, 94, 94, 94, 94, 94, 94, 94, 94, 94, 94, 94, 94, 94, 94, 94, 94, 94, 94, 94, 94, 94, 94, 94, 94, 94, 94, 94, 94, 94, 94, 94, 94, 94, 94, 94, 94, 94, 94, 94, 94, 94, 94, 94, 94, 94, 94, 94, 94, 94, 94, 94, 94, 94, 94, 94, 94, 94, 94, 94, 94, 94, 94, 94, 94, 94, 94, 94, 94, 94, 94, 94, 94, 94, 94, 94, 94, 94, 94, 94, 94, 94, 94, 94, 94, 94, 94, 94, 94, 94, 94, 94, 94, 94, 94, 94, 94, 94, 94, 94, 94, 94, 94, 94, 94, 94, 94, 94, 94, 94, 94, 94, 94, 94, 94, 94, 94, 94, 94, 94, 94, 94, 94, 94, 94, 94, 94, 94, 94, 94, 94, 94, 94, 93, 93, 93, 93, 93, 93, 93, 93, 93, 93, 93, 93, 93, 93, 93, 93, 93, 93, 93, 93, 93, 93, 93, 93, 93, 93, 93, 93, 93, 93, 93, 93, 93, 93, 93, 93, 93, 93, 93, 93, 93, 93, 93, 93, 93, 93, 93, 93, 93, 93, 93, 93, 93, 93, 93, 93, 93, 93, 93, 93, 93, 93, 93, 93, 93, 93, 93, 93, 93, 93, 93, 93, 93, 93, 93, 93, 93, 93, 93, 93, 93, 93, 93, 93, 93, 93, 93, 93, 93, 93, 93, 93, 93, 93, 93, 93, 93, 93, 93, 93, 93, 93, 93, 93, 93, 93, 93, 93, 93, 93, 93, 93, 93, 93, 93, 93, 93, 93, 93, 93, 93, 93, 93, 93, 93, 93, 93, 93, 93, 93, 93, 93, 93, 93, 93, 93, 93, 93, 93, 93, 93, 93, 93, 93, 93, 93, 93, 93, 93, 93, 93, 93, 93, 93, 93, 93, 93, 93, 93, 93, 93, 93, 93, 93, 93, 93, 93, 93, 93, 93, 93, 93, 93, 93, 93, 93, 93, 93, 93, 93, 93, 93, 93, 93, 93, 93, 93, 92, 92, 92, 92, 92, 92, 92, 92, 92, 92, 92, 92, 92, 92, 92, 92, 92, 92, 92, 92, 92, 92, 92, 92, 92, 92, 92, 92, 92, 92, 92, 92, 92, 92, 92, 92, 92, 92, 92, 92, 92, 92, 92, 92, 92, 92, 92, 92, 92, 92, 92, 92, 92, 92, 92, 92, 92, 92, 92, 92, 92, 92, 92, 92, 92, 92, 92, 92, 92, 92, 92, 92, 92, 92, 92, 92, 92, 92, 92, 92, 92, 92, 92, 92, 92, 92, 92, 92, 92, 92, 92, 92, 92, 92, 92, 92, 92, 92, 92, 92, 92, 92, 92, 92, 92, 92, 92, 92, 92, 92, 92, 92, 92, 92, 92, 92, 92, 92, 92, 92, 92, 92, 92, 92, 92, 92, 92, 92, 92, 92, 92, 92, 92, 92, 92, 92, 92, 92, 92, 92, 92, 92, 92, 92, 92, 92, 92, 92, 92, 92, 92, 92, 92, 92, 92, 92, 92, 92, 92, 92, 92, 92, 92, 92, 92, 92, 92, 92, 92, 92, 92, 92, 92, 92, 92, 92, 92, 92, 92, 92, 92, 92, 92, 92, 92, 92, 92, 92, 92, 92, 92, 92, 92, 92, 92, 92, 92, 92, 92, 92, 91, 91, 91, 91, 91, 91, 91, 91, 91, 91, 91, 91, 91, 91, 91, 91, 91, 91, 91, 91, 91, 91, 91, 91, 91, 91, 91, 91, 91, 91, 91, 91, 91, 91, 91, 91, 91, 91, 91, 91, 91, 91, 91, 91, 91, 91, 91, 91, 91, 91, 91, 91, 91, 91, 91, 91, 91, 91, 91, 91, 91, 91, 91, 91, 91, 91, 91, 91, 91, 91, 91, 91, 91, 91, 91, 91, 91, 91, 91, 91, 91, 91, 91, 91, 91, 91, 91, 91, 91, 91, 91, 91, 91, 91, 91, 91, 91, 91, 91, 91, 91, 91, 91, 91, 91, 91, 91, 91, 91, 91, 91, 91, 91, 91, 91, 91, 91, 91, 91, 91, 91, 91, 91, 91, 91, 91, 91, 91, 91, 91, 91, 91, 91, 91, 91, 91, 91, 91, 91, 91, 91, 91, 91, 91, 91, 91, 91, 91, 91, 91, 91, 91, 91, 91, 91, 91, 91, 91, 91, 91, 91, 91, 91, 91, 91, 91, 91, 91, 91, 91, 91, 91, 91, 91, 91, 91, 91, 91, 91, 91, 91, 91, 91, 91, 91, 91, 91, 91, 91, 91, 91, 91, 91, 91, 91, 91, 91, 91, 91, 91, 91, 91, 91, 91, 91, 91, 91, 91, 91, 91, 91, 91, 91, 91, 91, 91, 91, 91, 90, 90, 90, 90, 90, 90, 90, 90, 90, 90, 90, 90, 90, 90, 90, 90, 90, 90, 90, 90, 90, 90, 90, 90, 90, 90, 90, 90, 90, 90, 90, 90, 90, 90, 90, 90, 90, 90, 90, 90, 90, 90, 90, 90, 90, 90, 90, 90, 90, 90, 90, 90, 90, 90, 90, 90, 90, 90, 90, 90, 90, 90, 90, 90, 90, 90, 90, 90, 90, 90, 90, 90, 90, 90, 90, 90, 90, 90, 90, 90, 90, 90, 90, 90, 90, 90, 90, 90, 90, 90, 90, 90, 90, 90, 90, 90, 90, 90, 90, 90, 90, 90, 90, 90, 90, 90, 90, 90, 90, 90, 90, 90, 90, 90, 90, 90, 90, 90, 90, 90, 90, 90, 90, 90, 90, 90, 90, 90, 90, 90, 90, 90, 90, 90, 90, 90, 90, 90, 90, 90, 90, 90, 90, 90, 90, 90, 90, 90, 90, 90, 90, 90, 90, 90, 90, 90, 90, 90, 90, 90, 90, 90, 90, 90, 90, 90, 90, 90, 90, 90, 90, 90, 90, 90, 90, 90, 90, 90, 90, 90, 90, 90, 90, 90, 90, 90, 90, 90, 90, 90, 90, 90, 90, 90, 90, 90, 90, 89, 89, 89, 89, 89, 89, 89, 89, 89, 89, 89, 89, 89, 89, 89, 89, 89, 89, 89, 89, 89, 89, 89, 89, 89, 89, 89, 89, 89, 89, 89, 89, 89, 89, 89, 89, 89, 89, 89, 89, 89, 89, 89, 89, 89, 89, 89, 89, 89, 89, 89, 89, 89, 89, 89, 89, 89, 89, 89, 89, 89, 89, 89, 89, 89, 89, 89, 89, 89, 89, 89, 89, 89, 89, 89, 89, 89, 89, 89, 89, 89, 89, 89, 89, 89, 89, 89, 89, 89, 89, 89, 89, 89, 89, 89, 89, 89, 89, 89, 89, 89, 89, 89, 89, 89, 89, 89, 89, 89, 89, 89, 89, 89, 89, 89, 89, 89, 89, 89, 89, 89, 89, 89, 89, 89, 89, 89, 89, 89, 89, 89, 89, 89, 89, 89, 89, 89, 89, 89, 89, 89, 89, 89, 89, 89, 89, 89, 89, 89, 89, 89, 89, 89, 89, 89, 89, 89, 89, 89, 89, 89, 89, 89, 89, 89, 89, 89, 89, 89, 89, 89, 89, 89, 89, 89, 89, 89, 89, 89, 89, 89, 89, 89, 89, 89, 89, 89, 89, 89, 89, 89, 89, 89, 89, 89, 89, 89, 89, 89, 89, 89, 89, 89, 89, 89, 89, 89, 89, 89, 89, 89, 88, 88, 88, 88, 88, 88, 88, 88, 88, 88, 88, 88, 88, 88, 88, 88, 88, 88, 88, 88, 88, 88, 88, 88, 88, 88, 88, 88, 88, 88, 88, 88, 88, 88, 88, 88, 88, 88, 88, 88, 88, 88, 88, 88, 88, 88, 88, 88, 88, 88, 88, 88, 88, 88, 88, 88, 88, 88, 88, 88, 88, 88, 88, 88, 88, 88, 88, 88, 88, 88, 88, 88, 88, 88, 88, 88, 88, 88, 88, 88, 88, 88, 88, 88, 88, 88, 88, 88, 88, 88, 88, 88, 88, 88, 88, 88, 88, 88, 88, 88, 88, 88, 88, 88, 88, 88, 88, 88, 88, 88, 88, 88, 88, 88, 88, 88, 88, 88, 88, 88, 88, 88, 88, 88, 88, 88, 88, 88, 88, 88, 88, 88, 88, 88, 88, 88, 88, 88, 88, 88, 88, 88, 88, 88, 88, 88, 88, 88, 88, 88, 88, 88, 88, 88, 88, 88, 88, 88, 88, 88, 88, 88, 88, 88, 88, 88, 88, 88, 88, 88, 88, 88, 88, 88, 88, 88, 88, 88, 88, 88, 88, 88, 88, 88, 88, 88, 88, 88, 88, 87, 87, 87, 87, 87, 87, 87, 87, 87, 87, 87, 87, 87, 87, 87, 87, 87, 87, 87, 87, 87, 87, 87, 87, 87, 87, 87, 87, 87, 87, 87, 87, 87, 87, 87, 87, 87, 87, 87, 87, 87, 87, 87, 87, 87, 87, 87, 87, 87, 87, 87, 87, 87, 87, 87, 87, 87, 87, 87, 87, 87, 87, 87, 87, 87, 87, 87, 87, 87, 87, 87, 87, 87, 87, 87, 87, 87, 87, 87, 87, 87, 87, 87, 87, 87, 87, 87, 87, 87, 87, 87, 87, 87, 87, 87, 87, 87, 87, 87, 87, 87, 87, 87, 87, 87, 87, 87, 87, 87, 87, 87, 87, 87, 87, 87, 87, 87, 87, 87, 87, 87, 87, 87, 87, 87, 87, 87, 87, 87, 87, 87, 87, 87, 87, 87, 87, 87, 87, 87, 87, 87, 87, 87, 87, 87, 87, 87, 87, 87, 87, 87, 87, 87, 87, 87, 87, 87, 87, 87, 87, 87, 87, 87, 87, 87, 87, 87, 87, 87, 87, 87, 86, 86, 86, 86, 86, 86, 86, 86, 86, 86, 86, 86, 86, 86, 86, 86, 86, 86, 86, 86, 86, 86, 86, 86, 86, 86, 86, 86, 86, 86, 86, 86, 86, 86, 86, 86, 86, 86, 86, 86, 86, 86, 86, 86, 86, 86, 86, 86, 86, 86, 86, 86, 86, 86, 86, 86, 86, 86, 86, 86, 86, 86, 86, 86, 86, 86, 86, 86, 86, 86, 86, 86, 86, 86, 86, 86, 86, 86, 86, 86, 86, 86, 86, 86, 86, 86, 86, 86, 86, 86, 86, 86, 86, 86, 86, 86, 86, 86, 86, 86, 86, 86, 86, 86, 86, 86, 86, 86, 86, 86, 86, 86, 86, 86, 86, 86, 86, 86, 86, 86, 86, 86, 86, 86, 86, 86, 86, 86, 86, 86, 86, 86, 86, 86, 86, 86, 86, 86, 86, 86, 86, 86, 86, 86, 86, 86, 86, 86, 86, 86, 86, 86, 86, 86, 86, 86, 86, 86, 86, 86, 86, 86, 85, 85, 85, 85, 85, 85, 85, 85, 85, 85, 85, 85, 85, 85, 85, 85, 85, 85, 85, 85, 85, 85, 85, 85, 85, 85, 85, 85, 85, 85, 85, 85, 85, 85, 85, 85, 85, 85, 85, 85, 85, 85, 85, 85, 85, 85, 85, 85, 85, 85, 85, 85, 85, 85, 85, 85, 85, 85, 85, 85, 85, 85, 85, 85, 85, 85, 85, 85, 85, 85, 85, 85, 85, 85, 85, 85, 85, 85, 85, 85, 85, 85, 85, 85, 85, 85, 85, 85, 85, 85, 85, 85, 85, 85, 85, 85, 85, 85, 85, 85, 85, 85, 85, 85, 85, 85, 85, 85, 85, 85, 85, 85, 85, 85, 85, 85, 85, 85, 85, 85, 85, 85, 85, 85, 85, 85, 85, 85, 85, 85, 85, 85, 85, 85, 85, 85, 85, 85, 85, 85, 85, 85, 85, 85, 85, 85, 85, 85, 85, 85, 85, 85, 84, 84, 84, 84, 84, 84, 84, 84, 84, 84, 84, 84, 84, 84, 84, 84, 84, 84, 84, 84, 84, 84, 84, 84, 84, 84, 84, 84, 84, 84, 84, 84, 84, 84, 84, 84, 84, 84, 84, 84, 84, 84, 84, 84, 84, 84, 84, 84, 84, 84, 84, 84, 84, 84, 84, 84, 84, 84, 84, 84, 84, 84, 84, 84, 84, 84, 84, 84, 84, 84, 84, 84, 84, 84, 84, 84, 84, 84, 84, 84, 84, 84, 84, 84, 84, 84, 84, 84, 84, 84, 84, 84, 84, 84, 84, 84, 84, 84, 84, 84, 84, 84, 84, 84, 84, 84, 84, 84, 84, 84, 84, 84, 84, 84, 83, 83, 83, 83, 83, 83, 83, 83, 83, 83, 83, 83, 83, 83, 83, 83, 83, 83, 83, 83, 83, 83, 83, 83, 83, 83, 83, 83, 83, 83, 83, 83, 83, 83, 83, 83, 83, 83, 83, 83, 83, 83, 83, 83, 83, 83, 83, 83, 83, 83, 83, 83, 83, 83, 83, 83, 83, 83, 83, 83, 83, 83, 83, 83, 83, 83, 83, 83, 83, 83, 83, 83, 83, 83, 83, 83, 83, 83, 83, 83, 83, 83, 83, 83, 83, 83, 83, 83, 83, 83, 83, 83, 83, 83, 83, 83, 83, 83, 83, 82, 82, 82, 82, 82, 82, 82, 82, 82, 82, 82, 82, 82, 82, 82, 82, 82, 82, 82, 82, 82, 82, 82, 82, 82, 82, 82, 82, 82, 82, 82, 82, 82, 82, 82, 82, 82, 82, 82, 82, 82, 82, 82, 82, 82, 82, 82, 82, 82, 82, 82, 82, 82, 82, 82, 82, 82, 82, 82, 82, 82, 82, 82, 82, 82, 82, 82, 82, 82, 82, 82, 82, 82, 82, 82, 82, 82, 82, 82, 82, 82, 82, 82, 82, 82, 82, 82, 82, 82, 82, 82, 82, 82, 82, 82, 81, 81, 81, 81, 81, 81, 81, 81, 81, 81, 81, 81, 81, 81, 81, 81, 81, 81, 81, 81, 81, 81, 81, 81, 81, 81, 81, 81, 81, 81, 81, 81, 81, 81, 81, 81, 81, 81, 81, 81, 81, 81, 81, 81, 81, 81, 81, 81, 81, 81, 81, 81, 81, 81, 81, 81, 81, 81, 81, 81, 81, 81, 81, 81, 81, 81, 81, 81, 81, 80, 80, 80, 80, 80, 80, 80, 80, 80, 80, 80, 80, 80, 80, 80, 80, 80, 80, 80, 80, 80, 80, 80, 80, 80, 80, 80, 80, 80, 80, 80, 80, 80, 80, 79, 79, 79, 79, 79, 79, 79, 79, 79, 79, 79, 79, 79, 79, 79, 79, 79, 79, 79, 79, 79, 79, 79, 79, 79, 79, 79, 79, 79, 79, 79, 79, 79, 79, 79, 79, 79, 79, 79, 79, 79, 79, 79, 79, 78, 78, 78, 78, 78, 78, 78, 78, 78, 78, 78, 78, 78, 78, 78, 78, 78, 78, 78, 78, 78, 78, 78, 78, 78, 78, 78, 78, 78, 78, 78, 78, 78, 78, 78, 78, 78, 78, 78, 78, 78, 78, 78, 78, 78, 77, 77, 77, 77, 77, 77, 77, 77, 77, 77, 77, 77, 77, 77, 77, 77, 77, 77, 76, 76, 76, 76, 76, 76, 76, 76, 76, 76, 76, 76, 76, 76, 76, 76, 76, 76, 76, 75, 75, 75, 75, 75, 75, 75, 75, 74, 74, 74, 74, 74, 74, 74, 74, 74, 74, 74, 74, 73, 73, 73, 73, 73, 73, 73, 72, 72, 72, 72, 72, 72, 71, 70, 70, 69, 69, 68, 68, 68, 65, 65, 63, 61, 61, 61, 57, 57, 57, 57, 56, 54, 53, 51]\n"
     ]
    },
    {
     "data": {
      "image/png": "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",
      "text/plain": [
       "<Figure size 640x480 with 1 Axes>"
      ]
     },
     "metadata": {},
     "output_type": "display_data"
    }
   ],
   "source": [
    "sequence_len = [len(c.split()) for c in df_train['content']]\n",
    "sequence_len.sort(reverse=True)\n",
    "pd.Series(sequence_len).hist(bins=10)\n",
    "print(sequence_len)"
   ]
  },
  {
   "cell_type": "code",
   "execution_count": 11,
   "metadata": {
    "executionInfo": {
     "elapsed": 17,
     "status": "ok",
     "timestamp": 1749077260604,
     "user": {
      "displayName": "Alysa Meng",
      "userId": "07325622740508416915"
     },
     "user_tz": 420
    },
    "id": "vV1Vy9Xx4CIQ"
   },
   "outputs": [],
   "source": [
    "# let's just set the max len to 256, nice power of 2, most of the data points are much below it\n",
    "max_seq_len = 256"
   ]
  },
  {
   "cell_type": "code",
   "execution_count": 12,
   "metadata": {
    "colab": {
     "base_uri": "https://localhost:8080/",
     "height": 113,
     "referenced_widgets": [
      "35b7a8acddbb413dbaad95ae18d3b7ee",
      "6c467936878b4fa684df1b708fb317e8",
      "408a59adb29543af9ad837ba38666038",
      "cf47a56f163a4545b9ed50f1cea4f271",
      "45fc7fa3a3ef49dfb014808fd1945f77",
      "020a2c5b02f046e69ba273d2f53d690b",
      "e7d83fa0f8b8491c9f39517876276158",
      "4c5798131bf240f99512b9d102cc65b4",
      "37b336b612af4a20abb4c3fd23d1723b",
      "98daf52def75460ab669b2f5905c006a",
      "4cab34362f544be88f0929d3514090d7",
      "c8fd9b2e460640cebe7f930d67a05a3f",
      "6460b1b39e76493c8cbdacfde63ca92e",
      "fc6076a8b61845e4a3b4ffb5fcf0761b",
      "9673ed43a82d46b49c673a3042e15244",
      "8228f0929c3047a58cbfd4cc4fc86b9b",
      "168b8c8998214b98a7b0b19eb24699d3",
      "400e217217254cbf938a5e0cc2e3683c",
      "cad84de6656e4ce6bcd732228834f99c",
      "ca5dcd3372fb4af298c9f5475e33aa4a",
      "cf460fa6e80f4b29bc90cf839acbd0f2",
      "26294ea9ac3f4e818cc6a159400159c0",
      "c1097d3aa243441f91a6de139ba10228",
      "f42dccad83d54e3db161bc81ec06bf4e",
      "3cdaa9c90df84e2d9c40ad9d95159456",
      "ee6f83a1e7114161a757d53d0d4a2830",
      "8f3f0d865d314dcd88e17b657394d88d",
      "e244ff09cac24c6281c94b805e61c257",
      "5f7ed91db7b44c3a887c058df51516d0",
      "0188367e68fb46e8871269b4b1a1e0dd",
      "ea7adbf636584b19a368c7d32be3e5f1",
      "25bf58a766e84b63abf45c1118e92186",
      "17f8a9784f0849a1bc9ec58b8714cd40"
     ]
    },
    "executionInfo": {
     "elapsed": 4488,
     "status": "ok",
     "timestamp": 1749077265100,
     "user": {
      "displayName": "Alysa Meng",
      "userId": "07325622740508416915"
     },
     "user_tz": 420
    },
    "id": "9f2y7dOA47qm",
    "outputId": "40b03048-835d-4d9c-c0d9-461c0c075be2"
   },
   "outputs": [
    {
     "data": {
      "application/vnd.jupyter.widget-view+json": {
       "model_id": "35b7a8acddbb413dbaad95ae18d3b7ee",
       "version_major": 2,
       "version_minor": 0
      },
      "text/plain": [
       "Map:   0%|          | 0/3614 [00:00<?, ? examples/s]"
      ]
     },
     "metadata": {},
     "output_type": "display_data"
    },
    {
     "data": {
      "application/vnd.jupyter.widget-view+json": {
       "model_id": "c8fd9b2e460640cebe7f930d67a05a3f",
       "version_major": 2,
       "version_minor": 0
      },
      "text/plain": [
       "Map:   0%|          | 0/401 [00:00<?, ? examples/s]"
      ]
     },
     "metadata": {},
     "output_type": "display_data"
    },
    {
     "data": {
      "application/vnd.jupyter.widget-view+json": {
       "model_id": "c1097d3aa243441f91a6de139ba10228",
       "version_major": 2,
       "version_minor": 0
      },
      "text/plain": [
       "Map:   0%|          | 0/445 [00:00<?, ? examples/s]"
      ]
     },
     "metadata": {},
     "output_type": "display_data"
    }
   ],
   "source": [
    "def tokenize(batch):\n",
    "    return tokenizer(batch['content'], padding=\"max_length\", truncation=True, max_length=max_seq_len)\n",
    "\n",
    "df_train['labels'] = df_train['gender']\n",
    "df_val['labels'] = df_val['gender']\n",
    "df_test['labels'] = df_test['gender']\n",
    "train_ds = Dataset.from_pandas(df_train)\n",
    "val_ds = Dataset.from_pandas(df_val)\n",
    "test_ds = Dataset.from_pandas(df_test)\n",
    "# tokenize! both train and test\n",
    "tokenized_train = train_ds.map(tokenize, batched=True)\n",
    "tokenized_val = val_ds.map(tokenize, batched=True)\n",
    "tokenized_test = test_ds.map(tokenize, batched=True)"
   ]
  },
  {
   "cell_type": "code",
   "execution_count": 13,
   "metadata": {
    "colab": {
     "base_uri": "https://localhost:8080/"
    },
    "executionInfo": {
     "elapsed": 4992,
     "status": "ok",
     "timestamp": 1749077270095,
     "user": {
      "displayName": "Alysa Meng",
      "userId": "07325622740508416915"
     },
     "user_tz": 420
    },
    "id": "bFevVhUlXfDt",
    "outputId": "bc5a0ed1-63cc-4f6c-874c-dafd99d3509d"
   },
   "outputs": [
    {
     "name": "stdout",
     "output_type": "stream",
     "text": [
      "Collecting evaluate\n",
      "  Downloading evaluate-0.4.3-py3-none-any.whl.metadata (9.2 kB)\n",
      "Requirement already satisfied: datasets>=2.0.0 in /usr/local/lib/python3.11/dist-packages (from evaluate) (2.14.4)\n",
      "Requirement already satisfied: numpy>=1.17 in /usr/local/lib/python3.11/dist-packages (from evaluate) (2.0.2)\n",
      "Requirement already satisfied: dill in /usr/local/lib/python3.11/dist-packages (from evaluate) (0.3.7)\n",
      "Requirement already satisfied: pandas in /usr/local/lib/python3.11/dist-packages (from evaluate) (2.2.2)\n",
      "Requirement already satisfied: requests>=2.19.0 in /usr/local/lib/python3.11/dist-packages (from evaluate) (2.32.3)\n",
      "Requirement already satisfied: tqdm>=4.62.1 in /usr/local/lib/python3.11/dist-packages (from evaluate) (4.67.1)\n",
      "Requirement already satisfied: xxhash in /usr/local/lib/python3.11/dist-packages (from evaluate) (3.5.0)\n",
      "Requirement already satisfied: multiprocess in /usr/local/lib/python3.11/dist-packages (from evaluate) (0.70.15)\n",
      "Requirement already satisfied: fsspec>=2021.05.0 in /usr/local/lib/python3.11/dist-packages (from fsspec[http]>=2021.05.0->evaluate) (2025.3.2)\n",
      "Requirement already satisfied: huggingface-hub>=0.7.0 in /usr/local/lib/python3.11/dist-packages (from evaluate) (0.32.2)\n",
      "Requirement already satisfied: packaging in /usr/local/lib/python3.11/dist-packages (from evaluate) (24.2)\n",
      "Requirement already satisfied: pyarrow>=8.0.0 in /usr/local/lib/python3.11/dist-packages (from datasets>=2.0.0->evaluate) (18.1.0)\n",
      "Requirement already satisfied: aiohttp in /usr/local/lib/python3.11/dist-packages (from datasets>=2.0.0->evaluate) (3.11.15)\n",
      "Requirement already satisfied: pyyaml>=5.1 in /usr/local/lib/python3.11/dist-packages (from datasets>=2.0.0->evaluate) (6.0.2)\n",
      "Requirement already satisfied: filelock in /usr/local/lib/python3.11/dist-packages (from huggingface-hub>=0.7.0->evaluate) (3.18.0)\n",
      "Requirement already satisfied: typing-extensions>=3.7.4.3 in /usr/local/lib/python3.11/dist-packages (from huggingface-hub>=0.7.0->evaluate) (4.13.2)\n",
      "Requirement already satisfied: hf-xet<2.0.0,>=1.1.2 in /usr/local/lib/python3.11/dist-packages (from huggingface-hub>=0.7.0->evaluate) (1.1.2)\n",
      "Requirement already satisfied: charset-normalizer<4,>=2 in /usr/local/lib/python3.11/dist-packages (from requests>=2.19.0->evaluate) (3.4.2)\n",
      "Requirement already satisfied: idna<4,>=2.5 in /usr/local/lib/python3.11/dist-packages (from requests>=2.19.0->evaluate) (3.10)\n",
      "Requirement already satisfied: urllib3<3,>=1.21.1 in /usr/local/lib/python3.11/dist-packages (from requests>=2.19.0->evaluate) (2.4.0)\n",
      "Requirement already satisfied: certifi>=2017.4.17 in /usr/local/lib/python3.11/dist-packages (from requests>=2.19.0->evaluate) (2025.4.26)\n",
      "Requirement already satisfied: python-dateutil>=2.8.2 in /usr/local/lib/python3.11/dist-packages (from pandas->evaluate) (2.9.0.post0)\n",
      "Requirement already satisfied: pytz>=2020.1 in /usr/local/lib/python3.11/dist-packages (from pandas->evaluate) (2025.2)\n",
      "Requirement already satisfied: tzdata>=2022.7 in /usr/local/lib/python3.11/dist-packages (from pandas->evaluate) (2025.2)\n",
      "Requirement already satisfied: aiohappyeyeballs>=2.3.0 in /usr/local/lib/python3.11/dist-packages (from aiohttp->datasets>=2.0.0->evaluate) (2.6.1)\n",
      "Requirement already satisfied: aiosignal>=1.1.2 in /usr/local/lib/python3.11/dist-packages (from aiohttp->datasets>=2.0.0->evaluate) (1.3.2)\n",
      "Requirement already satisfied: attrs>=17.3.0 in /usr/local/lib/python3.11/dist-packages (from aiohttp->datasets>=2.0.0->evaluate) (25.3.0)\n",
      "Requirement already satisfied: frozenlist>=1.1.1 in /usr/local/lib/python3.11/dist-packages (from aiohttp->datasets>=2.0.0->evaluate) (1.6.0)\n",
      "Requirement already satisfied: multidict<7.0,>=4.5 in /usr/local/lib/python3.11/dist-packages (from aiohttp->datasets>=2.0.0->evaluate) (6.4.4)\n",
      "Requirement already satisfied: propcache>=0.2.0 in /usr/local/lib/python3.11/dist-packages (from aiohttp->datasets>=2.0.0->evaluate) (0.3.1)\n",
      "Requirement already satisfied: yarl<2.0,>=1.17.0 in /usr/local/lib/python3.11/dist-packages (from aiohttp->datasets>=2.0.0->evaluate) (1.20.0)\n",
      "Requirement already satisfied: six>=1.5 in /usr/local/lib/python3.11/dist-packages (from python-dateutil>=2.8.2->pandas->evaluate) (1.17.0)\n",
      "Downloading evaluate-0.4.3-py3-none-any.whl (84 kB)\n",
      "\u001b[2K   \u001b[90m━━━━━━━━━━━━━━━━━━━━━━━━━━━━━━━━━━━━━━━━\u001b[0m \u001b[32m84.0/84.0 kB\u001b[0m \u001b[31m8.5 MB/s\u001b[0m eta \u001b[36m0:00:00\u001b[0m\n",
      "\u001b[?25hInstalling collected packages: evaluate\n",
      "Successfully installed evaluate-0.4.3\n"
     ]
    }
   ],
   "source": [
    "!pip install evaluate"
   ]
  },
  {
   "cell_type": "code",
   "execution_count": 14,
   "metadata": {
    "colab": {
     "base_uri": "https://localhost:8080/",
     "height": 145,
     "referenced_widgets": [
      "71b526a593234f1b964342d42f6035d9",
      "97829e66f7a54423a771c56bb59f709c",
      "076ac9b44a32447aac3a924cee21c0db",
      "3bce029ba39b48b3befdaa7443e8c223",
      "a2cf0da6607d4dc5b3f5e9546c6f26f6",
      "01e1f899eb624d82919458078724e573",
      "416a4c13c2f24e98b5d5b2daf11d1b70",
      "35189e9c34684c6194dfddbcda666309",
      "a0a254bbe7b24f4980e70d028c4ed4e1",
      "55fd70ff07c64345b91b4f3244df6e9e",
      "4f539c6182ea4f419bb1bfe980c7b986",
      "02ed81c8d1df4409a7c1f41704a2c150",
      "5c6048e491c046469b40ca3959b0a5d6",
      "99f8568983ca4c0d877fc0353e03a3af",
      "4f4675368b5a46b786e45767e532a80f",
      "0852e40229eb4b44a54dc77f516242a5",
      "8aa45fc912cd4c0591090eaae3044f7a",
      "eae9076d8edd46b2901ae648c3a59767",
      "e12faf71ff6c4e07955475ac8d546d6e",
      "2efdfc830cad4c188212ec603eb1e70e",
      "d3c0988efb2b4fd4bd99864145cc99e9",
      "bfb56022ef114d1badae9c6c85a79051",
      "babef12d5c70401595a4e2cca22db42c",
      "3b049bcb5fb346669cad1ccff8dd0f5c",
      "b7be19f1da954c60b14dc69231381789",
      "05987b62e30e44e3afb26079f75ff614",
      "d30a5fa7482645b19dc08857f827edf6",
      "c33ce5946a084508b56567f0e3a659f2",
      "73c853b0b5544b648f8b53b927dd4334",
      "93ca50f80b2f46d0bdd726d46b477546",
      "f7c504fd9f8d424a94fdf0a1a6454f93",
      "a8718a467c714ce99893474eca5daddc",
      "eff3e0b55a6947e7bea3da4121d5f98d",
      "eb7b54ff5b3c4dd09b0b768750d795ed",
      "5f06d57147f9459e805f8e81c5bcc22b",
      "a8d919b50f3d4c96ae33389a12f0d8b1",
      "c7838ca1f28744ed894d4cef44909a61",
      "2c0d0a00784a4395bd4da7b3f22b59e5",
      "869d2db366fd470bbfd7e1241f7bec44",
      "29af7d2d488343759813d8f8e59bfef2",
      "9d2b787242054c2ab61210fbf1989164",
      "d76868e944504b8d9179b6cb1ceb6df6",
      "c84f6dbf765e452fb6394d6da7ed8852",
      "42667ac59a604785a293c474c21bd59f"
     ]
    },
    "executionInfo": {
     "elapsed": 4011,
     "status": "ok",
     "timestamp": 1749077274115,
     "user": {
      "displayName": "Alysa Meng",
      "userId": "07325622740508416915"
     },
     "user_tz": 420
    },
    "id": "bZ3uLrqGN-QY",
    "outputId": "265c64c6-b232-47ec-a2b4-a476b6d7c37b"
   },
   "outputs": [
    {
     "data": {
      "application/vnd.jupyter.widget-view+json": {
       "model_id": "71b526a593234f1b964342d42f6035d9",
       "version_major": 2,
       "version_minor": 0
      },
      "text/plain": [
       "Downloading builder script:   0%|          | 0.00/4.20k [00:00<?, ?B/s]"
      ]
     },
     "metadata": {},
     "output_type": "display_data"
    },
    {
     "data": {
      "application/vnd.jupyter.widget-view+json": {
       "model_id": "02ed81c8d1df4409a7c1f41704a2c150",
       "version_major": 2,
       "version_minor": 0
      },
      "text/plain": [
       "Downloading builder script:   0%|          | 0.00/6.79k [00:00<?, ?B/s]"
      ]
     },
     "metadata": {},
     "output_type": "display_data"
    },
    {
     "data": {
      "application/vnd.jupyter.widget-view+json": {
       "model_id": "babef12d5c70401595a4e2cca22db42c",
       "version_major": 2,
       "version_minor": 0
      },
      "text/plain": [
       "Downloading builder script:   0%|          | 0.00/7.56k [00:00<?, ?B/s]"
      ]
     },
     "metadata": {},
     "output_type": "display_data"
    },
    {
     "data": {
      "application/vnd.jupyter.widget-view+json": {
       "model_id": "eb7b54ff5b3c4dd09b0b768750d795ed",
       "version_major": 2,
       "version_minor": 0
      },
      "text/plain": [
       "Downloading builder script:   0%|          | 0.00/7.38k [00:00<?, ?B/s]"
      ]
     },
     "metadata": {},
     "output_type": "display_data"
    }
   ],
   "source": [
    "from beto_classifier import BETOClassifier\n",
    "import evaluate\n",
    "# eval beto model\n",
    "acc_metric = evaluate.load(\"accuracy\")\n",
    "f1_metric = evaluate.load(\"f1\")\n",
    "precision_metric = evaluate.load(\"precision\")\n",
    "recall_metric = evaluate.load(\"recall\")"
   ]
  },
  {
   "cell_type": "code",
   "execution_count": 15,
   "metadata": {
    "executionInfo": {
     "elapsed": 20,
     "status": "ok",
     "timestamp": 1749077274138,
     "user": {
      "displayName": "Alysa Meng",
      "userId": "07325622740508416915"
     },
     "user_tz": 420
    },
    "id": "oJTzFqxWWCu2"
   },
   "outputs": [],
   "source": [
    "def compute_metrics(pred):\n",
    "    logits, labels = pred\n",
    "    # logits -> class\n",
    "    predictions = np.argmax(logits, axis=-1)\n",
    "    acc = acc_metric.compute(predictions=predictions, references=labels)\n",
    "\n",
    "    # Compute second metric (e.g., F1)\n",
    "    f1_score = f1_metric.compute(predictions=predictions, references=labels, average=\"weighted\")\n",
    "\n",
    "    precision_score = precision_metric.compute(predictions=predictions, references=labels, average=\"weighted\")\n",
    "\n",
    "    recall_score = recall_metric.compute(predictions=predictions, references=labels, average=\"weighted\")\n",
    "\n",
    "    # Return both metrics together\n",
    "    return {\n",
    "        \"accuracy\": acc[\"accuracy\"],\n",
    "        \"f1\": f1_score[\"f1\"],\n",
    "        \"precision\": precision_score[\"precision\"],\n",
    "        \"recall\": recall_score[\"recall\"]\n",
    "    }"
   ]
  },
  {
   "cell_type": "code",
   "execution_count": 16,
   "metadata": {
    "colab": {
     "base_uri": "https://localhost:8080/",
     "height": 405,
     "referenced_widgets": [
      "b25b4dfe3e8549c993ac1fb82159d258",
      "00cc42e1fc5449a498887f21a0f3f0a5",
      "84b55e74413949748564121ff99b0034",
      "aaf1b48b311943dba3e5514d18df0b22",
      "703dfc5ef4a3419996e3bbad7da6074f",
      "a6bffee1df9248519088da0b98fbbc56",
      "d6d5744c2aa94108a9aaf56b35ee1edf",
      "0521fa0071294a5d8d281df62cdd08dd",
      "d014da7f47d14c9bb924ee03a7787751",
      "2dbef80a2dcb4f81841e9218460d84d5",
      "26285bf5b7954d38a79d71b7a518997f",
      "a77ef7cb0ec94484b52834cc037c192b",
      "056bba75c18e4a8fb6f5b3f1ac3c9dbd",
      "082fe834f67045a89d52a61ecb641749",
      "7cf38e9d52e24c4db3673a11949f4719",
      "c90b1d1bcf3d49b89a1efc307ddaebb7",
      "7fa2fa4851134985a12511a94fc71764",
      "eefa349f45d34c658198e7624cceba73",
      "ee61d237dee64ef9bce3603520a76c32",
      "4d3d98de04944189a110302dfb6dec77",
      "f36ddcdc094f465280005088c796fb77",
      "bd02b5414f7d45f8bd8cbc14deb431c9"
     ]
    },
    "executionInfo": {
     "elapsed": 849378,
     "status": "ok",
     "timestamp": 1749078123525,
     "user": {
      "displayName": "Alysa Meng",
      "userId": "07325622740508416915"
     },
     "user_tz": 420
    },
    "id": "WmmIGw-b89Hg",
    "outputId": "2fa39449-8875-4c97-e3b0-90372388345c"
   },
   "outputs": [
    {
     "data": {
      "application/vnd.jupyter.widget-view+json": {
       "model_id": "b25b4dfe3e8549c993ac1fb82159d258",
       "version_major": 2,
       "version_minor": 0
      },
      "text/plain": [
       "pytorch_model.bin:   0%|          | 0.00/440M [00:00<?, ?B/s]"
      ]
     },
     "metadata": {},
     "output_type": "display_data"
    },
    {
     "data": {
      "application/vnd.jupyter.widget-view+json": {
       "model_id": "a77ef7cb0ec94484b52834cc037c192b",
       "version_major": 2,
       "version_minor": 0
      },
      "text/plain": [
       "model.safetensors:   0%|          | 0.00/440M [00:00<?, ?B/s]"
      ]
     },
     "metadata": {},
     "output_type": "display_data"
    },
    {
     "name": "stderr",
     "output_type": "stream",
     "text": [
      "Some weights of BertModel were not initialized from the model checkpoint at dccuchile/bert-base-spanish-wwm-cased and are newly initialized: ['pooler.dense.bias', 'pooler.dense.weight']\n",
      "You should probably TRAIN this model on a down-stream task to be able to use it for predictions and inference.\n"
     ]
    },
    {
     "data": {
      "text/html": [
       "\n",
       "    <div>\n",
       "      \n",
       "      <progress value='565' max='565' style='width:300px; height:20px; vertical-align: middle;'></progress>\n",
       "      [565/565 14:00, Epoch 5/5]\n",
       "    </div>\n",
       "    <table border=\"1\" class=\"dataframe\">\n",
       "  <thead>\n",
       " <tr style=\"text-align: left;\">\n",
       "      <th>Epoch</th>\n",
       "      <th>Training Loss</th>\n",
       "      <th>Validation Loss</th>\n",
       "      <th>Accuracy</th>\n",
       "      <th>F1</th>\n",
       "      <th>Precision</th>\n",
       "      <th>Recall</th>\n",
       "    </tr>\n",
       "  </thead>\n",
       "  <tbody>\n",
       "    <tr>\n",
       "      <td>1</td>\n",
       "      <td>No log</td>\n",
       "      <td>0.670437</td>\n",
       "      <td>0.912718</td>\n",
       "      <td>0.899626</td>\n",
       "      <td>0.889257</td>\n",
       "      <td>0.912718</td>\n",
       "    </tr>\n",
       "    <tr>\n",
       "      <td>2</td>\n",
       "      <td>No log</td>\n",
       "      <td>0.788727</td>\n",
       "      <td>0.551122</td>\n",
       "      <td>0.660201</td>\n",
       "      <td>0.870871</td>\n",
       "      <td>0.551122</td>\n",
       "    </tr>\n",
       "    <tr>\n",
       "      <td>3</td>\n",
       "      <td>No log</td>\n",
       "      <td>0.799039</td>\n",
       "      <td>0.735661</td>\n",
       "      <td>0.796627</td>\n",
       "      <td>0.883692</td>\n",
       "      <td>0.735661</td>\n",
       "    </tr>\n",
       "    <tr>\n",
       "      <td>4</td>\n",
       "      <td>No log</td>\n",
       "      <td>1.408479</td>\n",
       "      <td>0.915212</td>\n",
       "      <td>0.901153</td>\n",
       "      <td>0.890516</td>\n",
       "      <td>0.915212</td>\n",
       "    </tr>\n",
       "    <tr>\n",
       "      <td>5</td>\n",
       "      <td>0.493900</td>\n",
       "      <td>1.595048</td>\n",
       "      <td>0.922693</td>\n",
       "      <td>0.902668</td>\n",
       "      <td>0.890171</td>\n",
       "      <td>0.922693</td>\n",
       "    </tr>\n",
       "  </tbody>\n",
       "</table><p>"
      ],
      "text/plain": [
       "<IPython.core.display.HTML object>"
      ]
     },
     "metadata": {},
     "output_type": "display_data"
    },
    {
     "data": {
      "text/plain": [
       "TrainOutput(global_step=565, training_loss=0.45525343228230436, metrics={'train_runtime': 843.1357, 'train_samples_per_second': 21.432, 'train_steps_per_second': 0.67, 'total_flos': 0.0, 'train_loss': 0.45525343228230436, 'epoch': 5.0})"
      ]
     },
     "execution_count": 16,
     "metadata": {},
     "output_type": "execute_result"
    }
   ],
   "source": [
    "model = BETOClassifier(num_classes=2, class_weights=class_weights)\n",
    "model.to(device)\n",
    "\n",
    "# following https://huggingface.co/docs/transformers/en/training\n",
    "\n",
    "training_args = TrainingArguments(\n",
    "    output_dir=\"./gender_out\",\n",
    "    per_device_train_batch_size=32,\n",
    "    num_train_epochs=5,\n",
    "    eval_strategy=\"epoch\",\n",
    "    report_to=[] # don't want wand ai reporting\n",
    ")\n",
    "\n",
    "trainer = Trainer(\n",
    "    model=model,\n",
    "    args=training_args,\n",
    "    train_dataset=tokenized_train,\n",
    "    eval_dataset=tokenized_val,\n",
    "    compute_metrics=compute_metrics,\n",
    ")\n",
    "\n",
    "trainer.train()"
   ]
  },
  {
   "cell_type": "code",
   "execution_count": 17,
   "metadata": {
    "colab": {
     "base_uri": "https://localhost:8080/",
     "height": 198
    },
    "executionInfo": {
     "elapsed": 6303,
     "status": "ok",
     "timestamp": 1749078129832,
     "user": {
      "displayName": "Alysa Meng",
      "userId": "07325622740508416915"
     },
     "user_tz": 420
    },
    "id": "7sp8IKywQCZS",
    "outputId": "35006900-4032-4919-a3e4-543bc23b080e"
   },
   "outputs": [
    {
     "data": {
      "text/html": [
       "\n",
       "    <div>\n",
       "      \n",
       "      <progress value='51' max='51' style='width:300px; height:20px; vertical-align: middle;'></progress>\n",
       "      [51/51 00:06]\n",
       "    </div>\n",
       "    "
      ],
      "text/plain": [
       "<IPython.core.display.HTML object>"
      ]
     },
     "metadata": {},
     "output_type": "display_data"
    },
    {
     "data": {
      "text/plain": [
       "{'eval_loss': 1.5950480699539185,\n",
       " 'eval_accuracy': 0.9226932668329177,\n",
       " 'eval_f1': 0.9026675256355294,\n",
       " 'eval_precision': 0.890171200497484,\n",
       " 'eval_recall': 0.9226932668329177,\n",
       " 'eval_runtime': 6.297,\n",
       " 'eval_samples_per_second': 63.682,\n",
       " 'eval_steps_per_second': 8.099,\n",
       " 'epoch': 5.0}"
      ]
     },
     "execution_count": 17,
     "metadata": {},
     "output_type": "execute_result"
    }
   ],
   "source": [
    "trainer.evaluate()"
   ]
  },
  {
   "cell_type": "code",
   "execution_count": 18,
   "metadata": {
    "colab": {
     "base_uri": "https://localhost:8080/",
     "height": 1000
    },
    "executionInfo": {
     "elapsed": 7304,
     "status": "ok",
     "timestamp": 1749078137145,
     "user": {
      "displayName": "Alysa Meng",
      "userId": "07325622740508416915"
     },
     "user_tz": 420
    },
    "id": "Vn2R_1fTdIhq",
    "outputId": "bfa9eccd-9e2e-4e3f-ecd1-5da6e4bc495c"
   },
   "outputs": [
    {
     "data": {
      "text/html": [],
      "text/plain": [
       "<IPython.core.display.HTML object>"
      ]
     },
     "metadata": {},
     "output_type": "display_data"
    },
    {
     "data": {
      "text/plain": [
       "PredictionOutput(predictions=array([[ 2.8416586 , -2.7887597 ],\n",
       "       [ 2.7565994 , -2.7580593 ],\n",
       "       [ 3.001844  , -2.9171295 ],\n",
       "       [ 2.9772565 , -2.9382143 ],\n",
       "       [ 2.3477695 , -2.300862  ],\n",
       "       [ 2.9276695 , -2.9809072 ],\n",
       "       [ 2.478941  , -2.5447109 ],\n",
       "       [ 2.9705017 , -2.8029482 ],\n",
       "       [-1.9476349 ,  1.8529837 ],\n",
       "       [ 2.4723265 , -2.282274  ],\n",
       "       [ 1.9322222 , -1.9436575 ],\n",
       "       [ 2.5524962 , -2.514068  ],\n",
       "       [ 2.9368098 , -2.8832045 ],\n",
       "       [ 2.9340725 , -2.9382744 ],\n",
       "       [ 2.8902864 , -2.779018  ],\n",
       "       [ 2.4169035 , -2.4143536 ],\n",
       "       [ 3.0602715 , -2.9853346 ],\n",
       "       [ 1.471632  , -1.5284021 ],\n",
       "       [ 2.9480743 , -2.9484704 ],\n",
       "       [ 2.2941957 , -2.2069843 ],\n",
       "       [ 2.9513788 , -2.901637  ],\n",
       "       [ 3.0798757 , -2.989855  ],\n",
       "       [ 2.9959044 , -2.9838114 ],\n",
       "       [ 2.8474271 , -2.6443894 ],\n",
       "       [ 3.0591092 , -3.0077615 ],\n",
       "       [ 2.5634072 , -2.5779414 ],\n",
       "       [ 2.8147528 , -2.8682516 ],\n",
       "       [ 2.9923005 , -2.9311762 ],\n",
       "       [ 3.0171578 , -2.9085486 ],\n",
       "       [ 1.0583401 , -1.0420043 ],\n",
       "       [ 2.9627585 , -3.0303566 ],\n",
       "       [ 2.4304132 , -2.3421504 ],\n",
       "       [-1.7354952 ,  1.6423965 ],\n",
       "       [ 2.8512428 , -2.8916464 ],\n",
       "       [ 2.9926798 , -2.9880738 ],\n",
       "       [ 2.9045396 , -2.8612142 ],\n",
       "       [ 3.1028495 , -3.0011363 ],\n",
       "       [ 3.0057907 , -2.991213  ],\n",
       "       [ 2.7296517 , -2.677355  ],\n",
       "       [ 3.0229604 , -2.9342308 ],\n",
       "       [ 2.5235813 , -2.4871974 ],\n",
       "       [ 2.1648266 , -2.2080436 ],\n",
       "       [ 2.8966632 , -2.8309753 ],\n",
       "       [ 2.66753   , -2.6042912 ],\n",
       "       [ 2.043237  , -2.0446763 ],\n",
       "       [ 2.9781013 , -2.8532257 ],\n",
       "       [ 2.995856  , -2.9795928 ],\n",
       "       [ 3.0892177 , -3.0019433 ],\n",
       "       [ 3.0729618 , -3.04377   ],\n",
       "       [ 2.828771  , -2.8389564 ],\n",
       "       [ 2.5300224 , -2.485477  ],\n",
       "       [ 2.6858323 , -2.7308755 ],\n",
       "       [ 3.06307   , -3.0105183 ],\n",
       "       [ 2.9883587 , -2.9698899 ],\n",
       "       [ 2.687315  , -2.5996323 ],\n",
       "       [ 2.8585165 , -2.7892396 ],\n",
       "       [ 3.119715  , -2.9425857 ],\n",
       "       [ 2.648277  , -2.6742065 ],\n",
       "       [ 2.8922505 , -2.9571822 ],\n",
       "       [ 3.003939  , -2.9930723 ],\n",
       "       [ 1.7184457 , -1.8561146 ],\n",
       "       [ 3.029591  , -2.9075239 ],\n",
       "       [ 2.8201458 , -2.6641693 ],\n",
       "       [ 2.9321022 , -2.8559077 ],\n",
       "       [ 3.0265493 , -3.014517  ],\n",
       "       [ 2.915067  , -2.9180293 ],\n",
       "       [ 2.922786  , -2.8623478 ],\n",
       "       [ 2.8998365 , -2.858271  ],\n",
       "       [ 2.9754398 , -2.9222844 ],\n",
       "       [ 3.0512397 , -2.9963186 ],\n",
       "       [ 2.306808  , -2.3256247 ],\n",
       "       [ 2.9549031 , -2.9619648 ],\n",
       "       [ 2.8275523 , -2.8373399 ],\n",
       "       [ 2.750965  , -2.778898  ],\n",
       "       [ 3.0060272 , -2.9525304 ],\n",
       "       [ 2.8274097 , -2.7847412 ],\n",
       "       [ 2.6592755 , -2.6515305 ],\n",
       "       [ 2.0554497 , -2.1514175 ],\n",
       "       [ 3.0718622 , -2.9519114 ],\n",
       "       [ 2.9813387 , -2.9009097 ],\n",
       "       [ 2.5723686 , -2.5986314 ],\n",
       "       [ 2.6270657 , -2.713796  ],\n",
       "       [ 2.9791687 , -2.9709663 ],\n",
       "       [ 2.8842003 , -2.907958  ],\n",
       "       [ 2.7525496 , -2.7939487 ],\n",
       "       [ 2.917807  , -2.932476  ],\n",
       "       [ 2.8789895 , -2.7414684 ],\n",
       "       [ 2.9523077 , -2.9147732 ],\n",
       "       [ 3.0026853 , -2.9895616 ],\n",
       "       [ 2.8224363 , -2.7683644 ],\n",
       "       [ 3.047193  , -2.9965174 ],\n",
       "       [ 2.8822188 , -2.94817   ],\n",
       "       [ 3.0106742 , -3.0249813 ],\n",
       "       [ 2.7426617 , -2.6449106 ],\n",
       "       [ 3.0734406 , -3.01436   ],\n",
       "       [ 2.9578488 , -3.0075445 ],\n",
       "       [ 2.8913596 , -2.8502083 ],\n",
       "       [ 2.8947737 , -2.9961138 ],\n",
       "       [ 2.9658945 , -2.919762  ],\n",
       "       [ 3.062079  , -3.0047612 ],\n",
       "       [ 3.0414977 , -2.9924302 ],\n",
       "       [ 2.9406648 , -2.9688997 ],\n",
       "       [ 2.897396  , -2.919577  ],\n",
       "       [ 2.923434  , -2.8383553 ],\n",
       "       [ 3.0476577 , -3.0140908 ],\n",
       "       [ 2.7338    , -2.7226615 ],\n",
       "       [ 2.522187  , -2.574354  ],\n",
       "       [ 3.0205276 , -2.9779294 ],\n",
       "       [ 2.8636022 , -2.8175569 ],\n",
       "       [ 2.975928  , -2.9835713 ],\n",
       "       [ 3.0347886 , -3.0077488 ],\n",
       "       [ 3.0612762 , -2.9866824 ],\n",
       "       [ 3.0501616 , -2.9467726 ],\n",
       "       [ 3.0571444 , -2.8950536 ],\n",
       "       [ 2.6509852 , -2.5640583 ],\n",
       "       [ 3.0471551 , -2.922618  ],\n",
       "       [ 2.494473  , -2.4440298 ],\n",
       "       [ 3.0778608 , -3.023806  ],\n",
       "       [ 1.8588164 , -1.7558863 ],\n",
       "       [ 2.6050851 , -2.635587  ],\n",
       "       [ 2.8229494 , -2.7412937 ],\n",
       "       [ 2.8637028 , -2.7123902 ],\n",
       "       [ 2.9745266 , -2.9837282 ],\n",
       "       [ 2.8796785 , -2.9162018 ],\n",
       "       [ 3.0321982 , -2.9732716 ],\n",
       "       [ 2.7511766 , -2.7937038 ],\n",
       "       [ 3.051894  , -2.9611123 ],\n",
       "       [ 3.0762308 , -3.0280535 ],\n",
       "       [ 2.991306  , -2.8932664 ],\n",
       "       [ 2.7803252 , -2.7437646 ],\n",
       "       [ 1.3745539 , -1.525105  ],\n",
       "       [ 3.0174022 , -2.997553  ],\n",
       "       [ 2.8796594 , -2.8571575 ],\n",
       "       [ 2.99881   , -2.9725728 ],\n",
       "       [ 2.731899  , -2.7198236 ],\n",
       "       [ 2.7554731 , -2.7697406 ],\n",
       "       [ 2.7313259 , -2.7020633 ],\n",
       "       [ 2.9697273 , -2.8110597 ],\n",
       "       [ 3.0743597 , -3.0311656 ],\n",
       "       [ 2.9023623 , -2.881624  ],\n",
       "       [ 3.0703306 , -2.9344356 ],\n",
       "       [ 2.3391867 , -2.3254988 ],\n",
       "       [ 3.0524242 , -3.030648  ],\n",
       "       [ 1.3831198 , -1.3041301 ],\n",
       "       [ 3.0604312 , -2.9980993 ],\n",
       "       [ 2.7705805 , -2.6574771 ],\n",
       "       [ 3.025715  , -3.0152009 ],\n",
       "       [ 2.747008  , -2.7000802 ],\n",
       "       [ 3.081158  , -3.0188625 ],\n",
       "       [ 3.0103123 , -3.0040965 ],\n",
       "       [ 2.952794  , -2.9674842 ],\n",
       "       [ 2.4725635 , -2.5129    ],\n",
       "       [ 3.098949  , -3.0108817 ],\n",
       "       [ 3.0783882 , -3.0257945 ],\n",
       "       [ 3.0443337 , -2.9151971 ],\n",
       "       [ 2.9507391 , -2.9020262 ],\n",
       "       [ 0.15209088, -0.21139242],\n",
       "       [ 2.6212442 , -2.6321409 ],\n",
       "       [ 3.01116   , -2.9783313 ],\n",
       "       [ 2.9275022 , -2.9127195 ],\n",
       "       [ 3.0433629 , -2.9332619 ],\n",
       "       [ 2.957183  , -2.9437895 ],\n",
       "       [ 3.0413141 , -2.9815125 ],\n",
       "       [ 2.874461  , -2.791029  ],\n",
       "       [ 2.7895787 , -2.6856399 ],\n",
       "       [ 2.9865286 , -2.9266326 ],\n",
       "       [ 2.6435401 , -2.676027  ],\n",
       "       [ 2.8456404 , -2.8367655 ],\n",
       "       [ 2.8434737 , -2.875243  ],\n",
       "       [ 3.0352256 , -2.9825304 ],\n",
       "       [ 3.0004303 , -2.9369957 ],\n",
       "       [ 3.0466716 , -3.0108275 ],\n",
       "       [ 2.4789603 , -2.4257104 ],\n",
       "       [ 2.8763735 , -2.8241389 ],\n",
       "       [ 2.0982308 , -2.198464  ],\n",
       "       [ 3.053671  , -2.97837   ],\n",
       "       [ 2.7253942 , -2.780729  ],\n",
       "       [ 2.8893077 , -2.840356  ],\n",
       "       [ 3.0601745 , -3.0036647 ],\n",
       "       [ 2.7513916 , -2.7637482 ],\n",
       "       [ 2.5490868 , -2.5327673 ],\n",
       "       [ 2.9750779 , -2.9662974 ],\n",
       "       [ 2.87724   , -2.8496273 ],\n",
       "       [ 2.7606506 , -2.6596372 ],\n",
       "       [ 3.028343  , -2.9886067 ],\n",
       "       [ 1.536538  , -1.6261092 ],\n",
       "       [ 2.7811573 , -2.6338606 ],\n",
       "       [ 2.851021  , -2.7996626 ],\n",
       "       [ 3.0330489 , -3.0447707 ],\n",
       "       [ 2.5976546 , -2.6835985 ],\n",
       "       [ 2.8365123 , -2.816844  ],\n",
       "       [ 3.0510828 , -2.9933033 ],\n",
       "       [ 2.753906  , -2.7400472 ],\n",
       "       [ 3.0202224 , -2.9991431 ],\n",
       "       [ 3.093596  , -2.9689045 ],\n",
       "       [ 2.8603852 , -2.8358822 ],\n",
       "       [ 3.0355968 , -2.9964902 ],\n",
       "       [ 3.002225  , -2.9405534 ],\n",
       "       [ 3.0627959 , -3.038725  ],\n",
       "       [ 3.0886219 , -2.979838  ],\n",
       "       [ 3.0502853 , -2.982055  ],\n",
       "       [ 2.5607243 , -2.5038779 ],\n",
       "       [ 3.050156  , -2.9862022 ],\n",
       "       [ 2.8524656 , -2.8592546 ],\n",
       "       [ 2.9098806 , -2.952974  ],\n",
       "       [ 2.8364215 , -2.9174483 ],\n",
       "       [ 2.9902196 , -2.994865  ],\n",
       "       [ 3.0864823 , -3.033842  ],\n",
       "       [ 2.8450756 , -2.8469086 ],\n",
       "       [ 2.6179411 , -2.7787595 ],\n",
       "       [ 2.894161  , -2.9016364 ],\n",
       "       [ 1.2615471 , -1.3239082 ],\n",
       "       [ 2.7041857 , -2.7169542 ],\n",
       "       [ 3.0223558 , -2.975662  ],\n",
       "       [ 2.991249  , -2.8862832 ],\n",
       "       [ 3.06671   , -2.8880723 ],\n",
       "       [ 2.9489543 , -2.9781017 ],\n",
       "       [ 2.837753  , -2.9199975 ],\n",
       "       [ 2.4858475 , -2.4982765 ],\n",
       "       [ 3.056551  , -3.0162275 ],\n",
       "       [ 2.967557  , -2.8474994 ],\n",
       "       [ 2.7985885 , -2.6860168 ],\n",
       "       [ 3.0346072 , -2.9764173 ],\n",
       "       [ 2.8108783 , -2.789849  ],\n",
       "       [ 2.2735116 , -2.1685472 ],\n",
       "       [ 2.9496396 , -2.8992155 ],\n",
       "       [ 2.7676811 , -2.7839274 ],\n",
       "       [ 2.928881  , -2.8678744 ],\n",
       "       [ 3.0236242 , -2.9301355 ],\n",
       "       [ 2.1854858 , -2.1697526 ],\n",
       "       [ 3.0028613 , -2.9418604 ],\n",
       "       [ 2.7553084 , -2.8133767 ],\n",
       "       [ 2.983445  , -2.9762077 ],\n",
       "       [ 3.02653   , -2.988701  ],\n",
       "       [ 2.3515127 , -2.4068131 ],\n",
       "       [ 2.8264165 , -2.7869623 ],\n",
       "       [ 2.9379175 , -2.932443  ],\n",
       "       [ 3.059528  , -2.9843955 ],\n",
       "       [ 2.8355932 , -2.7307885 ],\n",
       "       [ 3.0196774 , -2.9957864 ],\n",
       "       [ 2.9179761 , -2.9723523 ],\n",
       "       [ 2.9844325 , -2.9976137 ],\n",
       "       [ 2.4985514 , -2.4932497 ],\n",
       "       [ 3.0339246 , -3.0043504 ],\n",
       "       [ 2.9888155 , -2.9055226 ],\n",
       "       [ 3.0410557 , -2.952948  ],\n",
       "       [ 3.0035062 , -3.0118227 ],\n",
       "       [ 2.844257  , -2.7777424 ],\n",
       "       [ 2.6666996 , -2.5293658 ],\n",
       "       [ 2.4453132 , -2.412434  ],\n",
       "       [ 3.053719  , -3.0042884 ],\n",
       "       [ 3.0407767 , -3.031415  ],\n",
       "       [ 3.0394223 , -2.9024785 ],\n",
       "       [ 2.55995   , -2.5922408 ],\n",
       "       [ 2.441045  , -2.6076555 ],\n",
       "       [ 2.729111  , -2.791903  ],\n",
       "       [ 2.970164  , -2.9144807 ],\n",
       "       [ 2.6800966 , -2.7248967 ],\n",
       "       [ 3.0151796 , -2.988306  ],\n",
       "       [ 2.7461464 , -2.7517264 ],\n",
       "       [ 3.0668314 , -2.9975824 ],\n",
       "       [ 2.800889  , -2.7374287 ],\n",
       "       [ 3.0482647 , -3.0291624 ],\n",
       "       [ 2.9186144 , -2.8830707 ],\n",
       "       [ 2.9221396 , -2.8304336 ],\n",
       "       [ 3.0435057 , -3.0102284 ],\n",
       "       [ 2.944194  , -2.9791658 ],\n",
       "       [ 3.026666  , -3.0130234 ],\n",
       "       [ 2.9842818 , -2.9312    ],\n",
       "       [ 2.8943002 , -2.7628908 ],\n",
       "       [ 2.9492328 , -2.8732965 ],\n",
       "       [ 3.0415788 , -3.0233781 ],\n",
       "       [ 2.6133974 , -2.5496209 ],\n",
       "       [ 2.779648  , -2.7775056 ],\n",
       "       [ 2.896794  , -2.8401353 ],\n",
       "       [ 2.891503  , -2.8382723 ],\n",
       "       [-3.2133067 ,  3.1525156 ],\n",
       "       [ 3.001131  , -2.9687378 ],\n",
       "       [ 2.9963448 , -2.9809122 ],\n",
       "       [ 2.7300434 , -2.688566  ],\n",
       "       [ 2.6496143 , -2.5365622 ],\n",
       "       [ 2.9922817 , -2.9453812 ],\n",
       "       [ 2.8659213 , -2.8920105 ],\n",
       "       [ 2.9805396 , -2.931408  ],\n",
       "       [ 2.9078724 , -2.9111762 ],\n",
       "       [ 3.0283313 , -3.0016606 ],\n",
       "       [ 1.4443434 , -1.3062482 ],\n",
       "       [ 2.0553002 , -2.0261338 ],\n",
       "       [ 2.9900622 , -2.893372  ],\n",
       "       [ 2.7518666 , -2.6122172 ],\n",
       "       [ 2.961736  , -2.9806116 ],\n",
       "       [ 2.919609  , -2.9115374 ],\n",
       "       [ 2.6421018 , -2.6639557 ],\n",
       "       [ 2.7246997 , -2.7053492 ],\n",
       "       [ 2.745159  , -2.8133893 ],\n",
       "       [ 2.9615543 , -2.924376  ],\n",
       "       [ 2.934421  , -2.8451998 ],\n",
       "       [ 2.6093457 , -2.7289035 ],\n",
       "       [ 2.9646611 , -2.8458588 ],\n",
       "       [ 2.5112784 , -2.4388793 ],\n",
       "       [ 2.9184358 , -2.8550117 ],\n",
       "       [ 2.9456007 , -2.9308243 ],\n",
       "       [ 3.0586593 , -2.9988093 ],\n",
       "       [ 2.4658074 , -2.4100409 ],\n",
       "       [ 2.6185136 , -2.4731216 ],\n",
       "       [ 3.0225384 , -2.8936465 ],\n",
       "       [ 3.0603387 , -2.9925535 ],\n",
       "       [-0.46668518,  0.27851158],\n",
       "       [ 2.965473  , -2.9753492 ],\n",
       "       [ 2.6998026 , -2.7467651 ],\n",
       "       [ 3.0063674 , -2.8458645 ],\n",
       "       [ 1.3104153 , -1.1602616 ],\n",
       "       [ 3.0110037 , -2.9649098 ],\n",
       "       [ 2.070842  , -1.79274   ],\n",
       "       [ 2.9587202 , -2.9010403 ],\n",
       "       [ 2.828884  , -2.8662364 ],\n",
       "       [ 3.0766442 , -2.9711194 ],\n",
       "       [ 2.65024   , -2.6830053 ],\n",
       "       [ 3.1192186 , -2.9951587 ],\n",
       "       [ 2.9632468 , -3.0082705 ],\n",
       "       [ 3.0382025 , -3.0126002 ],\n",
       "       [ 3.0575879 , -2.9857805 ],\n",
       "       [ 3.0460465 , -2.953447  ],\n",
       "       [ 2.9904919 , -2.989517  ],\n",
       "       [ 2.7163086 , -2.611657  ],\n",
       "       [ 3.0305777 , -2.9976754 ],\n",
       "       [ 2.9253378 , -2.921693  ],\n",
       "       [ 2.8623528 , -2.771314  ],\n",
       "       [ 2.3848171 , -2.4093976 ],\n",
       "       [ 2.7710133 , -2.8664143 ],\n",
       "       [ 3.0219362 , -3.0251503 ],\n",
       "       [ 2.2755954 , -2.2617993 ],\n",
       "       [ 2.9810658 , -2.9300733 ],\n",
       "       [ 2.605484  , -2.6231017 ],\n",
       "       [ 2.853432  , -2.7961142 ],\n",
       "       [ 2.6384742 , -2.533886  ],\n",
       "       [ 2.9545755 , -3.0032666 ],\n",
       "       [ 3.0133574 , -2.9342287 ],\n",
       "       [ 2.989726  , -2.9810374 ],\n",
       "       [ 3.0528014 , -2.9660408 ],\n",
       "       [ 3.0364864 , -3.0356874 ],\n",
       "       [-3.0839863 ,  3.0564914 ],\n",
       "       [ 2.9223192 , -2.9405768 ],\n",
       "       [ 2.9461691 , -2.8139632 ],\n",
       "       [ 2.5713623 , -2.4909217 ],\n",
       "       [ 2.9557054 , -2.861939  ],\n",
       "       [ 2.8696234 , -2.8907743 ],\n",
       "       [ 2.9405131 , -2.9383748 ],\n",
       "       [ 3.0421782 , -2.9678268 ],\n",
       "       [ 2.8201542 , -2.835177  ],\n",
       "       [ 3.0031946 , -2.975195  ],\n",
       "       [ 2.6906607 , -2.731714  ],\n",
       "       [ 3.080587  , -2.9294538 ],\n",
       "       [ 2.03087   , -1.986126  ],\n",
       "       [ 3.0274727 , -3.019166  ],\n",
       "       [ 2.8524964 , -2.8746154 ],\n",
       "       [ 3.0132535 , -2.9909594 ],\n",
       "       [ 1.7451285 , -1.930122  ],\n",
       "       [ 2.9772093 , -2.9538457 ],\n",
       "       [-3.3170972 ,  3.1955492 ],\n",
       "       [ 2.9809856 , -2.8513827 ],\n",
       "       [ 2.974427  , -2.873891  ],\n",
       "       [ 2.807237  , -2.7488623 ],\n",
       "       [ 2.7252824 , -2.664589  ],\n",
       "       [ 2.890462  , -2.8452547 ],\n",
       "       [ 2.5512373 , -2.6213331 ],\n",
       "       [ 2.467386  , -2.558232  ],\n",
       "       [ 3.0252504 , -3.0054832 ],\n",
       "       [ 2.7984235 , -2.8448658 ],\n",
       "       [ 2.9438274 , -3.030473  ],\n",
       "       [ 3.0529828 , -3.0254347 ],\n",
       "       [ 3.0774713 , -3.0168452 ],\n",
       "       [ 3.1022394 , -2.9725013 ],\n",
       "       [ 3.0661979 , -2.9880385 ],\n",
       "       [ 2.9080155 , -2.9353046 ],\n",
       "       [ 3.0027244 , -2.9641619 ],\n",
       "       [ 2.9672518 , -3.0188355 ],\n",
       "       [ 2.9494028 , -2.9477909 ],\n",
       "       [ 2.273251  , -2.2638807 ],\n",
       "       [-0.5831392 ,  0.33837628],\n",
       "       [ 3.0340445 , -3.0448434 ],\n",
       "       [ 3.0747452 , -3.0035336 ],\n",
       "       [ 3.06067   , -2.9979782 ],\n",
       "       [ 2.2718313 , -2.3082128 ],\n",
       "       [ 3.0090616 , -2.9995935 ],\n",
       "       [ 3.03002   , -3.0064583 ],\n",
       "       [ 2.910224  , -2.9230168 ],\n",
       "       [ 2.975667  , -2.8715305 ],\n",
       "       [ 2.7628057 , -2.753588  ],\n",
       "       [ 1.8270079 , -1.8545684 ],\n",
       "       [ 2.8616    , -2.7226102 ],\n",
       "       [ 2.9166424 , -2.919965  ],\n",
       "       [ 2.9465158 , -2.8880506 ],\n",
       "       [ 2.238623  , -2.288032  ],\n",
       "       [ 2.8489554 , -2.858961  ],\n",
       "       [ 2.9450352 , -2.9090273 ],\n",
       "       [ 2.8311884 , -2.7850077 ],\n",
       "       [ 2.9099045 , -2.9365437 ],\n",
       "       [ 1.6305667 , -1.6840345 ],\n",
       "       [ 3.0028148 , -2.856655  ],\n",
       "       [ 3.0743148 , -2.9774635 ],\n",
       "       [ 2.9295106 , -2.9235833 ],\n",
       "       [ 2.882842  , -2.8466907 ],\n",
       "       [ 2.976755  , -2.9711154 ],\n",
       "       [ 3.1006517 , -2.9868968 ],\n",
       "       [ 3.034404  , -3.0560236 ],\n",
       "       [-1.7047741 ,  1.5865844 ],\n",
       "       [ 3.0278533 , -2.9870203 ],\n",
       "       [ 3.0378623 , -3.0024574 ],\n",
       "       [ 3.0986278 , -3.0072823 ],\n",
       "       [ 2.8236122 , -2.729273  ],\n",
       "       [ 2.9114995 , -2.8586786 ],\n",
       "       [ 3.0504029 , -2.9888532 ],\n",
       "       [ 3.076421  , -3.02626   ],\n",
       "       [ 2.9153798 , -2.8620694 ],\n",
       "       [ 2.9142647 , -2.869745  ],\n",
       "       [ 2.8482661 , -2.8491445 ],\n",
       "       [ 1.7337507 , -1.808872  ],\n",
       "       [ 3.0643103 , -3.0292053 ],\n",
       "       [ 3.0234134 , -3.0297995 ],\n",
       "       [ 2.9366288 , -3.0308554 ],\n",
       "       [ 3.0570154 , -2.9989405 ],\n",
       "       [ 2.9430354 , -2.974811  ],\n",
       "       [ 2.8256364 , -2.853905  ],\n",
       "       [ 3.0028214 , -2.944198  ],\n",
       "       [ 2.9902637 , -2.9139698 ],\n",
       "       [ 3.006117  , -3.0128443 ],\n",
       "       [ 3.0499942 , -3.0336852 ],\n",
       "       [ 3.0634127 , -2.9760034 ],\n",
       "       [ 2.343382  , -2.2655258 ],\n",
       "       [-3.1674943 ,  3.074693  ],\n",
       "       [ 2.7280986 , -2.5544333 ],\n",
       "       [ 3.0242543 , -3.0166895 ],\n",
       "       [ 3.106472  , -3.003359  ],\n",
       "       [ 3.0501306 , -2.915789  ],\n",
       "       [-2.9115133 ,  2.8285465 ],\n",
       "       [ 2.970874  , -2.914887  ],\n",
       "       [ 2.7517514 , -2.6578948 ],\n",
       "       [ 0.30727494, -0.50008416],\n",
       "       [ 1.8645864 , -2.0353956 ],\n",
       "       [ 2.7477188 , -2.6306114 ],\n",
       "       [ 3.0390673 , -2.9802465 ],\n",
       "       [ 2.3886967 , -2.46462   ],\n",
       "       [ 2.8852732 , -2.8235154 ],\n",
       "       [ 2.357732  , -2.4416234 ]], dtype=float32), label_ids=array([0, 0, 0, 0, 0, 0, 0, 0, 0, 1, 0, 0, 0, 0, 0, 0, 0, 0, 0, 0, 0, 0,\n",
       "       0, 1, 0, 0, 0, 0, 0, 1, 0, 0, 0, 0, 0, 0, 0, 0, 0, 0, 0, 1, 0, 0,\n",
       "       0, 0, 0, 0, 0, 0, 0, 0, 0, 0, 0, 0, 0, 0, 0, 0, 0, 0, 0, 0, 0, 0,\n",
       "       1, 0, 0, 0, 0, 0, 0, 0, 0, 0, 0, 0, 0, 0, 0, 0, 1, 0, 0, 0, 0, 0,\n",
       "       0, 0, 0, 0, 0, 0, 0, 0, 0, 0, 0, 0, 0, 0, 0, 0, 0, 1, 0, 0, 0, 0,\n",
       "       0, 0, 0, 0, 0, 0, 0, 0, 0, 0, 0, 1, 0, 1, 0, 0, 0, 0, 0, 0, 0, 0,\n",
       "       0, 0, 0, 0, 0, 0, 0, 0, 0, 0, 0, 1, 0, 0, 0, 0, 0, 0, 0, 0, 0, 0,\n",
       "       0, 0, 0, 1, 0, 0, 0, 0, 0, 0, 0, 0, 0, 0, 0, 0, 0, 0, 0, 0, 1, 0,\n",
       "       0, 0, 0, 0, 0, 0, 1, 0, 1, 0, 1, 0, 0, 0, 0, 0, 0, 0, 0, 0, 0, 0,\n",
       "       0, 0, 0, 0, 0, 0, 0, 0, 0, 0, 0, 0, 0, 0, 0, 0, 0, 0, 0, 0, 0, 0,\n",
       "       0, 0, 0, 0, 0, 0, 0, 0, 0, 0, 0, 0, 0, 0, 1, 0, 0, 0, 0, 0, 0, 0,\n",
       "       0, 0, 0, 0, 0, 0, 0, 0, 0, 0, 1, 0, 0, 0, 0, 0, 1, 0, 0, 0, 0, 0,\n",
       "       0, 0, 0, 0, 0, 0, 0, 0, 0, 0, 0, 0, 1, 0, 0, 0, 1, 0, 0, 0, 0, 0,\n",
       "       0, 0, 0, 0, 0, 0, 0, 0, 0, 0, 0, 0, 0, 0, 0, 0, 0, 0, 0, 0, 0, 0,\n",
       "       0, 0, 0, 0, 0, 0, 0, 0, 0, 0, 0, 0, 0, 1, 0, 0, 0, 0, 0, 0, 0, 0,\n",
       "       0, 1, 0, 0, 0, 0, 0, 0, 0, 0, 0, 1, 0, 0, 0, 0, 0, 0, 0, 0, 0, 0,\n",
       "       0, 0, 0, 0, 0, 0, 0, 0, 0, 0, 0, 0, 0, 0, 0, 0, 0, 0, 0, 0, 0, 0,\n",
       "       0, 0, 0, 0, 0, 1, 0, 0, 1, 0, 0, 0, 0, 0, 1, 0, 0, 0, 1, 0, 0, 0,\n",
       "       0, 0, 0, 0, 0, 0, 0, 0, 0, 0, 1, 0, 1, 0, 0, 1, 0, 0, 0, 0, 0, 0,\n",
       "       0, 0, 0, 0, 0, 0, 0, 0, 0, 0, 0, 0, 0, 0, 0, 0, 0, 0, 0, 0, 0, 0,\n",
       "       0, 0, 0, 0, 0]), metrics={'test_loss': 1.5024443864822388, 'test_accuracy': 0.9280898876404494, 'test_f1': 0.9109583608724389, 'test_precision': 0.9038098928064058, 'test_recall': 0.9280898876404494, 'test_runtime': 7.2851, 'test_samples_per_second': 61.084, 'test_steps_per_second': 7.687})"
      ]
     },
     "execution_count": 18,
     "metadata": {},
     "output_type": "execute_result"
    }
   ],
   "source": [
    "pred_obj = trainer.predict(tokenized_test)\n",
    "logits = pred_obj.predictions\n",
    "pred_obj\n"
   ]
  },
  {
   "cell_type": "markdown",
   "metadata": {
    "id": "ebKrjsQg3_LW"
   },
   "source": [
    "Make a plot!"
   ]
  },
  {
   "cell_type": "code",
   "execution_count": 19,
   "metadata": {
    "executionInfo": {
     "elapsed": 2,
     "status": "ok",
     "timestamp": 1749078137149,
     "user": {
      "displayName": "Alysa Meng",
      "userId": "07325622740508416915"
     },
     "user_tz": 420
    },
    "id": "Nw1B2VmY8_HQ"
   },
   "outputs": [],
   "source": [
    "import matplotlib.pyplot as plt"
   ]
  },
  {
   "cell_type": "code",
   "execution_count": 20,
   "metadata": {
    "colab": {
     "base_uri": "https://localhost:8080/",
     "height": 487
    },
    "executionInfo": {
     "elapsed": 186,
     "status": "ok",
     "timestamp": 1749078137342,
     "user": {
      "displayName": "Alysa Meng",
      "userId": "07325622740508416915"
     },
     "user_tz": 420
    },
    "id": "PNbptNee398H",
    "outputId": "363c7c36-6eaf-4174-ee50-2bf29f38dee7"
   },
   "outputs": [
    {
     "data": {
      "image/png": "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",
      "text/plain": [
       "<Figure size 640x480 with 2 Axes>"
      ]
     },
     "metadata": {},
     "output_type": "display_data"
    }
   ],
   "source": [
    "# visualize the splits for errors\n",
    "actuals = np.argmax(logits, axis=-1)\n",
    "expecteds = df_test['labels'].tolist()\n",
    "\n",
    "# Initialize confusion matrix: [actual][predicted]\n",
    "mtrx = [[0, 0],\n",
    "      [0, 0]]\n",
    "\n",
    "for actual, expected in zip(actuals, expecteds):\n",
    "\n",
    "    mtrx[int(expected)][int(actual)] += 1\n",
    "\n",
    "mtrx = np.array(mtrx)\n",
    "\n",
    "# Normalize each row (i.e., per actual class)\n",
    "mtrx_normal = (1.0* mtrx) / mtrx.sum(axis=1, keepdims=True)\n",
    "\n",
    "fig, ax = plt.subplots()\n",
    "im = ax.imshow(mtrx_normal, cmap='Blues', vmin=0, vmax=1)\n",
    "\n",
    "# Labels, title and ticks\n",
    "ax.set_xlabel('Predicted Labels')\n",
    "ax.set_ylabel('True Labels')\n",
    "ax.set_title('Normalized Confusion Matrix')\n",
    "ax.set_xticks([0, 1])\n",
    "ax.set_yticks([0, 1])\n",
    "ax.set_xticklabels(['Male (0)', 'Female (1)'])\n",
    "ax.set_yticklabels(['Male (0)', 'Female (1)'])\n",
    "for i in range(2):\n",
    "    for j in range(2):\n",
    "        value = mtrx_normal[i, j]\n",
    "        ax.text(j, i, f'{value:.3f}', ha='center', va='center', color='black')\n",
    "\n",
    "plt.colorbar(im)\n",
    "plt.tight_layout()\n",
    "plt.show()"
   ]
  },
  {
   "cell_type": "code",
   "execution_count": 21,
   "metadata": {
    "executionInfo": {
     "elapsed": 7809,
     "status": "ok",
     "timestamp": 1749078145150,
     "user": {
      "displayName": "Alysa Meng",
      "userId": "07325622740508416915"
     },
     "user_tz": 420
    },
    "id": "9Lgv1FwCYzw6"
   },
   "outputs": [],
   "source": [
    "trainer.save_model(\"./gender_finetuned\")"
   ]
  },
  {
   "cell_type": "markdown",
   "metadata": {
    "id": "lpUaaMwD_7YA"
   },
   "source": [
    "Try to save model outputs"
   ]
  },
  {
   "cell_type": "code",
   "execution_count": 23,
   "metadata": {
    "colab": {
     "base_uri": "https://localhost:8080/",
     "height": 35
    },
    "executionInfo": {
     "elapsed": 28602,
     "status": "ok",
     "timestamp": 1749078551964,
     "user": {
      "displayName": "Alysa Meng",
      "userId": "07325622740508416915"
     },
     "user_tz": 420
    },
    "id": "KmR4qAc-9ov0",
    "outputId": "6da21e8d-865e-4363-db84-38cdab4d6676"
   },
   "outputs": [
    {
     "data": {
      "application/vnd.google.colaboratory.intrinsic+json": {
       "type": "string"
      },
      "text/plain": [
       "'/content/gender_finetuned.zip'"
      ]
     },
     "execution_count": 23,
     "metadata": {},
     "output_type": "execute_result"
    }
   ],
   "source": [
    "import shutil\n",
    "from google.colab import files\n",
    "\n",
    "shutil.make_archive('gender_finetuned', 'zip', '.', './gender_finetuned')\n",
    "#shutil.make_archive('gender_out', 'zip', '.', './gender_out')\n",
    "\n",
    "#files.download('gender_out.zip') # 2gb file :)"
   ]
  }
 ],
 "metadata": {
  "accelerator": "GPU",
  "colab": {
   "authorship_tag": "ABX9TyNBVSY+KKX+rPnr1zvUjzcG",
   "gpuType": "T4",
   "provenance": []
  },
  "kernelspec": {
   "display_name": "Python 3",
   "name": "python3"
  },
  "language_info": {
   "name": "python"
  }
    }
}