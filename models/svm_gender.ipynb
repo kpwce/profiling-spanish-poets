{
 "cells": [
  {
   "cell_type": "markdown",
   "id": "3ac55ef4",
   "metadata": {},
   "source": [
    "# Train SVM classifiers for poet profiling"
   ]
  },
  {
   "cell_type": "code",
   "execution_count": 5,
   "id": "df53056a",
   "metadata": {},
   "outputs": [
    {
     "ename": "ResourcesFileNotFoundError",
     "evalue": "Resources file not found at: /Users/menga/stanza_resources/resources.json  Try to download the model again.",
     "output_type": "error",
     "traceback": [
      "\u001b[31m---------------------------------------------------------------------------\u001b[39m",
      "\u001b[31mResourcesFileNotFoundError\u001b[39m                Traceback (most recent call last)",
      "\u001b[36mCell\u001b[39m\u001b[36m \u001b[39m\u001b[32mIn[5]\u001b[39m\u001b[32m, line 2\u001b[39m\n\u001b[32m      1\u001b[39m \u001b[38;5;28;01mfrom\u001b[39;00m\u001b[38;5;250m \u001b[39m\u001b[34;01mformat\u001b[39;00m\u001b[38;5;250m \u001b[39m\u001b[38;5;28;01mimport\u001b[39;00m *\n\u001b[32m----> \u001b[39m\u001b[32m2\u001b[39m \u001b[38;5;28;01mfrom\u001b[39;00m\u001b[38;5;250m \u001b[39m\u001b[34;01mfeatures\u001b[39;00m\u001b[38;5;250m \u001b[39m\u001b[38;5;28;01mimport\u001b[39;00m *\n\u001b[32m      3\u001b[39m \u001b[38;5;28;01mfrom\u001b[39;00m\u001b[38;5;250m \u001b[39m\u001b[34;01msvm_classifier\u001b[39;00m\u001b[38;5;250m \u001b[39m\u001b[38;5;28;01mimport\u001b[39;00m *\n\u001b[32m      4\u001b[39m \u001b[38;5;28;01mimport\u001b[39;00m\u001b[38;5;250m \u001b[39m\u001b[34;01mtorch\u001b[39;00m\n",
      "\u001b[36mFile \u001b[39m\u001b[32m~/Desktop/profiling-spanish-poets/models/features.py:5\u001b[39m\n\u001b[32m      3\u001b[39m \u001b[38;5;28;01mimport\u001b[39;00m\u001b[38;5;250m \u001b[39m\u001b[34;01mnumpy\u001b[39;00m\u001b[38;5;250m \u001b[39m\u001b[38;5;28;01mas\u001b[39;00m\u001b[38;5;250m \u001b[39m\u001b[34;01mnp\u001b[39;00m\n\u001b[32m      4\u001b[39m \u001b[38;5;28;01mimport\u001b[39;00m\u001b[38;5;250m \u001b[39m\u001b[34;01mre\u001b[39;00m\n\u001b[32m----> \u001b[39m\u001b[32m5\u001b[39m \u001b[38;5;28;01mimport\u001b[39;00m\u001b[38;5;250m \u001b[39m\u001b[34;01mlibEscansion\u001b[39;00m \u001b[38;5;66;03m# parse metrical style en espanol\u001b[39;00m\n\u001b[32m      7\u001b[39m \u001b[38;5;66;03m########## Linguistic features ##########\u001b[39;00m\n\u001b[32m      8\u001b[39m vowel = {\u001b[33m'\u001b[39m\u001b[33ma\u001b[39m\u001b[33m'\u001b[39m: \u001b[32m0\u001b[39m, \u001b[33m'\u001b[39m\u001b[33me\u001b[39m\u001b[33m'\u001b[39m: \u001b[32m1\u001b[39m, \u001b[33m'\u001b[39m\u001b[33mi\u001b[39m\u001b[33m'\u001b[39m: \u001b[32m2\u001b[39m, \u001b[33m'\u001b[39m\u001b[33mo\u001b[39m\u001b[33m'\u001b[39m: \u001b[32m3\u001b[39m, \u001b[33m'\u001b[39m\u001b[33mu\u001b[39m\u001b[33m'\u001b[39m: \u001b[32m4\u001b[39m}\n",
      "\u001b[36mFile \u001b[39m\u001b[32m~/opt/anaconda3/envs/py311/lib/python3.11/site-packages/libEscansion/__init__.py:1\u001b[39m\n\u001b[32m----> \u001b[39m\u001b[32m1\u001b[39m \u001b[38;5;28;01mfrom\u001b[39;00m\u001b[38;5;250m \u001b[39m\u001b[34;01m.\u001b[39;00m\u001b[34;01mlibEscansion\u001b[39;00m\u001b[38;5;250m \u001b[39m\u001b[38;5;28;01mimport\u001b[39;00m *         \n",
      "\u001b[36mFile \u001b[39m\u001b[32m~/opt/anaconda3/envs/py311/lib/python3.11/site-packages/libEscansion/libEscansion.py:23\u001b[39m\n\u001b[32m     11\u001b[39m processor_dict = {\n\u001b[32m     12\u001b[39m     \u001b[33m'\u001b[39m\u001b[33mtokenize\u001b[39m\u001b[33m'\u001b[39m: \u001b[33m'\u001b[39m\u001b[33mancora\u001b[39m\u001b[33m'\u001b[39m,\n\u001b[32m     13\u001b[39m     \u001b[33m'\u001b[39m\u001b[33mmwt\u001b[39m\u001b[33m'\u001b[39m: \u001b[33m'\u001b[39m\u001b[33mancora\u001b[39m\u001b[33m'\u001b[39m,\n\u001b[32m   (...)\u001b[39m\u001b[32m     16\u001b[39m     \u001b[33m'\u001b[39m\u001b[33mdepparse\u001b[39m\u001b[33m'\u001b[39m: \u001b[33m'\u001b[39m\u001b[33mancora\u001b[39m\u001b[33m'\u001b[39m\n\u001b[32m     17\u001b[39m }\n\u001b[32m     18\u001b[39m conf = {\n\u001b[32m     19\u001b[39m     \u001b[33m'\u001b[39m\u001b[33mlang\u001b[39m\u001b[33m'\u001b[39m: \u001b[33m'\u001b[39m\u001b[33mes\u001b[39m\u001b[33m'\u001b[39m,\n\u001b[32m     20\u001b[39m     \u001b[33m'\u001b[39m\u001b[33mprocessors\u001b[39m\u001b[33m'\u001b[39m: processor_dict,\n\u001b[32m     21\u001b[39m     \u001b[33m'\u001b[39m\u001b[33mdownload_method\u001b[39m\u001b[33m'\u001b[39m: \u001b[33m'\u001b[39m\u001b[33mNone\u001b[39m\u001b[33m'\u001b[39m\n\u001b[32m     22\u001b[39m }\n\u001b[32m---> \u001b[39m\u001b[32m23\u001b[39m nlp = \u001b[43mstanza\u001b[49m\u001b[43m.\u001b[49m\u001b[43mPipeline\u001b[49m\u001b[43m(\u001b[49m\u001b[43m*\u001b[49m\u001b[43m*\u001b[49m\u001b[43mconf\u001b[49m\u001b[43m,\u001b[49m\u001b[43m \u001b[49m\u001b[43mlogging_level\u001b[49m\u001b[43m=\u001b[49m\u001b[33;43m'\u001b[39;49m\u001b[33;43mERROR\u001b[39;49m\u001b[33;43m'\u001b[39;49m\u001b[43m)\u001b[49m\n\u001b[32m     25\u001b[39m \u001b[38;5;66;03m# Predefined phonetic values and settings\u001b[39;00m\n\u001b[32m     26\u001b[39m usuals = (\u001b[33m'\u001b[39m\u001b[33mxueθ\u001b[39m\u001b[33m'\u001b[39m, \u001b[33m'\u001b[39m\u001b[33msuab\u001b[39m\u001b[33m'\u001b[39m, \u001b[33m'\u001b[39m\u001b[33mkɾuel\u001b[39m\u001b[33m'\u001b[39m, \u001b[33m'\u001b[39m\u001b[33mfiel\u001b[39m\u001b[33m'\u001b[39m, \u001b[33m'\u001b[39m\u001b[33mruina\u001b[39m\u001b[33m'\u001b[39m, \u001b[33m'\u001b[39m\u001b[33mdiabl\u001b[39m\u001b[33m'\u001b[39m, \u001b[33m'\u001b[39m\u001b[33mdios\u001b[39m\u001b[33m'\u001b[39m, \u001b[33m'\u001b[39m\u001b[33mkae\u001b[39m\u001b[33m'\u001b[39m,\n\u001b[32m     27\u001b[39m           \u001b[33m'\u001b[39m\u001b[33mrios\u001b[39m\u001b[33m'\u001b[39m, \u001b[33m'\u001b[39m\u001b[33mbiɾtuos\u001b[39m\u001b[33m'\u001b[39m, \u001b[33m'\u001b[39m\u001b[33mkɾio\u001b[39m\u001b[33m'\u001b[39m, \u001b[33m'\u001b[39m\u001b[33mʰuid\u001b[39m\u001b[33m'\u001b[39m, \u001b[33m'\u001b[39m\u001b[33mpoɾfiad\u001b[39m\u001b[33m'\u001b[39m)\n",
      "\u001b[36mFile \u001b[39m\u001b[32m~/opt/anaconda3/envs/py311/lib/python3.11/site-packages/stanza/pipeline/core.py:227\u001b[39m, in \u001b[36mPipeline.__init__\u001b[39m\u001b[34m(self, lang, dir, package, processors, logging_level, verbose, use_gpu, model_dir, download_method, resources_url, resources_branch, resources_version, resources_filepath, proxies, foundation_cache, device, allow_unknown_language, **kwargs)\u001b[39m\n\u001b[32m    225\u001b[39m \u001b[38;5;66;03m# Load resources.json to obtain latest packages.\u001b[39;00m\n\u001b[32m    226\u001b[39m logger.debug(\u001b[33m'\u001b[39m\u001b[33mLoading resource file...\u001b[39m\u001b[33m'\u001b[39m)\n\u001b[32m--> \u001b[39m\u001b[32m227\u001b[39m resources = \u001b[43mload_resources_json\u001b[49m\u001b[43m(\u001b[49m\u001b[38;5;28;43mself\u001b[39;49m\u001b[43m.\u001b[49m\u001b[43mdir\u001b[49m\u001b[43m,\u001b[49m\u001b[43m \u001b[49m\u001b[43mresources_filepath\u001b[49m\u001b[43m)\u001b[49m\n\u001b[32m    228\u001b[39m \u001b[38;5;28;01mif\u001b[39;00m lang \u001b[38;5;129;01min\u001b[39;00m resources:\n\u001b[32m    229\u001b[39m     \u001b[38;5;28;01mif\u001b[39;00m \u001b[33m'\u001b[39m\u001b[33malias\u001b[39m\u001b[33m'\u001b[39m \u001b[38;5;129;01min\u001b[39;00m resources[lang]:\n",
      "\u001b[36mFile \u001b[39m\u001b[32m~/opt/anaconda3/envs/py311/lib/python3.11/site-packages/stanza/resources/common.py:474\u001b[39m, in \u001b[36mload_resources_json\u001b[39m\u001b[34m(model_dir, resources_filepath)\u001b[39m\n\u001b[32m    472\u001b[39m     resources_filepath = os.path.join(model_dir, \u001b[33m'\u001b[39m\u001b[33mresources.json\u001b[39m\u001b[33m'\u001b[39m)\n\u001b[32m    473\u001b[39m \u001b[38;5;28;01mif\u001b[39;00m \u001b[38;5;129;01mnot\u001b[39;00m os.path.exists(resources_filepath):\n\u001b[32m--> \u001b[39m\u001b[32m474\u001b[39m     \u001b[38;5;28;01mraise\u001b[39;00m ResourcesFileNotFoundError(resources_filepath)\n\u001b[32m    475\u001b[39m \u001b[38;5;28;01mwith\u001b[39;00m \u001b[38;5;28mopen\u001b[39m(resources_filepath, encoding=\u001b[33m\"\u001b[39m\u001b[33mutf-8\u001b[39m\u001b[33m\"\u001b[39m) \u001b[38;5;28;01mas\u001b[39;00m fin:\n\u001b[32m    476\u001b[39m     resources = json.load(fin)\n",
      "\u001b[31mResourcesFileNotFoundError\u001b[39m: Resources file not found at: /Users/menga/stanza_resources/resources.json  Try to download the model again."
     ]
    }
   ],
   "source": [
    "from format import *\n",
    "from features import *\n",
    "from svm_classifier import *\n",
    "import torch\n",
    "import torch.optim\n",
    "import torchtext"
   ]
  },
  {
   "cell_type": "markdown",
   "id": "8ddb0f7d",
   "metadata": {},
   "source": [
    "Load in the training data. Then extract features to turn poem into vector."
   ]
  },
  {
   "cell_type": "code",
   "execution_count": null,
   "id": "6efa09e7",
   "metadata": {},
   "outputs": [],
   "source": [
    "X_train, X_test, y_train, y_test = get_text_to_gender()"
   ]
  },
  {
   "cell_type": "code",
   "execution_count": null,
   "id": "394e4356",
   "metadata": {},
   "outputs": [],
   "source": [
    "# max out at 100 for now\n",
    "X_train.apply(get_metrical_vector)\n"
   ]
  },
  {
   "cell_type": "markdown",
   "id": "8c138f86",
   "metadata": {},
   "source": [
    "Create SVM model."
   ]
  },
  {
   "cell_type": "code",
   "execution_count": null,
   "id": "0a48c13e",
   "metadata": {},
   "outputs": [
    {
     "data": {
      "text/plain": [
       "content    4493\n",
       "gender     4493\n",
       "dtype: int64"
      ]
     },
     "execution_count": 7,
     "metadata": {},
     "output_type": "execute_result"
    }
   ],
   "source": [
    "\n",
    "model = SVM(#TODO INPUT DIM, NUM CLASSES...)\n",
    "optimizer = optim.SGD(model.parameters(), lr=0.01, weight_decay=1e-3)\n",
    "\n",
    "# Dummy inputs and labels for demonstration\n",
    "input = torch.randn(batch_size, input_dim)\n",
    "labels = torch.randint(0, num_classes, (batch_size,))\n",
    "\n",
    "# Training step\n",
    "model.train()\n",
    "optimizer.zero_grad()\n",
    "output = model(input)\n",
    "loss = svm_loss(output, labels)\n",
    "\n",
    "loss.backward()\n",
    "\n",
    "optimizer.step()"
   ]
  },
  {
   "cell_type": "code",
   "execution_count": null,
   "id": "5a87f25a",
   "metadata": {},
   "outputs": [],
   "source": []
  },
  {
   "cell_type": "code",
   "execution_count": null,
   "id": "85d9a4bb",
   "metadata": {},
   "outputs": [],
   "source": []
  }
 ],
 "metadata": {
  "kernelspec": {
   "display_name": "py311",
   "language": "python",
   "name": "python3"
  },
  "language_info": {
   "codemirror_mode": {
    "name": "ipython",
    "version": 3
   },
   "file_extension": ".py",
   "mimetype": "text/x-python",
   "name": "python",
   "nbconvert_exporter": "python",
   "pygments_lexer": "ipython3",
   "version": "3.11.11"
  }
 },
 "nbformat": 4,
 "nbformat_minor": 5
}
