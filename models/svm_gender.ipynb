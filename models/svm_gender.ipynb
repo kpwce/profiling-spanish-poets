{
 "cells": [
  {
   "cell_type": "markdown",
   "id": "3ac55ef4",
   "metadata": {},
   "source": [
    "# Train SVM classifiers for poet profiling"
   ]
  },
  {
   "cell_type": "code",
   "execution_count": null,
   "id": "df53056a",
   "metadata": {},
   "outputs": [
    {
     "ename": "ModuleNotFoundError",
     "evalue": "No module named 'pandas'",
     "output_type": "error",
     "traceback": [
      "\u001b[31m---------------------------------------------------------------------------\u001b[39m",
      "\u001b[31mModuleNotFoundError\u001b[39m                       Traceback (most recent call last)",
      "\u001b[36mCell\u001b[39m\u001b[36m \u001b[39m\u001b[32mIn[2]\u001b[39m\u001b[32m, line 1\u001b[39m\n\u001b[32m----> \u001b[39m\u001b[32m1\u001b[39m \u001b[38;5;28;01mfrom\u001b[39;00m\u001b[38;5;250m \u001b[39m\u001b[34;01mformat\u001b[39;00m\u001b[38;5;250m \u001b[39m\u001b[38;5;28;01mimport\u001b[39;00m *\n\u001b[32m      2\u001b[39m \u001b[38;5;28;01mimport\u001b[39;00m\u001b[38;5;250m \u001b[39m\u001b[34;01mtorch\u001b[39;00m\n\u001b[32m      3\u001b[39m \u001b[38;5;28;01mimport\u001b[39;00m\u001b[38;5;250m \u001b[39m\u001b[34;01mtorchtext\u001b[39;00m\n",
      "\u001b[36mFile \u001b[39m\u001b[32m~/Desktop/profiling-spanish-poets/models/format.py:3\u001b[39m\n\u001b[32m      1\u001b[39m \u001b[33;03m\"\"\"\"Formats the data used for training in pre-processing step\"\"\"\u001b[39;00m\n\u001b[32m      2\u001b[39m \u001b[38;5;28;01mfrom\u001b[39;00m\u001b[38;5;250m \u001b[39m\u001b[34;01mpathlib\u001b[39;00m\u001b[38;5;250m \u001b[39m\u001b[38;5;28;01mimport\u001b[39;00m Path\n\u001b[32m----> \u001b[39m\u001b[32m3\u001b[39m \u001b[38;5;28;01mimport\u001b[39;00m\u001b[38;5;250m \u001b[39m\u001b[34;01mpandas\u001b[39;00m\u001b[38;5;250m \u001b[39m\u001b[38;5;28;01mas\u001b[39;00m\u001b[38;5;250m \u001b[39m\u001b[34;01mpd\u001b[39;00m\n\u001b[32m      4\u001b[39m \u001b[38;5;28;01mimport\u001b[39;00m\u001b[38;5;250m \u001b[39m\u001b[34;01mnumpy\u001b[39;00m\u001b[38;5;250m \u001b[39m\u001b[38;5;28;01mas\u001b[39;00m\u001b[38;5;250m \u001b[39m\u001b[34;01mnp\u001b[39;00m\n\u001b[32m      5\u001b[39m \u001b[38;5;28;01mfrom\u001b[39;00m\u001b[38;5;250m \u001b[39m\u001b[34;01msklearn\u001b[39;00m\u001b[34;01m.\u001b[39;00m\u001b[34;01mmodel_selection\u001b[39;00m\u001b[38;5;250m \u001b[39m\u001b[38;5;28;01mimport\u001b[39;00m train_test_split\n",
      "\u001b[31mModuleNotFoundError\u001b[39m: No module named 'pandas'"
     ]
    }
   ],
   "source": [
    "from format import *\n",
    "from features import *\n",
    "from svm_classifier import *\n",
    "import torch\n",
    "import torch.optim\n",
    "import torchtext\n",
    "from sklearn.feature_extraction.text import TfidfVectorizer"
   ]
  },
  {
   "cell_type": "markdown",
   "id": "8ddb0f7d",
   "metadata": {},
   "source": [
    "Load in the training data. Then extract features to turn poem into vector."
   ]
  },
  {
   "cell_type": "code",
   "execution_count": null,
   "id": "6efa09e7",
   "metadata": {},
   "outputs": [],
   "source": [
    "X_train, X_test, y_train, y_test = get_text_to_gender()"
   ]
  },
  {
   "cell_type": "code",
   "execution_count": null,
   "id": "394e4356",
   "metadata": {},
   "outputs": [],
   "source": [
    "# max out at 100 for now\n",
    "vectorizer = TfidfVectorizer(max_features=100, ngram_range=(1, 2)) # get unigrams, bigrams\n",
    "X_train_vec = vectorizer.fit_transform(X_train)\n",
    "# TODO process test correctly\n",
    "X_test_vec = vectorizer.fit_transform(X_test)\n",
    "X_train.apply(get_metrical_vector)\n"
   ]
  },
  {
   "cell_type": "markdown",
   "id": "8c138f86",
   "metadata": {},
   "source": [
    "Create SVM model."
   ]
  },
  {
   "cell_type": "code",
   "execution_count": null,
   "id": "0a48c13e",
   "metadata": {},
   "outputs": [
    {
     "data": {
      "text/plain": [
       "content    4493\n",
       "gender     4493\n",
       "dtype: int64"
      ]
     },
     "execution_count": 7,
     "metadata": {},
     "output_type": "execute_result"
    }
   ],
   "source": [
    "\n",
    "model = SVM(#TODO INPUT DIM, NUM CLASSES...)\n",
    "optimizer = optim.SGD(model.parameters(), lr=0.01, weight_decay=1e-3)\n",
    "\n",
    "# Dummy inputs and labels for demonstration\n",
    "input = torch.randn(batch_size, input_dim)\n",
    "labels = torch.randint(0, num_classes, (batch_size,))\n",
    "\n",
    "# Training step\n",
    "model.train()\n",
    "optimizer.zero_grad()\n",
    "output = model(input)\n",
    "loss = svm_loss(output, labels)\n",
    "\n",
    "loss.backward()\n",
    "\n",
    "optimizer.step()"
   ]
  },
  {
   "cell_type": "code",
   "execution_count": null,
   "id": "5a87f25a",
   "metadata": {},
   "outputs": [],
   "source": []
  },
  {
   "cell_type": "code",
   "execution_count": null,
   "id": "85d9a4bb",
   "metadata": {},
   "outputs": [],
   "source": []
  }
 ],
 "metadata": {
  "kernelspec": {
   "display_name": "torch-env",
   "language": "python",
   "name": "python3"
  },
  "language_info": {
   "codemirror_mode": {
    "name": "ipython",
    "version": 3
   },
   "file_extension": ".py",
   "mimetype": "text/x-python",
   "name": "python",
   "nbconvert_exporter": "python",
   "pygments_lexer": "ipython3",
   "version": "3.12.10"
  }
 },
 "nbformat": 4,
 "nbformat_minor": 5
}
