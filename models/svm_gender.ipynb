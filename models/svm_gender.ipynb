{
 "cells": [
  {
   "cell_type": "markdown",
   "id": "3ac55ef4",
   "metadata": {},
   "source": [
    "# Train SVM classifiers for poet profiling (gender)"
   ]
  },
  {
   "cell_type": "code",
   "execution_count": 1,
   "id": "df53056a",
   "metadata": {},
   "outputs": [
    {
     "name": "stderr",
     "output_type": "stream",
     "text": [
      "/Users/menga/opt/anaconda3/envs/py311/lib/python3.11/site-packages/tqdm/auto.py:21: TqdmWarning: IProgress not found. Please update jupyter and ipywidgets. See https://ipywidgets.readthedocs.io/en/stable/user_install.html\n",
      "  from .autonotebook import tqdm as notebook_tqdm\n"
     ]
    }
   ],
   "source": [
    "from format import *\n",
    "import features\n",
    "import svm_classifier\n",
    "import torch\n",
    "from importlib import reload"
   ]
  },
  {
   "cell_type": "markdown",
   "id": "8ddb0f7d",
   "metadata": {},
   "source": [
    "Load in the training data. Then extract features to turn poem into vector."
   ]
  },
  {
   "cell_type": "code",
   "execution_count": 2,
   "id": "6efa09e7",
   "metadata": {},
   "outputs": [],
   "source": [
    "df_train, df_test = get_text_to_gender()\n",
    "df_train = df_train.where(df_train['content'].apply(lambda x: isinstance(x, str) and x.strip() != '')).dropna()\n",
    "\n",
    "df_test = df_test.where(df_test['content'].apply(lambda x: isinstance(x, str) and x.strip() != '')).dropna()\n",
    "\n",
    "gender_map = {'M': 0, 'F': 1}\n",
    "df_train['gender'] = df_train['gender'].map(gender_map)\n",
    "df_train = df_train.dropna(subset=['gender'])\n",
    "\n",
    "df_test['gender'] = df_test['gender'].map(gender_map)\n",
    "df_test = df_test.dropna(subset=['gender'])"
   ]
  },
  {
   "cell_type": "code",
   "execution_count": 3,
   "id": "394e4356",
   "metadata": {},
   "outputs": [
    {
     "data": {
      "text/plain": [
       "content    275\n",
       "gender     275\n",
       "dtype: int64"
      ]
     },
     "execution_count": 3,
     "metadata": {},
     "output_type": "execute_result"
    }
   ],
   "source": [
    "# what does F vs M train split look like\n",
    "df_train.where(df_train['gender']==1).count()"
   ]
  },
  {
   "cell_type": "markdown",
   "id": "23df24c2",
   "metadata": {},
   "source": [
    "Some features (BoW and prosodic attributes)"
   ]
  },
  {
   "cell_type": "code",
   "execution_count": 18,
   "id": "6f9ea685",
   "metadata": {},
   "outputs": [
    {
     "name": "stdout",
     "output_type": "stream",
     "text": [
      "['de', 'y', 'la', 'el', 'que', 'en', 'a', 'su', 'del', 'al', 'tu', 'mi', 'con', 'un', 'los', 'se', 'las', 'no', 'por', 'es', 'me', 'más', 'sus', 'te', 'una', 'como', 'lo', 'si', 'amor', 'sin', 'Y', 'ni', 'vida', 'tus', 'le', 'alma', 'para', 'ya', 'mis', 'tan', 'cuando', 'o', 'luz', 'cielo', 'yo', 'pues', 'Dios', 'sol', 'ser', 'ha', 'entre', 'mundo', 'No', 'corazón', 'En', 'ojos', 'sobre', 'bien', 'La', 'El', 'qué', 'gloria', 'muerte', 'todo', 'tú', 'día', 'quien', 'cual', 'porque', 'ti', 'dulce', 'son', 'mar', 'De', 'donde', 'dolor', 'sólo', 'Si', 'noche', 'siempre', 'fue', 'tanto', 'triste', 'Mas', 'frente', 'fin', 'flores', 'voz', 'tiempo', 'tierra', 'mano', 'pecho', 'este', 'Oh', 'mas', 'hay', 'está', 'oh', 'tal', 'así', 'nos', 'oro', 'mí', 'hoy', 'Por', 'mal', 'hasta', 'mía', 'Qué', 'esta', 'vez', 'él', 'viento', 'Yo', 'dos', 'ella', 'e', 'aunque', 'he', 'fuego', 'llanto', 'llama', 'bajo', 'flor', 'aquel', 'pero', 'A', 'Es', 'Que', 'hombre', 'vano', 'gran', 'suerte', 'sombra', 'Ya', 'nombre', 'ver', 'fe', 'mil', 'ardiente', 'pura', 'suelo', 'otro', 'hermosa', 'nunca', 'Tú', 'mismo', 'sangre', 'divino', 'rosa', 'azul', 'aun', 'eres', 'canto', 'esperanza', 'nada', 'Cuando', 'feliz', 'cuanto', 'tiene', 'otra', 'memoria', 'paz', 'va', 'da', 'os', 'toda', 'todos', 'Al', 'también', 'pena', 'inmortal', 'aquí', 'ese', 'mujer', 'hermosura', 'Con', 'soy', 'fuerte', 'mientras', 'Pero', 'pensamiento', 'ante', 'tarde', 'quiero', 'morir', 'era', 'bella', 'tras', 'mío', 'Señor', 'vos', 'virtud', 'cuerpo', 'vuelo', 'ay', 'desde', 'olvido', 'fama', 'lágrimas', 'sueño', 'muy', 'manos', 'esa', 'amores', 'mayor', 'hace', 'boca', 'camino', 'veces', 'España', 'nuevo', 'Quién', 'luna', 'Amor', 'cada', 'placer', 'Los', 'divina', 'jamás', 'agua', 'patria', 'labios', 'hora', 'sí', 'eterno', 'rostro', 'seno', 'grande', 'aire', 'belleza', 'nuestra', 'mirada', 'después', 'has', 'santo', 'aliento', 'espíritu', 'puede', 'aurora', 'edad', 'fuente', 'noble', 'solo', 'destino', 'alegría', 'han', 'pobre', 'eterna', 'sé', 'será', 'río', 'alto', 'Sol', 'dio', 'pasión', 'mortal', 'lira', 'Pues', 'Un', 'rayo', 'anhelo', 'dura', 'rosas', 'Así', 'paso', 'vivir', 'muerto', 'madre', 'verdad', 'mira', 'Como', 'Del', 'valor', 'do', 'llora', 'consuelo', 'humano', 'profundo', 'tanta', 'luego', 'ventura', 'mañana', 'poder', 'historia', 'aquella', 'antes', 'contra', 'mejor', 'envidia', 'ahora', 'fuera', 'vive', 'ilusión', 'acento', 've', 'sea', 'blanca', 'todas', 'alegre', 'beso', 'dice', 'vivo', 'nieve', 'pueblo', 'allí', 'razón', 'amante', 'campo', 'alas', 'faz', 'frío', 'oscura', 'dicha', 'Tu', 'versos', 'gente', 'silencio', 'calma', 'pies', 'mente', 'gentil', 'llena', 'uno', 'estrella', 'parece', 'cómo', 'aún', 'brazos', 'deseo', 'lejos', 'corona', 'años', 'fuerza', 'medio', 'verde', 'velo', 'grandeza', 'sino', 'vista', 'cabeza', 'fatal', 'estrellas', 'cruel', 'vuestra', 'vino', 'Las', 'herida', 'fría', 'fortuna', 'espera', 'imagen', 'siento', 'claro', 'ciego', 'allá', 'afán', 'igual', 'sido', 'poco', 'hacer', 'rayos', 'nuestro', 'vuestro', 'horas', 'deja', 'nido', 'canta', 'siente', 'sombras', 'victoria', 'encanto', 'libertad', 'peregrino', 'abismo', 'Hoy', 'almas', 'fiera', 'cristal', 'mucho', 'espada', 'fruto', 'tristeza', 'sabe', 'tormento', 'pesar', 'siendo', 'Ay', 'vio', 'muere', 'cuya', 'libre', 'hizo', 'campos', 'pie', 'recuerdo', 'humana', 'breve', 'hecho', 'hacia', 'manto', 'honor', 'poeta', 'ave', 'cuyo', 'quién', 'sola', 'algún', 'infeliz', 'templo', 'colores', 'monte', 'piedad', 'verte', 'soberano', 'forma', 'amigo', 'pasa', 'blanco', 'suave', 'bosque', 'genio', 'reposo', 'viva', 'tesoro', 'llega', 'dar', 'menos', 'vi', 'arte', 'Apolo', 'ondas', 'olas', 'Para', 'veo', 'penas', 'gracia', 'bello', 'cielos', 'lecho', 'instante', 'van', 'mirar', 'árbol', 'primera', 'puro', 'ayer', 'días', 'cumbre', 'Mi', 'existencia', 'Cristo', 'esfera', 'daño', 'hermoso', 'vil', 'Su', 'alta', 'sueños', 'cuidado', 'sentimiento', 'miro', 'parte', 'Sólo', 'sonoro', 'entonces', 'santa', 'levanta', 'tres', 'dolores', 'tengo', 'humilde', 'soneto', 'senda', 'pluma', 'armonía', 'otros', 'punto', 'Se', 'cosas', 'viejo', 'espanto', 'grave', 'nueva', 'duro', 'hijo', 'mares', 'ciencia', 'mármol', 'esplendor', 'estoy', 'buen', 'negro', 'apenas', 'saber', 'Ni', 'serena', 'pudo', 'tumba', 'O', 'Oriente', 'fiel', 'labio', 'hojas', 'lleva', 'pasado', 'Todo', 'dijo', 'nubes', 'ley', 'lloro', 'ingenio', 'lleno', 'verso', 'polvo', 'alguna', 'tienes', 'sutil', 'males', 'jardín', 'infinito', 'grito', 'duelo', 'idea', 'tantos', 'quiere', 'ardor', 'lumbre', 'perdido', 'hondo', 'guerra', 'plata', 'hombres', 'corriente', 'loco', 'nadie', 'primavera', 'coro', 'muestra', 'torno', 'color', 'dulces', 'sonrisa', 'amargura', 'carne', 'constante', 'virgen', 'celestial', 'beldad', 'adoro', 'junto', 'bellas', 'causa', 'primero', 'lado', 'brilla', 'amado', 'Virgen', 'cantar', 'juventud', 'María', 'tristes', 'ternura', 'lucha', 'planta', 'vuelve', 'cruz', 'voy', 'blando', 'segundo', 'joven', 'momento', 'derrama', 'sed', 'cosa', 'par', 'loca', 'misma', 'niño', 'busca', 'ofrece', 'sublime', 'soplo', 'yace', 'eso', 'resplandor', 'ellas', 'fuiste', 'eco', 'sentido', 'aguas', 'conciencia', 'inmenso', 'Jesús', 'debe', 'amada', 'sigue', 'muda', 'duda', 'admira', 'golpe', 'fulgor', 'inflama', 'palma', 'queda', 'glorias', 'agonía', 'non', 'alba', 'ellos', 'copa', 'ambiente', 'altura', 'rey', 'altar', 'padre', 'tirano', 'les', 'fiero', 'ambición', 'contento', 'arena', 'brisa', 'pudiera', 'desierto', 'sagrado', 'alcanza', 'decir', 'cara', 'pan', 'mudo', 'cuna', 'quiso', 'firme', 'don', 'culpa', 'presente', 'siglos', 'nube', 'algo', 'semblante', 'porfía', 'tierno', 'Te', 'temor', 'falta', 'esto', 'clara', 'rigor', 'doliente', 'lanza', 'poesía', 'Porque', 'triunfo', 'selva', 'perlas', 'fecundo', 'orbe', 'luces', 'espero', 'triunfante', 'sabio', 'risa', 'dichoso', 'adora', 'figura', 'dulzura', 'ideal', 'soledad', 'perdida', 'Sobre', 'Una', 'dado', 'guía', 'viene', 'justo', 'besos', 'llegar', 'esencia', 'nuestros', 'quisiera', 'nuestras', 'orgullo', 'espuma', 'imperio', 'altivo', 'hogar', 'lluvia', 'hielo', 'lengua', 'gozo', 'ama', 'impía', 'Venus', 'peso', 'carrera', 'plantas', 'glorioso', 'laurel', 'aves', 'nave', 'ruego', 'pronto', 'piedra', 'casa', 'aroma', 'puerto', 'ciudad', 'Cielo', 'estas', 'cura', 'fueron', 'Madre', 'señora', 'Roma', 'contigo', 'primer', 'furor', 'invierno', 'segura', 'Ella', 'ven', 'rico', 'celeste', 'puedo', 'huella', 'rojo', 'miel', 'audaz', 'muero', 'acaso', 'importa', 'Me', 'estás', 'reina', 'inspira', 'cierto', 'huye', 'negra', 'Este', 'oscuro', 'ansias', 'dios', 'sepulcro', 'débil', 'inmensa', 'Lo', 'suspira', 'están', 'Mientras', 'dejar', 'visto', 'odio', 'amoroso', 'otras', 'tener', 'sacro', 'bueno', 'Esta', 'rumor', 'ausencia', 'guarda', 'espacio', 'Sin', 'vela', 'prado', 'llano', 'torpe', 'presencia', 'curso', 'extraño', 'leve', 'ocaso', 'gusto', 'firmamento', 'dueño', 'cuello', 'goza', 'suspiro', 'pecado', 'Cómo', 'ejemplo', 'lugar', 'ensueño', 'noches', 'advierte', 'Cual', 'estaba', 'Muerte', 'valiente', 'enamorado', 'viendo', 'modo', 'voces', 'verdes', 'oído', 'vana', 'vacío', 'ilusiones', 'gigante', 'gloriosa', 'muerta', 'montes', 'pompa', 'cubre', 'despojos', 'pensar', 'nace', 'Aunque', 'eternamente', 'mudanza', 'estado', 'naturaleza', 'sonora', 'tormenta', 'enemigo', 'horror', 'último', 'inerte', 'cáliz', 'locura', 'ángel', 'buena', 'cadena', 'calor', 'queja', 'engaño', 'astros', 'estar', 'musa', 'dejó', 'premio', 'rama', 'gracias', 'valle', 'dando', 'acero', 'crece', 'dan', 'oriente', 'haber', 'brillante', 'canción', 'misterio', 'orilla', 'pienso', 'ausente', 'esclavo', 'ilustre', 'amar', 'celos', 'vierte', 'sereno', 'libro', 'das', 'alza', 'dentro', 'vago', 'lejano', 'culto', 'púrpura', 'roca', 'fondo', 'hado', 'astro', 'brillo', 'aura', 'brío', 'niebla', 'Aquí', 'horizonte', 'perfume', 'cabello', 'rigores', 'tronco', 'región', 'vencido', 'gota', 'desengaño', 'encierra', 'Tal', 'Lope', 'estos', 'venganza', 'Isidro', 'roja', 'Ah', 'señor', 'enojos', 'esposa', 'luciente', 'pasar', 'Padre', 'ceniza', 'reposa', 'arde', 'sois', 'diste', 'misteriosa', 'música', 'Fue', 'propia', 'Bien', 'haciendo', 'conmigo', 'siglo', 'sentir', 'mísero', 'suena', 'querida', 'sale', 'ves', 'querido', 'vientos', 'miedo', 'altiva', 'mata', 'oculta', 'olvida', 'dónde', 'vieja', 'montaña', 'casi', 'cisne', 'laureles', 'rojos', 'quieres', 'Marte', 'corre', 'blancas', 'palabra', 'hijos', 'fulgores', 'cansado', 'toca', 'Soy', 'rompe', 'carro', 'trono', 'miserable', 'seguro', 'fuese', 'airado', 'soberana', 'ánimo', 'sagrada', 'puerta', 'abre', 'terrible', 'infierno', 'larga', 'baña', 'Patria', 'amorosa', 'entera', 'rocío', 'majestad', 'quietud', 'propio', 'Hay', 'cesar', 'cabellera', 'amargo', 'jornada', 'poderoso', 'tantas', 'Rey', 'venas', 'llorar', 'Fénix', 'fácil', 'secreto', 'oye', 'trueno', 'ensueños', 'haya', 'diamante', 'ribera', 'tierna', 'Musas', 'vas', 'Nunca', 'llamas', 'esos', 'pido', 'alumbra', 'voluntad', 'brazo', 'justicia', 'tributo', 'ufano', 'pasiones', 'amarga', 'envía', 'pesares', 'arroyo', 'dones', 'amo', 'buscando', 'cándida']\n",
      "[('de', 'la'), ('en', 'la'), ('en', 'el'), ('a', 'la'), ('y', 'el'), ('que', 'en'), ('de', 'su'), ('y', 'en'), ('de', 'mi'), ('que', 'el'), ('de', 'tu'), ('en', 'su'), ('y', 'de'), ('de', 'los'), ('de', 'un'), ('y', 'la'), ('de', 'las'), ('la', 'vida'), ('que', 'la'), ('en', 'tu'), ('a', 'su'), ('que', 'a'), ('el', 'alma'), ('en', 'mi'), ('lo', 'que'), ('y', 'al'), ('a', 'los'), ('que', 'no'), ('y', 'a'), ('en', 'las'), ('en', 'los'), ('a', 'tu'), ('el', 'cielo'), ('la', 'muerte'), ('de', 'una'), ('que', 'me'), ('el', 'sol'), ('que', 'al'), ('que', 'se'), ('de', 'amor'), ('el', 'mundo'), ('en', 'que'), ('a', 'mi'), ('por', 'el'), ('que', 'es'), ('la', 'tierra'), ('la', 'luz'), ('con', 'su'), ('de', 'tus'), ('con', 'la'), ('en', 'un'), ('la', 'noche'), ('que', 'te'), ('con', 'el'), ('que', 'de'), ('de', 'sus'), ('y', 'con'), ('por', 'la'), ('de', 'oro'), ('como', 'un'), ('a', 'las'), ('como', 'el'), ('y', 'que'), ('sobre', 'el'), ('en', 'sus'), ('y', 'no'), ('es', 'el'), ('el', 'mar'), ('y', 'su'), ('el', 'que'), ('a', 'quien'), ('más', 'que'), ('es', 'la'), ('de', 'mis'), ('el', 'corazón'), ('en', 'vano'), ('el', 'amor'), ('a', 'un'), ('al', 'fin'), ('en', 'tus'), ('con', 'que'), ('y', 'se'), ('no', 'es'), ('los', 'ojos'), ('mi', 'alma'), ('la', 'gloria'), ('el', 'viento'), ('en', 'ti'), ('y', 'tu'), ('mi', 'amor'), ('que', 'le'), ('mi', 'vida'), ('y', 'del'), ('el', 'dolor'), ('amor', 'y'), ('mi', 'corazón'), ('no', 'hay'), ('del', 'cielo'), ('tus', 'ojos'), ('la', 'que'), ('es', 'un'), ('ni', 'el'), ('un', 'día'), ('el', 'tiempo'), ('con', 'sus'), ('y', 'es'), ('que', 'con'), ('y', 'las'), ('del', 'mundo'), ('al', 'cielo'), ('y', 'los'), ('que', 'tu'), ('y', 'mi'), ('no', 'se'), ('luz', 'de'), ('con', 'tu'), ('y', 'por'), ('no', 'me'), ('Por', 'qué'), ('de', 'luz'), ('de', 'Dios'), ('que', 'por'), ('en', 'mis'), ('que', 'su'), ('la', 'sombra'), ('y', 'sin'), ('la', 'voz'), ('y', 'un'), ('a', 'ti'), ('bajo', 'el'), ('hasta', 'el'), ('a', 'sus'), ('ha', 'de'), ('como', 'una'), ('sobre', 'la'), ('el', 'día'), ('a', 'tus'), ('entre', 'las'), ('la', 'tarde'), ('que', 'si'), ('que', 'un'), ('de', 'que'), ('del', 'amor'), ('la', 'mano'), ('el', 'aire'), ('y', 'si'), ('del', 'alma'), ('el', 'bien'), ('las', 'flores'), ('la', 'frente'), ('que', 'mi'), ('cuando', 'el'), ('al', 'que'), ('a', 'Dios'), ('la', 'fe'), ('no', 'te'), ('al', 'mundo'), ('el', 'hombre'), ('y', 'me'), ('el', 'pecho'), ('en', 'lo'), ('ya', 'no'), ('el', 'suelo'), ('Y', 'en'), ('en', 'mí'), ('la', 'esperanza'), ('la', 'luna'), ('entre', 'el'), ('de', 'ser'), ('que', 'yo'), ('si', 'el'), ('tu', 'amor'), ('del', 'sol'), ('mi', 'pecho'), ('que', 'del'), ('los', 'que'), ('amor', 'que'), ('para', 'el'), ('de', 'aquel'), ('En', 'la'), ('vida', 'y'), ('de', 'lo'), ('por', 'los'), ('si', 'en'), ('bien', 'que'), ('la', 'memoria'), ('a', 'mis'), ('todo', 'el'), ('es', 'de'), ('como', 'la'), ('de', 'este'), ('en', 'tanto'), ('De', 'la'), ('el', 'fuego'), ('de', 'mí'), ('con', 'un'), ('y', 'te'), ('todos', 'los'), ('la', 'suerte'), ('de', 'ti'), ('En', 'el'), ('con', 'las'), ('que', 'los'), ('que', 'ha'), ('en', 'una'), ('y', 'más'), ('la', 'paz'), ('el', 'agua'), ('el', 'llanto'), ('a', 'lo'), ('y', 'sus'), ('por', 'qué'), ('en', 'ella'), ('la', 'aurora'), ('flor', 'de'), ('y', 'lo'), ('su', 'luz'), ('a', 'mí'), ('tu', 'frente'), ('para', 'que'), ('en', 'él'), ('tal', 'vez'), ('la', 'fama'), ('mis', 'ojos'), ('se', 'ha'), ('de', 'gloria'), ('de', 'esta'), ('la', 'virtud'), ('y', 'yo'), ('otra', 'vez'), ('tu', 'nombre'), ('por', 'las'), ('que', 'ya'), ('tu', 'alma'), ('la', 'patria'), ('por', 'ti'), ('si', 'no'), ('del', 'tiempo'), ('todo', 'lo'), ('con', 'los'), ('por', 'su'), ('sol', 'de'), ('son', 'de'), ('a', 'una'), ('tu', 'vida'), ('en', 'medio'), ('es', 'tu'), ('ante', 'el'), ('luz', 'que'), ('la', 'edad'), ('por', 'tu'), ('luz', 'del'), ('en', 'torno'), ('tú', 'que'), ('el', 'más'), ('si', 'es'), ('el', 'campo'), ('del', 'mar'), ('la', 'fuente'), ('los', 'cielos'), ('sol', 'que'), ('la', 'rosa'), ('en', 'este'), ('gloria', 'y'), ('la', 'sangre'), ('flores', 'y'), ('la', 'flor'), ('entre', 'la'), ('el', 'mal'), ('sus', 'ojos'), ('que', 'lo'), ('la', 'dulce'), ('y', 'una'), ('donde', 'el'), ('ni', 'la'), ('sin', 'que'), ('que', 'las'), ('como', 'en'), ('y', 'aunque'), ('con', 'mi'), ('que', 'fue'), ('he', 'de'), ('su', 'vida'), ('triste', 'y'), ('que', 'nos'), ('y', 'así'), ('por', 'mi'), ('oro', 'y'), ('desde', 'el'), ('de', 'fuego'), ('la', 'historia'), ('del', 'día'), ('ya', 'de'), ('su', 'frente'), ('a', 'ser'), ('a', 'veces'), ('Y', 'al'), ('tu', 'mano'), ('ya', 'que'), ('cielo', 'y'), ('los', 'hombres'), ('sé', 'que'), ('el', 'pensamiento'), ('el', 'vuelo'), ('que', 'nunca'), ('la', 'verdad'), ('es', 'que'), ('su', 'amor'), ('la', 'llama'), ('voz', 'de'), ('después', 'de'), ('al', 'ver'), ('entre', 'los'), ('al', 'viento'), ('No', 'es'), ('del', 'dolor'), ('su', 'voz'), ('la', 'más'), ('la', 'pena'), ('el', 'fruto'), ('ya', 'la'), ('la', 'hermosura'), ('un', 'tiempo'), ('Dios', 'que'), ('del', 'olvido'), ('el', 'camino'), ('aquel', 'que'), ('al', 'hombre'), ('si', 'la'), ('alma', 'de'), ('tanto', 'que'), ('la', 'mañana'), ('la', 'cumbre'), ('el', 'mismo'), ('y', 'aun'), ('no', 'ha'), ('fin', 'de'), ('la', 'envidia'), ('alma', 'mía'), ('gloria', 'de'), ('en', 'esta'), ('ha', 'sido'), ('de', 'dolor'), ('no', 'le'), ('mi', 'dolor'), ('que', 'tú'), ('es', 'su'), ('al', 'sol'), ('mi', 'bien'), ('y', 'como'), ('del', 'que'), ('bajo', 'la'), ('la', 'mar'), ('Y', 'el'), ('las', 'olas'), ('de', 'flores'), ('el', 'Sol'), ('corazón', 'de'), ('sombra', 'de'), ('amor', 'de'), ('la', 'mente'), ('luz', 'y'), ('ni', 'en'), ('es', 'más'), ('el', 'oro'), ('un', 'alma'), ('las', 'ondas'), ('y', 'hoy'), ('y', 'entre'), ('dulce', 'y'), ('la', 'razón'), ('es', 'mi'), ('el', 'rostro'), ('la', 'mujer'), ('las', 'almas'), ('que', 'una'), ('ser', 'de'), ('cuando', 'en'), ('no', 'más'), ('mar', 'de'), ('los', 'dos'), ('la', 'gente'), ('vida', 'que'), ('no', 'la'), ('vez', 'de'), ('tu', 'corazón'), ('no', 'sé'), ('y', 'otro'), ('la', 'nieve'), ('los', 'campos'), ('como', 'a'), ('si', 'a'), ('contra', 'el'), ('cuando', 'la'), ('la', 'nada'), ('el', 'rayo'), ('Mas', 'si'), ('y', 'cuando'), ('que', 'os'), ('y', 'tan'), ('al', 'alma'), ('en', 'vez'), ('la', 'mirada'), ('el', 'nombre'), ('y', 'mis'), ('es', 'una'), ('las', 'horas'), ('yo', 'te'), ('más', 'de'), ('por', 'ser'), ('junto', 'a'), ('un', 'beso'), ('no', 'lo'), ('Y', 'si'), ('las', 'sombras'), ('la', 'fortuna'), ('la', 'brisa'), ('ya', 'en'), ('hasta', 'la'), ('amor', 'en'), ('todas', 'las'), ('que', 'hoy'), ('del', 'corazón'), ('ojos', 'y'), ('medio', 'de'), ('dolor', 'y'), ('tus', 'labios'), ('la', 'ilusión'), ('tras', 'la'), ('toda', 'la'), ('el', 'bosque'), ('vida', 'de'), ('la', 'victoria'), ('y', 'pura'), ('tu', 'voz'), ('me', 'ha'), ('por', 'un'), ('la', 'faz'), ('y', 'tú'), ('en', 'todo'), ('el', 'río'), ('o', 'de'), ('de', 'nieve'), ('el', 'eco'), ('las', 'nubes'), ('el', 'cuerpo'), ('hasta', 'que'), ('el', 'silencio'), ('a', 'que'), ('sangre', 'de'), ('si', 'de'), ('las', 'manos'), ('tu', 'boca'), ('pues', 'no'), ('de', 'España'), ('la', 'cruz'), ('sin', 'cesar'), ('hacia', 'el'), ('el', 'dulce'), ('porque', 'el'), ('tan', 'sólo'), ('pues', 'que'), ('lo', 'más'), ('Tú', 'que'), ('amor', 'la'), ('la', 'selva'), ('y', 'ya'), ('tu', 'luz'), ('de', 'amores'), ('de', 'nuestra'), ('tiempo', 'que'), ('alma', 'y'), ('el', 'gran'), ('al', 'mar'), ('un', 'mundo'), ('tus', 'pies'), ('mi', 'frente'), ('mundo', 'en'), ('vida', 'en'), ('rayo', 'de'), ('la', 'dicha'), ('la', 'blanca'), ('llena', 'de'), ('de', 'plata'), ('y', 'le'), ('tu', 'mirada'), ('la', 'cabeza'), ('Y', 'así'), ('el', 'azul'), ('la', 'vista'), ('día', 'y'), ('la', 'senda'), ('mi', 'espíritu'), ('campos', 'de'), ('su', 'mano'), ('Si', 'el'), ('cielo', 'de'), ('de', 'alegría'), ('ojos', 'de'), ('la', 'alegría'), ('para', 'mí'), ('que', 'he'), ('las', 'aguas'), ('su', 'gloria'), ('la', 'lira'), ('alma', 'en'), ('mas', 'no'), ('los', 'astros'), ('un', 'instante'), ('alma', 'que'), ('del', 'mal'), ('la', 'imagen'), ('a', 'todos'), ('al', 'corazón'), ('los', 'años'), ('los', 'mares'), ('ya', 'el'), ('el', 'seno'), ('se', 'le'), ('el', 'de'), ('lo', 'mismo'), ('el', 'canto'), ('No', 'hay'), ('el', 'placer'), ('y', 'triste'), ('tu', 'hermosura'), ('de', 'nuevo'), ('pura', 'y'), ('o', 'el'), ('por', 'quien'), ('por', 'más'), ('allá', 'en'), ('la', 'alta'), ('que', 'siempre'), ('en', 'fin'), ('la', 'eterna'), ('uno', 'y'), ('mi', 'ser'), ('tierra', 'y'), ('y', 'hasta'), ('que', 'está'), ('de', 'sí'), ('porque', 'en'), ('la', 'divina'), ('la', 'montaña'), ('las', 'estrellas'), ('su', 'pecho'), ('vida', 'el'), ('de', 'quien'), ('el', 'alba'), ('su', 'boca'), ('es', 'tan'), ('y', 'amor'), ('el', 'olvido'), ('de', 'tal'), ('la', 'libertad'), ('el', 'ave'), ('tu', 'pecho'), ('el', 'orbe'), ('las', 'aves'), ('en', 'cada'), ('las', 'cosas'), ('azul', 'de'), ('mismo', 'que'), ('Mas', 'ay'), ('porque', 'es'), ('de', 'todo'), ('se', 'levanta'), ('fuego', 'que'), ('la', 'copa'), ('ver', 'que'), ('para', 'siempre'), ('yo', 'no'), ('y', 'tus'), ('que', 'más'), ('Y', 'es'), ('noche', 'oscura'), ('el', 'sueño'), ('que', 'son'), ('la', 'hermosa'), ('corazón', 'que'), ('la', 'tumba'), ('lleno', 'de'), ('yo', 'que'), ('sin', 'fin'), ('en', 'paz'), ('al', 'son'), ('sobre', 'las'), ('el', 'pueblo'), ('las', 'alas'), ('tu', 'memoria'), ('A', 'la'), ('mi', 'mal'), ('una', 'mujer'), ('el', 'monte'), ('cielo', 'en'), ('que', 'hay'), ('mi', 'mente'), ('las', 'rosas'), ('el', 'alto'), ('la', 'hora'), ('de', 'paz'), ('paz', 'y'), ('la', 'espada'), ('está', 'en'), ('que', 'todo'), ('de', 'sol'), ('voz', 'del'), ('el', 'fin'), ('mal', 'que'), ('voz', 'que'), ('y', 'fuerte'), ('o', 'en'), ('la', 'herida'), ('si', 'al'), ('la', 'ley'), ('la', 'pasión'), ('la', 'Muerte'), ('la', 'misma'), ('tu', 'belleza'), ('que', 'aun'), ('oro', 'de'), ('a', 'ver'), ('la', 'lucha'), ('un', 'corazón'), ('del', 'viento'), ('de', 'vida'), ('una', 'vez'), ('cuanto', 'más'), ('eco', 'de'), ('un', 'gran'), ('la', 'existencia'), ('la', 'altura'), ('corazón', 'y'), ('llama', 'que'), ('dolor', 'que'), ('ay', 'que'), ('la', 'de'), ('su', 'muerte'), ('un', 'rayo'), ('el', 'mármol'), ('la', 'conciencia'), ('parece', 'que'), ('mundo', 'y'), ('la', 'idea'), ('que', 'para'), ('noche', 'de'), ('tu', 'gloria'), ('de', 'rosas'), ('un', 'momento'), ('su', 'nombre'), ('mar', 'y'), ('de', 'cristal'), ('el', 'manto'), ('horas', 'de'), ('la', 'Cruz'), ('el', 'destino'), ('tus', 'manos'), ('de', 'estrellas'), ('tu', 'cuerpo'), ('y', 'todo'), ('color', 'de'), ('sus', 'lágrimas'), ('de', 'aquella'), ('en', 'donde'), ('beso', 'de'), ('Si', 'en'), ('Y', 'a'), ('ni', 'de'), ('por', 'fin'), ('la', 'ciencia'), ('fulgor', 'de'), ('mía', 'que'), ('está', 'el'), ('su', 'hermosura'), ('todo', 'es'), ('del', 'bien'), ('soplo', 'de'), ('desde', 'la'), ('ser', 'que'), ('tan', 'grande'), ('cual', 'la'), ('un', 'sol'), ('no', 'en'), ('en', 'pos'), ('ni', 'un'), ('Yo', 'soy'), ('dolor', 'de'), ('al', 'pie'), ('el', 'arte'), ('mujer', 'que'), ('en', 'tan'), ('de', 'Madrid'), ('en', 'vida'), ('la', 'tormenta'), ('sólo', 'en'), ('mi', 'suerte'), ('la', 'belleza'), ('que', 'aunque'), ('su', 'alma'), ('la', 'corriente'), ('frente', 'y'), ('de', 'mil'), ('Y', 'la'), ('que', 'va'), ('te', 'ha'), ('no', 'puedo'), ('sol', 'en'), ('día', 'en'), ('la', 'lluvia'), ('te', 'adoro'), ('mi', 'pena'), ('a', 'pesar'), ('la', 'tristeza'), ('sus', 'labios'), ('el', 'claro'), ('tu', 'muerte'), ('en', 'flor'), ('se', 'aleja'), ('imagen', 'de'), ('una', 'flor'), ('de', 'repente'), ('fe', 'de'), ('lágrimas', 'el'), ('de', 'muerte'), ('la', 'humana'), ('la', 'fiera'), ('que', 'hace'), ('el', 'otro'), ('la', 'calma'), ('hay', 'en'), ('que', 'tiene'), ('el', 'ambiente'), ('donde', 'la'), ('día', 'que'), ('mi', 'pasión'), ('del', 'hombre'), ('la', 'esfera'), ('En', 'vano'), ('que', 'ni'), ('Yo', 'no'), ('qué', 'me'), ('se', 'me'), ('su', 'cuerpo'), ('me', 'parece'), ('la', 'ciudad'), ('el', 'Cielo'), ('que', 'sólo'), ('Dios', 'y'), ('sol', 'y'), ('Y', 'cuando'), ('pena', 'y'), ('noche', 'y'), ('mundo', 'de'), ('un', 'solo'), ('pesar', 'de'), ('la', 'palma'), ('los', 'labios'), ('la', 'madre'), ('amor', 'es'), ('tiempo', 'y'), ('el', 'paso'), ('y', 'él'), ('muerte', 'y'), ('mi', 'pensamiento'), ('a', 'través'), ('amor', 'el'), ('el', 'abismo'), ('lejos', 'de'), ('la', 'playa'), ('el', 'cristal'), ('al', 'morir'), ('mi', 'esperanza'), ('con', 'ella'), ('del', 'Sol'), ('un', 'hombre'), ('Hoy', 'que'), ('la', 'armonía'), ('cielo', 'que'), ('su', 'memoria'), ('un', 'cielo'), ('siempre', 'en'), ('ojos', 'que'), ('ti', 'se'), ('es', 'ya'), ('fuego', 'de'), ('al', 'suelo'), ('hermosura', 'y'), ('por', 'lo'), ('y', 'ella'), ('con', 'tus'), ('que', 'tanto'), ('Es', 'un'), ('mis', 'versos'), ('No', 'te'), ('el', 'templo'), ('no', 'puede'), ('lo', 'lejos'), ('cual', 'si'), ('ni', 'a'), ('el', 'valor'), ('tu', 'rostro'), ('tu', 'seno'), ('Es', 'la'), ('y', 'frío'), ('fue', 'de'), ('la', 'pradera'), ('ha', 'dado'), ('vida', 'es'), ('de', 'tan'), ('que', 'sus'), ('el', 'ser'), ('tú', 'eres'), ('en', 'tal'), ('aquí', 'sus'), ('han', 'de'), ('sol', 'la'), ('qué', 'no'), ('Mas', 'no'), ('quien', 'el'), ('una', 'estrella'), ('al', 'punto'), ('de', 'todos'), ('tu', 'dulce'), ('la', 'vez'), ('que', 'como'), ('luz', 'en'), ('de', 'placer'), ('se', 've'), ('las', 'penas'), ('suelo', 'y'), ('con', 'tal'), ('el', 'aura'), ('se', 'estremece'), ('su', 'mirada'), ('donde', 'se'), ('la', 'guerra'), ('tiempo', 'de'), ('te', 'he'), ('un', 'soneto'), ('y', 'fría'), ('has', 'de'), ('al', 'amor'), ('azul', 'del'), ('de', 'sangre'), ('que', 'era'), ('un', 'nuevo'), ('Y', 'aunque'), ('que', 'sin'), ('por', 'no'), ('mi', 'llanto'), ('pie', 'de'), ('cuando', 'a'), ('sueños', 'de'), ('los', 'vientos'), ('más', 'allá'), ('para', 'ti'), ('los', 'brazos'), ('la', 'orilla'), ('través', 'de'), ('Los', 'campos'), ('Madrid', 'Isidro'), ('Isidro', 'santo'), ('sembrando', 'aquí'), ('con', 'mis'), ('de', 'él'), ('las', 'dos'), ('sobre', 'su'), ('sin', 'segundo'), ('mi', 'triste'), ('de', 'ella'), ('la', 'mayor'), ('Y', 'de'), ('en', 'quien'), ('he', 'visto'), ('ya', 'se'), ('a', 'vos'), ('por', 'siempre'), ('siempre', 'el'), ('mí', 'que'), ('sus', 'rayos'), ('el', 'fulgor'), ('con', 'él'), ('el', 'desierto'), ('alas', 'de'), ('medio', 'del'), ('seno', 'de'), ('de', 'morir'), ('el', 'sentimiento'), ('llama', 'de'), ('los', 'siglos'), ('antes', 'que'), ('de', 'pasión'), ('la', 'Virgen'), ('de', 'esa'), ('eres', 'la'), ('al', 'verte'), ('fuego', 'y'), ('como', 'si'), ('el', 'triste'), ('los', 'amores'), ('y', 'siempre'), ('si', 'te'), ('la', 'fuerza'), ('de', 'virtud'), ('de', 'Cristo'), ('mis', 'males'), ('hay', 'un'), ('los', 'montes'), ('el', 'árbol'), ('Sobre', 'el'), ('mi', 'ventura'), ('Dios', 'en'), ('como', 'tú'), ('del', 'camino'), ('la', 'niebla'), ('De', 'tu'), ('la', 'mía'), ('que', 'amor'), ('y', 'gloria'), ('rumor', 'de'), ('el', 'pobre'), ('de', 'nuestro'), ('vida', 'la'), ('los', 'mortales'), ('Es', 'el'), ('el', 'uno'), ('y', 'sólo'), ('la', 'ribera'), ('su', 'faz'), ('el', 'recuerdo'), ('si', 'me'), ('las', 'plantas'), ('de', 'rosa'), ('porque', 'no'), ('el', 'primer'), ('del', 'suelo'), ('alma', 'del'), ('un', 'sueño'), ('poder', 'de'), ('gracia', 'y'), ('son', 'los'), ('su', 'rostro'), ('el', 'último'), ('cuando', 'al'), ('tú', 'de'), ('la', 'espesura'), ('día', 'de'), ('vida', 'a'), ('sólo', 'el'), ('la', 'región'), ('y', 'luz'), ('vez', 'en'), ('sombras', 'de'), ('sueño', 'de'), ('le', 'da'), ('y', 'sobre'), ('ni', 'al'), ('tiempo', 'en'), ('la', 'negra'), ('hermosa', 'y'), ('que', 'hasta'), ('su', 'fama'), ('el', 'altar'), ('del', 'pecho'), ('de', 'ese'), ('fue', 'el'), ('Ya', 'no'), ('es', 'lo'), ('por', 'eso'), ('el', 'peso'), ('que', 'jamás'), ('las', 'Musas'), ('con', 'amor'), ('los', 'aires'), ('de', 'otro'), ('la', 'espuma'), ('los', 'pies'), ('el', 'beso'), ('labios', 'de'), ('mi', 'memoria'), ('el', 'hado'), ('su', 'espíritu'), ('a', 'todo'), ('de', 'ventura'), ('de', 'más'), ('da', 'la'), ('un', 'amor'), ('mi', 'cuerpo'), ('cielo', 'se'), ('ante', 'la'), ('la', 'nube'), ('al', 'aire'), ('la', 'primera'), ('virtud', 'y'), ('Que', 'si'), ('Por', 'el'), ('mis', 'brazos'), ('que', 'Dios'), ('su', 'seno')]\n"
     ]
    }
   ],
   "source": [
    "# unigram and bigrams (just to check these out)\n",
    "unigrams, bigrams = features.get_top_n_vocab(df_train['content'], n=1000)\n",
    "print(unigrams)\n",
    "print(bigrams)"
   ]
  },
  {
   "cell_type": "code",
   "execution_count": 19,
   "id": "a184f396",
   "metadata": {},
   "outputs": [],
   "source": [
    "reload(features);"
   ]
  },
  {
   "cell_type": "code",
   "execution_count": 53,
   "id": "62608e9f",
   "metadata": {},
   "outputs": [
    {
     "name": "stdout",
     "output_type": "stream",
     "text": [
      "[0.02365287618612987, 0.036037715838459376, 0.024732910667101284, 0.037173165405216306, 0.050271477680536504, 0.012570995831923715, 0.04507850503755797, 0.018213466961545688, 0.01747164487950464, 0.035772233432933474, 0.0, 0.022782397288660487, 0.03649856520305132, 0.0, 0.0, 0.04074116755804655, 0.04246851570945095, 0.0, 0.0, 0.0, 0.026778323003825297, 0.0, 0.0, 0.0, 0.0, 0.0, 0.0281240820259581, 0.025779089136242987, 0.027397393919603795, 0.0, 0.0, 0.0, 0.0, 0.0, 0.0, 0.0, 0.030871886699752455, 0.0299424030659486, 0.0, 0.0, 0.0, 0.0, 0.0, 0.0, 0.0, 0.0, 0.0, 0.0, 0.0, 0.0, 0.0, 0.0, 0.0, 0.0, 0.0, 0.0, 0.0, 0.0, 0.0, 0.0, 0.0, 0.0, 0.03673832451851364, 0.0, 0.0, 0.0, 0.0, 0.0, 0.0, 0.0, 0.0, 0.0, 0.0, 0.0, 0.0, 0.0, 0.0, 0.0, 0.0, 0.0, 0.0, 0.0, 0.039087629740822694, 0.0, 0.0, 0.0, 0.0, 0.0, 0.0, 0.0, 0.0, 0.040739716631904135, 0.0, 0.0, 0.0, 0.0, 0.0, 0.0, 0.0, 0.03781082718172574, 0.0, 0.0, 0.0, 0.0, 0.0, 0.0, 0.0, 0.04184249012318385, 0.0, 0.0, 0.0, 0.0, 0.04293003008151545, 0.0, 0.0, 0.0, 0.0, 0.04192258977049527, 0.0, 0.04467996228331633, 0.0, 0.0, 0.04319631811923423, 0.0, 0.0, 0.0, 0.0, 0.0, 0.0, 0.0, 0.0, 0.0, 0.0, 0.0, 0.0, 0.0, 0.0, 0.0, 0.0, 0.0, 0.0, 0.0, 0.0, 0.0, 0.0, 0.0, 0.0, 0.0, 0.0, 0.0, 0.0, 0.0, 0.0, 0.0, 0.0, 0.0, 0.0, 0.0, 0.0, 0.0, 0.0, 0.0, 0.0, 0.0, 0.0, 0.0, 0.0, 0.0, 0.0, 0.0, 0.0, 0.0, 0.0, 0.04711782107788673, 0.0, 0.0, 0.0, 0.0, 0.0, 0.0, 0.0, 0.0, 0.0, 0.0, 0.0, 0.04859865868527717, 0.0, 0.0, 0.0, 0.0, 0.0, 0.0, 0.0, 0.0, 0.0, 0.0, 0.0, 0.0, 0.0, 0.0, 0.0, 0.0, 0.0, 0.0, 0.0, 0.0, 0.0, 0.0, 0.0, 0.0, 0.0, 0.0, 0.0, 0.0, 0.0, 0.0, 0.0, 0.0, 0.0, 0.0, 0.0, 0.0, 0.0, 0.0, 0.0, 0.0, 0.0, 0.0, 0.0, 0.0, 0.0, 0.0, 0.0, 0.04790182395175492, 0.0, 0.0, 0.04988979874244866, 0.0, 0.0, 0.0, 0.0, 0.0, 0.0, 0.0, 0.0, 0.0, 0.0, 0.0, 0.0, 0.0, 0.0, 0.0, 0.0, 0.0, 0.0, 0.0, 0.0, 0.0, 0.0, 0.0, 0.0, 0.0, 0.0, 0.0, 0.0, 0.0, 0.0, 0.0, 0.0, 0.0, 0.0, 0.0, 0.0, 0.0, 0.0, 0.0, 0.0, 0.0, 0.0, 0.0, 0.0, 0.0, 0.0, 0.0, 0.0, 0.0, 0.0, 0.0, 0.0, 0.0, 0.0, 0.0, 0.0, 0.0, 0.0, 0.0, 0.0524949272696373, 0.0, 0.0, 0.0, 0.0, 0.0, 0.0, 0.0, 0.0, 0.0, 0.0, 0.0, 0.0, 0.053550186456454804, 0.0, 0.0, 0.0, 0.0, 0.0, 0.0, 0.0, 0.0, 0.0, 0.0, 0.0, 0.0, 0.0, 0.0, 0.0, 0.0, 0.0, 0.0, 0.0, 0.0, 0.0, 0.0, 0.0, 0.0, 0.0, 0.0, 0.0, 0.0, 0.0, 0.0, 0.0, 0.0, 0.0, 0.0, 0.0, 0.0, 0.0, 0.0, 0.0, 0.0, 0.0, 0.0, 0.0, 0.0, 0.0, 0.0, 0.0, 0.0, 0.0, 0.0, 0.0, 0.0, 0.0, 0.0, 0.0, 0.0, 0.0, 0.0, 0.0, 0.0, 0.0, 0.0, 0.0, 0.0, 0.0, 0.0, 0.0, 0.0, 0.0, 0.0, 0.0, 0.0, 0.0, 0.0, 0.0, 0.0, 0.0, 0.0, 0.0, 0.0, 0.0, 0.0, 0.0, 0.0, 0.0, 0.0, 0.0, 0.0, 0.0, 0.0, 0.0, 0.0, 0.0, 0.0, 0.0, 0.0, 0.0, 0.0, 0.0, 0.0, 0.0, 0.0, 0.0, 0.0, 0.0, 0.0, 0.0, 0.0, 0.0, 0.0, 0.0, 0.0, 0.0, 0.0, 0.0, 0.0, 0.0, 0.0, 0.0, 0.0, 0.0, 0.0, 0.0, 0.0, 0.0, 0.0, 0.0, 0.0, 0.0, 0.0, 0.0, 0.0, 0.0, 0.0, 0.0, 0.0, 0.0, 0.0, 0.0, 0.0, 0.0, 0.0, 0.0, 0.0, 0.0, 0.0, 0.0, 0.0, 0.0, 0.0, 0.0, 0.0, 0.0, 0.0, 0.0, 0.0, 0.0, 0.0, 0.0, 0.0, 0.0, 0.0, 0.0, 0.0, 0.0, 0.0, 0.0, 0.0570051919425202, 0.0, 0.0, 0.0, 0.0, 0.0, 0.0, 0.0, 0.0, 0.0, 0.0, 0.0, 0.0, 0.0, 0.0, 0.0, 0.0, 0.0, 0.0, 0.0, 0.0, 0.0, 0.0, 0.0, 0.0, 0.0, 0.0, 0.0, 0.0, 0.0, 0.0, 0.0, 0.0, 0.0, 0.0, 0.0, 0.0, 0.05810071125061588, 0.0, 0.0, 0.0, 0.0, 0.0, 0.0, 0.0, 0.0, 0.0, 0.0, 0.0, 0.0, 0.0, 0.0, 0.0, 0.0, 0.0, 0.0, 0.0, 0.0, 0.0, 0.0, 0.0, 0.0, 0.0, 0.0, 0.0, 0.0, 0.0, 0.0, 0.0, 0.0, 0.0, 0.0, 0.0, 0.0, 0.0, 0.0, 0.0, 0.0, 0.0, 0.0, 0.0, 0.0, 0.0, 0.0, 0.0, 0.0, 0.0, 0.0, 0.0, 0.0, 0.0, 0.0, 0.0, 0.0, 0.0, 0.0, 0.0, 0.0, 0.0, 0.0, 0.0, 0.0, 0.0, 0.0, 0.0, 0.0, 0.0, 0.0, 0.0, 0.0, 0.0, 0.05860418967197672, 0.0, 0.0, 0.0, 0.0, 0.0, 0.0, 0.0, 0.0, 0.0, 0.0, 0.0, 0.0, 0.0, 0.0, 0.0, 0.0, 0.0, 0.0, 0.0, 0.0, 0.0, 0.0, 0.0, 0.0, 0.0, 0.0, 0.0, 0.0, 0.0, 0.0, 0.0, 0.059495663629975284, 0.0, 0.0, 0.0, 0.0, 0.0, 0.0, 0.0, 0.0, 0.0, 0.0, 0.0, 0.0, 0.0, 0.0, 0.0, 0.0, 0.0, 0.0, 0.0, 0.0, 0.059682566168731375, 0.059682566168731375, 0.0, 0.0, 0.0, 0.0, 0.0, 0.0, 0.0, 0.0, 0.0, 0.0, 0.0, 0.0, 0.0, 0.0, 0.0, 0.0, 0.0, 0.0, 0.0, 0.0, 0.0, 0.0, 0.0, 0.0, 0.0, 0.0, 0.0, 0.0, 0.0, 0.0, 0.0, 0.0, 0.0, 0.0, 0.0, 0.0, 0.0, 0.0, 0.12348118363514057, 0.0, 0.0, 0.0, 0.0, 0.0, 0.0, 0.0, 0.0, 0.0, 0.0, 0.0, 0.0, 0.0, 0.0, 0.0, 0.0, 0.0, 0.0, 0.0, 0.0, 0.0, 0.0, 0.0, 0.0, 0.0, 0.0, 0.0, 0.0, 0.0, 0.0, 0.0, 0.0, 0.0, 0.0, 0.0, 0.0, 0.0, 0.0, 0.0, 0.0, 0.0, 0.0, 0.0, 0.0, 0.0, 0.0, 0.0, 0.0, 0.0, 0.0, 0.0, 0.0, 0.0, 0.0, 0.0, 0.0, 0.0, 0.0, 0.0, 0.0, 0.0, 0.0, 0.0, 0.0, 0.0, 0.0, 0.0, 0.0, 0.0, 0.0, 0.0, 0.0, 0.0, 0.0, 0.0, 0.0, 0.0, 0.0, 0.0, 0.0, 0.0, 0.0, 0.0, 0.0, 0.0, 0.0, 0.0, 0.0, 0.0, 0.0, 0.0, 0.0, 0.0, 0.0, 0.0, 0.0, 0.0, 0.0, 0.0, 0.0, 0.0, 0.0, 0.0, 0.0, 0.0, 0.0, 0.0, 0.0, 0.0, 0.0, 0.0, 0.0619682082232735, 0.06220042324991166, 0.06220042324991166, 0.0, 0.0, 0.0, 0.0, 0.0, 0.0, 0.0, 0.0, 0.0, 0.0, 0.0, 0.0, 0.0, 0.0, 0.0, 0.0, 0.0, 0.0, 0.0, 0.0, 0.0, 0.0, 0.0, 0.0, 0.0, 0.0, 0.0, 0.0, 0.0, 0.0, 0.0, 0.0, 0.0, 0.0, 0.0, 0.0, 0.0, 0.0, 0.0, 0.0, 0.0, 0.0, 0.0, 0.0, 0.0, 0.0, 0.0, 0.0, 0.0, 0.0, 0.0, 0.0, 0.0, 0.0, 0.0, 0.0, 0.0, 0.0, 0.0, 0.0, 0.0, 0.0, 0.0, 0.0, 0.0, 0.0, 0.0, 0.0, 0.0, 0.0, 0.0, 0.0, 0.0, 0.0, 0.0, 0.0, 0.0, 0.0, 0.0, 0.0, 0.0, 0.0, 0.0, 0.0, 0.0, 0.0, 0.0, 0.0, 0.0, 0.0, 0.0, 0.0, 0.0, 0.0, 0.0, 0.0, 0.0, 0.0, 0.0, 0.0, 0.0, 0.0, 0.0, 0.0, 0.0, 0.0, 0.0, 0.0, 0.0, 0.0, 0.0, 0.0, 0.0, 0.0, 0.0, 0.0, 0.0, 0.0, 0.0, 0.0, 0.0, 0.0, 0.0, 0.0, 0.0, 0.0, 0.0, 0.0, 0.0, 0.0, 0.0, 0.0, 0.0, 0.0, 0.0, 0.0, 0.0, 0.0, 0.0, 0.0, 0.0, 0.0, 0.0, 0.0, 0.0, 0.0, 0.0, 0.0, 0.0, 0.0, 0.0, 0.0, 0.0, 0.0, 0.0, 0.0, 0.0, 0.0, 0.0, 0.0, 0.0, 0.0, 0.0, 0.0, 0.0, 0.0, 0.0, 0.0, 0.0, 0.0, 0.0, 0.0, 0.0, 0.0, 0.0, 0.0, 0.0, 0.0, 0.0, 0.0, 0.0, 0.0, 0.0, 0.0, 0.0, 0.0, 0.0, 0.0, 0.0, 0.0, 0.0, 0.0, 0.0, 0.0, 0.0, 0.0, 0.0, 0.0, 0.0, 0.0, 0.0, 0.0, 0.0, 0.0, 0.04518960808985555, 0.0, 0.0, 0.0, 0.0, 0.0, 0.0, 0.0, 0.0, 0.0, 0.0, 0.0, 0.0, 0.0, 0.0, 0.0, 0.0, 0.0, 0.0, 0.0, 0.0, 0.0, 0.0, 0.0, 0.0, 0.0, 0.0, 0.0, 0.0, 0.0, 0.0, 0.0, 0.0, 0.042781855984483745, 0.0, 0.0, 0.0, 0.0, 0.0, 0.0, 0.0, 0.0, 0.0, 0.0, 0.0, 0.0, 0.0, 0.0, 0.0, 0.0, 0.0, 0.0, 0.0, 0.0, 0.0, 0.0, 0.0, 0.0, 0.0, 0.0, 0.0, 0.0, 0.0, 0.0, 0.0, 0.0, 0.0, 0.0, 0.0, 0.0, 0.0, 0.0, 0.0, 0.0, 0.0, 0.0, 0.0, 0.0, 0.0, 0.0, 0.0, 0.0, 0.0, 0.0, 0.0, 0.0, 0.0, 0.0, 0.0, 0.0, 0.0, 0.0, 0.0, 0.0, 0.0, 0.0, 0.0, 0.0, 0.0, 0.0, 0.0, 0.0, 0.0, 0.0, 0.0, 0.0, 0.0, 0.05320778258303024, 0.0, 0.0, 0.0, 0.0, 0.0, 0.0, 0.0, 0.0, 0.0, 0.0, 0.0, 0.0, 0.0, 0.0, 0.0, 0.0, 0.0, 0.0, 0.0, 0.0, 0.0, 0.0, 0.0, 0.0, 0.0, 0.0, 0.0, 0.0, 0.0, 0.0, 0.0, 0.0, 0.0, 0.0, 0.0, 0.0, 0.0, 0.0, 0.0, 0.0, 0.0, 0.0, 0.0, 0.0, 0.0, 0.0, 0.0, 0.0, 0.0, 0.0, 0.0, 0.0, 0.0, 0.0, 0.0, 0.0, 0.0, 0.0, 0.0, 0.0, 0.0, 0.0, 0.0, 0.0, 0.0, 0.0, 0.0, 0.0, 0.0, 0.0, 0.0, 0.0, 0.0, 0.0, 0.0, 0.0, 0.0, 0.0, 0.0, 0.0, 0.0, 0.0, 0.0, 0.0, 0.0, 0.05844873257949866, 0.0, 0.0, 0.0, 0.0, 0.0, 0.0, 0.0, 0.0, 0.0, 0.0, 0.0, 0.0, 0.0, 0.0, 0.0, 0.0, 0.0, 0.0, 0.0, 0.0, 0.0, 0.0, 0.0, 0.0, 0.0, 0.05861136330013517, 0.0, 0.0, 0.0, 0.0, 0.0, 0.0, 0.0, 0.0, 0.0, 0.0, 0.0, 0.0, 0.0, 0.0, 0.0, 0.0, 0.0, 0.0, 0.0, 0.0, 0.0, 0.0, 0.0, 0.0, 0.0, 0.0, 0.0, 0.0, 0.0, 0.0, 0.0, 0.0, 0.0, 0.0, 0.0, 0.0, 0.0, 0.0, 0.0, 0.0, 0.0, 0.0, 0.0, 0.0, 0.0, 0.0, 0.0, 0.0, 0.0, 0.0, 0.0, 0.0, 0.0, 0.0, 0.0, 0.0, 0.0, 0.0, 0.0, 0.06245850567591413, 0.0, 0.0, 0.0, 0.0, 0.0, 0.0, 0.0, 0.0, 0.0, 0.0, 0.0, 0.0, 0.0, 0.0, 0.0, 0.0, 0.0, 0.0, 0.0, 0.0, 0.0, 0.0, 0.0, 0.0, 0.0, 0.0, 0.0, 0.0, 0.0, 0.0, 0.06158051087930779, 0.0, 0.0, 0.0, 0.0, 0.0, 0.0, 0.0, 0.0, 0.0, 0.0, 0.0, 0.0, 0.0, 0.0, 0.0, 0.0, 0.0, 0.0, 0.0, 0.0, 0.0, 0.0, 0.0, 0.0, 0.0, 0.0, 0.0, 0.0, 0.0, 0.0, 0.0, 0.0, 0.0, 0.0, 0.0, 0.0, 0.0, 0.0, 0.0, 0.0, 0.0, 0.0, 0.0, 0.0, 0.0, 0.0, 0.0, 0.0, 0.0, 0.0, 0.0, 0.0, 0.0, 0.0, 0.0, 0.0, 0.0, 0.0, 0.0, 0.0, 0.0, 0.0, 0.0, 0.0, 0.0, 0.0, 0.0, 0.0, 0.0, 0.0, 0.0, 0.0, 0.0, 0.0, 0.0, 0.0, 0.0, 0.0, 0.0, 0.0, 0.0, 0.0, 0.0, 0.0, 0.0, 0.0, 0.0, 0.0, 0.0, 0.0, 0.0, 0.0, 0.0, 0.0, 0.0, 0.0, 0.0, 0.0, 0.0, 0.0, 0.0, 0.0, 0.0, 0.0, 0.0, 0.0, 0.0, 0.0, 0.0, 0.0, 0.0, 0.0, 0.0, 0.0, 0.0, 0.0, 0.0, 0.0, 0.0, 0.0, 0.0, 0.0, 0.0, 0.0, 0.0, 0.0, 0.0, 0.0, 0.0, 0.0, 0.0, 0.0, 0.06557785435724761, 0.0, 0.0, 0.0, 0.0, 0.0, 0.0, 0.0, 0.0, 0.0, 0.0, 0.0, 0.0, 0.0, 0.0, 0.0, 0.0, 0.0, 0.0, 0.0, 0.0, 0.0, 0.0, 0.0, 0.0, 0.0, 0.0, 0.0, 0.0, 0.0, 0.0, 0.0, 0.0, 0.0, 0.0, 0.0, 0.0, 0.0, 0.0, 0.0, 0.0, 0.0, 0.0, 0.0, 0.0, 0.0, 0.0, 0.0, 0.0, 0.0, 0.0, 0.0, 0.0, 0.0, 0.0, 0.0, 0.0, 0.0, 0.0, 0.0, 0.0, 0.0, 0.0, 0.0, 0.0, 0.0, 0.0, 0.0, 0.0, 0.0, 0.0, 0.0, 0.0, 0.0, 0.0, 0.0, 0.0, 0.0, 0.0, 0.0, 0.0, 0.0, 0.0, 0.0, 0.0, 0.0, 0.0, 0.0, 0.0, 0.0, 0.0, 0.0, 0.0, 0.0, 0.0, 0.0, 0.0, 0.0, 0.0, 0.0, 0.0, 0.0, 0.0, 0.0, 0.0, 0.0, 0.0, 0.0, 0.0, 0.0, 0.0, 0.0, 0.0, 0.0, 0.0, 0.0, 0.0, 0.0, 0.0, 0.0, 0.0, 0.0, 0.0, 0.0, 0.0, 0.06752034371379605, 0.0, 0.0, 0.0, 0.0, 0.0, 0.0, 0.0, 0.0, 0.0, 0.0, 0.0, 0.0, 0.0, 0.0, 0.0, 0.0, 0.0, 0.0, 0.0, 0.0, 0.0, 0.0, 0.0, 0.0, 0.0, 0.0, 0.0, 0.0, 0.0, 0.0, 0.0, 0.0, 0.0, 0.0, 0.0, 0.0, 0.0, 0.0, 0.0, 0.0, 0.0, 0.0, 0.0, 0.0, 0.0, 0.0, 0.0, 0.0, 0.0, 0.0, 0.0, 0.0, 0.0, 0.0, 0.0, 0.0, 0.0, 0.0, 0.0, 0.0, 0.06902280570774962, 0.0, 0.0, 0.0, 0.0, 0.0, 0.0, 0.0, 0.0, 0.0, 0.0, 0.0, 0.0, 0.0, 0.0, 0.0, 0.0, 0.0, 0.0, 0.0, 0.0, 0.0, 0.0, 0.0, 0.0, 0.0, 0.0, 0.0, 0.0, 0.0, 0.0, 0.0, 0.0, 0.0, 0.0, 0.0, 0.0, 0.0, 0.0, 0.0, 0.0, 0.0, 0.0, 0.0, 0.0, 0.0, 0.0, 0.0, 0.0, 0.0, 0.0, 0.0, 0.0, 0.0, 0.0, 0.0, 0.0, 0.0, 0.0, 0.0, 0.0, 0.0, 0.0, 0.0, 0.0, 0.0, 0.0, 0.0, 0.0, 0.06787815369829318, 0.0, 0.0, 0.0, 0.0, 0.0, 0.0, 0.0, 0.0, 0.0, 0.0, 0.0, 0.0, 0.0, 0.0, 0.0, 0.0, 0.0, 0.0, 0.0, 0.0, 0.0, 0.0, 0.0, 0.0, 0.0, 0.0, 0.0, 0.0, 0.0, 0.0, 0.0, 0.0, 0.0, 0.0, 0.0, 0.0, 0.0, 0.0, 0.0, 0.0, 0.0, 0.0, 0.0, 0.0, 0.0, 0.0, 0.0, 0.0, 0.0, 0.0, 0.0, 0.0, 0.0, 0.0, 0.0, 0.0, 0.0, 0.0, 0.0, 0.0, 0.0, 0.0, 0.0, 0.0, 0.0, 0.0, 0.0, 0.0, 0.0, 0.0, 0.0, 0.0, 0.0698537238935885, 0.0, 0.0, 0.0, 0.0, 0.0, 0.0, 0.0, 0.0, 0.0, 0.0, 0.0, 0.0, 0.0, 0.0, 0.0, 0.0, 0.0, 0.0, 0.0, 0.0, 0.0, 0.0, 0.0, 0.0, 0.0, 0.0, 0.0, 0.0, 0.0, 0.0, 0.0, 0.0, 0.0, 0.0, 0.0, 0.0, 0.0, 0.0, 0.0, 0.0, 0.0, 0.0, 0.0, 0.0, 0.0, 0.0, 0.0, 0.0, 0.0, 0.0, 0.0, 0.0, 0.0, 0.0, 0.0, 0.0, 0.0, 0.0, 0.0, 0.0, 0.0, 0.0, 0.0, 0.0, 0.0, 0.0, 0.0, 0.0, 0.0, 0.0, 0.0, 0.0, 0.0, 0.0, 0.0, 0.0, 0.0, 0.0, 0.0, 0.0, 0.0, 0.0, 0.0, 0.0, 0.0, 0.0, 0.0, 0.0, 0.0, 0.0, 0.0, 0.0, 0.0, 0.0, 0.0, 0.0, 0.0, 0.07074861972075279, 0.0, 0.0, 0.0, 0.0, 0.0, 0.0, 0.0, 0.0, 0.0, 0.0, 0.0, 0.0, 0.0, 0.0, 0.0, 0.0, 0.0, 0.0, 0.0, 0.0, 0.0, 0.0, 0.0, 0.0, 0.0, 0.0, 0.0, 0.0, 0.0, 0.0, 0.0, 0.0, 0.0, 0.0, 0.0, 0.0, 0.0, 0.0, 0.0, 0.0, 0.0, 0.0, 0.0, 0.0, 0.0, 0.0, 0.0, 0.0, 0.0, 0.0, 0.0, 0.0, 0.0, 0.0, 0.0, 0.0, 0.0, 0.0, 0.0, 0.0, 0.0, 0.0, 0.0, 0.0, 0.0, 0.0, 0.0, 0.0, 0.0, 0.0, 0.0, 0.0, 0.0, 0.0, 0.0, 0.0, 0.0, 0.0, 0.0, 0.0, 0.0, 0.0, 0.0, 0.0, 0.0, 0.0, 0.0, 0.0, 0.0, 0.0, 0.0, 0.0, 0.0, 0.0, 0.0, 0.0, 0.0, 0.0, 0.0, 0.0, 0.0, 0.0, 0.0, 0.07223505427319332, 0.0, 0.0, 0.0, 0.0, 0.0, 0.0, 0.0, 0.0, 0.0, 0.0, 0.0, 0.0, 0.0, 0.0, 0.0, 0.0, 0.0, 0.0, 0.0, 0.0, 0.0, 0.0, 0.0, 0.0, 0.0, 0.0]\n"
     ]
    }
   ],
   "source": [
    "out_vect, uni_vocab, bi_vocab, tf_uni, tf_bi, idf_uni, idf_bi = features.get_tfidf_vocab(df_train['content'], n = 1000)\n",
    "input = torch.Tensor(out_vect)\n",
    "print(out_vect[0])"
   ]
  },
  {
   "cell_type": "code",
   "execution_count": 54,
   "id": "b4aac4fb",
   "metadata": {},
   "outputs": [
    {
     "data": {
      "text/plain": [
       "'\\ninput = []\\ncounter = 0\\ntotal = df_train.count()[\\'content\\']\\nremove = []\\nfor text in df_train[\\'content\\']:\\n    bow = features.text_to_bag_of_words(text, unigrams, bigrams)\\n    try:\\n        prosodic = features.features_for_sonnet(text).values()\\n    except Exception as e:\\n        # just throw the row away\\n        print(f\"Error occurred: {e}\")\\n        remove.append(text)\\n        continue\\n    input.append(list(bow) + list(prosodic))\\n    if counter % 1000 == 0:\\n        print(f\"Constructing feature vector {counter}/{total}\")\\n    counter += 1\\nfor text in remove: # get rid of bad input\\n    df_train = df_train[df_train[\\'content\\'] != text]\\n'"
      ]
     },
     "execution_count": 54,
     "metadata": {},
     "output_type": "execute_result"
    }
   ],
   "source": [
    "# compute ngram and prosodic features\n",
    "# N x D\n",
    "\"\"\"\n",
    "input = []\n",
    "counter = 0\n",
    "total = df_train.count()['content']\n",
    "remove = []\n",
    "for text in df_train['content']:\n",
    "    bow = features.text_to_bag_of_words(text, unigrams, bigrams)\n",
    "    try:\n",
    "        prosodic = features.features_for_sonnet(text).values()\n",
    "    except Exception as e:\n",
    "        # just throw the row away\n",
    "        print(f\"Error occurred: {e}\")\n",
    "        remove.append(text)\n",
    "        continue\n",
    "    input.append(list(bow) + list(prosodic))\n",
    "    if counter % 1000 == 0:\n",
    "        print(f\"Constructing feature vector {counter}/{total}\")\n",
    "    counter += 1\n",
    "for text in remove: # get rid of bad input\n",
    "    df_train = df_train[df_train['content'] != text]\n",
    "\"\"\"\n"
   ]
  },
  {
   "cell_type": "code",
   "execution_count": 55,
   "id": "d241dade",
   "metadata": {},
   "outputs": [
    {
     "name": "stdout",
     "output_type": "stream",
     "text": [
      "torch.Size([4036, 2000])\n",
      "torch.Size([4036])\n"
     ]
    }
   ],
   "source": [
    "input_arr = torch.Tensor(input)\n",
    "\n",
    "label_arr = torch.Tensor(df_train['gender'].values)\n",
    "\n",
    "print(input_arr.shape)\n",
    "print(label_arr.shape)"
   ]
  },
  {
   "cell_type": "markdown",
   "id": "8c138f86",
   "metadata": {},
   "source": [
    "Create SVM model."
   ]
  },
  {
   "cell_type": "code",
   "execution_count": 56,
   "id": "e421f8a3",
   "metadata": {},
   "outputs": [],
   "source": [
    "reload(svm_classifier);"
   ]
  },
  {
   "cell_type": "code",
   "execution_count": 58,
   "id": "0a48c13e",
   "metadata": {},
   "outputs": [
    {
     "name": "stdout",
     "output_type": "stream",
     "text": [
      "Epoch 0: Hinge Loss is 1.004929542541504\n",
      "Train accuracy: 0.236\n",
      "Epoch 1: Hinge Loss is 0.9897453784942627\n",
      "Train accuracy: 0.896\n",
      "Epoch 2: Hinge Loss is 0.9745612740516663\n",
      "Train accuracy: 0.932\n",
      "Epoch 3: Hinge Loss is 0.959377110004425\n",
      "Train accuracy: 0.932\n",
      "Epoch 4: Hinge Loss is 0.9441930651664734\n",
      "Train accuracy: 0.932\n"
     ]
    }
   ],
   "source": [
    "\n",
    "model = svm_classifier.MulticlassSVM(input_arr.shape[1], 2)\n",
    "optimizer = torch.optim.SGD(model.parameters(), lr=0.01, weight_decay=1e-4)\n",
    "\n",
    "epochs = 5\n",
    "\n",
    "for epoch in range(epochs):\n",
    "    outputs = model(input_arr)\n",
    "    loss = model.hinge_loss(outputs.float(), label_arr.long())\n",
    "    print(f'Epoch {epoch}: Hinge Loss is {loss.item()}')\n",
    "    with torch.no_grad():\n",
    "        predictions = torch.argmax(outputs, dim=1)\n",
    "        correct = (predictions == label_arr).sum().item()\n",
    "        print(f'Train accuracy: {correct / label_arr.size(0):.3f}')\n",
    "\n",
    "    optimizer.zero_grad()\n",
    "    loss.backward()\n",
    "    optimizer.step()"
   ]
  },
  {
   "cell_type": "markdown",
   "id": "3e5b0ca9",
   "metadata": {},
   "source": [
    "Evaluate on test set"
   ]
  },
  {
   "cell_type": "code",
   "execution_count": 59,
   "id": "caa85f45",
   "metadata": {},
   "outputs": [
    {
     "data": {
      "text/plain": [
       "'\\ninput_test = []\\ncounter = 0\\ntotal_test = df_test.count()[\\'content\\']\\nremove_test = []\\nfor text in df_test[\\'content\\']:\\n    bow = features.text_to_bag_of_words(text, unigrams, bigrams)\\n    try:\\n        prosodic = features.features_for_sonnet(text).values()\\n    except Exception as e:\\n        # just throw the row away\\n        print(f\"Error occurred: {e}\")\\n        remove_test.append(text)\\n        continue\\n    input_test.append(list(bow) + list(prosodic))\\n    if counter % 1000 == 0:\\n        print(f\"Constructing feature vector {counter}/{total_test}\")\\n    counter += 1\\nfor text in remove_test: # get rid of bad input\\n    df_test = df_test[df_test[\\'content\\'] != text]\\ninput_arr_test = torch.Tensor(input_test)\\nlabel_arr_test = torch.Tensor(df_test[\\'gender\\'].values)\\n'"
      ]
     },
     "execution_count": 59,
     "metadata": {},
     "output_type": "execute_result"
    }
   ],
   "source": [
    "# compute ngram and prosodic features\n",
    "# for test set\n",
    "\"\"\"\n",
    "input_test = []\n",
    "counter = 0\n",
    "total_test = df_test.count()['content']\n",
    "remove_test = []\n",
    "for text in df_test['content']:\n",
    "    bow = features.text_to_bag_of_words(text, unigrams, bigrams)\n",
    "    try:\n",
    "        prosodic = features.features_for_sonnet(text).values()\n",
    "    except Exception as e:\n",
    "        # just throw the row away\n",
    "        print(f\"Error occurred: {e}\")\n",
    "        remove_test.append(text)\n",
    "        continue\n",
    "    input_test.append(list(bow) + list(prosodic))\n",
    "    if counter % 1000 == 0:\n",
    "        print(f\"Constructing feature vector {counter}/{total_test}\")\n",
    "    counter += 1\n",
    "for text in remove_test: # get rid of bad input\n",
    "    df_test = df_test[df_test['content'] != text]\n",
    "input_arr_test = torch.Tensor(input_test)\n",
    "label_arr_test = torch.Tensor(df_test['gender'].values)\n",
    "\"\"\""
   ]
  },
  {
   "cell_type": "code",
   "execution_count": 60,
   "id": "05d6f8f3",
   "metadata": {},
   "outputs": [
    {
     "name": "stdout",
     "output_type": "stream",
     "text": [
      "torch.Size([447, 2000])\n",
      "torch.Size([447])\n"
     ]
    }
   ],
   "source": [
    "# just tfidf bow\n",
    "# vars for ref: uni_vocab, bi_vocab, tf_uni, tf_bi, idf_uni, idf_bi\n",
    "input_arr_test = torch.Tensor([features.get_tfidf_test(text, uni_vocab, bi_vocab, tf_uni, tf_bi, idf_uni, idf_bi) for text in df_test['content']])\n",
    "    \n",
    "label_arr_test = torch.Tensor(df_test['gender'].values)\n",
    "print(input_arr_test.shape)\n",
    "print(label_arr_test.shape)"
   ]
  },
  {
   "cell_type": "code",
   "execution_count": 61,
   "id": "f1bad47a",
   "metadata": {},
   "outputs": [
    {
     "name": "stdout",
     "output_type": "stream",
     "text": [
      "Test loss: 0.9285615682601929\n",
      "Test accuracy: 0.933\n"
     ]
    }
   ],
   "source": [
    "test_outputs = model(input_arr_test)\n",
    "test_loss = model.hinge_loss(test_outputs.float(), label_arr_test.long())\n",
    "print(f'Test loss: {test_loss.item()}')\n",
    "with torch.no_grad():\n",
    "    test_predictions = torch.argmax(test_outputs, dim=1)\n",
    "    test_correct = (test_predictions == label_arr_test).sum().item()\n",
    "    print(f'Test accuracy: {test_correct / label_arr_test.size(0):.3f}')"
   ]
  },
  {
   "cell_type": "markdown",
   "id": "1082cdc0",
   "metadata": {},
   "source": [
    "Is this any better than always predicting male?"
   ]
  },
  {
   "cell_type": "code",
   "execution_count": 62,
   "id": "e0114859",
   "metadata": {},
   "outputs": [
    {
     "name": "stdout",
     "output_type": "stream",
     "text": [
      "tensor([0, 0, 0, 0, 0, 0, 0, 0, 0, 0, 0, 0, 0, 0, 0, 0, 0, 0, 0, 0, 0, 0, 0, 0,\n",
      "        0, 0, 0, 0, 0, 0, 0, 0, 0, 0, 0, 0, 0, 0, 0, 0, 0, 0, 0, 0, 0, 0, 0, 0,\n",
      "        0, 0, 0, 0, 0, 0, 0, 0, 0, 0, 0, 0, 0, 0, 0, 0, 0, 0, 0, 0, 0, 0, 0, 0,\n",
      "        0, 0, 0, 0, 0, 0, 0, 0, 0, 0, 0, 0, 0, 0, 0, 0, 0, 0, 0, 0, 0, 0, 0, 0,\n",
      "        0, 0, 0, 0, 0, 0, 0, 0, 0, 0, 0, 0, 0, 0, 0, 0, 0, 0, 0, 0, 0, 0, 0, 0,\n",
      "        0, 0, 0, 0, 0, 0, 0, 0, 0, 0, 0, 0, 0, 0, 0, 0, 0, 0, 0, 0, 0, 0, 0, 0,\n",
      "        0, 0, 0, 0, 0, 0, 0, 0, 0, 0, 0, 0, 0, 0, 0, 0, 0, 0, 0, 0, 0, 0, 0, 0,\n",
      "        0, 0, 0, 0, 0, 0, 0, 0, 0, 0, 0, 0, 0, 0, 0, 0, 0, 0, 0, 0, 0, 0, 0, 0,\n",
      "        0, 0, 0, 0, 0, 0, 0, 0, 0, 0, 0, 0, 0, 0, 0, 0, 0, 0, 0, 0, 0, 0, 0, 0,\n",
      "        0, 0, 0, 0, 0, 0, 0, 0, 0, 0, 0, 0, 0, 0, 0, 0, 0, 0, 0, 0, 0, 0, 0, 0,\n",
      "        0, 0, 0, 0, 0, 0, 0, 0, 0, 0, 0, 0, 0, 0, 0, 0, 0, 0, 0, 0, 0, 0, 0, 0,\n",
      "        0, 0, 0, 0, 0, 0, 0, 0, 0, 0, 0, 0, 0, 0, 0, 0, 0, 0, 0, 0, 0, 0, 0, 0,\n",
      "        0, 0, 0, 0, 0, 0, 0, 0, 0, 0, 0, 0, 0, 0, 0, 0, 0, 0, 0, 0, 0, 0, 0, 0,\n",
      "        0, 0, 0, 0, 0, 0, 0, 0, 0, 0, 0, 0, 0, 0, 0, 0, 0, 0, 0, 0, 0, 0, 0, 0,\n",
      "        0, 0, 0, 0, 0, 0, 0, 0, 0, 0, 0, 0, 0, 0, 0, 0, 0, 0, 0, 0, 0, 0, 0, 0,\n",
      "        0, 0, 0, 0, 0, 0, 0, 0, 0, 0, 0, 0, 0, 0, 0, 0, 0, 0, 0, 0, 0, 0, 0, 0,\n",
      "        0, 0, 0, 0, 0, 0, 0, 0, 0, 0, 0, 0, 0, 0, 0, 0, 0, 0, 0, 0, 0, 0, 0, 0,\n",
      "        0, 0, 0, 0, 0, 0, 0, 0, 0, 0, 0, 0, 0, 0, 0, 0, 0, 0, 0, 0, 0, 0, 0, 0,\n",
      "        0, 0, 0, 0, 0, 0, 0, 0, 0, 0, 0, 0, 0, 0, 0])\n",
      "tensor([0., 0., 0., 0., 0., 0., 0., 0., 0., 1., 0., 0., 0., 0., 0., 0., 0., 0.,\n",
      "        0., 0., 0., 0., 0., 1., 0., 0., 0., 0., 0., 1., 0., 0., 0., 0., 0., 0.,\n",
      "        0., 0., 0., 0., 0., 1., 0., 0., 0., 0., 0., 0., 0., 0., 0., 0., 0., 0.,\n",
      "        0., 0., 0., 0., 0., 0., 0., 0., 0., 0., 0., 0., 0., 1., 0., 0., 0., 0.,\n",
      "        0., 0., 0., 0., 0., 0., 0., 0., 0., 0., 0., 0., 1., 0., 0., 0., 0., 0.,\n",
      "        0., 0., 0., 0., 0., 0., 0., 0., 0., 0., 0., 0., 0., 0., 0., 0., 0., 0.,\n",
      "        1., 0., 0., 0., 0., 0., 0., 0., 0., 0., 0., 0., 0., 0., 0., 0., 1., 0.,\n",
      "        1., 0., 0., 0., 0., 0., 0., 0., 0., 0., 0., 0., 0., 0., 0., 0., 0., 0.,\n",
      "        1., 0., 0., 0., 0., 0., 0., 0., 0., 0., 0., 0., 0., 0., 1., 0., 0., 0.,\n",
      "        0., 0., 0., 0., 0., 0., 0., 0., 0., 0., 0., 0., 0., 0., 1., 0., 0., 0.,\n",
      "        0., 0., 0., 0., 1., 0., 1., 0., 1., 0., 0., 0., 0., 0., 0., 0., 0., 0.,\n",
      "        0., 0., 0., 0., 0., 0., 0., 0., 0., 0., 0., 0., 0., 0., 0., 0., 0., 0.,\n",
      "        0., 0., 0., 0., 0., 0., 0., 0., 0., 0., 0., 0., 0., 0., 0., 0., 0., 0.,\n",
      "        0., 0., 0., 1., 0., 0., 0., 0., 0., 0., 0., 0., 0., 0., 0., 0., 0., 0.,\n",
      "        0., 0., 0., 1., 0., 0., 0., 0., 0., 1., 0., 0., 0., 0., 0., 0., 0., 0.,\n",
      "        0., 0., 0., 0., 0., 0., 0., 0., 0., 1., 0., 0., 0., 1., 0., 0., 0., 0.,\n",
      "        0., 0., 0., 0., 0., 0., 0., 0., 0., 0., 0., 0., 0., 0., 0., 0., 0., 0.,\n",
      "        0., 0., 0., 0., 0., 0., 0., 0., 0., 0., 0., 0., 0., 0., 0., 0., 0., 1.,\n",
      "        0., 0., 0., 0., 0., 0., 0., 0., 0., 1., 0., 0., 0., 0., 0., 0., 0., 0.,\n",
      "        0., 1., 0., 0., 0., 0., 0., 0., 0., 0., 0., 0., 0., 0., 0., 0., 0., 0.,\n",
      "        0., 0., 0., 0., 0., 0., 0., 0., 0., 0., 0., 0., 0., 0., 0., 0., 0., 0.,\n",
      "        0., 0., 0., 1., 0., 0., 1., 0., 0., 0., 0., 0., 1., 0., 0., 0., 1., 0.,\n",
      "        0., 0., 0., 0., 0., 0., 0., 0., 0., 0., 0., 0., 1., 0., 1., 0., 0., 1.,\n",
      "        0., 0., 0., 0., 0., 0., 0., 0., 0., 0., 0., 0., 0., 0., 0., 0., 0., 0.,\n",
      "        0., 0., 0., 0., 0., 0., 0., 0., 0., 0., 0., 0., 0., 0., 0.])\n",
      "Test accuracy: 0.933\n"
     ]
    }
   ],
   "source": [
    "print(test_predictions)\n",
    "print(label_arr_test)\n",
    "alwaysM = (label_arr_test == torch.zeros(label_arr_test.shape)).sum().item()\n",
    "print(f'Test accuracy: {alwaysM / label_arr_test.size(0):.3f}')\n",
    "# Answer: no, not really. It always predicts male anyways :o"
   ]
  }
 ],
 "metadata": {
  "kernelspec": {
   "display_name": "py311",
   "language": "python",
   "name": "python3"
  },
  "language_info": {
   "codemirror_mode": {
    "name": "ipython",
    "version": 3
   },
   "file_extension": ".py",
   "mimetype": "text/x-python",
   "name": "python",
   "nbconvert_exporter": "python",
   "pygments_lexer": "ipython3",
   "version": "3.11.11"
  }
 },
 "nbformat": 4,
 "nbformat_minor": 5
}
