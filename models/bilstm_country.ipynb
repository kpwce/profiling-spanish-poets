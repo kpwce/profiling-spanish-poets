{
 "cells": [
  {
   "cell_type": "markdown",
   "id": "2876e2c3",
   "metadata": {},
   "source": [
    "Bi-LSTM with attention classifier, for country"
   ]
  },
  {
   "cell_type": "code",
   "execution_count": 1,
   "id": "c01a1201",
   "metadata": {},
   "outputs": [
    {
     "name": "stderr",
     "output_type": "stream",
     "text": [
      "/Users/menga/opt/anaconda3/envs/py311/lib/python3.11/site-packages/tqdm/auto.py:21: TqdmWarning: IProgress not found. Please update jupyter and ipywidgets. See https://ipywidgets.readthedocs.io/en/stable/user_install.html\n",
      "  from .autonotebook import tqdm as notebook_tqdm\n"
     ]
    }
   ],
   "source": [
    "import bilstm_classifier\n",
    "from format import *\n",
    "import features\n",
    "import torch\n",
    "import matplotlib.pyplot as plt\n",
    "import numpy as np\n",
    "from importlib import reload\n",
    "import re # tokenize\n",
    "%matplotlib inline"
   ]
  },
  {
   "cell_type": "markdown",
   "id": "06168c35",
   "metadata": {},
   "source": [
    "Get the training and test data."
   ]
  },
  {
   "cell_type": "code",
   "execution_count": 2,
   "id": "a8cce55c",
   "metadata": {},
   "outputs": [],
   "source": [
    "df_train, df_test = get_text_to_country_of_origin()\n",
    "df_train = df_train.where(df_train['content'].apply(lambda x: isinstance(x, str) and x.strip() != '')).dropna()\n",
    "\n",
    "df_test = df_test.where(df_test['content'].apply(lambda x: isinstance(x, str) and x.strip() != '')).dropna()\n",
    "\n",
    "countries = get_countries()\n",
    "countries_map = {countries[i] : i for i in range(len(countries))}\n",
    "\n",
    "df_train['country-birth'] = df_train['country-birth'].map(countries_map)\n",
    "df_train = df_train.dropna(subset=['country-birth'])\n",
    "\n",
    "df_test['country-birth'] = df_test['country-birth'].map(countries_map)\n",
    "df_test = df_test.dropna(subset=['country-birth'])\n",
    "\n",
    "df_train = df_train.dropna(subset=['rhyme'])\n",
    "df_train = df_train.dropna(subset=['met'])\n",
    "\n",
    "df_test = df_test.dropna(subset=['rhyme'])\n",
    "df_test = df_test.dropna(subset=['met'])"
   ]
  },
  {
   "cell_type": "markdown",
   "id": "c51d5bd3",
   "metadata": {},
   "source": [
    "Tokenize input"
   ]
  },
  {
   "cell_type": "code",
   "execution_count": 3,
   "id": "3d3c4691",
   "metadata": {},
   "outputs": [],
   "source": [
    "f_tokenize = lambda x: re.findall(r'\\b\\w+\\b', x.lower())\n",
    "train_tokens = df_train['content'].apply(f_tokenize)\n",
    "test_tokens = df_test['content'].apply(f_tokenize)"
   ]
  },
  {
   "cell_type": "code",
   "execution_count": 4,
   "id": "7ecf093b",
   "metadata": {},
   "outputs": [
    {
     "name": "stdout",
     "output_type": "stream",
     "text": [
      "0    [cuando, en, tus, aguas, límpidas, y, bellas, ...\n",
      "1    [fuiste, tú, roto, leño, audaz, navío, que, ar...\n",
      "2    [tu, bulto, mi, vidarte, amigo, lea, serena, l...\n",
      "3    [mezcla, un, poco, del, ácido, sulfúrico, con,...\n",
      "4    [huyes, qué, huyes, de, una, hircana, fiera, e...\n",
      "Name: content, dtype: object\n"
     ]
    }
   ],
   "source": [
    "print(train_tokens.head())"
   ]
  },
  {
   "cell_type": "markdown",
   "id": "c027e6ea",
   "metadata": {},
   "source": [
    "Create vocabulary (we can reuse the n-gram code). We can have |vocab| = 10k so that we can represent most of the words."
   ]
  },
  {
   "cell_type": "code",
   "execution_count": 5,
   "id": "6714116f",
   "metadata": {},
   "outputs": [],
   "source": [
    "vocab, _ = features.get_top_n_vocab(df_train['content'], n=10000)"
   ]
  },
  {
   "cell_type": "code",
   "execution_count": 6,
   "id": "76cef2b2",
   "metadata": {},
   "outputs": [
    {
     "name": "stdout",
     "output_type": "stream",
     "text": [
      "['de', 'y', 'la', 'el', 'que', 'en', 'a', 'su', 'del', 'al']\n",
      "10002\n",
      "10000\n",
      "10001\n"
     ]
    }
   ],
   "source": [
    "print(vocab[:10])\n",
    "vocab.append('<PAD>')\n",
    "vocab.append('<UNK>')\n",
    "print(len(vocab))\n",
    "\n",
    "word_to_ix = {word: idx for idx, word in enumerate(vocab)}\n",
    "PAD = word_to_ix['<PAD>']\n",
    "UNK = word_to_ix['<UNK>']\n",
    "print(PAD)\n",
    "print(UNK)"
   ]
  },
  {
   "cell_type": "code",
   "execution_count": 7,
   "id": "4b726836",
   "metadata": {},
   "outputs": [
    {
     "name": "stdout",
     "output_type": "stream",
     "text": [
      "  % Total    % Received % Xferd  Average Speed   Time    Time     Time  Current\n",
      "                                 Dload  Upload   Total   Spent    Left  Speed\n",
      "100   275  100   275    0     0    264      0  0:00:01  0:00:01 --:--:--   264\n"
     ]
    }
   ],
   "source": [
    "!curl -O http://dcc.uchile.cl/~jperez/word-embeddings/glove-sbwc.i25.vec.gz"
   ]
  },
  {
   "cell_type": "code",
   "execution_count": 8,
   "id": "2898a8ad",
   "metadata": {},
   "outputs": [],
   "source": [
    "reload(bilstm_classifier);\n",
    "from torch.nn.utils.rnn import pad_sequence\n",
    "word_embed = bilstm_classifier.build_embed_matrix(word_to_ix, 'glove-sbwc.i25.vec.gz', 300)"
   ]
  },
  {
   "cell_type": "code",
   "execution_count": 9,
   "id": "47fb2f75",
   "metadata": {},
   "outputs": [],
   "source": [
    "def collate(batch):\n",
    "    sequences, labels = zip(*batch)\n",
    "    lengths = torch.tensor([len(seq) for seq in sequences], dtype=torch.long)\n",
    "    padded_seqs = pad_sequence(sequences, batch_first=True, padding_value=PAD)\n",
    "    return padded_seqs, torch.stack(labels), lengths\n",
    "\n",
    "class TextData(torch.utils.data.Dataset):\n",
    "    def __init__(self, texts, labels, word_to_ix, unk_idx):\n",
    "        self.texts = texts  # list of token lists\n",
    "        self.labels = labels  # list of ints\n",
    "        self.word_to_ix = word_to_ix\n",
    "        self.unk_idx = unk_idx\n",
    "\n",
    "    def __len__(self):\n",
    "        return len(self.texts)\n",
    "\n",
    "    def __getitem__(self, idx):\n",
    "        tokens = self.texts[idx]\n",
    "        label = self.labels[idx]\n",
    "        indices = [self.word_to_ix.get(tok, self.unk_idx) for tok in tokens]\n",
    "        return torch.tensor(indices, dtype=torch.long), torch.tensor(label, dtype=torch.long)\n"
   ]
  },
  {
   "cell_type": "code",
   "execution_count": 10,
   "id": "1f86507b",
   "metadata": {},
   "outputs": [],
   "source": [
    "#train_indices = train_tokens.apply(lambda tokens: [word_to_ix.get(tok, UNK) for tok in tokens])\n",
    "train_dataset = TextData(train_tokens.tolist(), df_train['country-birth'].tolist(), word_to_ix, UNK)\n",
    "\n",
    "train_loader = torch.utils.data.DataLoader(train_dataset, batch_size=32, shuffle=True, collate_fn=collate)"
   ]
  },
  {
   "cell_type": "code",
   "execution_count": 11,
   "id": "beec7375",
   "metadata": {},
   "outputs": [
    {
     "name": "stdout",
     "output_type": "stream",
     "text": [
      "Training accuracy: 0.5925\n",
      "Epoch 1: loss = 1.7236\n",
      "Training accuracy: 0.6161\n",
      "Epoch 2: loss = 1.2410\n",
      "Training accuracy: 0.6635\n",
      "Epoch 3: loss = 0.6435\n",
      "Training accuracy: 0.7280\n",
      "Epoch 4: loss = 0.6220\n",
      "Training accuracy: 0.7788\n",
      "Epoch 5: loss = 0.6925\n"
     ]
    }
   ],
   "source": [
    "model = bilstm_classifier.BiLSTM(\n",
    "    vocab_size=len(word_to_ix),\n",
    "    embedding_dim=300,\n",
    "    hidden_dim=128,\n",
    "    num_classes=len(countries_map),\n",
    "    pad_idx=PAD,\n",
    "    embeddings=word_embed\n",
    ")\n",
    "\n",
    "criterion = torch.nn.CrossEntropyLoss()\n",
    "optimizer = torch.optim.Adam(model.parameters(), lr=1e-3)\n",
    "\n",
    "# train\n",
    "for epoch in range(5):\n",
    "    model.train()\n",
    "    correct = total = 0\n",
    "    for input, labels, lengths in train_loader:\n",
    "        optimizer.zero_grad()\n",
    "        outputs = model(input, lengths)\n",
    "        loss = criterion(outputs, labels)\n",
    "        loss.backward()\n",
    "        optimizer.step()\n",
    "        _, predicted = torch.max(outputs, dim=1)\n",
    "        correct += (predicted == labels).sum().item()\n",
    "        total += labels.size(0)\n",
    "\n",
    "    train_accuracy = correct / total\n",
    "    print(f\"Training accuracy: {train_accuracy:.4f}\")\n",
    "    print(f\"Epoch {epoch+1}: loss = {loss.item():.4f}\")"
   ]
  },
  {
   "cell_type": "markdown",
   "id": "d3d3831a",
   "metadata": {},
   "source": [
    "Try eval on test set!"
   ]
  },
  {
   "cell_type": "code",
   "execution_count": 12,
   "id": "ddb12684",
   "metadata": {},
   "outputs": [
    {
     "name": "stdout",
     "output_type": "stream",
     "text": [
      "tensor([1, 1, 1, 2, 2, 2, 2, 2, 1, 2, 1, 2, 2, 2, 1, 2, 2, 1, 2, 1, 1, 2, 1, 2,\n",
      "        2, 0, 1, 1, 2, 2, 0, 2])\n",
      "tensor([1, 1, 2, 2, 1, 2, 2, 1, 2, 1, 2, 2, 2, 0, 1, 2, 1, 2, 1, 2, 2, 2, 1, 1,\n",
      "        2, 1, 1, 2, 1, 2, 1, 1])\n",
      "tensor([1, 2, 2, 1, 0, 1, 2, 2, 2, 2, 1, 2, 2, 2, 2, 2, 2, 1, 1, 2, 2, 2, 1, 2,\n",
      "        2, 2, 2, 1, 2, 1, 1, 2])\n",
      "tensor([0, 2, 2, 1, 2, 2, 1, 1, 2, 2, 2, 2, 0, 2, 2, 2, 1, 2, 2, 2, 2, 0, 1, 2,\n",
      "        2, 2, 2, 2, 2, 2, 2, 2])\n",
      "tensor([2, 1, 2, 2, 2, 2, 2, 2, 2, 1, 2, 2, 2, 2, 2, 1, 2, 2, 1, 2, 2, 2, 2, 2,\n",
      "        1, 2, 1, 2, 1, 2, 2, 1])\n",
      "tensor([2, 2, 2, 1, 1, 2, 1, 2, 0, 2, 1, 2, 2, 2, 1, 1, 2, 2, 2, 2, 2, 1, 1, 2,\n",
      "        2, 2, 2, 2, 0, 2, 2, 2])\n",
      "tensor([2, 2, 1, 2, 2, 2, 2, 1, 2, 1, 2, 2, 2, 1, 2, 2, 2, 1, 1, 1, 2, 2, 2, 1,\n",
      "        2, 2, 1, 2, 2, 2, 2, 2])\n",
      "tensor([2, 1, 2, 2, 2, 2, 1, 2, 2, 2, 2, 2, 1, 2, 2, 2, 2, 2, 1, 2, 2, 2, 1, 2,\n",
      "        1, 1, 2, 2, 2, 2, 2, 2])\n",
      "tensor([2, 2, 1, 0, 1, 1, 2, 2, 2, 2, 2, 2, 2, 1, 2, 2, 2, 2, 2, 2, 1, 2, 2, 2,\n",
      "        2, 2, 1, 1, 2, 2, 2, 2])\n",
      "tensor([2, 2, 2, 2, 2, 2, 2, 2, 2, 1, 2, 2, 2, 2, 2, 1, 1, 2, 2, 2, 2, 2, 2, 2,\n",
      "        1, 2, 1, 2, 2, 2, 2, 2])\n",
      "tensor([2, 1, 1, 2, 1, 2, 2, 1, 2, 2, 2, 2, 2, 2, 1, 2, 0, 0, 2, 2, 1, 2, 2, 1,\n",
      "        2, 0, 2, 1, 0, 2, 1, 2])\n",
      "tensor([2, 2, 1, 2, 2, 0, 1, 1, 2, 1, 2, 2, 2, 1, 2, 2, 1, 0, 1, 2, 2, 2, 0, 2,\n",
      "        0, 2, 2, 2, 1, 2, 1, 2])\n",
      "tensor([1, 2, 2, 2, 1, 1])\n",
      "Final test accuracy: 0.6308\n"
     ]
    }
   ],
   "source": [
    "test_dataset = TextData(test_tokens.tolist(), df_test['country-birth'].tolist(), word_to_ix, UNK)\n",
    "\n",
    "test_loader = torch.utils.data.DataLoader(test_dataset, batch_size=32, shuffle=True, collate_fn=collate)\n",
    "model.eval()  # set to eval mode\n",
    "correct = total = 0\n",
    "with torch.no_grad():\n",
    "    for input, labels, lengths in test_loader:\n",
    "        optimizer.zero_grad()\n",
    "        outputs = model(input, lengths)\n",
    "        _, predicted = torch.max(outputs, dim=1)\n",
    "        correct += (predicted == labels).sum().item()\n",
    "        print(predicted) # is this another majority class issue?\n",
    "        total += labels.size(0)\n",
    "\n",
    "test_accuracy = correct / total\n",
    "print(f\"Final test accuracy: {test_accuracy:.4f}\")"
   ]
  },
  {
   "cell_type": "markdown",
   "id": "12521ef4",
   "metadata": {},
   "source": [
    "Let's try to weight loss to minimize auto-assigning to the majority class."
   ]
  },
  {
   "cell_type": "markdown",
   "id": "19495b43",
   "metadata": {},
   "source": [
    "This next block is for hyperparameter selection."
   ]
  },
  {
   "cell_type": "code",
   "execution_count": null,
   "id": "f9b35917",
   "metadata": {},
   "outputs": [],
   "source": [
    "# 4-fold cross validation (it was the easiest split when doing the stratified sampling logic)\n",
    "df_a, df_b = train_test_split(df_train, 'country-birth', test_size=0.5)\n",
    "df_1, df_2 = train_test_split(df_a, 'country-birth', test_size=0.5)\n",
    "df_3, df_4 = train_test_split(df_b, 'country-birth', test_size=0.5)\n",
    "\n",
    "folds = [df_1, df_2, df_3, df_4]\n",
    "\n",
    "lr = [1e-3, 5e-4, 1e-4]\n",
    "decay = [1e-2, 1e-3, 1e-4]\n",
    "\n",
    "for l in lr:\n",
    "    for d in decay:\n",
    "        print(f\"testing lr {l}, decay {d}\")\n",
    "        for i in range(len(folds)):\n",
    "            fold = folds[:i] + folds[i+1:]\n",
    "            test_fold = folds[i]\n",
    "            df_temp_train = pd.concat(fold, ignore_index=True)\n",
    "            train_tokens_fold = df_temp_train['content'].apply(f_tokenize)\n",
    "            test_tokens_fold = test_fold['content'].apply(f_tokenize)\n",
    "            train_fold_dataset = TextData(train_tokens_fold.tolist(), df_temp_train['country-birth'].tolist(), word_to_ix, UNK)\n",
    "            train_fold_loader = torch.utils.data.DataLoader(train_fold_dataset, batch_size=32, shuffle=True, collate_fn=collate)\n",
    "\n",
    "            model = bilstm_classifier.BiLSTM(\n",
    "                vocab_size=len(word_to_ix),\n",
    "                embedding_dim=300,\n",
    "                hidden_dim=128,\n",
    "                num_classes=len(countries_map),\n",
    "                pad_idx=PAD,\n",
    "                embeddings=word_embed\n",
    "            )\n",
    "\n",
    "            train_labs = df_temp_train['country-birth'].tolist()\n",
    "            class_count = np.bincount(train_labs, minlength=len(countries_map))\n",
    "\n",
    "            # normalized inverse class weight\n",
    "            class_weights = torch.Tensor(len(train_labs) / (len(countries_map) * class_count))\n",
    "            criterion = torch.nn.CrossEntropyLoss(weight=class_weights)\n",
    "            optimizer = torch.optim.Adam(model.parameters(), lr=l, weight_decay=d)\n",
    "\n",
    "            # train, for 3 epochs (for computational time sake)\n",
    "            for epoch in range(3):\n",
    "                model.train()\n",
    "                correct = total = 0\n",
    "                for input, labels, lengths in train_fold_loader:\n",
    "                    optimizer.zero_grad()\n",
    "                    outputs = model(input, lengths)\n",
    "                    loss = criterion(outputs, labels)\n",
    "                    loss.backward()\n",
    "                    optimizer.step()\n",
    "                    _, predicted = torch.max(outputs, dim=1)\n",
    "                    correct += (predicted == labels).sum().item()\n",
    "                    total += labels.size(0)\n",
    "\n",
    "                train_accuracy = correct / total\n",
    "                #print(f\"Training accuracy: {train_accuracy:.4f}\")\n",
    "                #print(f\"Epoch {epoch+1}: loss = {loss.item():.4f}\")\n",
    "            # go test!\n",
    "            test_dataset_fold = TextData(test_tokens_fold.tolist(), test_fold['country-birth'].tolist(), word_to_ix, UNK)\n",
    "            test_loader_fold = torch.utils.data.DataLoader(test_dataset_fold, batch_size=32, shuffle=True, collate_fn=collate)\n",
    "            \n",
    "            model.eval()  # set to eval mode\n",
    "            correct = total = 0\n",
    "            actuals = []\n",
    "            expected= []\n",
    "            with torch.no_grad():\n",
    "                for input, labels, lengths in test_loader_fold:\n",
    "                    optimizer.zero_grad()\n",
    "                    outputs = model(input, lengths)\n",
    "                    _, predicted = torch.max(outputs, dim=1)\n",
    "                    correct += (predicted == labels).sum().item()\n",
    "                    actuals.append(predicted)\n",
    "                    expected.append(labels)\n",
    "                    # print(predicted) # debugging\n",
    "                    total += labels.size(0)\n",
    "\n",
    "            test_accuracy = correct / total\n",
    "            print(f\"Final val accuracy for fold {i}: {test_accuracy:.4f}\")\n"
   ]
  },
  {
   "cell_type": "markdown",
   "id": "1f5cf5ee",
   "metadata": {},
   "source": [
    "Here's the best model!"
   ]
  },
  {
   "cell_type": "code",
   "execution_count": 40,
   "id": "c2e81a71",
   "metadata": {},
   "outputs": [
    {
     "name": "stdout",
     "output_type": "stream",
     "text": [
      "Training accuracy: 0.3169\n",
      "Epoch 1: loss = 1.6885\n",
      "Training accuracy: 0.3856\n",
      "Epoch 2: loss = 1.4818\n",
      "Training accuracy: 0.7640\n",
      "Epoch 3: loss = 0.1244\n",
      "Training accuracy: 0.9282\n",
      "Epoch 4: loss = 0.0393\n",
      "Training accuracy: 0.9868\n",
      "Epoch 5: loss = 0.0058\n"
     ]
    }
   ],
   "source": [
    "model = bilstm_classifier.BiLSTM(\n",
    "    vocab_size=len(word_to_ix),\n",
    "    embedding_dim=300,\n",
    "    hidden_dim=128,\n",
    "    num_classes=len(countries_map),\n",
    "    pad_idx=PAD,\n",
    "    embeddings=word_embed\n",
    ")\n",
    "\n",
    "#### This part is different: we use class weights\n",
    "train_labs = df_train['country-birth'].tolist()\n",
    "class_count = np.bincount(train_labs, minlength=len(countries_map))\n",
    "\n",
    "# normalized inverse class weight\n",
    "class_weights = torch.Tensor(len(train_labs) / (len(countries_map) * class_count))\n",
    "criterion = torch.nn.CrossEntropyLoss(weight=class_weights)\n",
    "optimizer = torch.optim.Adam(model.parameters(), lr=1e-2, weight_decay=1e-5)\n",
    "\n",
    "# train\n",
    "for epoch in range(5):\n",
    "    model.train()\n",
    "    correct = total = 0\n",
    "    for input, labels, lengths in train_loader:\n",
    "        optimizer.zero_grad()\n",
    "        outputs = model(input, lengths)\n",
    "        loss = criterion(outputs, labels)\n",
    "        loss.backward()\n",
    "        optimizer.step()\n",
    "        _, predicted = torch.max(outputs, dim=1)\n",
    "        correct += (predicted == labels).sum().item()\n",
    "        total += labels.size(0)\n",
    "\n",
    "    train_accuracy = correct / total\n",
    "    print(f\"Training accuracy: {train_accuracy:.4f}\")\n",
    "    print(f\"Epoch {epoch+1}: loss = {loss.item():.4f}\")"
   ]
  },
  {
   "cell_type": "code",
   "execution_count": 41,
   "id": "329e817b",
   "metadata": {},
   "outputs": [
    {
     "name": "stdout",
     "output_type": "stream",
     "text": [
      "Final test accuracy: 0.6077\n"
     ]
    }
   ],
   "source": [
    "# eval again\n",
    "test_dataset = TextData(test_tokens.tolist(), df_test['country-birth'].tolist(), word_to_ix, UNK)\n",
    "\n",
    "test_loader = torch.utils.data.DataLoader(test_dataset, batch_size=32, shuffle=True, collate_fn=collate)\n",
    "model.eval()  # set to eval mode\n",
    "correct = total = 0\n",
    "actuals = []\n",
    "expected= []\n",
    "with torch.no_grad():\n",
    "    for input, labels, lengths in test_loader:\n",
    "        optimizer.zero_grad()\n",
    "        outputs = model(input, lengths)\n",
    "        _, predicted = torch.max(outputs, dim=1)\n",
    "        correct += (predicted == labels).sum().item()\n",
    "        actuals.append(predicted)\n",
    "        expected.append(labels)\n",
    "        #print(predicted) # is this another majority class issue?\n",
    "        total += labels.size(0)\n",
    "\n",
    "test_accuracy = correct / total\n",
    "print(f\"Final test accuracy: {test_accuracy:.4f}\")"
   ]
  },
  {
   "cell_type": "code",
   "execution_count": 42,
   "id": "4ef0712f",
   "metadata": {},
   "outputs": [
    {
     "data": {
      "image/png": "[encoded data removed]",
      "text/plain": [
       "<Figure size 1000x1000 with 2 Axes>"
      ]
     },
     "metadata": {},
     "output_type": "display_data"
    }
   ],
   "source": [
    "# visualize the splits for errors\n",
    "actuals = torch.cat(actuals).detach().cpu().tolist()\n",
    "expecteds = torch.cat(expected).detach().cpu().tolist()\n",
    "\n",
    "# sort country ids\n",
    "classes = sorted(set(expecteds))\n",
    "num_classes = len(classes)\n",
    "\n",
    "label_to_index = {label: idx for idx, label in enumerate(classes)}\n",
    "\n",
    "mtrx = np.zeros((num_classes, num_classes), dtype=int)\n",
    "\n",
    "for actual, predicted in zip(expecteds, actuals):\n",
    "    i = label_to_index[actual]\n",
    "    j = label_to_index[predicted]\n",
    "    mtrx[i, j] += 1\n",
    "\n",
    "# normalize each row (per actual class)\n",
    "mtrx_normal = mtrx.astype(float) / mtrx.sum(axis=1, keepdims=True)\n",
    "\n",
    "fig, ax = plt.subplots(figsize=(10, 10))\n",
    "\n",
    "im = ax.imshow(mtrx_normal, cmap='Blues', vmin=0, vmax=1)\n",
    "\n",
    "ax.set_xlabel('Predicted Labels')\n",
    "ax.set_ylabel('True Labels')\n",
    "ax.set_title('Normalized Confusion Matrix')\n",
    "\n",
    "ax.set_xticks(np.arange(num_classes))\n",
    "ax.set_yticks(np.arange(num_classes))\n",
    "\n",
    "# map back to labels\n",
    "int_to_country = {v: k for k, v in countries_map.items()}\n",
    "labels = [int_to_country[label] for label in classes]\n",
    "\n",
    "ax.set_xticklabels(labels, rotation=90, fontsize=8)\n",
    "ax.set_yticklabels(labels, fontsize=8)\n",
    "\n",
    "# Write normalized values inside cells\n",
    "for i in range(num_classes):\n",
    "    for j in range(num_classes):\n",
    "        value = mtrx_normal[i, j]\n",
    "        if not np.isnan(value):  # avoid printing if row sum was zero\n",
    "            ax.text(j, i, f'{value:.3f}', ha='center', va='center', color='black')\n",
    "\n",
    "plt.colorbar(im, fraction=0.046, pad=0.02)\n",
    "plt.tight_layout()\n",
    "plt.show()"
   ]
  },
  {
   "cell_type": "code",
   "execution_count": null,
   "id": "7334fc73",
   "metadata": {},
   "outputs": [],
   "source": []
  }
 ],
 "metadata": {
  "kernelspec": {
   "display_name": "py311",
   "language": "python",
   "name": "python3"
  },
  "language_info": {
   "codemirror_mode": {
    "name": "ipython",
    "version": 3
   },
   "file_extension": ".py",
   "mimetype": "text/x-python",
   "name": "python",
   "nbconvert_exporter": "python",
   "pygments_lexer": "ipython3",
   "version": "3.11.11"
  }
 },
 "nbformat": 4,
 "nbformat_minor": 5
}
