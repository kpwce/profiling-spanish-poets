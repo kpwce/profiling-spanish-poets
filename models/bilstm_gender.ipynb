{
 "cells": [
  {
   "cell_type": "markdown",
   "id": "2876e2c3",
   "metadata": {},
   "source": [
    "Bi-LSTM with attention classifier, for gender"
   ]
  },
  {
   "cell_type": "code",
   "execution_count": 1,
   "id": "c01a1201",
   "metadata": {},
   "outputs": [
    {
     "name": "stderr",
     "output_type": "stream",
     "text": [
      "/Users/menga/opt/anaconda3/envs/py311/lib/python3.11/site-packages/tqdm/auto.py:21: TqdmWarning: IProgress not found. Please update jupyter and ipywidgets. See https://ipywidgets.readthedocs.io/en/stable/user_install.html\n",
      "  from .autonotebook import tqdm as notebook_tqdm\n"
     ]
    }
   ],
   "source": [
    "import bilstm_classifier\n",
    "from format import *\n",
    "import features\n",
    "import torch\n",
    "import matplotlib.pyplot as plt\n",
    "import numpy as np\n",
    "from importlib import reload\n",
    "import re # tokenize\n",
    "%matplotlib inline"
   ]
  },
  {
   "cell_type": "markdown",
   "id": "06168c35",
   "metadata": {},
   "source": [
    "Get the training and test data."
   ]
  },
  {
   "cell_type": "code",
   "execution_count": 2,
   "id": "a8cce55c",
   "metadata": {},
   "outputs": [],
   "source": [
    "df_train, df_test = get_text_to_gender()\n",
    "df_train = df_train.where(df_train['content'].apply(lambda x: isinstance(x, str) and x.strip() != '')).dropna()\n",
    "\n",
    "df_test = df_test.where(df_test['content'].apply(lambda x: isinstance(x, str) and x.strip() != '')).dropna()\n",
    "\n",
    "gender_map = {'M': 0, 'F': 1}\n",
    "df_train['gender'] = df_train['gender'].map(gender_map)\n",
    "df_train = df_train.dropna(subset=['gender'])\n",
    "df_train = df_train.dropna(subset=['rhyme'])\n",
    "df_train = df_train.dropna(subset=['met'])\n",
    "\n",
    "df_test['gender'] = df_test['gender'].map(gender_map)\n",
    "df_test = df_test.dropna(subset=['gender'])\n",
    "df_test = df_test.dropna(subset=['rhyme'])\n",
    "df_test = df_test.dropna(subset=['met'])"
   ]
  },
  {
   "cell_type": "markdown",
   "id": "c51d5bd3",
   "metadata": {},
   "source": [
    "Tokenize input"
   ]
  },
  {
   "cell_type": "code",
   "execution_count": 3,
   "id": "3d3c4691",
   "metadata": {},
   "outputs": [],
   "source": [
    "f_tokenize = lambda x: re.findall(r'\\b\\w+\\b', x.lower())\n",
    "train_tokens = df_train['content'].apply(f_tokenize)\n",
    "test_tokens = df_test['content'].apply(f_tokenize)"
   ]
  },
  {
   "cell_type": "code",
   "execution_count": 4,
   "id": "7ecf093b",
   "metadata": {},
   "outputs": [
    {
     "name": "stdout",
     "output_type": "stream",
     "text": [
      "0    [mi, palabra, tenaz, como, el, cincel, fue, mo...\n",
      "1    [la, muda, soledad, del, firmamento, como, un,...\n",
      "2    [quién, artista, sublime, conmovido, no, se, s...\n",
      "3    [nos, pusimos, de, acuerdo, sin, habernos, hab...\n",
      "4    [contendían, los, dioses, soberanos, del, ciel...\n",
      "Name: content, dtype: object\n"
     ]
    }
   ],
   "source": [
    "print(train_tokens.head())"
   ]
  },
  {
   "cell_type": "markdown",
   "id": "c027e6ea",
   "metadata": {},
   "source": [
    "Create vocabulary (we can reuse the n-gram code). We can have |vocab| = 10k so that we can represent most of the words."
   ]
  },
  {
   "cell_type": "code",
   "execution_count": 5,
   "id": "6714116f",
   "metadata": {},
   "outputs": [],
   "source": [
    "vocab, _ = features.get_top_n_vocab(df_train['content'], n=10000)"
   ]
  },
  {
   "cell_type": "code",
   "execution_count": 6,
   "id": "76cef2b2",
   "metadata": {},
   "outputs": [
    {
     "name": "stdout",
     "output_type": "stream",
     "text": [
      "['de', 'la', 'y', 'el', 'que', 'en', 'a', 'su', 'del', 'al']\n",
      "10002\n",
      "10000\n",
      "10001\n"
     ]
    }
   ],
   "source": [
    "print(vocab[:10])\n",
    "vocab.append('<PAD>')\n",
    "vocab.append('<UNK>')\n",
    "print(len(vocab))\n",
    "\n",
    "word_to_ix = {word: idx for idx, word in enumerate(vocab)}\n",
    "PAD = word_to_ix['<PAD>']\n",
    "UNK = word_to_ix['<UNK>']\n",
    "print(PAD)\n",
    "print(UNK)"
   ]
  },
  {
   "cell_type": "code",
   "execution_count": 7,
   "id": "4b726836",
   "metadata": {},
   "outputs": [
    {
     "name": "stdout",
     "output_type": "stream",
     "text": [
      "  % Total    % Received % Xferd  Average Speed   Time    Time     Time  Current\n",
      "                                 Dload  Upload   Total   Spent    Left  Speed\n",
      "100   275  100   275    0     0    255      0  0:00:01  0:00:01 --:--:--   256\n"
     ]
    }
   ],
   "source": [
    "!curl -O http://dcc.uchile.cl/~jperez/word-embeddings/glove-sbwc.i25.vec.gz"
   ]
  },
  {
   "cell_type": "code",
   "execution_count": 8,
   "id": "2898a8ad",
   "metadata": {},
   "outputs": [],
   "source": [
    "reload(bilstm_classifier);\n",
    "from torch.nn.utils.rnn import pad_sequence\n",
    "word_embed = bilstm_classifier.build_embed_matrix(word_to_ix, 'glove-sbwc.i25.vec.gz', 300)"
   ]
  },
  {
   "cell_type": "code",
   "execution_count": 9,
   "id": "47fb2f75",
   "metadata": {},
   "outputs": [],
   "source": [
    "def collate(batch):\n",
    "    sequences, labels = zip(*batch)\n",
    "    lengths = torch.tensor([len(seq) for seq in sequences], dtype=torch.long)\n",
    "    padded_seqs = pad_sequence(sequences, batch_first=True, padding_value=PAD)\n",
    "    return padded_seqs, torch.stack(labels), lengths\n",
    "\n",
    "class TextData(torch.utils.data.Dataset):\n",
    "    def __init__(self, texts, labels, word_to_ix, unk_idx):\n",
    "        self.texts = texts  # list of token lists\n",
    "        self.labels = labels  # list of ints\n",
    "        self.word_to_ix = word_to_ix\n",
    "        self.unk_idx = unk_idx\n",
    "\n",
    "    def __len__(self):\n",
    "        return len(self.texts)\n",
    "\n",
    "    def __getitem__(self, idx):\n",
    "        tokens = self.texts[idx]\n",
    "        label = self.labels[idx]\n",
    "        indices = [self.word_to_ix.get(tok, self.unk_idx) for tok in tokens]\n",
    "        return torch.tensor(indices, dtype=torch.long), torch.tensor(label, dtype=torch.long)\n"
   ]
  },
  {
   "cell_type": "code",
   "execution_count": 10,
   "id": "1f86507b",
   "metadata": {},
   "outputs": [],
   "source": [
    "#train_indices = train_tokens.apply(lambda tokens: [word_to_ix.get(tok, UNK) for tok in tokens])\n",
    "train_dataset = TextData(train_tokens.tolist(), df_train['gender'].tolist(), word_to_ix, UNK)\n",
    "\n",
    "train_loader = torch.utils.data.DataLoader(train_dataset, batch_size=32, shuffle=True, collate_fn=collate)"
   ]
  },
  {
   "cell_type": "code",
   "execution_count": 11,
   "id": "beec7375",
   "metadata": {},
   "outputs": [
    {
     "name": "stdout",
     "output_type": "stream",
     "text": [
      "Training accuracy: 0.9318\n",
      "Epoch 1: loss = 0.2550\n",
      "Training accuracy: 0.9318\n",
      "Epoch 2: loss = 0.2290\n",
      "Training accuracy: 0.9360\n",
      "Epoch 3: loss = 0.0701\n",
      "Training accuracy: 0.9768\n",
      "Epoch 4: loss = 0.1127\n",
      "Training accuracy: 0.9963\n",
      "Epoch 5: loss = 0.0006\n"
     ]
    }
   ],
   "source": [
    "model = bilstm_classifier.BiLSTM(\n",
    "    vocab_size=len(word_to_ix),\n",
    "    embedding_dim=300,\n",
    "    hidden_dim=128,\n",
    "    num_classes=len(gender_map),\n",
    "    pad_idx=PAD,\n",
    "    embeddings=word_embed\n",
    ")\n",
    "\n",
    "criterion = torch.nn.CrossEntropyLoss()\n",
    "optimizer = torch.optim.Adam(model.parameters(), lr=1e-3)\n",
    "\n",
    "# train\n",
    "for epoch in range(5):\n",
    "    model.train()\n",
    "    correct = total = 0\n",
    "    for input, labels, lengths in train_loader:\n",
    "        optimizer.zero_grad()\n",
    "        outputs = model(input, lengths)\n",
    "        loss = criterion(outputs, labels)\n",
    "        loss.backward()\n",
    "        optimizer.step()\n",
    "        _, predicted = torch.max(outputs, dim=1)\n",
    "        correct += (predicted == labels).sum().item()\n",
    "        total += labels.size(0)\n",
    "\n",
    "    train_accuracy = correct / total\n",
    "    print(f\"Training accuracy: {train_accuracy:.4f}\")\n",
    "    print(f\"Epoch {epoch+1}: loss = {loss.item():.4f}\")"
   ]
  },
  {
   "cell_type": "markdown",
   "id": "d3d3831a",
   "metadata": {},
   "source": [
    "Try eval on test set!"
   ]
  },
  {
   "cell_type": "code",
   "execution_count": 12,
   "id": "ddb12684",
   "metadata": {},
   "outputs": [
    {
     "name": "stdout",
     "output_type": "stream",
     "text": [
      "tensor([0, 0, 0, 0, 0, 0, 0, 0, 0, 0, 0, 0, 0, 0, 0, 0, 0, 0, 0, 1, 0, 0, 0, 0,\n",
      "        1, 0, 0, 0, 0, 0, 0, 0])\n",
      "tensor([0, 0, 0, 0, 0, 0, 0, 0, 0, 0, 0, 0, 0, 0, 0, 0, 0, 0, 0, 0, 0, 0, 0, 0,\n",
      "        0, 0, 0, 0, 0, 0, 0, 0])\n",
      "tensor([0, 0, 0, 0, 0, 0, 0, 0, 0, 0, 0, 0, 0, 0, 0, 0, 0, 0, 0, 0, 0, 0, 0, 0,\n",
      "        0, 0, 0, 0, 0, 0, 0, 0])\n",
      "tensor([0, 0, 0, 0, 0, 0, 0, 0, 0, 0, 0, 0, 0, 0, 0, 0, 0, 0, 0, 0, 0, 0, 0, 0,\n",
      "        0, 0, 0, 0, 0, 0, 0, 0])\n",
      "tensor([0, 0, 0, 0, 0, 0, 0, 0, 0, 0, 0, 0, 0, 0, 0, 0, 0, 0, 0, 0, 0, 0, 0, 0,\n",
      "        0, 0, 0, 0, 0, 0, 0, 0])\n",
      "tensor([0, 0, 0, 0, 0, 0, 0, 0, 0, 0, 0, 0, 0, 0, 0, 1, 0, 1, 0, 0, 0, 0, 0, 0,\n",
      "        0, 0, 0, 0, 0, 1, 0, 0])\n",
      "tensor([0, 0, 0, 0, 0, 0, 0, 0, 0, 0, 0, 0, 1, 0, 0, 0, 0, 0, 0, 0, 0, 0, 1, 0,\n",
      "        0, 0, 0, 0, 0, 0, 1, 0])\n",
      "tensor([0, 0, 0, 0, 0, 0, 0, 0, 0, 0, 0, 0, 0, 0, 0, 0, 0, 0, 0, 0, 0, 0, 0, 0,\n",
      "        0, 0, 0, 0, 0, 0, 0, 0])\n",
      "tensor([0, 0, 0, 0, 0, 0, 0, 0, 0, 0, 0, 0, 0, 0, 0, 0, 0, 0, 0, 0, 0, 0, 0, 0,\n",
      "        0, 0, 0, 0, 0, 0, 0, 0])\n",
      "tensor([0, 0, 0, 0, 0, 0, 0, 0, 0, 0, 0, 0, 0, 0, 0, 0, 0, 0, 0, 0, 0, 0, 0, 0,\n",
      "        0, 0, 0, 0, 0, 0, 0, 0])\n",
      "tensor([0, 0, 0, 0, 0, 0, 0, 0, 0, 0, 0, 0, 0, 0, 0, 0, 0, 0, 0, 0, 0, 0, 0, 0,\n",
      "        0, 0, 0, 1, 0, 0, 0, 0])\n",
      "tensor([0, 0, 0, 0, 0, 0, 0, 0, 0, 0, 0, 0, 0, 0, 0, 0, 0, 0, 0, 0, 0, 0, 0, 0,\n",
      "        0, 0, 0, 0, 0, 0, 0, 0])\n",
      "tensor([0, 0, 1, 0, 0, 0, 0, 0, 0, 0, 0, 0, 0, 0, 0, 0, 0, 0, 0, 0, 0, 0, 0, 0,\n",
      "        0, 0, 0, 1, 0, 0, 0, 0])\n",
      "tensor([0, 0, 0, 0, 0, 0, 0, 0, 0, 0, 1, 0, 0, 0, 0, 0, 0, 0, 0, 0, 0, 0, 0, 0,\n",
      "        0, 0, 0, 0, 0])\n",
      "Final test accuracy: 0.9281\n"
     ]
    }
   ],
   "source": [
    "test_dataset = TextData(test_tokens.tolist(), df_test['gender'].tolist(), word_to_ix, UNK)\n",
    "\n",
    "test_loader = torch.utils.data.DataLoader(test_dataset, batch_size=32, shuffle=True, collate_fn=collate)\n",
    "model.eval()  # set to eval mode\n",
    "correct = total = 0\n",
    "with torch.no_grad():\n",
    "    for input, labels, lengths in test_loader:\n",
    "        optimizer.zero_grad()\n",
    "        outputs = model(input, lengths)\n",
    "        _, predicted = torch.max(outputs, dim=1)\n",
    "        correct += (predicted == labels).sum().item()\n",
    "        print(predicted) # is this another majority class issue?\n",
    "        total += labels.size(0)\n",
    "\n",
    "test_accuracy = correct / total\n",
    "print(f\"Final test accuracy: {test_accuracy:.4f}\")"
   ]
  },
  {
   "cell_type": "markdown",
   "id": "12521ef4",
   "metadata": {},
   "source": [
    "Let's try to weight loss to minimize auto-assigning to the majority class."
   ]
  },
  {
   "cell_type": "markdown",
   "id": "19495b43",
   "metadata": {},
   "source": [
    "This next block is for hyperparameter selection."
   ]
  },
  {
   "cell_type": "code",
   "execution_count": null,
   "id": "f9b35917",
   "metadata": {},
   "outputs": [],
   "source": [
    "# 4-fold cross validation (it was the easiest split when doing the stratified sampling logic)\n",
    "df_a, df_b = train_test_split(df_train, 'gender', test_size=0.5)\n",
    "df_1, df_2 = train_test_split(df_a, 'gender', test_size=0.5)\n",
    "df_3, df_4 = train_test_split(df_b, 'gender', test_size=0.5)\n",
    "\n",
    "folds = [df_1, df_2, df_3, df_4]\n",
    "\n",
    "lr = [1e-3, 5e-4, 1e-4]\n",
    "decay = [1e-2, 1e-3, 1e-4]\n",
    "\n",
    "for l in lr:\n",
    "    for d in decay:\n",
    "        print(f\"testing lr {l}, decay {d}\")\n",
    "        for i in range(len(folds)):\n",
    "            fold = folds[:i] + folds[i+1:]\n",
    "            test_fold = folds[i]\n",
    "            df_temp_train = pd.concat(fold, ignore_index=True)\n",
    "            train_tokens_fold = df_temp_train['content'].apply(f_tokenize)\n",
    "            test_tokens_fold = test_fold['content'].apply(f_tokenize)\n",
    "            train_fold_dataset = TextData(train_tokens_fold.tolist(), df_temp_train['gender'].tolist(), word_to_ix, UNK)\n",
    "            train_fold_loader = torch.utils.data.DataLoader(train_fold_dataset, batch_size=32, shuffle=True, collate_fn=collate)\n",
    "\n",
    "            model = bilstm_classifier.BiLSTM(\n",
    "                vocab_size=len(word_to_ix),\n",
    "                embedding_dim=300,\n",
    "                hidden_dim=128,\n",
    "                num_classes=len(gender_map),\n",
    "                pad_idx=PAD,\n",
    "                embeddings=word_embed\n",
    "            )\n",
    "\n",
    "            train_labs = df_temp_train['gender'].tolist()\n",
    "            class_count = np.bincount(train_labs, minlength=len(gender_map))\n",
    "\n",
    "            # normalized inverse class weight\n",
    "            class_weights = torch.Tensor(len(train_labs) / (len(gender_map) * class_count))\n",
    "            criterion = torch.nn.CrossEntropyLoss(weight=class_weights)\n",
    "            optimizer = torch.optim.Adam(model.parameters(), lr=l, weight_decay=d)\n",
    "\n",
    "            # train, for 3 epochs (for computational time sake)\n",
    "            for epoch in range(3):\n",
    "                model.train()\n",
    "                correct = total = 0\n",
    "                for input, labels, lengths in train_fold_loader:\n",
    "                    optimizer.zero_grad()\n",
    "                    outputs = model(input, lengths)\n",
    "                    loss = criterion(outputs, labels)\n",
    "                    loss.backward()\n",
    "                    optimizer.step()\n",
    "                    _, predicted = torch.max(outputs, dim=1)\n",
    "                    correct += (predicted == labels).sum().item()\n",
    "                    total += labels.size(0)\n",
    "\n",
    "                train_accuracy = correct / total\n",
    "                #print(f\"Training accuracy: {train_accuracy:.4f}\")\n",
    "                #print(f\"Epoch {epoch+1}: loss = {loss.item():.4f}\")\n",
    "            # go test!\n",
    "            test_dataset_fold = TextData(test_tokens_fold.tolist(), test_fold['gender'].tolist(), word_to_ix, UNK)\n",
    "            test_loader_fold = torch.utils.data.DataLoader(test_dataset_fold, batch_size=32, shuffle=True, collate_fn=collate)\n",
    "            \n",
    "            model.eval()  # set to eval mode\n",
    "            correct = total = 0\n",
    "            actuals = []\n",
    "            expected= []\n",
    "            with torch.no_grad():\n",
    "                for input, labels, lengths in test_loader_fold:\n",
    "                    optimizer.zero_grad()\n",
    "                    outputs = model(input, lengths)\n",
    "                    _, predicted = torch.max(outputs, dim=1)\n",
    "                    correct += (predicted == labels).sum().item()\n",
    "                    actuals.append(predicted)\n",
    "                    expected.append(labels)\n",
    "                    # print(predicted) # debugging\n",
    "                    total += labels.size(0)\n",
    "\n",
    "            test_accuracy = correct / total\n",
    "            print(f\"Final val accuracy for fold {i}: {test_accuracy:.4f}\")\n"
   ]
  },
  {
   "cell_type": "markdown",
   "id": "1f5cf5ee",
   "metadata": {},
   "source": [
    "Here's the best model!"
   ]
  },
  {
   "cell_type": "code",
   "execution_count": 59,
   "id": "c2e81a71",
   "metadata": {},
   "outputs": [
    {
     "name": "stdout",
     "output_type": "stream",
     "text": [
      "Training accuracy: 0.8418\n",
      "Epoch 1: loss = 0.5978\n",
      "Training accuracy: 0.7417\n",
      "Epoch 2: loss = 0.6075\n",
      "Training accuracy: 0.7895\n",
      "Epoch 3: loss = 0.6054\n",
      "Training accuracy: 0.8730\n",
      "Epoch 4: loss = 0.5497\n",
      "Training accuracy: 0.9402\n",
      "Epoch 5: loss = 0.0858\n"
     ]
    }
   ],
   "source": [
    "model = bilstm_classifier.BiLSTM(\n",
    "    vocab_size=len(word_to_ix),\n",
    "    embedding_dim=300,\n",
    "    hidden_dim=128,\n",
    "    num_classes=len(gender_map),\n",
    "    pad_idx=PAD,\n",
    "    embeddings=word_embed\n",
    ")\n",
    "\n",
    "#### This part is different: we use class weights\n",
    "train_labs = df_train['gender'].tolist()\n",
    "class_count = np.bincount(train_labs, minlength=len(gender_map))\n",
    "\n",
    "# normalized inverse class weight\n",
    "class_weights = torch.Tensor(len(train_labs) / (len(gender_map) * class_count))\n",
    "criterion = torch.nn.CrossEntropyLoss(weight=class_weights)\n",
    "optimizer = torch.optim.Adam(model.parameters(), lr=1e-3, weight_decay=1e-4)\n",
    "\n",
    "# train\n",
    "for epoch in range(5):\n",
    "    model.train()\n",
    "    correct = total = 0\n",
    "    for input, labels, lengths in train_loader:\n",
    "        optimizer.zero_grad()\n",
    "        outputs = model(input, lengths)\n",
    "        loss = criterion(outputs, labels)\n",
    "        loss.backward()\n",
    "        optimizer.step()\n",
    "        _, predicted = torch.max(outputs, dim=1)\n",
    "        correct += (predicted == labels).sum().item()\n",
    "        total += labels.size(0)\n",
    "\n",
    "    train_accuracy = correct / total\n",
    "    print(f\"Training accuracy: {train_accuracy:.4f}\")\n",
    "    print(f\"Epoch {epoch+1}: loss = {loss.item():.4f}\")"
   ]
  },
  {
   "cell_type": "code",
   "execution_count": 60,
   "id": "329e817b",
   "metadata": {},
   "outputs": [
    {
     "name": "stdout",
     "output_type": "stream",
     "text": [
      "Final test accuracy: 0.9303\n"
     ]
    }
   ],
   "source": [
    "# eval again\n",
    "test_dataset = TextData(test_tokens.tolist(), df_test['gender'].tolist(), word_to_ix, UNK)\n",
    "\n",
    "test_loader = torch.utils.data.DataLoader(test_dataset, batch_size=32, shuffle=True, collate_fn=collate)\n",
    "model.eval()  # set to eval mode\n",
    "correct = total = 0\n",
    "actuals = []\n",
    "expected= []\n",
    "with torch.no_grad():\n",
    "    for input, labels, lengths in test_loader:\n",
    "        optimizer.zero_grad()\n",
    "        outputs = model(input, lengths)\n",
    "        _, predicted = torch.max(outputs, dim=1)\n",
    "        correct += (predicted == labels).sum().item()\n",
    "        actuals.append(predicted)\n",
    "        expected.append(labels)\n",
    "        #print(predicted) # is this another majority class issue?\n",
    "        total += labels.size(0)\n",
    "\n",
    "test_accuracy = correct / total\n",
    "print(f\"Final test accuracy: {test_accuracy:.4f}\")"
   ]
  },
  {
   "cell_type": "code",
   "execution_count": 61,
   "id": "4ef0712f",
   "metadata": {},
   "outputs": [
    {
     "data": {
      "image/png": "[encoded data removed]",
      "text/plain": [
       "<Figure size 640x480 with 2 Axes>"
      ]
     },
     "metadata": {},
     "output_type": "display_data"
    }
   ],
   "source": [
    "# visualize the splits for errors\n",
    "actuals = torch.cat(actuals).detach().cpu().tolist()\n",
    "expecteds = torch.cat(expected).detach().cpu().tolist()\n",
    "\n",
    "# Initialize confusion matrix: [actual][predicted]\n",
    "mtrx = [[0, 0],\n",
    "      [0, 0]]\n",
    "\n",
    "for actual, expected in zip(actuals, expecteds):\n",
    "\n",
    "    mtrx[int(expected)][int(actual)] += 1\n",
    "\n",
    "mtrx = np.array(mtrx)\n",
    "\n",
    "# Normalize each row (i.e., per actual class)\n",
    "mtrx_normal = (1.0* mtrx) / mtrx.sum(axis=1, keepdims=True)\n",
    "\n",
    "fig, ax = plt.subplots()\n",
    "im = ax.imshow(mtrx_normal, cmap='Blues', vmin=0, vmax=1)\n",
    "\n",
    "# Labels, title and ticks\n",
    "ax.set_xlabel('Predicted Labels')\n",
    "ax.set_ylabel('True Labels')\n",
    "ax.set_title('Normalized Confusion Matrix')\n",
    "ax.set_xticks([0, 1])\n",
    "ax.set_yticks([0, 1])\n",
    "ax.set_xticklabels(['Male (0)', 'Female (1)'])\n",
    "ax.set_yticklabels(['Male (0)', 'Female (1)'])\n",
    "for i in range(2):\n",
    "    for j in range(2):\n",
    "        value = mtrx_normal[i, j]\n",
    "        ax.text(j, i, f'{value:.3f}', ha='center', va='center', color='black')\n",
    "\n",
    "plt.colorbar(im)\n",
    "plt.tight_layout()\n",
    "plt.show()"
   ]
  },
  {
   "cell_type": "code",
   "execution_count": null,
   "id": "7334fc73",
   "metadata": {},
   "outputs": [],
   "source": []
  }
 ],
 "metadata": {
  "kernelspec": {
   "display_name": "py311",
   "language": "python",
   "name": "python3"
  },
  "language_info": {
   "codemirror_mode": {
    "name": "ipython",
    "version": 3
   },
   "file_extension": ".py",
   "mimetype": "text/x-python",
   "name": "python",
   "nbconvert_exporter": "python",
   "pygments_lexer": "ipython3",
   "version": "3.11.11"
  }
 },
 "nbformat": 4,
 "nbformat_minor": 5
}
