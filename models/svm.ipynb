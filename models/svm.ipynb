{
 "cells": [
  {
   "cell_type": "markdown",
   "id": "3ac55ef4",
   "metadata": {},
   "source": [
    "# Train SVM classifiers for poet profiling"
   ]
  },
  {
   "cell_type": "code",
   "execution_count": 1,
   "id": "df53056a",
   "metadata": {},
   "outputs": [],
   "source": [
    "from format import *"
   ]
  },
  {
   "cell_type": "code",
   "execution_count": 7,
   "id": "0a48c13e",
   "metadata": {},
   "outputs": [
    {
     "data": {
      "text/plain": [
       "content    4493\n",
       "gender     4493\n",
       "dtype: int64"
      ]
     },
     "execution_count": 7,
     "metadata": {},
     "output_type": "execute_result"
    }
   ],
   "source": [
    "df_gender = get_text_to_gender()\n",
    "df_gender.count()"
   ]
  },
  {
   "cell_type": "code",
   "execution_count": null,
   "id": "5a87f25a",
   "metadata": {},
   "outputs": [],
   "source": []
  },
  {
   "cell_type": "code",
   "execution_count": null,
   "id": "85d9a4bb",
   "metadata": {},
   "outputs": [],
   "source": []
  }
 ],
 "metadata": {
  "kernelspec": {
   "display_name": "dl",
   "language": "python",
   "name": "python3"
  },
  "language_info": {
   "codemirror_mode": {
    "name": "ipython",
    "version": 3
   },
   "file_extension": ".py",
   "mimetype": "text/x-python",
   "name": "python",
   "nbconvert_exporter": "python",
   "pygments_lexer": "ipython3",
   "version": "3.13.2"
  }
 },
 "nbformat": 4,
 "nbformat_minor": 5
}
